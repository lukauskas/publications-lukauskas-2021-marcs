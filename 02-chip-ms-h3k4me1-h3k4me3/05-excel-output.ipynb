{
 "cells": [
  {
   "cell_type": "code",
   "execution_count": null,
   "id": "0f716332-1b9c-4f25-9a3d-b8a11bb330be",
   "metadata": {},
   "outputs": [],
   "source": [
    "%config InlineBackend.figure_format = 'retina'\n",
    "%matplotlib inline\n",
    "import os\n",
    "import pandas as pd\n",
    "import numpy as np\n",
    "import seaborn as sns\n",
    "from matplotlib import pyplot as plt\n",
    "from tqdm import tqdm\n",
    "sns.set_palette('Dark2')\n",
    "sns.set_context('paper')\n",
    "sns.set_style({'axes.axisbelow': True, \n",
    "               'axes.edgecolor': '.15',\n",
    "               'axes.facecolor': 'white',\n",
    "               'axes.grid': True, \n",
    "               'axes.labelcolor': '.15', \n",
    "               'figure.facecolor': 'white', \n",
    "               'grid.color': '.15',\n",
    "               'grid.linestyle': ':', \n",
    "               'grid.alpha': .5, \n",
    "               'image.cmap': 'Greys', \n",
    "               'legend.frameon': False, \n",
    "               'legend.numpoints': 1, \n",
    "               'legend.scatterpoints': 1,\n",
    "               'lines.solid_capstyle': 'butt', \n",
    "               'axes.spines.right': False, \n",
    "               'axes.spines.top': False,  \n",
    "               'text.color': '.15',  \n",
    "               'xtick.top': False, \n",
    "               'ytick.right': False, \n",
    "               'xtick.color': '.15',\n",
    "               'xtick.direction': 'out', \n",
    "               'ytick.color': '.15', \n",
    "               'ytick.direction': 'out', \n",
    "              })\n",
    "\n",
    "\n",
    "import matplotlib\n",
    "\n",
    "FONT_SIZE_PT = 5\n",
    "matplotlib.rcParams['font.family'] = 'Arial'\n",
    "matplotlib.rcParams['font.size'] = FONT_SIZE_PT\n",
    "matplotlib.rcParams['axes.labelsize'] = FONT_SIZE_PT\n",
    "matplotlib.rcParams['axes.titlesize'] = FONT_SIZE_PT\n",
    "matplotlib.rcParams['figure.titlesize'] = FONT_SIZE_PT\n",
    "matplotlib.rcParams['xtick.labelsize'] = FONT_SIZE_PT\n",
    "matplotlib.rcParams['ytick.labelsize'] = FONT_SIZE_PT\n",
    "matplotlib.rcParams['legend.fontsize'] = FONT_SIZE_PT\n",
    "matplotlib.rcParams['legend.title_fontsize'] = FONT_SIZE_PT\n",
    "\n",
    "matplotlib.rcParams['xtick.major.size'] = matplotlib.rcParams['ytick.major.size'] = 2\n",
    "matplotlib.rcParams['xtick.major.width'] = matplotlib.rcParams['ytick.major.width'] = 0.5\n",
    "\n",
    "\n",
    "matplotlib.rcParams['xtick.minor.size'] = matplotlib.rcParams['ytick.minor.size'] = 1\n",
    "\n",
    "matplotlib.rcParams['xtick.minor.width'] = matplotlib.rcParams['ytick.minor.width'] = 0.5\n",
    "\n",
    "matplotlib.rcParams['axes.linewidth'] = 0.5\n",
    "matplotlib.rcParams['lines.linewidth'] = 0.5\n",
    "matplotlib.rcParams['grid.linewidth'] = 0.25\n",
    "matplotlib.rcParams['patch.linewidth'] = 0.25\n",
    "matplotlib.rcParams['lines.markeredgewidth'] = 0.25\n",
    "matplotlib.rcParams['lines.markersize'] = 2\n",
    "\n",
    "FIVE_MM_IN_INCH = 0.19685\n",
    "DPI = 600\n",
    "matplotlib.rcParams['figure.figsize'] = (10 * FIVE_MM_IN_INCH, 9 * FIVE_MM_IN_INCH)\n",
    "matplotlib.rcParams['savefig.dpi'] = DPI\n",
    "matplotlib.rcParams['figure.dpi'] = DPI // 4\n",
    "\n",
    "\n",
    "#http://phyletica.org/matplotlib-fonts/\n",
    "matplotlib.rcParams['pdf.fonttype'] = 42\n",
    "matplotlib.rcParams['ps.fonttype'] = 42"
   ]
  },
  {
   "cell_type": "markdown",
   "id": "bafbf92f-a34f-421d-9f8c-ee49376efbc4",
   "metadata": {},
   "source": [
    "# (05) Excel output"
   ]
  },
  {
   "cell_type": "markdown",
   "id": "9b0f165c-8ba2-4a87-ab8f-302db7888e9a",
   "metadata": {},
   "source": [
    "## Configuration"
   ]
  },
  {
   "cell_type": "code",
   "execution_count": null,
   "id": "f6436a48-1485-4fc6-8508-7acf01d03e85",
   "metadata": {},
   "outputs": [],
   "source": [
    "import pathlib\n",
    "\n",
    "INPUT_MARCS_DATA = pathlib.Path('outputs') / '02-linking-to-MARCS' / '03-mapping-between-chip-ms-and-marcs-features.csv'\n",
    "assert INPUT_MARCS_DATA.is_file()\n",
    "\n",
    "INPUT_GENE_LABEL_MAP = pathlib.Path('outputs') / '02-linking-to-MARCS' / '02-marcs-to-chip-ms-mapping.csv'\n",
    "assert INPUT_GENE_LABEL_MAP.is_file()\n",
    "\n",
    "INPUT_MODEL_RESULTS = pathlib.Path('outputs') / '03-transformation-and-modelling' / '07-output-full_results.csv'\n",
    "assert INPUT_MODEL_RESULTS.is_file()\n",
    "\n",
    "INPUT_CHIP_MS_METADATA = pathlib.Path('outputs') / '01-extracting' / 'data_metadata.csv'\n",
    "assert INPUT_CHIP_MS_METADATA.is_file()\n",
    "\n",
    "INPUT_NUMERIC_DATA = pathlib.Path('outputs') / '01-extracting' / 'data_numeric.csv'\n",
    "assert INPUT_NUMERIC_DATA.is_file()"
   ]
  },
  {
   "cell_type": "code",
   "execution_count": null,
   "id": "c29459c1-e3df-4232-824a-4b627318ca9e",
   "metadata": {},
   "outputs": [],
   "source": [
    "MODEL_COEFS = [\n",
    "    'H3K4me1vsControl',\n",
    "    'H3K4me3vsControl',\n",
    "    'H3K4me3vsH3K4me1',\n",
    "]\n",
    "\n",
    "MARCS_FEATURE_ORDER = [\n",
    "    # Same order as in Fig 3\n",
    "    'H2A.Z', 'meDNA', \n",
    "    'H3K4me1', 'H3K4me3', 'H3ac', 'H3K9acK14ac', 'H3K27ac', \n",
    "    'H3K9me2', 'H3K9me3', 'H3K27me2', 'H3K27me3',\n",
    "    'H4ac', 'H4K16ac', 'H4K20me2', 'H4K20me3',         \n",
    "]"
   ]
  },
  {
   "cell_type": "code",
   "execution_count": null,
   "id": "9083de21-611d-48db-a4d3-963994562742",
   "metadata": {},
   "outputs": [],
   "source": [
    "import pathlib\n",
    "OUTPUT_DIRECTORY = pathlib.Path('outputs') / '05-excel-output'\n",
    "\n",
    "if not OUTPUT_DIRECTORY.is_dir():\n",
    "    OUTPUT_DIRECTORY.mkdir(parents=True)"
   ]
  },
  {
   "cell_type": "markdown",
   "id": "b27a7663-b18e-430f-8d29-787fcb0876ce",
   "metadata": {},
   "source": [
    "## Reading\n",
    "\n",
    "### MARCS\n",
    "\n",
    "We only need the prepared feature data from previous notebooks"
   ]
  },
  {
   "cell_type": "code",
   "execution_count": null,
   "id": "0b75ba4f-fcb2-4631-a24b-34144e2aa0d9",
   "metadata": {},
   "outputs": [],
   "source": [
    "data_marcs_features = pd.read_csv(INPUT_MARCS_DATA, index_col=0)\n",
    "data_marcs_features.columns = pd.MultiIndex.from_tuples([c.split('__') for c in data_marcs_features.columns], names=['marcs_stat', 'marcs_feature'])\n",
    "data_marcs_features"
   ]
  },
  {
   "cell_type": "markdown",
   "id": "f2d01b51-ab8f-4ea1-8b08-4bb9fa86961b",
   "metadata": {},
   "source": [
    "### Metadata"
   ]
  },
  {
   "cell_type": "code",
   "execution_count": null,
   "id": "fc37e4b3-75a2-4593-b8c6-f5433c2665fa",
   "metadata": {},
   "outputs": [],
   "source": [
    "data_metadata_chip_ms = pd.read_csv(INPUT_CHIP_MS_METADATA, index_col=0)\n",
    "data_metadata_chip_ms"
   ]
  },
  {
   "cell_type": "markdown",
   "id": "d1f39ee6-d2d1-4360-b679-6021c233c9f3",
   "metadata": {},
   "source": [
    "## Gene label map"
   ]
  },
  {
   "cell_type": "code",
   "execution_count": null,
   "id": "ed893d8e-3e70-4bc3-813f-c03379823511",
   "metadata": {},
   "outputs": [],
   "source": [
    "data_gene_label_map = pd.read_csv(INPUT_GENE_LABEL_MAP, index_col=0)\n",
    "data_gene_label_map"
   ]
  },
  {
   "cell_type": "markdown",
   "id": "6db800de-e3ee-487e-9b64-7ff2bdb2f52a",
   "metadata": {},
   "source": [
    "Make the ChIP-MS <-> MARCS gene label map centred on the ChIP-MS labels, by concatenating multiple mappings via ';'"
   ]
  },
  {
   "cell_type": "code",
   "execution_count": null,
   "id": "1f3685f5-372f-4140-b497-59f1ead149d3",
   "metadata": {},
   "outputs": [],
   "source": [
    "data_gene_label_map_gene_centric = pd.DataFrame({\n",
    "    'marcs_gene_label': data_gene_label_map.groupby('chip_ms_label')['marcs_gene_label'].apply(lambda x: ';'.join(sorted(x.unique()))),\n",
    "    # Split the already ';' separated 'mapped_via' column, and then re-join it after deduplicating\n",
    "    'mapped_via': data_gene_label_map.groupby('chip_ms_label')['mapped_via'].apply(lambda x: ';'.join(sorted(x.str.split(';', expand=True).stack().unique())))\n",
    "})\n",
    "data_gene_label_map_gene_centric"
   ]
  },
  {
   "cell_type": "code",
   "execution_count": null,
   "id": "abd1e497-e68e-4b63-8445-efd27319f5a7",
   "metadata": {},
   "outputs": [],
   "source": [
    "data_gene_label_map_gene_centric['mapped_via'].value_counts()"
   ]
  },
  {
   "cell_type": "markdown",
   "id": "47bfa6c8-1b30-4a32-86d1-bff587fab840",
   "metadata": {},
   "source": [
    "### Unnormalised data"
   ]
  },
  {
   "cell_type": "code",
   "execution_count": null,
   "id": "f375b2d2-959a-4f3d-9d03-dddd4e443b34",
   "metadata": {},
   "outputs": [],
   "source": [
    "data_unnormalised_numeric = pd.read_csv(\n",
    "    INPUT_NUMERIC_DATA,\n",
    "    index_col=0\n",
    ")\n",
    "data_unnormalised_numeric.columns.name = 'Experiment_Replicate'\n",
    "data_unnormalised_numeric"
   ]
  },
  {
   "cell_type": "markdown",
   "id": "85cb3781-df4b-454a-9023-1572d53b8e66",
   "metadata": {},
   "source": [
    "### Model outputs\n",
    "\n",
    "Let's read the model outputs:"
   ]
  },
  {
   "cell_type": "code",
   "execution_count": null,
   "id": "eb2a768c-feaf-4667-b4da-9dadc91c1e32",
   "metadata": {},
   "outputs": [],
   "source": [
    "data_model_outputs = pd.read_csv(INPUT_MODEL_RESULTS, index_col=0)\n",
    "data_model_outputs.columns = pd.MultiIndex.from_tuples([c.split('__') for c in data_model_outputs.columns])\n",
    "data_model_outputs"
   ]
  },
  {
   "cell_type": "code",
   "execution_count": null,
   "id": "790179f8-6186-4307-a166-fdd89ce1c72d",
   "metadata": {},
   "outputs": [],
   "source": [
    "full_model_data_columns = data_model_outputs.columns.get_level_values(0).unique()\n",
    "full_model_data_columns"
   ]
  },
  {
   "cell_type": "markdown",
   "id": "ae92ce6a-5982-48a6-b3dd-e77b43291f6f",
   "metadata": {},
   "source": [
    "And split the normalised data away from the coefficients, away from other data"
   ]
  },
  {
   "cell_type": "code",
   "execution_count": null,
   "id": "d136f882-e536-48e2-8fb5-1a77349834ef",
   "metadata": {},
   "outputs": [],
   "source": [
    "data_model_outputs_normalised_data = data_model_outputs['normalised_data']\n",
    "data_model_outputs_coefficients = data_model_outputs['coefficient_estimates']\n",
    "data_model_outputs_estimates = data_model_outputs[full_model_data_columns.difference(['normalised_data', 'coefficient_estimates'])]"
   ]
  },
  {
   "cell_type": "code",
   "execution_count": null,
   "id": "3f437205-79ef-4c27-83d2-c7e935c6eadc",
   "metadata": {},
   "outputs": [],
   "source": [
    "data_model_outputs_normalised_data"
   ]
  },
  {
   "cell_type": "code",
   "execution_count": null,
   "id": "05e148ba-ed72-41a0-b884-c77b4739dbbc",
   "metadata": {},
   "outputs": [],
   "source": [
    "data_model_outputs_coefficients"
   ]
  },
  {
   "cell_type": "code",
   "execution_count": null,
   "id": "443048e1-c74a-4b28-bb46-9e1eec3203b5",
   "metadata": {},
   "outputs": [],
   "source": [
    "data_model_outputs_estimates"
   ]
  },
  {
   "cell_type": "markdown",
   "id": "ed2e254b-4286-4820-932d-e307c4df5083",
   "metadata": {},
   "source": [
    "## Collecting the data for output"
   ]
  },
  {
   "cell_type": "markdown",
   "id": "6b4f3e31-fb5d-4d77-9149-b59ad9ccc177",
   "metadata": {},
   "source": [
    "### ChIP-MS Data"
   ]
  },
  {
   "cell_type": "markdown",
   "id": "b31382d4-a4b2-4c76-9f27-9e3aef7da2b1",
   "metadata": {},
   "source": [
    "It always makes sense to start with metadata"
   ]
  },
  {
   "cell_type": "code",
   "execution_count": null,
   "id": "6a1f29d2-bd45-4e4f-8280-569865a21109",
   "metadata": {},
   "outputs": [],
   "source": [
    "excel_metadata = data_metadata_chip_ms.copy()\n",
    "\n",
    "# Copy the label into metadata so we don't nee to reset index\n",
    "excel_metadata['Label'] = excel_metadata.index\n",
    "\n",
    "# also add MARCS gene label info\n",
    "excel_metadata = excel_metadata.join(data_gene_label_map_gene_centric)\n",
    "\n",
    "# Some columns should be before others\n",
    "_first_columns = ['Label', 'Accession', 'Gene', 'marcs_gene_label', 'mapped_via', 'Description'] \n",
    "excel_metadata = excel_metadata[_first_columns + list(excel_metadata.columns.difference(_first_columns))]\n",
    "\n",
    "# Rename marcs gene label column\n",
    "excel_metadata = excel_metadata.rename(columns={\"marcs_gene_label\": 'MARCS Gene label(s)', 'mapped_via': \"MARCS Gene label(s) linked via\"})\n",
    "\n",
    "# Add a header columns\n",
    "excel_metadata.columns = pd.MultiIndex.from_tuples([('metadata', c) for c in excel_metadata.columns])\n",
    "\n",
    "excel_metadata"
   ]
  },
  {
   "cell_type": "markdown",
   "id": "60d7cea1-701b-4751-98d3-bf124ec5fc7f",
   "metadata": {},
   "source": [
    "#### Raw Data\n",
    "\n",
    "Now let's shape the raw data into something more useful too"
   ]
  },
  {
   "cell_type": "code",
   "execution_count": null,
   "id": "9bf88238-814b-4418-83e3-7284512fc41a",
   "metadata": {},
   "outputs": [],
   "source": [
    "excel_raw_data = data_unnormalised_numeric.copy()\n",
    "# Add a header column\n",
    "excel_raw_data.columns = pd.MultiIndex.from_tuples([('raw_data', c) for c in excel_raw_data.columns])\n",
    "\n",
    "excel_raw_data"
   ]
  },
  {
   "cell_type": "markdown",
   "id": "de709f26-79cb-41d6-840d-9b37cad5c972",
   "metadata": {},
   "source": [
    "#### Normalised Data\n",
    "\n",
    "Likewise for normalised data"
   ]
  },
  {
   "cell_type": "code",
   "execution_count": null,
   "id": "e56e3dd5-e98b-4381-8895-75cb293e30f1",
   "metadata": {},
   "outputs": [],
   "source": [
    "excel_normalised_data = data_model_outputs_normalised_data.copy()\n",
    "\n",
    "# Add a header column\n",
    "excel_normalised_data.columns = pd.MultiIndex.from_tuples([('normalised_data_log2', c) for c in excel_normalised_data.columns])\n",
    "\n",
    "excel_normalised_data"
   ]
  },
  {
   "cell_type": "markdown",
   "id": "424916f3-22d6-4944-9483-d71e94ccd6e9",
   "metadata": {},
   "source": [
    "### MARCS Data"
   ]
  },
  {
   "cell_type": "markdown",
   "id": "aa20d699-bdee-4349-99ae-2f2b10cfb0ff",
   "metadata": {},
   "source": [
    "From MARCS data we really only need the MARCS feature classifications."
   ]
  },
  {
   "cell_type": "code",
   "execution_count": null,
   "id": "6d96040f-08f9-4eea-8e66-9e816fc7432c",
   "metadata": {},
   "outputs": [],
   "source": [
    "data_marcs_features[[\n",
    "    'significant_category_strong',\n",
    "    'significant_category_weak'\n",
    "]]"
   ]
  },
  {
   "cell_type": "markdown",
   "id": "59a153b9-4b92-4e9b-8d78-a8687c956159",
   "metadata": {},
   "source": [
    "For excel we will recode these into shorter counterparts:\n",
    "\n",
    "- R/E - Recruited/Excluded\n",
    "- SR/SE - Strongly Recruited/Strongly Excluded\n",
    "- N - Neither\n",
    "- (empty) - No Data\n"
   ]
  },
  {
   "cell_type": "code",
   "execution_count": null,
   "id": "43f19bd7-ad74-4256-958b-c2356ca4fadc",
   "metadata": {},
   "outputs": [],
   "source": [
    "def categorise_features_for_excel(row):\n",
    "    if row[['significant_category_weak', 'significant_category_strong']].isnull().any():\n",
    "        # One being null should imply both null\n",
    "        assert row[['significant_category_weak', 'significant_category_strong']].isnull().all()    \n",
    "        return None\n",
    "    elif row['significant_category_strong'] != 'Neither':\n",
    "        return {'Strongly recruited': 'SR', 'Strongly excluded': 'SE'}[row['significant_category_strong']]\n",
    "    else:\n",
    "        return {'Recruited': 'R', 'Excluded': 'E', 'Neither': 'N'}[row['significant_category_weak']]\n",
    "    \n",
    "\n",
    "_df = data_marcs_features[[\n",
    "    'significant_category_strong',\n",
    "    'significant_category_weak'\n",
    "]].swaplevel(axis='columns')\n",
    "\n",
    "excel_marcs_features = {}\n",
    "for marcs_feature in MARCS_FEATURE_ORDER:\n",
    "    excel_marcs_features[marcs_feature] = _df[marcs_feature].apply(categorise_features_for_excel, axis=1)\n",
    "    \n",
    "excel_marcs_features = pd.DataFrame(excel_marcs_features)\n",
    "\n",
    "# Add two headers as well, why not\n",
    "excel_marcs_features.columns = pd.MultiIndex.from_tuples([('marcs_feature_effects', c) for c in excel_marcs_features.columns])"
   ]
  },
  {
   "cell_type": "markdown",
   "id": "139f7606-9a61-428d-a4d2-f2daecde3cf0",
   "metadata": {},
   "source": [
    "### Model outputs"
   ]
  },
  {
   "cell_type": "markdown",
   "id": "88ea86fd-bd50-401a-a132-79831adc2796",
   "metadata": {},
   "source": [
    "Finally, the model outputs. We will split the outputs as follows:\n",
    "\n",
    "1. We will take the logFC_imputed columns and place them separtely (as a summary)\n",
    "2. We will also separate the comment\n",
    "3. And the coefficient estimates\n",
    "4. We will keep remaining outputs pretty much as is (separately)"
   ]
  },
  {
   "cell_type": "code",
   "execution_count": null,
   "id": "5df306ad-790b-46d1-ac9d-4187a3682556",
   "metadata": {},
   "outputs": [],
   "source": [
    "full_model_output_estimates_columns = data_model_outputs_estimates.columns.get_level_values(1).unique()\n",
    "full_model_output_estimates_columns"
   ]
  },
  {
   "cell_type": "code",
   "execution_count": null,
   "id": "e417f6c4-0da1-4840-ab03-081f20e8f75d",
   "metadata": {},
   "outputs": [],
   "source": [
    "excel_model_comment = data_model_outputs_estimates[[('comment', 'comment')]].copy()\n",
    "excel_model_comment.columns = pd.MultiIndex.from_tuples([('model_estimates', 'comment')])\n",
    "excel_model_comment"
   ]
  },
  {
   "cell_type": "code",
   "execution_count": null,
   "id": "7c838bf5-bd07-41eb-bd81-d08926a248ec",
   "metadata": {},
   "outputs": [],
   "source": [
    "excel_model_coefficients = data_model_outputs_coefficients.copy()\n",
    "excel_model_coefficients.columns = pd.MultiIndex.from_tuples([('model_coefficient_estimates', c) for c in excel_model_coefficients.columns])\n",
    "excel_model_coefficients"
   ]
  },
  {
   "cell_type": "code",
   "execution_count": null,
   "id": "7c4291ec-16c8-4834-9337-8f0ccb2bc896",
   "metadata": {},
   "outputs": [],
   "source": [
    "excel_model_outputs_fc_estimates = data_model_outputs_estimates.loc(axis=1)[MODEL_COEFS, 'logFC_imputed']\n",
    "excel_model_outputs_fc_estimates.columns = pd.MultiIndex.from_tuples([('model_estimates_for_{}'.format(c[0]), c[1]) for c in excel_model_outputs_fc_estimates.columns])\n",
    "excel_model_outputs_fc_estimates"
   ]
  },
  {
   "cell_type": "code",
   "execution_count": null,
   "id": "a6a77d81-a5f1-4baa-8144-1a73feab92fa",
   "metadata": {},
   "outputs": [],
   "source": [
    "excel_model_outputs_other = data_model_outputs_estimates[MODEL_COEFS]\n",
    "excel_model_outputs_other = excel_model_outputs_other[[c for c in excel_model_outputs_other.columns if c[1] != 'logFC_imputed']].copy()\n",
    "excel_model_outputs_other.columns = pd.MultiIndex.from_tuples([('model_estimates_for_{}'.format(c[0]), c[1]) for c in excel_model_outputs_other.columns])\n",
    "excel_model_outputs_other"
   ]
  },
  {
   "cell_type": "markdown",
   "id": "8ede2b02-ad70-4b14-a54a-96514607fff3",
   "metadata": {},
   "source": [
    "## Writing excel"
   ]
  },
  {
   "cell_type": "code",
   "execution_count": null,
   "id": "5005935d-ce78-49aa-b8f1-d8fde71e1dd0",
   "metadata": {},
   "outputs": [],
   "source": [
    "import xlsxwriter\n",
    "from seaborn.utils import relative_luminance"
   ]
  },
  {
   "cell_type": "markdown",
   "id": "2304e4f5-d36c-44ed-95a3-0236a473f88c",
   "metadata": {},
   "source": [
    "Collect everything in one place"
   ]
  },
  {
   "cell_type": "code",
   "execution_count": null,
   "id": "a31e1b40-3c21-4efb-8f24-6c3e02b1a80e",
   "metadata": {},
   "outputs": [],
   "source": [
    "df_excel = excel_metadata.join(excel_model_outputs_fc_estimates).join(excel_model_comment).join(excel_marcs_features).join(excel_model_outputs_other).join(excel_model_coefficients).join(excel_normalised_data).join(excel_raw_data)\n",
    "assert not df_excel.index.duplicated().any()\n",
    "df_excel"
   ]
  },
  {
   "cell_type": "markdown",
   "id": "e3f3957c-ab0b-48eb-bbde-660c936c0088",
   "metadata": {},
   "source": [
    "Sort by me3vsme1 difference, followed by the other two coefs, descending"
   ]
  },
  {
   "cell_type": "code",
   "execution_count": null,
   "id": "e4bd0758-f414-4dfc-8a14-66019e0b841a",
   "metadata": {},
   "outputs": [],
   "source": [
    "df_excel = df_excel.sort_values(by=[\n",
    "    ('model_estimates_for_H3K4me3vsH3K4me1', 'logFC_imputed'),\n",
    "    ('model_estimates_for_H3K4me3vsControl', 'logFC_imputed'),\n",
    "    ('model_estimates_for_H3K4me1vsControl', 'logFC_imputed'),\n",
    "], ascending=False)"
   ]
  },
  {
   "cell_type": "code",
   "execution_count": null,
   "id": "83b216fc-8834-4266-b6c1-f00a40d7e3cf",
   "metadata": {},
   "outputs": [],
   "source": [
    "output_xlsx = OUTPUT_DIRECTORY / '01-model-results.xlsx'\n",
    "output_csv = OUTPUT_DIRECTORY / '01-model-results.csv.gz'\n",
    "\n",
    "COLUMN_GROUPS = {\n",
    "    'Metadata': excel_metadata.columns,\n",
    "    'Log2(FC) estimates (incl. imputed)': list(excel_model_outputs_fc_estimates.columns),\n",
    "    'Comment': list(excel_model_comment.columns),\n",
    "    'MARCS Feature Response (SR/SE: Strongly recruited/excluded, R/E: Recruited/Excluded, N: neither)': list(excel_marcs_features.columns),\n",
    "}\n",
    "\n",
    "GROUP_DEPTHS = {\n",
    "    # 'Comment': 2, # Merging the two rows for the comment group makes excel file not sortable\n",
    "}\n",
    "\n",
    "for coef in MODEL_COEFS:\n",
    "    COLUMN_GROUPS[f'Model outputs for {coef}'] = list(excel_model_outputs_other[[f'model_estimates_for_{coef}']].columns)\n",
    "\n",
    "COLUMN_GROUPS = {\n",
    "    **COLUMN_GROUPS,\n",
    "    'Model coefficient estimates': list(excel_model_coefficients),\n",
    "    'Normalised data (log2)': list(excel_normalised_data),\n",
    "    'Raw data': list(excel_raw_data),\n",
    "}\n",
    "\n",
    "RENAMES = {}\n",
    "\n",
    "for col in excel_model_outputs_fc_estimates.columns:\n",
    "    RENAMES[col] = col[0].partition('model_estimates_for_')[2]\n",
    "    \n",
    "_simple_renames = []\n",
    "_simple_renames.extend(excel_metadata.columns)\n",
    "_simple_renames.extend(excel_marcs_features.columns)\n",
    "_simple_renames.extend(excel_model_outputs_other.columns)\n",
    "_simple_renames.extend(excel_model_coefficients.columns)\n",
    "_simple_renames.extend(excel_normalised_data.columns)\n",
    "_simple_renames.extend(excel_raw_data.columns)\n",
    "_simple_renames.extend(excel_model_comment.columns)\n",
    "\n",
    "for col in _simple_renames:\n",
    "    RENAMES[col] = col[1]\n",
    "    \n",
    "\n",
    "writer = pd.ExcelWriter(output_xlsx, engine='xlsxwriter')\n",
    "workbook = writer.book\n",
    "\n",
    "bold = workbook.add_format({'bold': True})\n",
    "bold_right = workbook.add_format({'bold': True, 'right': 1})\n",
    "\n",
    "bold_rotated = workbook.add_format({'bold': True, 'rotation':90})\n",
    "bold_rotated_right = workbook.add_format({'bold': True, 'rotation':90, 'right': 1})\n",
    "\n",
    "merged_format = workbook.add_format({\n",
    "    'bold': 1,\n",
    "    'align': 'center',\n",
    "    'valign': 'vcenter',\n",
    "    'right': 1,\n",
    "    'text_wrap': True,\n",
    "})\n",
    "\n",
    "right_border = workbook.add_format({\n",
    "    'right': 1,\n",
    "})\n",
    "\n",
    "sheet_name = f\"Summary\"\n",
    "\n",
    "first_data_row = 2\n",
    "first_data_col = 0\n",
    "\n",
    "# pandas does not support writing to Excel with multi-index and header=False\n",
    "# so quickly remove the index, from the DF we're writing\n",
    "# (it won't make a difference as we will handle header columns ourselves)\n",
    "_df_excel_nomultiindex = df_excel.copy()\n",
    "_df_excel_nomultiindex.columns = ['__'.join(map(str, c)) for c in df_excel.columns]\n",
    "# Write this df as csv:\n",
    "_df_excel_nomultiindex.to_csv(output_csv)\n",
    "# And into excel\n",
    "_df_excel_nomultiindex.to_excel(\n",
    "    writer, \n",
    "    sheet_name=sheet_name, \n",
    "    startrow=first_data_row, \n",
    "    startcol=first_data_col, \n",
    "    index=False, \n",
    "    header=False\n",
    ")\n",
    "\n",
    "last_data_row = first_data_row + len(df_excel)\n",
    "last_data_col = first_data_col + len(df_excel.columns)\n",
    "\n",
    "worksheet = writer.sheets[sheet_name]\n",
    "\n",
    "SEPARATOR_COLUMNS = {v[-1] for v in COLUMN_GROUPS.values()}\n",
    "\n",
    "colname_to_index_map = {}\n",
    "for i, col in enumerate(df_excel.columns, start=first_data_col):\n",
    "    fmt_ = bold_rotated if not col in SEPARATOR_COLUMNS else bold_rotated_right\n",
    "    \n",
    "    worksheet.write(first_data_row-1, i, RENAMES.get(col, str(col)), fmt_)\n",
    "    colname_to_index_map[col] = i\n",
    "\n",
    "for merged_name, col_list in COLUMN_GROUPS.items():\n",
    "    _first = colname_to_index_map[col_list[0]]\n",
    "    _last = colname_to_index_map[col_list[-1]]\n",
    "    \n",
    "    rows_to_merge = GROUP_DEPTHS.get(merged_name, 1)\n",
    "    \n",
    "    if _first == _last and rows_to_merge == 1:\n",
    "        # Cannot merge one column only\n",
    "        worksheet.write(first_data_row-2, _first, merged_name, merged_format)\n",
    "    else:\n",
    "        worksheet.merge_range(\n",
    "            first_data_row-2, colname_to_index_map[col_list[0]], \n",
    "            first_data_row-2+(rows_to_merge-1), colname_to_index_map[col_list[-1]],\n",
    "            merged_name,\n",
    "            merged_format\n",
    "        )\n",
    "        \n",
    "for col in SEPARATOR_COLUMNS:\n",
    "    worksheet.set_column(colname_to_index_map[col], colname_to_index_map[col], cell_format=right_border)\n",
    "\n",
    "color_red = '#b2182b'\n",
    "format_red = workbook.add_format({'bg_color': color_red})\n",
    "color_red_lighter = '#f4a582'\n",
    "\n",
    "color_white = '#f7f7f7'\n",
    "\n",
    "color_blue = '#2166ac'\n",
    "format_blue = workbook.add_format({'bg_color': color_blue})\n",
    "color_blue_lighter = '#92c5de'\n",
    "\n",
    "for (val, color) in [('SR', color_red), ('SE', color_blue), ('R', color_red_lighter), ('E', color_blue_lighter)]:\n",
    "    for col in COLUMN_GROUPS['MARCS Feature Response (SR/SE: Strongly recruited/excluded, R/E: Recruited/Excluded, N: neither)']:\n",
    "        fmt_ = workbook.add_format({\n",
    "            'bg_color': color,\n",
    "            'font_color': \"#000000\" if relative_luminance(color) > .408 else \"#FFFFFF\"\n",
    "        })\n",
    "\n",
    "        worksheet.conditional_format(\n",
    "            first_data_row, colname_to_index_map[col], \n",
    "            last_data_row, colname_to_index_map[col],\n",
    "            {\n",
    "                'type': 'cell',\n",
    "                'criteria': 'equal to',\n",
    "                'value': f'\"{val}\"',\n",
    "                'format': fmt_,\n",
    "            }\n",
    "        )\n",
    "       \n",
    "    \n",
    "three_color_columns = list(COLUMN_GROUPS['Log2(FC) estimates (incl. imputed)'])\n",
    "three_color_columns += [c for c in excel_model_outputs_other.columns if c[1] == 'logFC']\n",
    "\n",
    "\n",
    "for col in three_color_columns:\n",
    "    \n",
    "    _limit = df_excel[col].abs().replace(np.inf, np.nan).quantile(0.98)\n",
    "    print(f\"Excel formatting limit for {col}: +/-{_limit}\")\n",
    "    \n",
    "    worksheet.conditional_format(\n",
    "        first_data_row, colname_to_index_map[col], \n",
    "        last_data_row, colname_to_index_map[col],\n",
    "        {\n",
    "            'type': '3_color_scale',\n",
    "            'min_type': 'num',\n",
    "            'max_type': 'num',\n",
    "            'mid_type': 'num',\n",
    "            'min_value': -_limit,\n",
    "            'max_value': _limit,\n",
    "            'mid_value': 0,\n",
    "            'max_color': color_red,\n",
    "            'mid_color': color_white,\n",
    "            'min_color': color_blue,\n",
    "\n",
    "        }\n",
    "    )\n",
    "    \n",
    "    worksheet.conditional_format(\n",
    "        first_data_row, colname_to_index_map[col], \n",
    "        last_data_row, colname_to_index_map[col], \n",
    "        {'type': 'cell',\n",
    "        'criteria': '==',\n",
    "        'value': '\"inf\"',\n",
    "        'format': format_red}\n",
    "    )\n",
    "    \n",
    "    worksheet.conditional_format(\n",
    "        first_data_row, colname_to_index_map[col], \n",
    "        last_data_row, colname_to_index_map[col], \n",
    "        {'type': 'cell',\n",
    "        'criteria': '==',\n",
    "        'value': '\"-inf\"',\n",
    "        'format': format_blue}\n",
    "    )\n",
    "    \n",
    "databar_columns = list(COLUMN_GROUPS['Model coefficient estimates']) + list(excel_normalised_data.columns) + list(excel_raw_data.columns) \n",
    "\n",
    "for col in databar_columns:\n",
    "    \n",
    "    worksheet.conditional_format(\n",
    "        first_data_row, colname_to_index_map[col], \n",
    "        last_data_row, colname_to_index_map[col],\n",
    "        {\n",
    "            'type': 'data_bar',\n",
    "            'min_type': 'percentile',\n",
    "            'max_type': 'percentile',\n",
    "            'min_value': 1,\n",
    "            'max_value': 99,\n",
    "\n",
    "        }\n",
    "    )\n",
    "    \n",
    "\n",
    "boolean_columns_good = [c for c in excel_model_outputs_other.columns if c[1] in ['significant']]\n",
    "boolean_columns_bad = [c for c in excel_model_outputs_other.columns if c[1] in ['logFC_is_imputed', 'logFC_based_on_single_datapoint']]\n",
    "\n",
    "bold_green = workbook.add_format({'bold': True, 'font_color': '#1b7837'})\n",
    "bold_red = workbook.add_format({'bold': True, 'font_color': color_red})\n",
    "for col in boolean_columns_good:\n",
    "    worksheet.conditional_format(\n",
    "        first_data_row, colname_to_index_map[col], \n",
    "        last_data_row, colname_to_index_map[col], \n",
    "        {'type': 'cell',\n",
    "        'criteria': '==',\n",
    "        'value': 'TRUE',\n",
    "        'format': bold_green}\n",
    "    )\n",
    "\n",
    "for col in boolean_columns_bad:\n",
    "    worksheet.conditional_format(\n",
    "        first_data_row, colname_to_index_map[col], \n",
    "        last_data_row, colname_to_index_map[col], \n",
    "        {'type': 'cell',\n",
    "        'criteria': '==',\n",
    "        'value': 'TRUE',\n",
    "        'format': bold_red}\n",
    "    )\n",
    "    \n",
    "# Narrow columns\n",
    "narrow_columns = list(excel_marcs_features.columns)\n",
    "narrow_columns.extend([c for c in data_metadata_chip_ms if c[1] in ['# PSMs', '# Peptides', '# Unique Peptides', 'Coverage [%]']])\n",
    "    \n",
    "for col in narrow_columns:\n",
    "    worksheet.set_column(colname_to_index_map[col], colname_to_index_map[col], 4)\n",
    "\n",
    "worksheet.set_column(colname_to_index_map[('metadata', 'Description')], colname_to_index_map[('metadata', 'Description')], 40)\n",
    "worksheet.set_column(colname_to_index_map[('model_estimates', 'comment')], colname_to_index_map[('model_estimates', 'comment')], 40)\n",
    "\n",
    "worksheet.freeze_panes(first_data_row, colname_to_index_map[('metadata', 'MARCS Gene label(s)')] + 1)\n",
    "worksheet.autofilter(first_data_row-1, first_data_col, last_data_row, last_data_col)\n",
    "      \n",
    "writer.save()\n",
    "print(\"Done!\")"
   ]
  },
  {
   "cell_type": "code",
   "execution_count": null,
   "id": "d8ceb0da-53f3-4d7a-a4f9-7408a8ef2f3c",
   "metadata": {},
   "outputs": [],
   "source": [
    "excel_metadata"
   ]
  },
  {
   "cell_type": "code",
   "execution_count": null,
   "id": "89d49480-45cc-4328-8780-7556cc9847a5",
   "metadata": {},
   "outputs": [],
   "source": []
  }
 ],
 "metadata": {
  "kernelspec": {
   "display_name": "Python 3 (ipykernel)",
   "language": "python",
   "name": "python3"
  },
  "language_info": {
   "codemirror_mode": {
    "name": "ipython",
    "version": 3
   },
   "file_extension": ".py",
   "mimetype": "text/x-python",
   "name": "python",
   "nbconvert_exporter": "python",
   "pygments_lexer": "ipython3",
   "version": "3.10.2"
  }
 },
 "nbformat": 4,
 "nbformat_minor": 5
}
