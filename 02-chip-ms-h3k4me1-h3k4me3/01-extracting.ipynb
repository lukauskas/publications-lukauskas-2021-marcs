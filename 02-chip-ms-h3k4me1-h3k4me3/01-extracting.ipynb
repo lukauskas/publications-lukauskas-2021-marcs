{
 "cells": [
  {
   "cell_type": "code",
   "execution_count": null,
   "id": "80960553-b994-43d4-98a7-d76fcda157e0",
   "metadata": {},
   "outputs": [],
   "source": [
    "%config InlineBackend.figure_format = 'retina'\n",
    "%matplotlib inline\n",
    "import os\n",
    "import pandas as pd\n",
    "import numpy as np\n",
    "import seaborn as sns\n",
    "from matplotlib import pyplot as plt\n",
    "from tqdm import tqdm\n",
    "sns.set_palette('Dark2')\n",
    "sns.set_context('paper')\n",
    "sns.set_style({'axes.axisbelow': True, \n",
    "               'axes.edgecolor': '.15',\n",
    "               'axes.facecolor': 'white',\n",
    "               'axes.grid': True, \n",
    "               'axes.labelcolor': '.15', \n",
    "               'figure.facecolor': 'white', \n",
    "               'grid.color': '.15',\n",
    "               'grid.linestyle': ':', \n",
    "               'grid.alpha': .5, \n",
    "               'image.cmap': 'Greys', \n",
    "               'legend.frameon': False, \n",
    "               'legend.numpoints': 1, \n",
    "               'legend.scatterpoints': 1,\n",
    "               'lines.solid_capstyle': 'butt', \n",
    "               'axes.spines.right': False, \n",
    "               'axes.spines.top': False,  \n",
    "               'text.color': '.15',  \n",
    "               'xtick.top': False, \n",
    "               'ytick.right': False, \n",
    "               'xtick.color': '.15',\n",
    "               'xtick.direction': 'out', \n",
    "               'ytick.color': '.15', \n",
    "               'ytick.direction': 'out', \n",
    "              })\n",
    "\n",
    "\n",
    "import matplotlib\n",
    "\n",
    "FONT_SIZE_PT = 5\n",
    "matplotlib.rcParams['font.family'] = 'Arial'\n",
    "matplotlib.rcParams['font.size'] = FONT_SIZE_PT\n",
    "matplotlib.rcParams['axes.labelsize'] = FONT_SIZE_PT\n",
    "matplotlib.rcParams['axes.titlesize'] = FONT_SIZE_PT\n",
    "matplotlib.rcParams['figure.titlesize'] = FONT_SIZE_PT\n",
    "matplotlib.rcParams['xtick.labelsize'] = FONT_SIZE_PT\n",
    "matplotlib.rcParams['ytick.labelsize'] = FONT_SIZE_PT\n",
    "matplotlib.rcParams['legend.fontsize'] = FONT_SIZE_PT\n",
    "matplotlib.rcParams['legend.title_fontsize'] = FONT_SIZE_PT\n",
    "\n",
    "matplotlib.rcParams['xtick.major.size'] = matplotlib.rcParams['ytick.major.size'] = 2\n",
    "matplotlib.rcParams['xtick.major.width'] = matplotlib.rcParams['ytick.major.width'] = 0.5\n",
    "\n",
    "\n",
    "matplotlib.rcParams['xtick.minor.size'] = matplotlib.rcParams['ytick.minor.size'] = 1\n",
    "\n",
    "matplotlib.rcParams['xtick.minor.width'] = matplotlib.rcParams['ytick.minor.width'] = 0.5\n",
    "\n",
    "matplotlib.rcParams['axes.linewidth'] = 0.5\n",
    "matplotlib.rcParams['lines.linewidth'] = 0.5\n",
    "matplotlib.rcParams['grid.linewidth'] = 0.25\n",
    "matplotlib.rcParams['patch.linewidth'] = 0.25\n",
    "matplotlib.rcParams['lines.markeredgewidth'] = 0.25\n",
    "matplotlib.rcParams['lines.markersize'] = 2\n",
    "\n",
    "FIVE_MM_IN_INCH = 0.19685\n",
    "DPI = 600\n",
    "matplotlib.rcParams['figure.figsize'] = (10 * FIVE_MM_IN_INCH, 9 * FIVE_MM_IN_INCH)\n",
    "matplotlib.rcParams['savefig.dpi'] = DPI\n",
    "matplotlib.rcParams['figure.dpi'] = DPI // 4\n",
    "\n",
    "\n",
    "#http://phyletica.org/matplotlib-fonts/\n",
    "matplotlib.rcParams['pdf.fonttype'] = 42\n",
    "matplotlib.rcParams['ps.fonttype'] = 42"
   ]
  },
  {
   "cell_type": "markdown",
   "id": "f2f88f07-9800-4a72-9708-1dd73e23e775",
   "metadata": {},
   "source": [
    "# (01) Extracting the dataset.\n",
    "\n",
    "This notebook handles the first step of analysis - namely the ingestion of the raw dataset\n",
    "and few transformations such as assigning Gene names and readable labels to proteins."
   ]
  },
  {
   "cell_type": "markdown",
   "id": "e2967195-512f-4ba5-a9ed-bbd94f978cfc",
   "metadata": {},
   "source": [
    "## Configuration"
   ]
  },
  {
   "cell_type": "markdown",
   "id": "da397270-61bd-4020-a528-d350b69c3f1f",
   "metadata": {},
   "source": [
    "Input file (the raw dataset):"
   ]
  },
  {
   "cell_type": "code",
   "execution_count": null,
   "id": "05443a16-eeb7-4b7a-ac1c-24b5593198cd",
   "metadata": {},
   "outputs": [],
   "source": [
    "INPUT_RAW_DATA = 'data/Chip_MS_H3K4me1_H3K4me3_2022_unnorm.xlsx'"
   ]
  },
  {
   "cell_type": "markdown",
   "id": "fde68f1e-d882-43b0-87ea-369f0b9485dc",
   "metadata": {},
   "source": [
    "Output directory:"
   ]
  },
  {
   "cell_type": "code",
   "execution_count": null,
   "id": "457660d5-8f77-42d0-a9be-9b3358161f94",
   "metadata": {},
   "outputs": [],
   "source": [
    "import pathlib\n",
    "OUTPUT_DIRECTORY = pathlib.Path('outputs') / '01-extracting'\n",
    "\n",
    "if not OUTPUT_DIRECTORY.is_dir():\n",
    "    OUTPUT_DIRECTORY.mkdir(parents=True)"
   ]
  },
  {
   "cell_type": "markdown",
   "id": "610e5130-5ea2-48e9-a2a2-488610313981",
   "metadata": {},
   "source": [
    "Parameters, constants"
   ]
  },
  {
   "cell_type": "code",
   "execution_count": null,
   "id": "ca44ebf4-0089-42cd-931b-65dd9a7c9444",
   "metadata": {},
   "outputs": [],
   "source": []
  },
  {
   "cell_type": "markdown",
   "id": "10e0e570-19e7-4b3b-aff8-d3cfe1ecff8a",
   "metadata": {},
   "source": [
    "## Reading Excel"
   ]
  },
  {
   "cell_type": "markdown",
   "id": "530e38f1-2054-4905-a57b-c771c6d08768",
   "metadata": {},
   "source": [
    "We first load the data:"
   ]
  },
  {
   "cell_type": "code",
   "execution_count": null,
   "id": "d6118759-8113-41dc-be04-8de1308c9879",
   "metadata": {},
   "outputs": [],
   "source": [
    "data = pd.read_excel(\n",
    "    INPUT_RAW_DATA,\n",
    "    index_col=0\n",
    ")\n",
    "data"
   ]
  },
  {
   "cell_type": "markdown",
   "id": "a0b84cf2-ce8e-40b6-8a50-7d4527df57d0",
   "metadata": {},
   "source": [
    "### Parsing Gene Names"
   ]
  },
  {
   "cell_type": "markdown",
   "id": "97f48759-6fd1-4c06-9c45-311857d2658c",
   "metadata": {},
   "source": [
    "Now we attempt to parse the gene names from the `Description` Column in the data.\n",
    "\n",
    "Particularly, the description column contains the following information:"
   ]
  },
  {
   "cell_type": "code",
   "execution_count": null,
   "id": "a3ccaf3c-837f-4caf-8d73-af0a6b296523",
   "metadata": {},
   "outputs": [],
   "source": [
    "data['Description'].head()"
   ]
  },
  {
   "cell_type": "markdown",
   "id": "5b4ee59e-f6e1-4353-ac60-9f9a904516d4",
   "metadata": {},
   "source": [
    "E.g. `Accession=Q04446` has the following description:\n",
    "\n",
    "```\n",
    "1,4-alpha-glucan-branching enzyme OS=Homo sapiens OX=9606 GN=GBE1 PE=1 SV=3\n",
    "```\n",
    "\n",
    "In this entry we see the segment `GN=GBE1` which tells us that the gene name of this protein is `GBE1`\n",
    "\n",
    "Note that most proteins have this gene name, encoded in the `GN` portion of the Description except:"
   ]
  },
  {
   "cell_type": "code",
   "execution_count": null,
   "id": "8dde18ae-b73d-4a37-96bd-92ee6b2b3aba",
   "metadata": {},
   "outputs": [],
   "source": [
    "data[~data['Description'].str.contains('GN')]['Description'].unique()"
   ]
  },
  {
   "cell_type": "markdown",
   "id": "4dffc9c7-cffb-4210-a3c6-02f424d9e542",
   "metadata": {},
   "source": [
    "It is therefore quite safe to parse the gene names below, as long as we deal with this one exception above.\n",
    "\n",
    "The function `parse_gn` does that:"
   ]
  },
  {
   "cell_type": "code",
   "execution_count": null,
   "id": "f0263899-f11c-4f0c-91eb-2fe9b86323fe",
   "metadata": {},
   "outputs": [],
   "source": [
    "import re\n",
    "def parse_gn(description):\n",
    "    \"\"\"\n",
    "    Parses the gene name from `GN=ABCD` like string in the description\n",
    "    \"\"\"\n",
    "    \n",
    "    match = re.match('.*GN=(?P<gene_name>.*?)[A-Z][A-Z]=', description)\n",
    "    if match:\n",
    "        return match.group('gene_name').strip()\n",
    "    else:\n",
    "        return None\n",
    "data['Gene'] = data['Description'].map(parse_gn)"
   ]
  },
  {
   "cell_type": "markdown",
   "id": "9962f1b6-f8f1-4005-b3d3-a8bd5a3ba1a9",
   "metadata": {},
   "source": [
    "As expected, the parsing failed for only one gene:"
   ]
  },
  {
   "cell_type": "code",
   "execution_count": null,
   "id": "84eb58f9-ba71-42f1-a2fb-d596cd1d29c3",
   "metadata": {},
   "outputs": [],
   "source": [
    "data[data['Gene'].isnull()]"
   ]
  },
  {
   "cell_type": "markdown",
   "id": "59914c23-ef28-4f1a-9698-f15d2cf55013",
   "metadata": {},
   "source": [
    "To account for the exception, we create another column `Label`, which will be set to `Gene`, when the Gene is present and to `Accesion`, when it is not."
   ]
  },
  {
   "cell_type": "code",
   "execution_count": null,
   "id": "73a5987d-48f5-412a-b839-5bd4dc435d54",
   "metadata": {},
   "outputs": [],
   "source": [
    "data['Label'] = data['Gene'].copy() # set to Gene\n",
    "# Where gene is null; set to the Accession (i.e. index)\n",
    "data.loc[data['Gene'].isnull(), 'Label'] = data.loc[data['Gene'].isnull()].index"
   ]
  },
  {
   "cell_type": "markdown",
   "id": "9edd7421-d12d-44b6-9457-fff225d330ba",
   "metadata": {},
   "source": [
    "We now have the scenario that Label column is never null (as we would expect):"
   ]
  },
  {
   "cell_type": "code",
   "execution_count": null,
   "id": "fde26345-4366-4b2a-b9d3-1315f740fb5e",
   "metadata": {},
   "outputs": [],
   "source": [
    "assert not data['Label'].isnull().any()"
   ]
  },
  {
   "cell_type": "markdown",
   "id": "8fe27584-fd42-4e26-8bf3-f780ada7fc59",
   "metadata": {},
   "source": [
    "But unfortunately, some labels are duplicated (as some gene names are duplicated):"
   ]
  },
  {
   "cell_type": "code",
   "execution_count": null,
   "id": "eb93d761-02ee-40a0-86b4-69889775e84d",
   "metadata": {},
   "outputs": [],
   "source": [
    "data['Label'].duplicated().any()"
   ]
  },
  {
   "cell_type": "code",
   "execution_count": null,
   "id": "65015f79-e890-4c6b-a47c-32be3c4f666f",
   "metadata": {},
   "outputs": [],
   "source": [
    "indices_of_duplicated_labels = data[data['Label'].duplicated(keep=False)].index\n",
    "data.loc[indices_of_duplicated_labels]"
   ]
  },
  {
   "cell_type": "markdown",
   "id": "ae4fdee8-f203-4b21-9735-8dac1c0e1e1a",
   "metadata": {},
   "source": [
    "In such cases we will just add suffixes `(1)` and `(2)` to the duplicated genes, using the convention that the gene with higher coverage gets a lower number:"
   ]
  },
  {
   "cell_type": "code",
   "execution_count": null,
   "id": "d5d0b6e5-e9e4-45cf-a748-1ca7a56934a3",
   "metadata": {},
   "outputs": [],
   "source": [
    "renames = {}\n",
    "for label, subdata in data.loc[indices_of_duplicated_labels].groupby('Label'):\n",
    "    \n",
    "    # As a convention, higher Coverage [%] gets lower number\n",
    "    subdata = subdata.sort_values(by='Coverage [%]', ascending=False)\n",
    "    \n",
    "    for i, ix in enumerate(subdata.index, start=1):\n",
    "        renames[ix] = '{} ({})'.format(subdata.loc[ix, 'Label'], i)\n",
    "        \n",
    "for ix, new_label in renames.items():\n",
    "    data.loc[ix, 'Label'] = new_label"
   ]
  },
  {
   "cell_type": "markdown",
   "id": "940249a3-ac02-48b1-8943-45928c3322be",
   "metadata": {},
   "source": [
    "The duplicated labels now look like this:"
   ]
  },
  {
   "cell_type": "code",
   "execution_count": null,
   "id": "132e19a6-4567-4e97-9c70-b89e867fbad9",
   "metadata": {},
   "outputs": [],
   "source": [
    "data.loc[indices_of_duplicated_labels, 'Label']"
   ]
  },
  {
   "cell_type": "markdown",
   "id": "a2afeca6-4f72-4988-aa5e-69d3a2bd91b0",
   "metadata": {},
   "source": [
    "Which makes all labels to be unique:"
   ]
  },
  {
   "cell_type": "code",
   "execution_count": null,
   "id": "2a660346-5af6-4679-9270-5092e7f60348",
   "metadata": {},
   "outputs": [],
   "source": [
    "assert not data['Label'].duplicated().any()"
   ]
  },
  {
   "cell_type": "markdown",
   "id": "c5a0cd70-acf2-4451-ac75-c8507521b584",
   "metadata": {},
   "source": [
    "And therefore we can set a natural index to our data, i.e. the Label column:"
   ]
  },
  {
   "cell_type": "code",
   "execution_count": null,
   "id": "cd83fee8-3ab4-4133-b38c-778ddb49b73a",
   "metadata": {},
   "outputs": [],
   "source": [
    "data = data.reset_index().set_index('Label')\n",
    "data"
   ]
  },
  {
   "cell_type": "markdown",
   "id": "61ccd42b-7cec-45f1-a053-540f817cf40c",
   "metadata": {},
   "source": [
    "### Splitting numeric data and metadata"
   ]
  },
  {
   "cell_type": "markdown",
   "id": "22371e31-594c-4c07-96d2-80254d55ba2f",
   "metadata": {},
   "source": [
    "At this point it makes sense to split the data into numeric columns and the remaining metadatada"
   ]
  },
  {
   "cell_type": "code",
   "execution_count": null,
   "id": "b7e1726b-e9a7-437d-b86e-bbe5a065d7be",
   "metadata": {},
   "outputs": [],
   "source": [
    "data_numeric = data[[\n",
    "    'H3_1','H3_2','H3_3',\n",
    "    'H4_1','H4_2','H4_3',\n",
    "    'H3K4me3_1','H3K4me3_2',\n",
    "    'H3K4me3_3','H3K4me1_1',\n",
    "    'H3K4me1_2','H3K4me1_3'\n",
    "]]\n",
    "\n",
    "data_metadata = data[data.columns.difference(data_numeric.columns)]"
   ]
  },
  {
   "cell_type": "code",
   "execution_count": null,
   "id": "09211afb-8bb9-4cc1-8f2c-784b396ccb46",
   "metadata": {},
   "outputs": [],
   "source": [
    "data_numeric"
   ]
  },
  {
   "cell_type": "code",
   "execution_count": null,
   "id": "6d5f8a67-b2e9-426e-9a27-bd24026e6f55",
   "metadata": {},
   "outputs": [],
   "source": [
    "data_metadata"
   ]
  },
  {
   "cell_type": "markdown",
   "id": "51a30ccd-4740-488a-b086-9ecbedeec071",
   "metadata": {},
   "source": [
    "And this is pretty much everything that we needed to do in this notebook, so let's just save the outputs"
   ]
  },
  {
   "cell_type": "code",
   "execution_count": null,
   "id": "6106b2b9-1541-42fd-bc4c-a311a06766d8",
   "metadata": {},
   "outputs": [],
   "source": [
    "data_numeric.to_csv(OUTPUT_DIRECTORY / 'data_numeric.csv')\n",
    "data_metadata.to_csv(OUTPUT_DIRECTORY / 'data_metadata.csv')"
   ]
  },
  {
   "cell_type": "code",
   "execution_count": null,
   "id": "120c0b01-4f6a-47d6-bd4b-2d83b6c78030",
   "metadata": {},
   "outputs": [],
   "source": []
  }
 ],
 "metadata": {
  "kernelspec": {
   "display_name": "Python 3 (ipykernel)",
   "language": "python",
   "name": "python3"
  },
  "language_info": {
   "codemirror_mode": {
    "name": "ipython",
    "version": 3
   },
   "file_extension": ".py",
   "mimetype": "text/x-python",
   "name": "python",
   "nbconvert_exporter": "python",
   "pygments_lexer": "ipython3",
   "version": "3.10.2"
  }
 },
 "nbformat": 4,
 "nbformat_minor": 5
}
