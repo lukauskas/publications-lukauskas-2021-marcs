{
 "cells": [
  {
   "cell_type": "code",
   "execution_count": null,
   "id": "51be4839-3109-4512-9b70-642da50e7552",
   "metadata": {},
   "outputs": [],
   "source": [
    "%config InlineBackend.figure_format = 'retina'\n",
    "%matplotlib inline\n",
    "import os\n",
    "import pandas as pd\n",
    "import numpy as np\n",
    "import seaborn as sns\n",
    "from matplotlib import pyplot as plt\n",
    "from tqdm import tqdm\n",
    "sns.set_palette('Dark2')\n",
    "sns.set_context('paper')\n",
    "sns.set_style({'axes.axisbelow': True, \n",
    "               'axes.edgecolor': '.15',\n",
    "               'axes.facecolor': 'white',\n",
    "               'axes.grid': True, \n",
    "               'axes.labelcolor': '.15', \n",
    "               'figure.facecolor': 'white', \n",
    "               'grid.color': '.15',\n",
    "               'grid.linestyle': ':', \n",
    "               'grid.alpha': .5, \n",
    "               'image.cmap': 'Greys', \n",
    "               'legend.frameon': False, \n",
    "               'legend.numpoints': 1, \n",
    "               'legend.scatterpoints': 1,\n",
    "               'lines.solid_capstyle': 'butt', \n",
    "               'axes.spines.right': False, \n",
    "               'axes.spines.top': False,  \n",
    "               'text.color': '.15',  \n",
    "               'xtick.top': False, \n",
    "               'ytick.right': False, \n",
    "               'xtick.color': '.15',\n",
    "               'xtick.direction': 'out', \n",
    "               'ytick.color': '.15', \n",
    "               'ytick.direction': 'out', \n",
    "              })\n",
    "\n",
    "\n",
    "import matplotlib\n",
    "\n",
    "FONT_SIZE_PT = 5\n",
    "matplotlib.rcParams['font.family'] = 'Arial'\n",
    "matplotlib.rcParams['font.size'] = FONT_SIZE_PT\n",
    "matplotlib.rcParams['axes.labelsize'] = FONT_SIZE_PT\n",
    "matplotlib.rcParams['axes.titlesize'] = FONT_SIZE_PT\n",
    "matplotlib.rcParams['figure.titlesize'] = FONT_SIZE_PT\n",
    "matplotlib.rcParams['xtick.labelsize'] = FONT_SIZE_PT\n",
    "matplotlib.rcParams['ytick.labelsize'] = FONT_SIZE_PT\n",
    "matplotlib.rcParams['legend.fontsize'] = FONT_SIZE_PT\n",
    "matplotlib.rcParams['legend.title_fontsize'] = FONT_SIZE_PT\n",
    "\n",
    "matplotlib.rcParams['xtick.major.size'] = matplotlib.rcParams['ytick.major.size'] = 2\n",
    "matplotlib.rcParams['xtick.major.width'] = matplotlib.rcParams['ytick.major.width'] = 0.5\n",
    "\n",
    "\n",
    "matplotlib.rcParams['xtick.minor.size'] = matplotlib.rcParams['ytick.minor.size'] = 1\n",
    "\n",
    "matplotlib.rcParams['xtick.minor.width'] = matplotlib.rcParams['ytick.minor.width'] = 0.5\n",
    "\n",
    "matplotlib.rcParams['axes.linewidth'] = 0.5\n",
    "matplotlib.rcParams['lines.linewidth'] = 0.5\n",
    "matplotlib.rcParams['grid.linewidth'] = 0.25\n",
    "matplotlib.rcParams['patch.linewidth'] = 0.25\n",
    "matplotlib.rcParams['lines.markeredgewidth'] = 0.25\n",
    "matplotlib.rcParams['lines.markersize'] = 2\n",
    "\n",
    "FIVE_MM_IN_INCH = 0.19685\n",
    "DPI = 600\n",
    "matplotlib.rcParams['figure.figsize'] = (10 * FIVE_MM_IN_INCH, 9 * FIVE_MM_IN_INCH)\n",
    "matplotlib.rcParams['savefig.dpi'] = DPI\n",
    "matplotlib.rcParams['figure.dpi'] = DPI // 4\n",
    "\n",
    "\n",
    "#http://phyletica.org/matplotlib-fonts/\n",
    "matplotlib.rcParams['pdf.fonttype'] = 42\n",
    "matplotlib.rcParams['ps.fonttype'] = 42"
   ]
  },
  {
   "cell_type": "markdown",
   "id": "2405fe9c-a34e-444b-beaf-c42f5b446426",
   "metadata": {},
   "source": [
    "# (02) MARCS identifier linking\n",
    "\n",
    "This notebook serves to map the metadata from ChIP-MS to MARCS gene identifiers."
   ]
  },
  {
   "cell_type": "markdown",
   "id": "9c7da897-ebb3-407a-8a27-107783b90e36",
   "metadata": {},
   "source": [
    "## Configuration"
   ]
  },
  {
   "cell_type": "code",
   "execution_count": null,
   "id": "1b4e1dd1-1759-4b90-b58c-bb4390c38c10",
   "metadata": {},
   "outputs": [],
   "source": [
    "import pathlib\n",
    "\n",
    "INPUT_CHIP_MS_METADATA = pathlib.Path('outputs') / '01-extracting' / 'data_metadata.csv'\n",
    "assert INPUT_CHIP_MS_METADATA.is_file()\n",
    "\n",
    "INPUT_MARCS_GENE_LIST_MAP = pathlib.Path('data/from-marcs/table-s2.sheet.02.list_of_proteins.tsv.gz')\n",
    "assert INPUT_MARCS_GENE_LIST_MAP.is_file()\n",
    "    \n",
    "INPUT_MARCS_TABLE_S3 = pathlib.Path('data/from-marcs-chipseq-analysis/table-s3.long.tsv.gz')\n",
    "assert INPUT_MARCS_TABLE_S3.is_file()"
   ]
  },
  {
   "cell_type": "code",
   "execution_count": null,
   "id": "e3e1bc21-cded-4dc8-b805-27c743fb8972",
   "metadata": {},
   "outputs": [],
   "source": [
    "import pathlib\n",
    "OUTPUT_DIRECTORY = pathlib.Path('outputs') / '02-linking-to-MARCS'\n",
    "\n",
    "if not OUTPUT_DIRECTORY.is_dir():\n",
    "    OUTPUT_DIRECTORY.mkdir(parents=True)"
   ]
  },
  {
   "cell_type": "markdown",
   "id": "30d21825-6d67-499c-a538-10d675973def",
   "metadata": {},
   "source": [
    "## Reading datasets"
   ]
  },
  {
   "cell_type": "markdown",
   "id": "4cad3f1a-e6af-44ac-b945-45f54840574d",
   "metadata": {},
   "source": [
    "We only need the metadata from ChIP MS, as we will be matching based on the Gene label column"
   ]
  },
  {
   "cell_type": "code",
   "execution_count": null,
   "id": "f2dadd7c-ff75-44db-aff9-1edee824c515",
   "metadata": {},
   "outputs": [],
   "source": [
    "data_metadata_chip_ms = pd.read_csv(INPUT_CHIP_MS_METADATA, index_col=0)\n",
    "data_metadata_chip_ms"
   ]
  },
  {
   "cell_type": "markdown",
   "id": "aec1d9b1-e38e-4ae7-919d-745c9918cb77",
   "metadata": {},
   "source": [
    "We now load the MARCS data in order to create a mapping between MARCS gene labels and gene names"
   ]
  },
  {
   "cell_type": "code",
   "execution_count": null,
   "id": "0659557e-8c63-4d00-b4d1-98d5a1aae7ac",
   "metadata": {},
   "outputs": [],
   "source": [
    "data_marcs_gene_list = pd.read_csv(INPUT_MARCS_GENE_LIST_MAP, sep='\\t', index_col=0)\n",
    "data_marcs_gene_list"
   ]
  },
  {
   "cell_type": "markdown",
   "id": "08d0b4ec-373d-4a8f-b62a-94df06e950ea",
   "metadata": {},
   "source": [
    "Let's create a map between MARCS Gene Labels and Majority Protein IDs"
   ]
  },
  {
   "cell_type": "code",
   "execution_count": null,
   "id": "9637099a-739a-4aa0-9cae-6136a0e3f70e",
   "metadata": {},
   "outputs": [],
   "source": [
    "data_marcs_uniprot_id_map = data_marcs_gene_list['Majority protein IDs'].str.split(';', expand=True).stack().reset_index()\n",
    "data_marcs_uniprot_id_map.columns = ['marcs_gene_label', 'ix', 'uniprot_id']\n",
    "data_marcs_uniprot_id_map = data_marcs_uniprot_id_map[['marcs_gene_label', 'uniprot_id']].drop_duplicates()\n",
    "data_marcs_uniprot_id_map"
   ]
  },
  {
   "cell_type": "markdown",
   "id": "a1aa6d8b-8d19-42ac-9ba6-ab1c222d32be",
   "metadata": {},
   "source": [
    "And another one between MARCS gene labels and gene names"
   ]
  },
  {
   "cell_type": "code",
   "execution_count": null,
   "id": "53c8821b-7fd1-4e7a-b2e3-ed5f9367aba0",
   "metadata": {},
   "outputs": [],
   "source": [
    "data_marcs_gene_name_map = data_marcs_gene_list['Gene names'].dropna().str.split(';', expand=True).stack().reset_index()\n",
    "data_marcs_gene_name_map.columns = ['marcs_gene_label', 'ix', 'gene_name']\n",
    "data_marcs_gene_name_map = data_marcs_gene_name_map[['marcs_gene_label', 'gene_name']]\n",
    "data_marcs_gene_name_map['gene_name_lowercase'] = data_marcs_gene_name_map['gene_name'].str.lower()\n",
    "data_marcs_gene_name_map"
   ]
  },
  {
   "cell_type": "markdown",
   "id": "3d46831f-5dc5-4c65-a2c1-383587c8224c",
   "metadata": {},
   "source": [
    "## Mapping ChIP-MS labels to MARCS \n",
    "\n",
    "### via uniprot IDs"
   ]
  },
  {
   "cell_type": "markdown",
   "id": "de57dd5e-8e07-48ca-a596-d4563db0c3dd",
   "metadata": {},
   "source": [
    "We start by mapping the ChIP-MS proteins to MARCS by their uniprot accession number.\n",
    "\n",
    "Unlike marcs data the accession column in ChIP-MS contains only one protein id.\n",
    "\n",
    "We can verify it by checking the maximum length of the strings in this column:"
   ]
  },
  {
   "cell_type": "code",
   "execution_count": null,
   "id": "c6ee747f-293c-424f-b4db-3970065f6c09",
   "metadata": {},
   "outputs": [],
   "source": [
    "data_metadata_chip_ms['Accession'].str.len().max()"
   ]
  },
  {
   "cell_type": "markdown",
   "id": "61a9dde7-6a76-4d3a-868b-fd0d7cda011b",
   "metadata": {},
   "source": [
    "The maximum length columns are just proteins with long accessions:"
   ]
  },
  {
   "cell_type": "code",
   "execution_count": null,
   "id": "2d55ba48-8d8e-4a7d-ab7f-82f2d716a0fa",
   "metadata": {},
   "outputs": [],
   "source": [
    "data_metadata_chip_ms[data_metadata_chip_ms['Accession'].str.len() == 10]"
   ]
  },
  {
   "cell_type": "markdown",
   "id": "bed9fce9-fa7e-49ef-b63b-6157d12b409a",
   "metadata": {},
   "source": [
    "We therefore create the following data frame for ChIP-MS mappings:"
   ]
  },
  {
   "cell_type": "code",
   "execution_count": null,
   "id": "bcb7ebaa-f1d4-437c-bac8-9b3cb16eeb6d",
   "metadata": {},
   "outputs": [],
   "source": [
    "data_chip_ms_accession_gene_map = data_metadata_chip_ms[['Accession', 'Gene']].reset_index()\n",
    "data_chip_ms_accession_gene_map.columns = ['chip_ms_label', 'chip_ms_accession', 'chip_ms_gene']\n",
    "data_chip_ms_accession_gene_map['chip_ms_gene_lowercase'] = data_chip_ms_accession_gene_map['chip_ms_gene'].str.lower()\n",
    "data_chip_ms_accession_gene_map"
   ]
  },
  {
   "cell_type": "markdown",
   "id": "98e40f4b-3d5c-414b-82b2-582861c267f3",
   "metadata": {},
   "source": [
    "There is some overlap between the accessions in MARCS and in metadata chip_ms"
   ]
  },
  {
   "cell_type": "code",
   "execution_count": null,
   "id": "ec3a8459-2c06-4b93-a00a-d2e79cb7e489",
   "metadata": {},
   "outputs": [],
   "source": [
    "from matplotlib_venn import venn2\n",
    "\n",
    "venn2((set(data_marcs_uniprot_id_map['uniprot_id']), set(data_chip_ms_accession_gene_map['chip_ms_accession'])), \n",
    "      set_labels=(\"In MARCS\", \"In ChIP-MS\"))\n",
    "plt.title(\"Overlap between UniProt identifiers\")\n",
    "_fname = OUTPUT_DIRECTORY / '01-venn-diagram-of-uniprot-id-overlaps.pdf'\n",
    "_caption = f\"\"\"\n",
    "Overlaps between Uniprot IDs in MARCS data and Uniprot IDs observed in the ChIP-MS dataset.\n",
    "Uniprot IDs are required to match exactly.\n",
    "\"\"\"\n",
    "plt.savefig(_fname, bbox_inches='tight', dpi=DPI)\n",
    "with open(str(_fname) + '.caption.md', 'w') as f:\n",
    "    f.write(_caption)\n",
    "    print(_caption)"
   ]
  },
  {
   "cell_type": "code",
   "execution_count": null,
   "id": "a909a056-d1e3-4d12-9a0b-e95ce0e607c5",
   "metadata": {},
   "outputs": [],
   "source": [
    "marcs_to_chip_ms_map_by_accession = pd.merge(\n",
    "    data_marcs_uniprot_id_map,\n",
    "    data_chip_ms_accession_gene_map[['chip_ms_label', 'chip_ms_accession']],\n",
    "    left_on='uniprot_id',\n",
    "    right_on='chip_ms_accession'\n",
    ")\n",
    "\n",
    "marcs_to_chip_ms_map_by_accession['mapped_via'] = 'Accession'\n",
    "marcs_to_chip_ms_map_by_accession"
   ]
  },
  {
   "cell_type": "markdown",
   "id": "f190b74d-6a20-44c4-a6bc-75dc2c05b3c9",
   "metadata": {},
   "source": [
    "### via gene names"
   ]
  },
  {
   "cell_type": "markdown",
   "id": "095e87d0-b811-4237-8c1b-e8f4fcebfe0a",
   "metadata": {},
   "source": [
    "Alternatively, we can align MARCS data to ChIP-MS via the parsed gene name column.\n",
    "\n",
    "This is a less strict mapping, and is mostly useful for when we hav edifferent variants of the same Gene in MARCS, e.g. PHF8 (1) / PHF8 (2) that may not necessarily correspond 1:1 in ChIP-MS.\n"
   ]
  },
  {
   "cell_type": "markdown",
   "id": "8ce5b142-bc38-4375-821f-be6b15c12402",
   "metadata": {},
   "source": [
    "We can see the quick overlap:"
   ]
  },
  {
   "cell_type": "code",
   "execution_count": null,
   "id": "4b911f0d-f5bc-432e-b499-c44dff042d45",
   "metadata": {},
   "outputs": [],
   "source": [
    "from matplotlib_venn import venn2\n",
    "\n",
    "in_marcs = set(data_marcs_gene_name_map['gene_name_lowercase'].dropna().unique())\n",
    "in_chip_ms = set(data_chip_ms_accession_gene_map['chip_ms_gene_lowercase'].dropna().unique())\n",
    "\n",
    "venn2((in_marcs, in_chip_ms), set_labels=['Gene names in MARCS', 'Gene names in ChIP-MS'])\n",
    "\n",
    "_fname = OUTPUT_DIRECTORY / '01-venn-diagram-of-gene-name-overlaps.pdf'\n",
    "_caption = f\"\"\"\n",
    "Overlaps between Gene names in MARCS data and gene names observed in the ChIP-MS dataset.\n",
    "Gene names are equired to match exactly.\n",
    "\"\"\"\n",
    "plt.title(\"Overlap between Gene names\")\n",
    "plt.savefig(_fname, bbox_inches='tight', dpi=DPI)\n",
    "with open(str(_fname) + '.caption.md', 'w') as f:\n",
    "    f.write(_caption)\n",
    "    print(_caption)"
   ]
  },
  {
   "cell_type": "markdown",
   "id": "6f6933cc-5c2b-491f-a38c-39662667d4a1",
   "metadata": {},
   "source": [
    "We can now make a similar mapping like we did with Uniprot IDs"
   ]
  },
  {
   "cell_type": "code",
   "execution_count": null,
   "id": "46306571-8fcf-49ab-936b-fd253fbaa771",
   "metadata": {},
   "outputs": [],
   "source": [
    "marcs_to_chip_ms_map_by_gene_name = pd.merge(\n",
    "    data_marcs_gene_name_map,\n",
    "    data_chip_ms_accession_gene_map[['chip_ms_label', 'chip_ms_gene_lowercase']],\n",
    "    left_on='gene_name_lowercase',\n",
    "    right_on='chip_ms_gene_lowercase'\n",
    ")\n",
    "\n",
    "marcs_to_chip_ms_map_by_gene_name['mapped_via'] = 'Gene name'\n",
    "marcs_to_chip_ms_map_by_gene_name"
   ]
  },
  {
   "cell_type": "markdown",
   "id": "c4535196-a0d5-4173-a29f-41240c01f67d",
   "metadata": {},
   "source": [
    "Let's see how much of this mapping overlaps"
   ]
  },
  {
   "cell_type": "code",
   "execution_count": null,
   "id": "b094cb69-9ab0-4b00-b45f-025594c92af7",
   "metadata": {},
   "outputs": [],
   "source": [
    "all_marcs_gene_labels = set(data_marcs_gene_list.index)\n",
    "mapped_via_accession = set(marcs_to_chip_ms_map_by_accession['marcs_gene_label'].unique())\n",
    "mapped_via_gene_name = set(marcs_to_chip_ms_map_by_gene_name['marcs_gene_label'].unique())\n",
    "\n",
    "from matplotlib_venn import venn3_unweighted\n",
    "\n",
    "venn3_unweighted(\n",
    "    (all_marcs_gene_labels, mapped_via_accession, mapped_via_gene_name),\n",
    "    set_labels=(\"MARCS gene labels\", \"Mappable to ChIP-MS via Accession\", \"Mappable to ChIP-MS via Gene name\"),\n",
    ")\n",
    "\n",
    "plt.title(\"Mappability summary between MARCS gene labels and ChIP-MS\")\n",
    "\n",
    "_fname = OUTPUT_DIRECTORY / '01-venn-diagram-of-gene-label-mappability.pdf'\n",
    "_caption = f\"\"\"\n",
    "Distribution of the mappability of MARCS gene labels to the ChIP-MS datasets.\n",
    "Gene names are equired to match exactly.\n",
    "\"\"\"\n",
    "plt.savefig(_fname, bbox_inches='tight', dpi=DPI)\n",
    "with open(str(_fname) + '.caption.md', 'w') as f:\n",
    "    f.write(_caption)\n",
    "    print(_caption)"
   ]
  },
  {
   "cell_type": "code",
   "execution_count": null,
   "id": "65f585de-b606-4386-8525-0ab75ba158e0",
   "metadata": {},
   "outputs": [],
   "source": [
    "mappable_via_accession_only = mapped_via_accession - mapped_via_gene_name\n",
    "mappable_via_accession_only"
   ]
  },
  {
   "cell_type": "code",
   "execution_count": null,
   "id": "bbf47837-3023-41ed-a93e-d0b6b47701d9",
   "metadata": {},
   "outputs": [],
   "source": [
    "mappable_via_gene_name_only = mapped_via_gene_name - mapped_via_accession\n",
    "mappable_via_gene_name_only"
   ]
  },
  {
   "cell_type": "markdown",
   "id": "41a3052b-0d5c-4e7d-bc02-5a58bc90fc3d",
   "metadata": {},
   "source": [
    "We can now compute the final mapping by concatenating the two dataframes:"
   ]
  },
  {
   "cell_type": "code",
   "execution_count": null,
   "id": "0ce3970d-2e20-40f1-8486-acd1f2303821",
   "metadata": {},
   "outputs": [],
   "source": [
    "full_gene_label_map = pd.concat(\n",
    "    (\n",
    "        marcs_to_chip_ms_map_by_accession[['marcs_gene_label', 'chip_ms_label', 'mapped_via']],\n",
    "        marcs_to_chip_ms_map_by_gene_name[['marcs_gene_label', 'chip_ms_label', 'mapped_via']]\n",
    "    ),\n",
    "    ignore_index=True\n",
    ")\n",
    "full_gene_label_map"
   ]
  },
  {
   "cell_type": "markdown",
   "id": "0b7e1fd8-f28d-4fb5-bfcc-cb62f006cc0a",
   "metadata": {},
   "source": [
    "And sorting out the duplication by concatenating the 'mapped_via' column:"
   ]
  },
  {
   "cell_type": "code",
   "execution_count": null,
   "id": "41a2a6e0-3bb8-49e2-8394-4038039adacb",
   "metadata": {},
   "outputs": [],
   "source": [
    "full_gene_label_map = full_gene_label_map.groupby(['marcs_gene_label', 'chip_ms_label'])['mapped_via'].apply(lambda x: ';'.join(sorted(x.unique()))).reset_index()\n",
    "full_gene_label_map"
   ]
  },
  {
   "cell_type": "markdown",
   "id": "452255ce-c381-49fd-9b10-ecebb86bfcd3",
   "metadata": {},
   "source": [
    "These counts should be similar to the venn diagram above (but not exact, due to one-to-many mappings):"
   ]
  },
  {
   "cell_type": "code",
   "execution_count": null,
   "id": "985265a1-2ed4-481f-a64a-d144f29c89ef",
   "metadata": {},
   "outputs": [],
   "source": [
    "full_gene_label_map['mapped_via'].value_counts()"
   ]
  },
  {
   "cell_type": "markdown",
   "id": "45202f48-a395-492c-a44e-6ed60a3243e1",
   "metadata": {},
   "source": [
    "Speicfically, some ChIP MS labels map to multiple MARCS labels:"
   ]
  },
  {
   "cell_type": "code",
   "execution_count": null,
   "id": "791c7520-4eb2-4f22-a00f-a5f9012ee45b",
   "metadata": {},
   "outputs": [],
   "source": [
    "mapping_counts_chip_ms_to_marcs = full_gene_label_map.groupby('chip_ms_label')['marcs_gene_label'].nunique()\n",
    "mapping_counts_chip_ms_to_marcs.loc[mapping_counts_chip_ms_to_marcs > 1]"
   ]
  },
  {
   "cell_type": "markdown",
   "id": "7eea118d-11e0-45ca-86dd-a11b473daf6d",
   "metadata": {},
   "source": [
    "And some of the MARCS labels map to multiple ChIP-MS labels.\n",
    "This, unfortunately, is unavoidable."
   ]
  },
  {
   "cell_type": "code",
   "execution_count": null,
   "id": "4a8497ed-5beb-47db-b042-30fe4cfbf6d3",
   "metadata": {},
   "outputs": [],
   "source": [
    "mapping_counts_marcs_to_chip_ms = full_gene_label_map.groupby('marcs_gene_label')['chip_ms_label'].nunique()\n",
    "mapping_counts_marcs_to_chip_ms.loc[mapping_counts_marcs_to_chip_ms > 1]"
   ]
  },
  {
   "cell_type": "markdown",
   "id": "8b678bdc-8d38-4bf2-abe4-f4134fbb9435",
   "metadata": {},
   "source": [
    "Save this mapping to CSV"
   ]
  },
  {
   "cell_type": "code",
   "execution_count": null,
   "id": "fcb2c378-85d4-450d-a90a-9d6edd11a9f0",
   "metadata": {},
   "outputs": [],
   "source": [
    "full_gene_label_map.to_csv(OUTPUT_DIRECTORY / '02-marcs-to-chip-ms-mapping.csv')"
   ]
  },
  {
   "cell_type": "markdown",
   "id": "03df4c47-a075-440b-8e32-8835a13d1d48",
   "metadata": {},
   "source": [
    "## Linking with MARCS Features"
   ]
  },
  {
   "cell_type": "markdown",
   "id": "b079dea2-d503-426b-bdae-d7f09a399b2c",
   "metadata": {},
   "source": [
    "As a final step in this notebook we will map the MARCS Feature effect data (from table S3) to ChIP-MS identifiers.\n",
    "\n",
    "We will again make use the dataframe processed in the ChIP-Seq pipeline as it is easier to ingest."
   ]
  },
  {
   "cell_type": "code",
   "execution_count": null,
   "id": "033ef032-c7fd-40b9-b8e6-e46a93d3b233",
   "metadata": {},
   "outputs": [],
   "source": [
    "marcs_table_s3 = pd.read_csv(INPUT_MARCS_TABLE_S3, sep='\\t')\n",
    "marcs_table_s3"
   ]
  },
  {
   "cell_type": "markdown",
   "id": "63f23e57-17f5-4795-a7a8-b9d7e16bf1d3",
   "metadata": {},
   "source": [
    "Before joining, let's quickly count the number of genes for each feature and `significant_category_strong`:"
   ]
  },
  {
   "cell_type": "code",
   "execution_count": null,
   "id": "053b9172-04e0-403a-9de2-9ae1521c0ee6",
   "metadata": {},
   "outputs": [],
   "source": [
    "counts_marcs_total = marcs_table_s3.groupby(['Feature', 'significant_category_strong'])['Gene label'].nunique()\n",
    "counts_marcs_total"
   ]
  },
  {
   "cell_type": "markdown",
   "id": "2aa4ffd9-dc75-4dc5-a601-422fdccb0fad",
   "metadata": {},
   "source": [
    "Now let's joint the table S3 with the label translation map.\n",
    "Again, inner join is fine here as we only can use the matching data anyway"
   ]
  },
  {
   "cell_type": "code",
   "execution_count": null,
   "id": "e59dc292-62f7-4e9d-8fd8-be951a5ec6f7",
   "metadata": {},
   "outputs": [],
   "source": [
    "marcs_table_s3_merged = pd.merge(\n",
    "    marcs_table_s3, full_gene_label_map, \n",
    "    left_on='Gene label', right_on='marcs_gene_label', \n",
    "    how='inner'\n",
    ")"
   ]
  },
  {
   "cell_type": "code",
   "execution_count": null,
   "id": "d16b384a-ec50-4846-b0b0-3b8a285807ca",
   "metadata": {},
   "outputs": [],
   "source": [
    "marcs_table_s3_merged.query('Feature == \"H3K4me3\" and significant_category_strong == \"Strongly recruited\"')"
   ]
  },
  {
   "cell_type": "markdown",
   "id": "0993f548-5e35-47e1-a90b-9add3e8e3982",
   "metadata": {},
   "source": [
    "Let's re-count the category occupancies so we can see how much of each feature we cover"
   ]
  },
  {
   "cell_type": "code",
   "execution_count": null,
   "id": "242c8208-d7cf-4097-a669-933a13d3d34f",
   "metadata": {},
   "outputs": [],
   "source": [
    "counts_marcs_matched = marcs_table_s3_merged.groupby(['Feature', 'significant_category_strong'])['Gene label'].nunique()\n",
    "counts_marcs_matched"
   ]
  },
  {
   "cell_type": "markdown",
   "id": "8f9c0f5d-7638-4a11-b95c-6a60824a7405",
   "metadata": {},
   "source": [
    "Let's make this into a table/figure"
   ]
  },
  {
   "cell_type": "code",
   "execution_count": null,
   "id": "20d1c65f-d54c-428a-8b8c-4c8a2661fa8d",
   "metadata": {},
   "outputs": [],
   "source": [
    "feature_matching_statistics = pd.DataFrame({\n",
    "    'total': counts_marcs_total, \n",
    "    'matched_in_chip_ms': counts_marcs_matched,\n",
    "}).fillna(0).astype(int)\n",
    "feature_matching_statistics['fraction'] = feature_matching_statistics['matched_in_chip_ms'] / feature_matching_statistics['total']\n",
    "feature_matching_statistics['annot'] = feature_matching_statistics.apply(lambda x: '{:,}/{:,} ({:.1%})'.format(int(x['matched_in_chip_ms']), int(x['total']), x['fraction']), axis=1)\n",
    "feature_matching_statistics"
   ]
  },
  {
   "cell_type": "markdown",
   "id": "d28843c8-c47f-4732-bf2d-004eda6c7e35",
   "metadata": {},
   "source": [
    "For further cells we don't need the category \"Neither\":"
   ]
  },
  {
   "cell_type": "code",
   "execution_count": null,
   "id": "a0e02496-0dd4-4203-8da1-ffedc72fa2b2",
   "metadata": {},
   "outputs": [],
   "source": [
    "feature_matching_statistics_no_neither = feature_matching_statistics.loc(axis=0)[:, ['Strongly recruited', 'Strongly excluded']].copy()"
   ]
  },
  {
   "cell_type": "code",
   "execution_count": null,
   "id": "39e93a0d-06f5-46e5-8c6a-ce0ee36b98fe",
   "metadata": {},
   "outputs": [],
   "source": [
    "feature_matching_statistics_no_neither"
   ]
  },
  {
   "cell_type": "markdown",
   "id": "4b9259c5-4cf1-4134-94a8-a0a24f668d73",
   "metadata": {},
   "source": [
    "Make a nice heatmap:"
   ]
  },
  {
   "cell_type": "code",
   "execution_count": null,
   "id": "6f9f0b9a-82ad-48f8-b7e5-395a997e42ef",
   "metadata": {},
   "outputs": [],
   "source": [
    "figure = plt.figure(figsize=(5*FIVE_MM_IN_INCH, 25*FIVE_MM_IN_INCH))\n",
    "\n",
    "# Don't show \"neither\"\n",
    "_df = feature_matching_statistics_no_neither.sort_values(by='matched_in_chip_ms', ascending=False)\n",
    "\n",
    "_hmap = sns.heatmap(\n",
    "    _df[['fraction']],\n",
    "    cmap='viridis',\n",
    "    annot=_df[['annot']],\n",
    "    fmt='',\n",
    "    linewidth=0.1,\n",
    "    robust=True,\n",
    ")\n",
    "\n",
    "_hmap.yaxis.set_tick_params(length=0)\n",
    "_hmap.xaxis.set_tick_params(length=0)\n",
    "_hmap.set_xticks([])\n",
    "_hmap.set_ylabel(\"MARCS Feature and significant category (strong)\")\n",
    "\n",
    "_fname = OUTPUT_DIRECTORY / '02-fraction-of-matched-proteins-in-marcs-categories.pdf'\n",
    "_caption = \"\"\"\n",
    "Fraction of proteins in MARCS feature categories that were matched in ChIP-MS.\n",
    "\n",
    "The colour highlights the fraction using the viridis colour scale on the right.\n",
    "The annotated textdisplays the actual numbers of matched proteins (first number),\n",
    "the total number of proteins in the category (second number, after slash), \n",
    "and the percentage of matched proteins between MARCS feature and ChIP-MS.\n",
    "\n",
    "Heatmap is sorted by number of matched proteins, descending.\n",
    "\"\"\"\n",
    "plt.savefig(_fname, bbox_inches='tight', dpi=DPI)\n",
    "with open(str(_fname) + '.caption.md', 'w') as f:\n",
    "    f.write(_caption)\n",
    "    print(_caption)"
   ]
  },
  {
   "cell_type": "markdown",
   "id": "e4229b0d-453a-4b78-8bb0-d8e974e55842",
   "metadata": {},
   "source": [
    "These numbers are fairly low.  We can quickly estimate how these numbers relate to what we would expect by pure chance.\n",
    "\n",
    "If we were to assume a hypergeometric distribution with the following parameters:"
   ]
  },
  {
   "cell_type": "code",
   "execution_count": null,
   "id": "cdac683c-acb5-4389-a252-64235b640844",
   "metadata": {},
   "outputs": [],
   "source": [
    "# population size - number of all unique Gene labels in MARCS\n",
    "hypergeom_N = len(data_marcs_gene_list.index)\n",
    "# number of \"successes\" - number of unique gene labels in the mapping\n",
    "hypergeom_K = full_gene_label_map['marcs_gene_label'].nunique() \n",
    "\n",
    "f'N={hypergeom_N}, K={hypergeom_K}'"
   ]
  },
  {
   "cell_type": "markdown",
   "id": "6a6fbbae-decc-4d8a-b518-9251aba24d9d",
   "metadata": {},
   "source": [
    "Then for a MARCS category of size $n$ (column `total`) we would expect $E[k] = n \\times K/N$ proteins to match in the dataset."
   ]
  },
  {
   "cell_type": "markdown",
   "id": "fa76eb5f-fa4c-436c-b65c-4272b1e4254d",
   "metadata": {},
   "source": [
    "The direction and level of under-representation can be judged by computing a pearson residual, given the observed number of matched proteins in a category $k$ (column `matched_in_chip_ms`):\n",
    "\n",
    "$$\n",
    "\\text{Pearson residual} = \\frac{k - E[k]}{\\sqrt{E[k]}}\n",
    "$$"
   ]
  },
  {
   "cell_type": "code",
   "execution_count": null,
   "id": "8f3cbb35-88dc-4289-b0a7-4ed43d5ee904",
   "metadata": {},
   "outputs": [],
   "source": [
    "feature_matching_statistics_no_neither['expected_number_of_matched'] = hypergeom_K/hypergeom_N * feature_matching_statistics_no_neither['total']\n",
    "feature_matching_statistics_no_neither['pearson_residual'] = (feature_matching_statistics_no_neither['matched_in_chip_ms'] - feature_matching_statistics_no_neither['expected_number_of_matched']) / feature_matching_statistics_no_neither['expected_number_of_matched'].apply(np.sqrt)\n",
    "\n",
    "feature_matching_statistics_no_neither['annot_2'] = feature_matching_statistics_no_neither['annot'].str.cat(\n",
    "    feature_matching_statistics_no_neither['expected_number_of_matched'].apply(lambda x: f'(Exp = {x:.1f})'),\n",
    "    sep=' '\n",
    ")"
   ]
  },
  {
   "cell_type": "code",
   "execution_count": null,
   "id": "99969be2-0b49-4391-94ab-a500c0548ce6",
   "metadata": {},
   "outputs": [],
   "source": [
    "feature_matching_statistics_no_neither.sort_values(by='pearson_residual', ascending=False)"
   ]
  },
  {
   "cell_type": "code",
   "execution_count": null,
   "id": "7d8d948d-18e3-44dd-a159-df7ca28826f4",
   "metadata": {},
   "outputs": [],
   "source": [
    "figure = plt.figure(figsize=(9*FIVE_MM_IN_INCH, 25*FIVE_MM_IN_INCH))\n",
    "\n",
    "# Don't show \"neither\"\n",
    "_df = feature_matching_statistics_no_neither.sort_values(by='matched_in_chip_ms', ascending=False)\n",
    "\n",
    "_hmap = sns.heatmap(\n",
    "    _df[['pearson_residual']],\n",
    "    cmap='RdBu_r',\n",
    "    annot=_df[['annot_2']],\n",
    "    fmt='',\n",
    "    linewidth=0.1,\n",
    "    robust=True,\n",
    "    center=0,\n",
    ")\n",
    "\n",
    "_hmap.yaxis.set_tick_params(length=0)\n",
    "_hmap.xaxis.set_tick_params(length=0)\n",
    "_hmap.set_xticks([])\n",
    "_hmap.set_ylabel(\"MARCS Feature and significant category (strong)\")\n",
    "\n",
    "_fname = OUTPUT_DIRECTORY / '02-fraction-of-matched-proteins-in-marcs-categories-pearson-residuals.pdf'\n",
    "_caption = \"\"\"\n",
    "Fraction of proteins in MARCS feature categories that were matched in ChIP-MS.\n",
    "The annotated text displays the actual numbers of matched proteins (first number),\n",
    "the total number of proteins in the category (second number, after slash), \n",
    "the percentage of matched proteins between MARCS feature and ChIP-MS, \n",
    "and the expected number of matched proteins (if matching was random across the whole MARCS dataset - number prefixed by Exp). \n",
    "\n",
    "The colour highlights the pearson residual (observed-expected/sqrt(expected)). Red categories are strongly over-represented, blue - underrepresented\n",
    "\n",
    "Heatmap is sorted by number of matched proteins, descending.\n",
    "\"\"\"\n",
    "plt.savefig(_fname, bbox_inches='tight', dpi=DPI)\n",
    "with open(str(_fname) + '.caption.md', 'w') as f:\n",
    "    f.write(_caption)\n",
    "    print(_caption)"
   ]
  },
  {
   "cell_type": "markdown",
   "id": "202e472c-fa88-42e8-a6db-9d75e51a95da",
   "metadata": {},
   "source": [
    "As shown above the coverage of the categories is not ideal, but we will have to live with this."
   ]
  },
  {
   "cell_type": "markdown",
   "id": "d9e629f2-a373-433f-aeba-ec1ef8858f43",
   "metadata": {},
   "source": [
    "#### Reindexing to ChIP-MS notation\n",
    "\n",
    "We will now \"collapse\" the MARCS Features data into the indices of ChIP-MS experiment so it is easier to work with in subsequent notebooks. We will use the same trick as ChIP-seq analysis."
   ]
  },
  {
   "cell_type": "code",
   "execution_count": null,
   "id": "22477644-e66e-43c6-bd1b-2f5e129d6f29",
   "metadata": {},
   "outputs": [],
   "source": [
    "marcs_feature_list = list(marcs_table_s3['Feature'].unique())"
   ]
  },
  {
   "cell_type": "code",
   "execution_count": null,
   "id": "7f2a1bad-183c-499a-96bd-76fdfceacff6",
   "metadata": {},
   "outputs": [],
   "source": [
    "[c for c in marcs_table_s3.columns if not c.startswith('H')]"
   ]
  },
  {
   "cell_type": "code",
   "execution_count": null,
   "id": "0345ee9b-4fe4-4ce8-8d3f-070c6d8ad349",
   "metadata": {},
   "outputs": [],
   "source": [
    "# Only use the statistical columns\n",
    "_merged_df = marcs_table_s3_merged.set_index(['Feature', 'Gene label'])[[\n",
    "    'Effect',\n",
    "    '95% CI (+/-)',\n",
    "    'logFC variance',\n",
    "    't statistic (moderated)',\n",
    "    'P value',\n",
    "    'P value (adjusted)',\n",
    "    'Moderated t distribution dof',\n",
    "    'Moderated t distribution stdev',\n",
    "    'significant',\n",
    "    'significant_category_weak',\n",
    "    'significant_category_strong',\n",
    "    'chip_ms_label',\n",
    "]]\n",
    "\n",
    "_column_to_reindex_to = 'chip_ms_label'\n",
    "\n",
    "marcs_features_reindexed = {}\n",
    "\n",
    "for feature in marcs_feature_list:\n",
    "    feature_df = _merged_df.xs(feature, level='Feature')\n",
    "    \n",
    "    _df = []\n",
    "    \n",
    "    # Solve multimappings where one gene name maps to multiple MARCS gene names,\n",
    "    # by taking the entry with lowest p-value\n",
    "    for __, _subdata in feature_df.dropna(subset=['P value']).groupby(_column_to_reindex_to):\n",
    "        _subdata = _subdata.loc[_subdata['P value'].idxmin()]\n",
    "        _df.append(_subdata)\n",
    "        \n",
    "    _df = pd.DataFrame(_df).set_index(_column_to_reindex_to)\n",
    "    assert not _df.index.duplicated().any()\n",
    "    marcs_features_reindexed[feature] = _df\n",
    "    \n",
    "    \n",
    "marcs_features_reindexed_wide = pd.concat(marcs_features_reindexed.values(), keys=marcs_features_reindexed.keys(), axis=1)\n",
    "marcs_features_reindexed_wide = marcs_features_reindexed_wide.swaplevel(axis=1)\n",
    "marcs_features_reindexed_wide.sort_index(axis=1, inplace=True)"
   ]
  },
  {
   "cell_type": "code",
   "execution_count": null,
   "id": "20791686-019d-4894-aa68-e2a5776ce767",
   "metadata": {},
   "outputs": [],
   "source": [
    "marcs_features_reindexed_wide.columns.get_level_values(0).unique()"
   ]
  },
  {
   "cell_type": "code",
   "execution_count": null,
   "id": "f17a2802-da53-4f9b-a9f3-59de44b66fa7",
   "metadata": {},
   "outputs": [],
   "source": [
    "marcs_features_reindexed_wide"
   ]
  },
  {
   "cell_type": "markdown",
   "id": "cecb2e89-2503-4aa0-9a93-e510a16272f9",
   "metadata": {},
   "source": [
    "Quickly verify that feature category mapping is correct, that is all ChIP-MS labels marked to be in marcs category,\n",
    "link to gene labels that are in this category. Additionally print out the ChIP-MS labels in each of the strong categories (for debugging reasons)"
   ]
  },
  {
   "cell_type": "code",
   "execution_count": null,
   "id": "a0d259a8-ea66-4a83-b38b-b914f572c8ea",
   "metadata": {},
   "outputs": [],
   "source": [
    "for marcs_feature in marcs_feature_list:\n",
    "    for category in ['Neither', 'Strongly recruited', 'Strongly excluded']:\n",
    "        \n",
    "        available_marcs_labels = set(marcs_table_s3[(marcs_table_s3['Feature'] == marcs_feature) & (marcs_table_s3['significant_category_strong'] == category)]['Gene label'])\n",
    "        \n",
    "        chip_ms_labels = marcs_features_reindexed_wide[marcs_features_reindexed_wide['significant_category_strong', marcs_feature] == category].index\n",
    "        \n",
    "        if category != 'Neither':\n",
    "            print(\"{} - {} n={:,}:\\n{}\\n\".format(marcs_feature, category, len(chip_ms_labels), ', '.join(sorted(chip_ms_labels))))\n",
    "        _map = full_gene_label_map[full_gene_label_map['chip_ms_label'].isin(chip_ms_labels)]\n",
    "        \n",
    "        for label, submap in _map.groupby('chip_ms_label'):\n",
    "        \n",
    "            marcs_labels = set(submap['marcs_gene_label'])\n",
    "            \n",
    "            assert (set(available_marcs_labels) & set(marcs_labels)) != set(), f\"{label} should not be associated with {marcs_feature}: {category}\"\n",
    "            \n"
   ]
  },
  {
   "cell_type": "markdown",
   "id": "1f30f816-113e-4360-8972-c04e65ddb29a",
   "metadata": {},
   "source": [
    "Finally write output:"
   ]
  },
  {
   "cell_type": "code",
   "execution_count": null,
   "id": "c986b973-458a-4b63-b076-ebd0f273ed97",
   "metadata": {},
   "outputs": [],
   "source": [
    "_df = marcs_features_reindexed_wide.copy()\n",
    "# Take care of the multi-index\n",
    "_df.columns = ['__'.join(map(str, c)) for c in _df.columns]\n",
    "_df.to_csv(OUTPUT_DIRECTORY / '03-mapping-between-chip-ms-and-marcs-features.csv')"
   ]
  },
  {
   "cell_type": "code",
   "execution_count": null,
   "id": "69ffc964-c3a9-433c-93ca-f81135afd3e3",
   "metadata": {},
   "outputs": [],
   "source": []
  }
 ],
 "metadata": {
  "kernelspec": {
   "display_name": "Python 3 (ipykernel)",
   "language": "python",
   "name": "python3"
  },
  "language_info": {
   "codemirror_mode": {
    "name": "ipython",
    "version": 3
   },
   "file_extension": ".py",
   "mimetype": "text/x-python",
   "name": "python",
   "nbconvert_exporter": "python",
   "pygments_lexer": "ipython3",
   "version": "3.10.2"
  }
 },
 "nbformat": 4,
 "nbformat_minor": 5
}
