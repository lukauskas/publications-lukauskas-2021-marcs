{
 "cells": [
  {
   "cell_type": "code",
   "execution_count": 1,
   "id": "c4c006c9-9ae3-4635-b909-a089977d0a99",
   "metadata": {},
   "outputs": [],
   "source": [
    "import pathlib\n",
    "import pandas as pd\n",
    "import numpy as np"
   ]
  },
  {
   "cell_type": "markdown",
   "id": "268e689f-cb9e-496b-9d8b-c984789c20bf",
   "metadata": {},
   "source": [
    "## Configuration and Inputs"
   ]
  },
  {
   "cell_type": "markdown",
   "id": "0b456cc3-ce81-4de9-a786-9aba9aa93e4c",
   "metadata": {},
   "source": [
    "First let's set up the environment."
   ]
  },
  {
   "cell_type": "markdown",
   "id": "8b219296-c247-4f1c-8dcc-fe23e802a9ec",
   "metadata": {},
   "source": [
    "Let's start with a few inputs, defined below."
   ]
  },
  {
   "cell_type": "markdown",
   "id": "2bd40d60-6ea5-45ae-bfab-61ca30b7203a",
   "metadata": {},
   "source": [
    "**Input**: pipeline inputs (raw data) directory:"
   ]
  },
  {
   "cell_type": "code",
   "execution_count": 2,
   "id": "4d3d8263-88fa-4bc1-8841-cf2ae810beaa",
   "metadata": {},
   "outputs": [],
   "source": [
    "RAW_DATA_DIR = pathlib.Path('../../data/raw')"
   ]
  },
  {
   "cell_type": "markdown",
   "id": "e87d9d1a-518d-4842-a1f6-32fc8f21167f",
   "metadata": {},
   "source": [
    "List of ENCODE files (from pipeline's raw data)"
   ]
  },
  {
   "cell_type": "code",
   "execution_count": 3,
   "id": "cd0c72f2-8143-477d-af6f-4d64f5888f2c",
   "metadata": {},
   "outputs": [],
   "source": [
    "ENCODE_METADATA_TSV = RAW_DATA_DIR / 'encode/encode_metadata.2021-11-05.tsv.gz'\n",
    "assert ENCODE_METADATA_TSV.is_file()"
   ]
  },
  {
   "cell_type": "markdown",
   "id": "432241bf-9b97-47c0-bc5e-f309aebcaf89",
   "metadata": {},
   "source": [
    "**Input**: blacklist file for hg38"
   ]
  },
  {
   "cell_type": "code",
   "execution_count": 4,
   "id": "656b32b1-9f36-4e67-a5ab-4d113123427b",
   "metadata": {},
   "outputs": [],
   "source": [
    "BLACKLIST = RAW_DATA_DIR / 'blacklist/hg38-blacklist.v2.bed.gz'"
   ]
  },
  {
   "cell_type": "markdown",
   "id": "1182e19e-5d66-4e29-b884-58b6b6a06254",
   "metadata": {},
   "source": [
    "Input: chromsizes file for `hg38`, only the canonical chromosomes"
   ]
  },
  {
   "cell_type": "code",
   "execution_count": 5,
   "id": "78e421f3-79b1-48fc-bc9b-c8329f3c36f0",
   "metadata": {},
   "outputs": [],
   "source": [
    "CHROMSIZES = RAW_DATA_DIR / 'genome/hg38.filtered.chrom.sizes'"
   ]
  },
  {
   "cell_type": "markdown",
   "id": "dd81d4f4-279b-4b6f-abfe-73819000fd94",
   "metadata": {},
   "source": [
    "Get a set of valid chromosomes from chromsizes file"
   ]
  },
  {
   "cell_type": "code",
   "execution_count": 6,
   "id": "4e976f88-4970-4328-b8f3-609cd989f904",
   "metadata": {},
   "outputs": [
    {
     "data": {
      "text/plain": [
       "{'chr1',\n",
       " 'chr10',\n",
       " 'chr11',\n",
       " 'chr12',\n",
       " 'chr13',\n",
       " 'chr14',\n",
       " 'chr15',\n",
       " 'chr16',\n",
       " 'chr17',\n",
       " 'chr18',\n",
       " 'chr19',\n",
       " 'chr2',\n",
       " 'chr20',\n",
       " 'chr21',\n",
       " 'chr22',\n",
       " 'chr3',\n",
       " 'chr4',\n",
       " 'chr5',\n",
       " 'chr6',\n",
       " 'chr7',\n",
       " 'chr8',\n",
       " 'chr9',\n",
       " 'chrX'}"
      ]
     },
     "execution_count": 6,
     "metadata": {},
     "output_type": "execute_result"
    }
   ],
   "source": [
    "VALID_CHROMOSOMES = set()\n",
    "\n",
    "with open(CHROMSIZES, 'rt') as f:\n",
    "    for line in f:\n",
    "        VALID_CHROMOSOMES.add(line.partition('\\t')[0])\n",
    "VALID_CHROMOSOMES"
   ]
  },
  {
   "cell_type": "markdown",
   "id": "340b008e-9627-4046-b686-2cacf593af78",
   "metadata": {},
   "source": [
    "**Config**: the configuration directives required for computations, as they're defined in the [main config file](../../config/config.yaml)."
   ]
  },
  {
   "cell_type": "code",
   "execution_count": 7,
   "id": "feb65b39-15c6-4c44-baef-7e82a576df99",
   "metadata": {},
   "outputs": [],
   "source": [
    "BIN_SIZE = 1000  \n",
    "STATISTICS_PSEUDOCOUNT = 100\n",
    "# Note that this has no effect if kendall correlation is used\n",
    "MIN_PERIODS_FOR_CORRELATIONS = 1\n",
    "CORRELATION_TYPE = 'kendall'"
   ]
  },
  {
   "cell_type": "markdown",
   "id": "98f4c58a-667c-4b5e-9eba-9c5cc217239a",
   "metadata": {},
   "source": [
    "## Downloading of ENCODE datasets"
   ]
  },
  {
   "cell_type": "markdown",
   "id": "fcb6015e-7997-445d-b110-d4a6e1646a8b",
   "metadata": {},
   "source": [
    "While the pipeline analyses the ENCODE data exhaustively, in this script we will only process the data for two `BED` datasets that we call $X$ and $Y$. We define these datasets by their ENCODE identifiers below:"
   ]
  },
  {
   "cell_type": "code",
   "execution_count": 8,
   "id": "18c517ba-39b8-43eb-a30c-58c1762b77a3",
   "metadata": {},
   "outputs": [],
   "source": [
    "ENCODE_IDENTIFIER_BEDFILE_X = 'ENCFF981ISM' # PHF8\n",
    "ENCODE_IDENTIFIER_BEDFILE_Y = 'ENCFF122CSI' # H3K4me3"
   ]
  },
  {
   "cell_type": "markdown",
   "id": "8c9e12dd-9c78-4236-874c-4e04663e9822",
   "metadata": {},
   "source": [
    "We will write outputs to the directory specified by the output names:"
   ]
  },
  {
   "cell_type": "code",
   "execution_count": 9,
   "id": "56d32290-32aa-4e24-b011-d26947a7854a",
   "metadata": {},
   "outputs": [],
   "source": [
    "\n",
    "NOTEBOOK_OUTPUT_DIR = pathlib.Path('outputs') / f'{ENCODE_IDENTIFIER_BEDFILE_X}-{ENCODE_IDENTIFIER_BEDFILE_Y}'\n",
    "if not NOTEBOOK_OUTPUT_DIR.is_dir():\n",
    "    NOTEBOOK_OUTPUT_DIR.mkdir(parents=True)"
   ]
  },
  {
   "cell_type": "markdown",
   "id": "3c54378a-e561-413a-a3b4-2ba3b4d7965a",
   "metadata": {},
   "source": [
    "Just like the pipeline, we can extract the information about these identifiers from the encode metadata TSV:"
   ]
  },
  {
   "cell_type": "code",
   "execution_count": 10,
   "id": "d82589f0-4fc8-4510-a00a-83c13a65f6cf",
   "metadata": {},
   "outputs": [
    {
     "name": "stderr",
     "output_type": "stream",
     "text": [
      "<ipython-input-10-7c2cf2e476e6>:1: DtypeWarning: Columns (20) have mixed types. Specify dtype option on import or set low_memory=False.\n",
      "  encode_meta = pd.read_csv(ENCODE_METADATA_TSV, sep='\\t', index_col=0)\n"
     ]
    },
    {
     "data": {
      "text/html": [
       "<div>\n",
       "<style scoped>\n",
       "    .dataframe tbody tr th:only-of-type {\n",
       "        vertical-align: middle;\n",
       "    }\n",
       "\n",
       "    .dataframe tbody tr th {\n",
       "        vertical-align: top;\n",
       "    }\n",
       "\n",
       "    .dataframe thead th {\n",
       "        text-align: right;\n",
       "    }\n",
       "</style>\n",
       "<table border=\"1\" class=\"dataframe\">\n",
       "  <thead>\n",
       "    <tr style=\"text-align: right;\">\n",
       "      <th></th>\n",
       "      <th>File format</th>\n",
       "      <th>File type</th>\n",
       "      <th>File format type</th>\n",
       "      <th>Output type</th>\n",
       "      <th>File assembly</th>\n",
       "      <th>Experiment accession</th>\n",
       "      <th>Assay</th>\n",
       "      <th>Donor(s)</th>\n",
       "      <th>Biosample term id</th>\n",
       "      <th>Biosample term name</th>\n",
       "      <th>...</th>\n",
       "      <th>Genome annotation</th>\n",
       "      <th>Platform</th>\n",
       "      <th>Controlled by</th>\n",
       "      <th>File Status</th>\n",
       "      <th>s3_uri</th>\n",
       "      <th>File analysis title</th>\n",
       "      <th>File analysis status</th>\n",
       "      <th>Audit WARNING</th>\n",
       "      <th>Audit NOT_COMPLIANT</th>\n",
       "      <th>Audit ERROR</th>\n",
       "    </tr>\n",
       "    <tr>\n",
       "      <th>File accession</th>\n",
       "      <th></th>\n",
       "      <th></th>\n",
       "      <th></th>\n",
       "      <th></th>\n",
       "      <th></th>\n",
       "      <th></th>\n",
       "      <th></th>\n",
       "      <th></th>\n",
       "      <th></th>\n",
       "      <th></th>\n",
       "      <th></th>\n",
       "      <th></th>\n",
       "      <th></th>\n",
       "      <th></th>\n",
       "      <th></th>\n",
       "      <th></th>\n",
       "      <th></th>\n",
       "      <th></th>\n",
       "      <th></th>\n",
       "      <th></th>\n",
       "      <th></th>\n",
       "    </tr>\n",
       "  </thead>\n",
       "  <tbody>\n",
       "    <tr>\n",
       "      <th>ENCFF981ISM</th>\n",
       "      <td>bed narrowPeak</td>\n",
       "      <td>bed</td>\n",
       "      <td>narrowPeak</td>\n",
       "      <td>IDR thresholded peaks</td>\n",
       "      <td>GRCh38</td>\n",
       "      <td>ENCSR000AQH</td>\n",
       "      <td>TF ChIP-seq</td>\n",
       "      <td>/human-donors/ENCDO000AAD/</td>\n",
       "      <td>EFO:0002067</td>\n",
       "      <td>K562</td>\n",
       "      <td>...</td>\n",
       "      <td>NaN</td>\n",
       "      <td>NaN</td>\n",
       "      <td>NaN</td>\n",
       "      <td>released</td>\n",
       "      <td>s3://encode-public/2021/01/07/4e27a806-b056-4a...</td>\n",
       "      <td>ENCODE4 v1.6.1 GRCh38</td>\n",
       "      <td>released</td>\n",
       "      <td>borderline replicate concordance, low read len...</td>\n",
       "      <td>NaN</td>\n",
       "      <td>NaN</td>\n",
       "    </tr>\n",
       "    <tr>\n",
       "      <th>ENCFF122CSI</th>\n",
       "      <td>bed narrowPeak</td>\n",
       "      <td>bed</td>\n",
       "      <td>narrowPeak</td>\n",
       "      <td>pseudoreplicated peaks</td>\n",
       "      <td>GRCh38</td>\n",
       "      <td>ENCSR000EWA</td>\n",
       "      <td>Histone ChIP-seq</td>\n",
       "      <td>/human-donors/ENCDO000AAD/</td>\n",
       "      <td>EFO:0002067</td>\n",
       "      <td>K562</td>\n",
       "      <td>...</td>\n",
       "      <td>NaN</td>\n",
       "      <td>NaN</td>\n",
       "      <td>NaN</td>\n",
       "      <td>released</td>\n",
       "      <td>s3://encode-public/2020/09/29/f70dc6ea-ac1b-41...</td>\n",
       "      <td>ENCODE4 v1.5.1 GRCh38</td>\n",
       "      <td>released</td>\n",
       "      <td>low read length, moderate library complexity, ...</td>\n",
       "      <td>NaN</td>\n",
       "      <td>NaN</td>\n",
       "    </tr>\n",
       "  </tbody>\n",
       "</table>\n",
       "<p>2 rows × 57 columns</p>\n",
       "</div>"
      ],
      "text/plain": [
       "                   File format File type File format type  \\\n",
       "File accession                                              \n",
       "ENCFF981ISM     bed narrowPeak       bed       narrowPeak   \n",
       "ENCFF122CSI     bed narrowPeak       bed       narrowPeak   \n",
       "\n",
       "                           Output type File assembly Experiment accession  \\\n",
       "File accession                                                              \n",
       "ENCFF981ISM      IDR thresholded peaks        GRCh38          ENCSR000AQH   \n",
       "ENCFF122CSI     pseudoreplicated peaks        GRCh38          ENCSR000EWA   \n",
       "\n",
       "                           Assay                    Donor(s)  \\\n",
       "File accession                                                 \n",
       "ENCFF981ISM          TF ChIP-seq  /human-donors/ENCDO000AAD/   \n",
       "ENCFF122CSI     Histone ChIP-seq  /human-donors/ENCDO000AAD/   \n",
       "\n",
       "               Biosample term id Biosample term name  ... Genome annotation  \\\n",
       "File accession                                        ...                     \n",
       "ENCFF981ISM          EFO:0002067                K562  ...               NaN   \n",
       "ENCFF122CSI          EFO:0002067                K562  ...               NaN   \n",
       "\n",
       "               Platform Controlled by File Status  \\\n",
       "File accession                                      \n",
       "ENCFF981ISM         NaN           NaN    released   \n",
       "ENCFF122CSI         NaN           NaN    released   \n",
       "\n",
       "                                                           s3_uri  \\\n",
       "File accession                                                      \n",
       "ENCFF981ISM     s3://encode-public/2021/01/07/4e27a806-b056-4a...   \n",
       "ENCFF122CSI     s3://encode-public/2020/09/29/f70dc6ea-ac1b-41...   \n",
       "\n",
       "                  File analysis title File analysis status  \\\n",
       "File accession                                               \n",
       "ENCFF981ISM     ENCODE4 v1.6.1 GRCh38             released   \n",
       "ENCFF122CSI     ENCODE4 v1.5.1 GRCh38             released   \n",
       "\n",
       "                                                    Audit WARNING  \\\n",
       "File accession                                                      \n",
       "ENCFF981ISM     borderline replicate concordance, low read len...   \n",
       "ENCFF122CSI     low read length, moderate library complexity, ...   \n",
       "\n",
       "                Audit NOT_COMPLIANT Audit ERROR  \n",
       "File accession                                   \n",
       "ENCFF981ISM                     NaN         NaN  \n",
       "ENCFF122CSI                     NaN         NaN  \n",
       "\n",
       "[2 rows x 57 columns]"
      ]
     },
     "execution_count": 10,
     "metadata": {},
     "output_type": "execute_result"
    }
   ],
   "source": [
    "encode_meta = pd.read_csv(ENCODE_METADATA_TSV, sep='\\t', index_col=0)\n",
    "encode_meta = encode_meta.loc[[ENCODE_IDENTIFIER_BEDFILE_X, ENCODE_IDENTIFIER_BEDFILE_Y]]\n",
    "encode_meta"
   ]
  },
  {
   "cell_type": "markdown",
   "id": "24f4538b-1d26-4c23-a669-a32084be2693",
   "metadata": {},
   "source": [
    "The files can be downloaded from the columns `File download URL` and `md5sum`"
   ]
  },
  {
   "cell_type": "code",
   "execution_count": 11,
   "id": "fc370a97-7847-431c-aec1-c5f4b7ec69b5",
   "metadata": {},
   "outputs": [
    {
     "data": {
      "text/html": [
       "<div>\n",
       "<style scoped>\n",
       "    .dataframe tbody tr th:only-of-type {\n",
       "        vertical-align: middle;\n",
       "    }\n",
       "\n",
       "    .dataframe tbody tr th {\n",
       "        vertical-align: top;\n",
       "    }\n",
       "\n",
       "    .dataframe thead th {\n",
       "        text-align: right;\n",
       "    }\n",
       "</style>\n",
       "<table border=\"1\" class=\"dataframe\">\n",
       "  <thead>\n",
       "    <tr style=\"text-align: right;\">\n",
       "      <th></th>\n",
       "      <th>File download URL</th>\n",
       "      <th>md5sum</th>\n",
       "    </tr>\n",
       "    <tr>\n",
       "      <th>File accession</th>\n",
       "      <th></th>\n",
       "      <th></th>\n",
       "    </tr>\n",
       "  </thead>\n",
       "  <tbody>\n",
       "    <tr>\n",
       "      <th>ENCFF981ISM</th>\n",
       "      <td>https://www.encodeproject.org/files/ENCFF981IS...</td>\n",
       "      <td>9c193f16fb52a60daa00555fc986a6a1</td>\n",
       "    </tr>\n",
       "    <tr>\n",
       "      <th>ENCFF122CSI</th>\n",
       "      <td>https://www.encodeproject.org/files/ENCFF122CS...</td>\n",
       "      <td>e5694050796ccb5eeace1e6a4efec34d</td>\n",
       "    </tr>\n",
       "  </tbody>\n",
       "</table>\n",
       "</div>"
      ],
      "text/plain": [
       "                                                File download URL  \\\n",
       "File accession                                                      \n",
       "ENCFF981ISM     https://www.encodeproject.org/files/ENCFF981IS...   \n",
       "ENCFF122CSI     https://www.encodeproject.org/files/ENCFF122CS...   \n",
       "\n",
       "                                          md5sum  \n",
       "File accession                                    \n",
       "ENCFF981ISM     9c193f16fb52a60daa00555fc986a6a1  \n",
       "ENCFF122CSI     e5694050796ccb5eeace1e6a4efec34d  "
      ]
     },
     "execution_count": 11,
     "metadata": {},
     "output_type": "execute_result"
    }
   ],
   "source": [
    "encode_meta[['File download URL', 'md5sum']]"
   ]
  },
  {
   "cell_type": "markdown",
   "id": "bb9620d6-d347-4ef5-b785-5220f3c07e96",
   "metadata": {},
   "source": [
    "For simplicity we will keep using the file identifiers as filenames, we will be downloading these files to the output directory:"
   ]
  },
  {
   "cell_type": "code",
   "execution_count": 12,
   "id": "3e071d14-bbf9-4ac0-b8ba-b8673e07ac21",
   "metadata": {},
   "outputs": [
    {
     "data": {
      "text/plain": [
       "{'ENCFF981ISM': PosixPath('outputs/ENCFF981ISM-ENCFF122CSI/ENCFF981ISM.bed.gz'),\n",
       " 'ENCFF122CSI': PosixPath('outputs/ENCFF981ISM-ENCFF122CSI/ENCFF122CSI.bed.gz')}"
      ]
     },
     "execution_count": 12,
     "metadata": {},
     "output_type": "execute_result"
    }
   ],
   "source": [
    "BED_FILENAMES = {\n",
    "    id_: (NOTEBOOK_OUTPUT_DIR / f'{id_}.bed.gz') for id_ in encode_meta.index\n",
    "}\n",
    "BED_FILENAMES"
   ]
  },
  {
   "cell_type": "code",
   "execution_count": 13,
   "id": "9bcc9b08-a1be-4f98-9f8f-3040a4ef46fe",
   "metadata": {},
   "outputs": [
    {
     "name": "stdout",
     "output_type": "stream",
     "text": [
      "-> Downloading https://www.encodeproject.org/files/ENCFF981ISM/@@download/ENCFF981ISM.bed.gz to outputs/ENCFF981ISM-ENCFF122CSI/ENCFF981ISM.bed.gz\n",
      "-> Verifying checksum\n",
      "-> Downloaded file checksum: 9c193f16fb52a60daa00555fc986a6a1\n",
      "-> Downloading https://www.encodeproject.org/files/ENCFF122CSI/@@download/ENCFF122CSI.bed.gz to outputs/ENCFF981ISM-ENCFF122CSI/ENCFF122CSI.bed.gz\n",
      "-> Verifying checksum\n",
      "-> Downloaded file checksum: e5694050796ccb5eeace1e6a4efec34d\n"
     ]
    }
   ],
   "source": [
    "import urllib.request\n",
    "import hashlib\n",
    "\n",
    "for id_, row in encode_meta[['File download URL', 'md5sum']].iterrows():\n",
    "    url = row['File download URL']\n",
    "    expected_checksum = row['md5sum']\n",
    "    target_filename = BED_FILENAMES[id_]\n",
    "    \n",
    "    print(f\"-> Downloading {url} to {target_filename}\")\n",
    "    urllib.request.urlretrieve(url, target_filename)\n",
    "    \n",
    "    print(f\"-> Verifying checksum\")\n",
    "    \n",
    "    # Computes MD5 checksum for file, see https://stackoverflow.com/a/59056796/171400\n",
    "    with open(target_filename, 'rb') as f:\n",
    "        checksum = hashlib.md5()\n",
    "        while chunk := f.read(8192):\n",
    "            checksum.update(chunk)\n",
    "        \n",
    "        checksum = checksum.hexdigest()\n",
    "    print(f\"-> Downloaded file checksum: {checksum}\")\n",
    "    assert checksum == expected_checksum, \"Checksums do not match\""
   ]
  },
  {
   "cell_type": "markdown",
   "id": "3ebcbd3a-e00a-48fd-ba91-0bf47d5fb107",
   "metadata": {},
   "source": [
    "## Processing of the `bed` files\n",
    "\n",
    "### Non-overlaping genomic bins\n",
    "\n",
    "We start the data processing by dividing the whole genome into a set of non-overlapping bins of the specified bin size (parameter `BIN_SIZE`). This is achieved with [`bedtools makewindows`](https://daler.github.io/pybedtools/autodocs/pybedtools.bedtool.BedTool.window_maker.html)."
   ]
  },
  {
   "cell_type": "code",
   "execution_count": 14,
   "id": "d2eca9f9-fc10-41b9-bd02-8002a3408877",
   "metadata": {},
   "outputs": [],
   "source": [
    "import pybedtools"
   ]
  },
  {
   "cell_type": "code",
   "execution_count": 15,
   "id": "d91f291f-7407-41dc-a3e5-f3f8429612d5",
   "metadata": {},
   "outputs": [],
   "source": [
    "genomic_windows = pybedtools.BedTool().window_maker(w=BIN_SIZE, g=CHROMSIZES, i='srcwinnum')\n",
    "genomic_windows = genomic_windows.saveas(NOTEBOOK_OUTPUT_DIR / 'genomic_windows.bed.gz')"
   ]
  },
  {
   "cell_type": "code",
   "execution_count": 16,
   "id": "c554c73a-858f-4f49-9528-ebda94a32861",
   "metadata": {},
   "outputs": [
    {
     "name": "stdout",
     "output_type": "stream",
     "text": [
      "Made 3,031,053 genomic windows of bin size 1,000bp\n"
     ]
    }
   ],
   "source": [
    "print(\"Made {:,} genomic windows of bin size {:,}bp\".format(len(genomic_windows), BIN_SIZE))"
   ]
  },
  {
   "cell_type": "markdown",
   "id": "e003e304-6805-4ad8-91f9-8caec7e2e9c6",
   "metadata": {},
   "source": [
    "Now throw away the genomic windows that overlap blacklisted regions"
   ]
  },
  {
   "cell_type": "code",
   "execution_count": 17,
   "id": "deb0fe99-55d4-41bb-bc21-5f49eaa878eb",
   "metadata": {},
   "outputs": [],
   "source": [
    "blacklist = pybedtools.BedTool(BLACKLIST)"
   ]
  },
  {
   "cell_type": "code",
   "execution_count": 18,
   "id": "295581f2-9a3d-49a4-9eeb-b68534f0657e",
   "metadata": {},
   "outputs": [
    {
     "data": {
      "text/plain": [
       "<BedTool(outputs/ENCFF981ISM-ENCFF122CSI/genomic_windows_wo_blacklist.bed.gz)>"
      ]
     },
     "execution_count": 18,
     "metadata": {},
     "output_type": "execute_result"
    }
   ],
   "source": [
    "genomic_windows_no_blacklist = genomic_windows.intersect(blacklist, v=True)\n",
    "genomic_windows_no_blacklist.saveas(NOTEBOOK_OUTPUT_DIR / 'genomic_windows_wo_blacklist.bed.gz')\n"
   ]
  },
  {
   "cell_type": "code",
   "execution_count": 19,
   "id": "dfe8b700-2c38-4da6-a618-13bac34d5a01",
   "metadata": {},
   "outputs": [
    {
     "name": "stdout",
     "output_type": "stream",
     "text": [
      "Was left with 2,835,235 genomic windows of bin size 1,000bp\n"
     ]
    }
   ],
   "source": [
    "print(\"Was left with {:,} genomic windows of bin size {:,}bp\".format(len(genomic_windows_no_blacklist), BIN_SIZE))"
   ]
  },
  {
   "cell_type": "markdown",
   "id": "0d018c48-fb34-4c41-9b8d-e11b1b2f4549",
   "metadata": {},
   "source": [
    "### genomic-bins vs bedfile intersection matrix\n",
    "\n",
    "Once we have the genomic windows matrix we can use it as a common ground on which to project the ChIP-seq datasets onto. \n",
    "\n",
    "For each genomic bin, we want to obtain the maximum [`signalValue` (column 7)](https://genome.ucsc.edu/FAQ/FAQformat.html#format12) of the peaks from the `bed` files that overlap this bin. We can achieve this with [`bedtools map`](https://bedtools.readthedocs.io/en/latest/content/tools/map.html) operation."
   ]
  },
  {
   "cell_type": "code",
   "execution_count": 20,
   "id": "e3880d6b-c48e-4fec-b0ff-05bec8236090",
   "metadata": {},
   "outputs": [
    {
     "name": "stdout",
     "output_type": "stream",
     "text": [
      "-> Processing outputs/ENCFF981ISM-ENCFF122CSI/ENCFF981ISM.bed.gz\n",
      "-> Done. Saving as outputs/ENCFF981ISM-ENCFF122CSI/ENCFF981ISM.mapped_to_genomic_windows.bed.gz\n",
      "-> Processing outputs/ENCFF981ISM-ENCFF122CSI/ENCFF122CSI.bed.gz\n",
      "-> Done. Saving as outputs/ENCFF981ISM-ENCFF122CSI/ENCFF122CSI.mapped_to_genomic_windows.bed.gz\n"
     ]
    }
   ],
   "source": [
    "matrix_to_bedtool_maps = {}\n",
    "\n",
    "for id_, bed_filename in  BED_FILENAMES.items():\n",
    "    print(f\"-> Processing {bed_filename}\")\n",
    "    \n",
    "    # Load bed filename\n",
    "    bed = pybedtools.BedTool(bed_filename)\n",
    "    \n",
    "    # Drop chromosomes we are not interested in\n",
    "    bed = bed.filter(lambda x: x.chrom in VALID_CHROMOSOMES)\n",
    "    \n",
    "    # Sort it\n",
    "    bed = bed.sort(g=CHROMSIZES)\n",
    "    \n",
    "    # Map this file onto the genomic window\n",
    "    mapped = genomic_windows_no_blacklist.map(\n",
    "        bed,\n",
    "        \n",
    "        c=7, # signalValue\n",
    "        o='max'\n",
    "    )\n",
    "    \n",
    "    new_filename = (NOTEBOOK_OUTPUT_DIR / f'{id_}.mapped_to_genomic_windows.bed.gz')\n",
    "    print(f'-> Done. Saving as {new_filename}')\n",
    "    mapped.saveas(new_filename)\n",
    "    \n",
    "    matrix_to_bedtool_maps[id_] = mapped\n",
    "    "
   ]
  },
  {
   "cell_type": "markdown",
   "id": "9c6f1c0d-5f36-46f5-9bc5-4ddfcd69821d",
   "metadata": {},
   "source": [
    "What the code above does result in is the bed file whose regions are the same of the genomic windows, but the fifth column (score) now corresponds to the maximum signal value overlapping peaks, or a dot (`.`) if the overlap is missing:"
   ]
  },
  {
   "cell_type": "code",
   "execution_count": 21,
   "id": "0add789b-abce-4752-9338-d587cba2a323",
   "metadata": {},
   "outputs": [
    {
     "name": "stdout",
     "output_type": "stream",
     "text": [
      "chr1\t793000\t794000\tchr1_794\t.\n",
      " chr1\t794000\t795000\tchr1_795\t.\n",
      " chr1\t795000\t796000\tchr1_796\t.\n",
      " chr1\t796000\t797000\tchr1_797\t.\n",
      " chr1\t797000\t798000\tchr1_798\t.\n",
      " chr1\t798000\t799000\tchr1_799\t.\n",
      " chr1\t799000\t800000\tchr1_800\t.\n",
      " chr1\t800000\t801000\tchr1_801\t.\n",
      " chr1\t801000\t802000\tchr1_802\t.\n",
      " chr1\t802000\t803000\tchr1_803\t.\n",
      " chr1\t803000\t804000\tchr1_804\t.\n",
      " chr1\t804000\t805000\tchr1_805\t.\n",
      " chr1\t805000\t806000\tchr1_806\t.\n",
      " chr1\t806000\t807000\tchr1_807\t.\n",
      " chr1\t807000\t808000\tchr1_808\t.\n",
      " chr1\t808000\t809000\tchr1_809\t.\n",
      " chr1\t809000\t810000\tchr1_810\t.\n",
      " chr1\t810000\t811000\tchr1_811\t.\n",
      " chr1\t811000\t812000\tchr1_812\t.\n",
      " chr1\t812000\t813000\tchr1_813\t.\n",
      " "
     ]
    }
   ],
   "source": [
    "matrix_to_bedtool_maps[ENCODE_IDENTIFIER_BEDFILE_X].head(20)"
   ]
  },
  {
   "cell_type": "markdown",
   "id": "4508b663-499b-4d2b-81aa-873eb1e44a39",
   "metadata": {},
   "source": [
    "At this point we can get out of the bedtools environment and work in pandas:"
   ]
  },
  {
   "cell_type": "code",
   "execution_count": 22,
   "id": "ec1f95ec-a9a2-423c-9b56-981aaf4c006a",
   "metadata": {},
   "outputs": [],
   "source": [
    "matrix_to_bedtool_maps_df = {\n",
    "    id_: mapped_bed.to_dataframe()\n",
    "    for id_, mapped_bed in matrix_to_bedtool_maps.items()\n",
    "}"
   ]
  },
  {
   "cell_type": "code",
   "execution_count": 23,
   "id": "1659d482-734d-47ba-8883-44dc7f828f83",
   "metadata": {},
   "outputs": [
    {
     "data": {
      "text/html": [
       "<div>\n",
       "<style scoped>\n",
       "    .dataframe tbody tr th:only-of-type {\n",
       "        vertical-align: middle;\n",
       "    }\n",
       "\n",
       "    .dataframe tbody tr th {\n",
       "        vertical-align: top;\n",
       "    }\n",
       "\n",
       "    .dataframe thead th {\n",
       "        text-align: right;\n",
       "    }\n",
       "</style>\n",
       "<table border=\"1\" class=\"dataframe\">\n",
       "  <thead>\n",
       "    <tr style=\"text-align: right;\">\n",
       "      <th></th>\n",
       "      <th>chrom</th>\n",
       "      <th>start</th>\n",
       "      <th>end</th>\n",
       "      <th>name</th>\n",
       "      <th>score</th>\n",
       "    </tr>\n",
       "  </thead>\n",
       "  <tbody>\n",
       "    <tr>\n",
       "      <th>0</th>\n",
       "      <td>chr1</td>\n",
       "      <td>793000</td>\n",
       "      <td>794000</td>\n",
       "      <td>chr1_794</td>\n",
       "      <td>.</td>\n",
       "    </tr>\n",
       "    <tr>\n",
       "      <th>1</th>\n",
       "      <td>chr1</td>\n",
       "      <td>794000</td>\n",
       "      <td>795000</td>\n",
       "      <td>chr1_795</td>\n",
       "      <td>.</td>\n",
       "    </tr>\n",
       "    <tr>\n",
       "      <th>2</th>\n",
       "      <td>chr1</td>\n",
       "      <td>795000</td>\n",
       "      <td>796000</td>\n",
       "      <td>chr1_796</td>\n",
       "      <td>.</td>\n",
       "    </tr>\n",
       "    <tr>\n",
       "      <th>3</th>\n",
       "      <td>chr1</td>\n",
       "      <td>796000</td>\n",
       "      <td>797000</td>\n",
       "      <td>chr1_797</td>\n",
       "      <td>.</td>\n",
       "    </tr>\n",
       "    <tr>\n",
       "      <th>4</th>\n",
       "      <td>chr1</td>\n",
       "      <td>797000</td>\n",
       "      <td>798000</td>\n",
       "      <td>chr1_798</td>\n",
       "      <td>.</td>\n",
       "    </tr>\n",
       "    <tr>\n",
       "      <th>...</th>\n",
       "      <td>...</td>\n",
       "      <td>...</td>\n",
       "      <td>...</td>\n",
       "      <td>...</td>\n",
       "      <td>...</td>\n",
       "    </tr>\n",
       "    <tr>\n",
       "      <th>2835230</th>\n",
       "      <td>chrX</td>\n",
       "      <td>155978000</td>\n",
       "      <td>155979000</td>\n",
       "      <td>chrX_155979</td>\n",
       "      <td>.</td>\n",
       "    </tr>\n",
       "    <tr>\n",
       "      <th>2835231</th>\n",
       "      <td>chrX</td>\n",
       "      <td>155979000</td>\n",
       "      <td>155980000</td>\n",
       "      <td>chrX_155980</td>\n",
       "      <td>.</td>\n",
       "    </tr>\n",
       "    <tr>\n",
       "      <th>2835232</th>\n",
       "      <td>chrX</td>\n",
       "      <td>155980000</td>\n",
       "      <td>155981000</td>\n",
       "      <td>chrX_155981</td>\n",
       "      <td>.</td>\n",
       "    </tr>\n",
       "    <tr>\n",
       "      <th>2835233</th>\n",
       "      <td>chrX</td>\n",
       "      <td>155981000</td>\n",
       "      <td>155982000</td>\n",
       "      <td>chrX_155982</td>\n",
       "      <td>.</td>\n",
       "    </tr>\n",
       "    <tr>\n",
       "      <th>2835234</th>\n",
       "      <td>chrX</td>\n",
       "      <td>155982000</td>\n",
       "      <td>155983000</td>\n",
       "      <td>chrX_155983</td>\n",
       "      <td>.</td>\n",
       "    </tr>\n",
       "  </tbody>\n",
       "</table>\n",
       "<p>2835235 rows × 5 columns</p>\n",
       "</div>"
      ],
      "text/plain": [
       "        chrom      start        end         name score\n",
       "0        chr1     793000     794000     chr1_794     .\n",
       "1        chr1     794000     795000     chr1_795     .\n",
       "2        chr1     795000     796000     chr1_796     .\n",
       "3        chr1     796000     797000     chr1_797     .\n",
       "4        chr1     797000     798000     chr1_798     .\n",
       "...       ...        ...        ...          ...   ...\n",
       "2835230  chrX  155978000  155979000  chrX_155979     .\n",
       "2835231  chrX  155979000  155980000  chrX_155980     .\n",
       "2835232  chrX  155980000  155981000  chrX_155981     .\n",
       "2835233  chrX  155981000  155982000  chrX_155982     .\n",
       "2835234  chrX  155982000  155983000  chrX_155983     .\n",
       "\n",
       "[2835235 rows x 5 columns]"
      ]
     },
     "execution_count": 23,
     "metadata": {},
     "output_type": "execute_result"
    }
   ],
   "source": [
    "matrix_to_bedtool_maps_df[ENCODE_IDENTIFIER_BEDFILE_X]"
   ]
  },
  {
   "cell_type": "markdown",
   "id": "3c14b495-7e7a-4a82-8118-19ddc26f89be",
   "metadata": {},
   "source": [
    "We're mostly interested in `score` column. \n",
    "We can create the data matrix, by:\n",
    "\n",
    "1. Setting the index to the column `name`\n",
    "2. Selecting only the `score` column\n",
    "3. Replacing `.` scores with NaNs\n",
    "4. Converting to `float`"
   ]
  },
  {
   "cell_type": "code",
   "execution_count": 24,
   "id": "f5f8352a-3726-4309-a641-ca986874ff4f",
   "metadata": {},
   "outputs": [],
   "source": [
    "bed_matrix = pd.DataFrame(\n",
    "    {\n",
    "        id_: df.set_index('name')['score'].replace('.', np.nan).astype(float)\n",
    "        for id_, df in matrix_to_bedtool_maps_df.items()\n",
    "    }\n",
    ")"
   ]
  },
  {
   "cell_type": "code",
   "execution_count": 25,
   "id": "d184332c-b515-47cd-9979-e4fc8a5cb079",
   "metadata": {},
   "outputs": [
    {
     "data": {
      "text/html": [
       "<div>\n",
       "<style scoped>\n",
       "    .dataframe tbody tr th:only-of-type {\n",
       "        vertical-align: middle;\n",
       "    }\n",
       "\n",
       "    .dataframe tbody tr th {\n",
       "        vertical-align: top;\n",
       "    }\n",
       "\n",
       "    .dataframe thead th {\n",
       "        text-align: right;\n",
       "    }\n",
       "</style>\n",
       "<table border=\"1\" class=\"dataframe\">\n",
       "  <thead>\n",
       "    <tr style=\"text-align: right;\">\n",
       "      <th></th>\n",
       "      <th>ENCFF981ISM</th>\n",
       "      <th>ENCFF122CSI</th>\n",
       "    </tr>\n",
       "    <tr>\n",
       "      <th>name</th>\n",
       "      <th></th>\n",
       "      <th></th>\n",
       "    </tr>\n",
       "  </thead>\n",
       "  <tbody>\n",
       "    <tr>\n",
       "      <th>chr1_794</th>\n",
       "      <td>NaN</td>\n",
       "      <td>NaN</td>\n",
       "    </tr>\n",
       "    <tr>\n",
       "      <th>chr1_795</th>\n",
       "      <td>NaN</td>\n",
       "      <td>NaN</td>\n",
       "    </tr>\n",
       "    <tr>\n",
       "      <th>chr1_796</th>\n",
       "      <td>NaN</td>\n",
       "      <td>NaN</td>\n",
       "    </tr>\n",
       "    <tr>\n",
       "      <th>chr1_797</th>\n",
       "      <td>NaN</td>\n",
       "      <td>NaN</td>\n",
       "    </tr>\n",
       "    <tr>\n",
       "      <th>chr1_798</th>\n",
       "      <td>NaN</td>\n",
       "      <td>NaN</td>\n",
       "    </tr>\n",
       "    <tr>\n",
       "      <th>...</th>\n",
       "      <td>...</td>\n",
       "      <td>...</td>\n",
       "    </tr>\n",
       "    <tr>\n",
       "      <th>chrX_155979</th>\n",
       "      <td>NaN</td>\n",
       "      <td>NaN</td>\n",
       "    </tr>\n",
       "    <tr>\n",
       "      <th>chrX_155980</th>\n",
       "      <td>NaN</td>\n",
       "      <td>NaN</td>\n",
       "    </tr>\n",
       "    <tr>\n",
       "      <th>chrX_155981</th>\n",
       "      <td>NaN</td>\n",
       "      <td>NaN</td>\n",
       "    </tr>\n",
       "    <tr>\n",
       "      <th>chrX_155982</th>\n",
       "      <td>NaN</td>\n",
       "      <td>NaN</td>\n",
       "    </tr>\n",
       "    <tr>\n",
       "      <th>chrX_155983</th>\n",
       "      <td>NaN</td>\n",
       "      <td>NaN</td>\n",
       "    </tr>\n",
       "  </tbody>\n",
       "</table>\n",
       "<p>2835235 rows × 2 columns</p>\n",
       "</div>"
      ],
      "text/plain": [
       "             ENCFF981ISM  ENCFF122CSI\n",
       "name                                 \n",
       "chr1_794             NaN          NaN\n",
       "chr1_795             NaN          NaN\n",
       "chr1_796             NaN          NaN\n",
       "chr1_797             NaN          NaN\n",
       "chr1_798             NaN          NaN\n",
       "...                  ...          ...\n",
       "chrX_155979          NaN          NaN\n",
       "chrX_155980          NaN          NaN\n",
       "chrX_155981          NaN          NaN\n",
       "chrX_155982          NaN          NaN\n",
       "chrX_155983          NaN          NaN\n",
       "\n",
       "[2835235 rows x 2 columns]"
      ]
     },
     "execution_count": 25,
     "metadata": {},
     "output_type": "execute_result"
    }
   ],
   "source": [
    "bed_matrix"
   ]
  },
  {
   "cell_type": "markdown",
   "id": "d61156e4-aa81-4356-9955-b3d36004c39f",
   "metadata": {},
   "source": [
    "Note that not all columns are null, i.e. these are the total numbers of non-null columns (total number of bins that overlap peaks of each of the datasets)"
   ]
  },
  {
   "cell_type": "code",
   "execution_count": 26,
   "id": "882289c8-b518-4e5c-b54d-c94b25c369e7",
   "metadata": {},
   "outputs": [
    {
     "data": {
      "text/plain": [
       "ENCFF981ISM    30523\n",
       "ENCFF122CSI    47840\n",
       "dtype: int64"
      ]
     },
     "execution_count": 26,
     "metadata": {},
     "output_type": "execute_result"
    }
   ],
   "source": [
    "(~bed_matrix.isnull()).sum()"
   ]
  },
  {
   "cell_type": "markdown",
   "id": "9b16fee2-a77e-45e5-bb62-f9e411b3bcaa",
   "metadata": {},
   "source": [
    "Some of such columns:"
   ]
  },
  {
   "cell_type": "code",
   "execution_count": 27,
   "id": "fb2812a1-a115-4fcf-a174-165d8239790d",
   "metadata": {},
   "outputs": [
    {
     "data": {
      "text/html": [
       "<div>\n",
       "<style scoped>\n",
       "    .dataframe tbody tr th:only-of-type {\n",
       "        vertical-align: middle;\n",
       "    }\n",
       "\n",
       "    .dataframe tbody tr th {\n",
       "        vertical-align: top;\n",
       "    }\n",
       "\n",
       "    .dataframe thead th {\n",
       "        text-align: right;\n",
       "    }\n",
       "</style>\n",
       "<table border=\"1\" class=\"dataframe\">\n",
       "  <thead>\n",
       "    <tr style=\"text-align: right;\">\n",
       "      <th></th>\n",
       "      <th>ENCFF981ISM</th>\n",
       "      <th>ENCFF122CSI</th>\n",
       "    </tr>\n",
       "    <tr>\n",
       "      <th>name</th>\n",
       "      <th></th>\n",
       "      <th></th>\n",
       "    </tr>\n",
       "  </thead>\n",
       "  <tbody>\n",
       "    <tr>\n",
       "      <th>chr1_827</th>\n",
       "      <td>NaN</td>\n",
       "      <td>55.93549</td>\n",
       "    </tr>\n",
       "    <tr>\n",
       "      <th>chr1_828</th>\n",
       "      <td>109.37204</td>\n",
       "      <td>55.93549</td>\n",
       "    </tr>\n",
       "    <tr>\n",
       "      <th>chr1_904</th>\n",
       "      <td>NaN</td>\n",
       "      <td>23.00623</td>\n",
       "    </tr>\n",
       "    <tr>\n",
       "      <th>chr1_905</th>\n",
       "      <td>86.66685</td>\n",
       "      <td>23.00623</td>\n",
       "    </tr>\n",
       "    <tr>\n",
       "      <th>chr1_906</th>\n",
       "      <td>82.95709</td>\n",
       "      <td>23.00623</td>\n",
       "    </tr>\n",
       "    <tr>\n",
       "      <th>chr1_924</th>\n",
       "      <td>16.61978</td>\n",
       "      <td>18.20666</td>\n",
       "    </tr>\n",
       "    <tr>\n",
       "      <th>chr1_925</th>\n",
       "      <td>16.61978</td>\n",
       "      <td>18.20666</td>\n",
       "    </tr>\n",
       "    <tr>\n",
       "      <th>chr1_926</th>\n",
       "      <td>59.18352</td>\n",
       "      <td>18.20666</td>\n",
       "    </tr>\n",
       "    <tr>\n",
       "      <th>chr1_941</th>\n",
       "      <td>52.96328</td>\n",
       "      <td>12.27774</td>\n",
       "    </tr>\n",
       "    <tr>\n",
       "      <th>chr1_942</th>\n",
       "      <td>22.70389</td>\n",
       "      <td>8.26568</td>\n",
       "    </tr>\n",
       "    <tr>\n",
       "      <th>chr1_943</th>\n",
       "      <td>22.70389</td>\n",
       "      <td>NaN</td>\n",
       "    </tr>\n",
       "    <tr>\n",
       "      <th>chr1_958</th>\n",
       "      <td>NaN</td>\n",
       "      <td>95.02694</td>\n",
       "    </tr>\n",
       "    <tr>\n",
       "      <th>chr1_959</th>\n",
       "      <td>218.49788</td>\n",
       "      <td>95.02694</td>\n",
       "    </tr>\n",
       "    <tr>\n",
       "      <th>chr1_960</th>\n",
       "      <td>218.49788</td>\n",
       "      <td>95.02694</td>\n",
       "    </tr>\n",
       "    <tr>\n",
       "      <th>chr1_961</th>\n",
       "      <td>54.27194</td>\n",
       "      <td>65.36855</td>\n",
       "    </tr>\n",
       "    <tr>\n",
       "      <th>chr1_962</th>\n",
       "      <td>NaN</td>\n",
       "      <td>65.36855</td>\n",
       "    </tr>\n",
       "    <tr>\n",
       "      <th>chr1_967</th>\n",
       "      <td>164.31490</td>\n",
       "      <td>19.55564</td>\n",
       "    </tr>\n",
       "    <tr>\n",
       "      <th>chr1_968</th>\n",
       "      <td>164.31490</td>\n",
       "      <td>19.55564</td>\n",
       "    </tr>\n",
       "    <tr>\n",
       "      <th>chr1_981</th>\n",
       "      <td>33.27346</td>\n",
       "      <td>NaN</td>\n",
       "    </tr>\n",
       "    <tr>\n",
       "      <th>chr1_982</th>\n",
       "      <td>33.27346</td>\n",
       "      <td>NaN</td>\n",
       "    </tr>\n",
       "  </tbody>\n",
       "</table>\n",
       "</div>"
      ],
      "text/plain": [
       "          ENCFF981ISM  ENCFF122CSI\n",
       "name                              \n",
       "chr1_827          NaN     55.93549\n",
       "chr1_828    109.37204     55.93549\n",
       "chr1_904          NaN     23.00623\n",
       "chr1_905     86.66685     23.00623\n",
       "chr1_906     82.95709     23.00623\n",
       "chr1_924     16.61978     18.20666\n",
       "chr1_925     16.61978     18.20666\n",
       "chr1_926     59.18352     18.20666\n",
       "chr1_941     52.96328     12.27774\n",
       "chr1_942     22.70389      8.26568\n",
       "chr1_943     22.70389          NaN\n",
       "chr1_958          NaN     95.02694\n",
       "chr1_959    218.49788     95.02694\n",
       "chr1_960    218.49788     95.02694\n",
       "chr1_961     54.27194     65.36855\n",
       "chr1_962          NaN     65.36855\n",
       "chr1_967    164.31490     19.55564\n",
       "chr1_968    164.31490     19.55564\n",
       "chr1_981     33.27346          NaN\n",
       "chr1_982     33.27346          NaN"
      ]
     },
     "execution_count": 27,
     "metadata": {},
     "output_type": "execute_result"
    }
   ],
   "source": [
    "bed_matrix[(~bed_matrix.isnull()).any(axis=1)].head(20)"
   ]
  },
  {
   "cell_type": "markdown",
   "id": "450ab551-809e-4f25-837d-bceaca77dbfb",
   "metadata": {},
   "source": [
    "### Correlations between bed files\n",
    "\n",
    "At this point we can compute the correlations between the two peaksets directly.\n",
    "To do this we will just use the [`pandas.DataFrame.corr`](https://pandas.pydata.org/docs/reference/api/pandas.DataFrame.corr.html). Note that this function will only attempt to compute the correlations where both columns have value. Additionally, we set the `min_periods` parameter as described in the parameter set but it may not have any effect, depending on the correalation method selected (i.e. if it is set to Kendall)."
   ]
  },
  {
   "cell_type": "code",
   "execution_count": 28,
   "id": "e49e689f-c43b-4a74-8539-fa5a82994092",
   "metadata": {},
   "outputs": [
    {
     "name": "stdout",
     "output_type": "stream",
     "text": [
      "Computing correlation CORRELATION_TYPE='kendall' using MIN_PERIODS_FOR_CORRELATIONS=1\n"
     ]
    }
   ],
   "source": [
    "print(f\"Computing correlation {CORRELATION_TYPE=} using {MIN_PERIODS_FOR_CORRELATIONS=}\")"
   ]
  },
  {
   "cell_type": "code",
   "execution_count": 29,
   "id": "9457db96-bdf9-4d07-bee8-c272296d5f34",
   "metadata": {},
   "outputs": [],
   "source": [
    "correlation_answer = bed_matrix.corr(\n",
    "    method=CORRELATION_TYPE, \n",
    "    min_periods=MIN_PERIODS_FOR_CORRELATIONS\n",
    ")"
   ]
  },
  {
   "cell_type": "code",
   "execution_count": 30,
   "id": "c73647e1-e270-4f8d-a4bc-8914065dd8a4",
   "metadata": {},
   "outputs": [
    {
     "data": {
      "text/html": [
       "<div>\n",
       "<style scoped>\n",
       "    .dataframe tbody tr th:only-of-type {\n",
       "        vertical-align: middle;\n",
       "    }\n",
       "\n",
       "    .dataframe tbody tr th {\n",
       "        vertical-align: top;\n",
       "    }\n",
       "\n",
       "    .dataframe thead th {\n",
       "        text-align: right;\n",
       "    }\n",
       "</style>\n",
       "<table border=\"1\" class=\"dataframe\">\n",
       "  <thead>\n",
       "    <tr style=\"text-align: right;\">\n",
       "      <th></th>\n",
       "      <th>ENCFF981ISM</th>\n",
       "      <th>ENCFF122CSI</th>\n",
       "    </tr>\n",
       "  </thead>\n",
       "  <tbody>\n",
       "    <tr>\n",
       "      <th>ENCFF981ISM</th>\n",
       "      <td>1.000000</td>\n",
       "      <td>0.359587</td>\n",
       "    </tr>\n",
       "    <tr>\n",
       "      <th>ENCFF122CSI</th>\n",
       "      <td>0.359587</td>\n",
       "      <td>1.000000</td>\n",
       "    </tr>\n",
       "  </tbody>\n",
       "</table>\n",
       "</div>"
      ],
      "text/plain": [
       "             ENCFF981ISM  ENCFF122CSI\n",
       "ENCFF981ISM     1.000000     0.359587\n",
       "ENCFF122CSI     0.359587     1.000000"
      ]
     },
     "execution_count": 30,
     "metadata": {},
     "output_type": "execute_result"
    }
   ],
   "source": [
    "correlation_answer"
   ]
  },
  {
   "cell_type": "markdown",
   "id": "22e32225-ae09-4bde-8683-f911164b8220",
   "metadata": {},
   "source": [
    "This returns a matrix, but we only need one off-diagonal values:"
   ]
  },
  {
   "cell_type": "code",
   "execution_count": 31,
   "id": "870f4a13-7f20-4218-8b04-91c055455cfd",
   "metadata": {},
   "outputs": [
    {
     "data": {
      "text/plain": [
       "0.35958678366773367"
      ]
     },
     "execution_count": 31,
     "metadata": {},
     "output_type": "execute_result"
    }
   ],
   "source": [
    "correlation_answer = correlation_answer.loc[ENCODE_IDENTIFIER_BEDFILE_X, ENCODE_IDENTIFIER_BEDFILE_Y]\n",
    "correlation_answer"
   ]
  },
  {
   "cell_type": "markdown",
   "id": "1bcf3357-d191-4fe3-907f-9d74591e3af7",
   "metadata": {},
   "source": [
    "Note that this is equivalent to only computing the correlation on rows where both values are non-null only:"
   ]
  },
  {
   "cell_type": "code",
   "execution_count": 32,
   "id": "f0c52ed9-5d52-4eb5-81bd-722c25d85e66",
   "metadata": {},
   "outputs": [
    {
     "data": {
      "text/plain": [
       "0.35958678366773367"
      ]
     },
     "execution_count": 32,
     "metadata": {},
     "output_type": "execute_result"
    }
   ],
   "source": [
    "correlation_answer_alternative = bed_matrix[(~bed_matrix.isnull()).all(axis=1)].corr(\n",
    "    method=CORRELATION_TYPE, \n",
    "    min_periods=MIN_PERIODS_FOR_CORRELATIONS\n",
    ")\n",
    "correlation_answer_alternative =  correlation_answer_alternative.loc[ENCODE_IDENTIFIER_BEDFILE_X, ENCODE_IDENTIFIER_BEDFILE_Y]\n",
    "\n",
    "assert correlation_answer == correlation_answer_alternative\n",
    "correlation_answer_alternative"
   ]
  },
  {
   "cell_type": "markdown",
   "id": "0cfed9c9-e679-49a9-8025-fa3baae66c5e",
   "metadata": {},
   "source": [
    "### Entropy based statistics\n",
    "\n",
    "The entropy-based statistics, however, are the main workhorse of this pipeline.\n",
    "The code below shows how they can be computed. First we binarise the `bed_matrix` into a set of `yes/no` entries:"
   ]
  },
  {
   "cell_type": "code",
   "execution_count": 33,
   "id": "8bcd2f8a-c301-4f20-9300-c428e9ae1692",
   "metadata": {},
   "outputs": [
    {
     "data": {
      "text/html": [
       "<div>\n",
       "<style scoped>\n",
       "    .dataframe tbody tr th:only-of-type {\n",
       "        vertical-align: middle;\n",
       "    }\n",
       "\n",
       "    .dataframe tbody tr th {\n",
       "        vertical-align: top;\n",
       "    }\n",
       "\n",
       "    .dataframe thead th {\n",
       "        text-align: right;\n",
       "    }\n",
       "</style>\n",
       "<table border=\"1\" class=\"dataframe\">\n",
       "  <thead>\n",
       "    <tr style=\"text-align: right;\">\n",
       "      <th></th>\n",
       "      <th>ENCFF981ISM</th>\n",
       "      <th>ENCFF122CSI</th>\n",
       "    </tr>\n",
       "    <tr>\n",
       "      <th>name</th>\n",
       "      <th></th>\n",
       "      <th></th>\n",
       "    </tr>\n",
       "  </thead>\n",
       "  <tbody>\n",
       "    <tr>\n",
       "      <th>chr1_794</th>\n",
       "      <td>False</td>\n",
       "      <td>False</td>\n",
       "    </tr>\n",
       "    <tr>\n",
       "      <th>chr1_795</th>\n",
       "      <td>False</td>\n",
       "      <td>False</td>\n",
       "    </tr>\n",
       "    <tr>\n",
       "      <th>chr1_796</th>\n",
       "      <td>False</td>\n",
       "      <td>False</td>\n",
       "    </tr>\n",
       "    <tr>\n",
       "      <th>chr1_797</th>\n",
       "      <td>False</td>\n",
       "      <td>False</td>\n",
       "    </tr>\n",
       "    <tr>\n",
       "      <th>chr1_798</th>\n",
       "      <td>False</td>\n",
       "      <td>False</td>\n",
       "    </tr>\n",
       "  </tbody>\n",
       "</table>\n",
       "</div>"
      ],
      "text/plain": [
       "          ENCFF981ISM  ENCFF122CSI\n",
       "name                              \n",
       "chr1_794        False        False\n",
       "chr1_795        False        False\n",
       "chr1_796        False        False\n",
       "chr1_797        False        False\n",
       "chr1_798        False        False"
      ]
     },
     "execution_count": 33,
     "metadata": {},
     "output_type": "execute_result"
    }
   ],
   "source": [
    "bed_matrix_binary = ~bed_matrix.isnull()\n",
    "bed_matrix_binary.head()"
   ]
  },
  {
   "cell_type": "markdown",
   "id": "806b1a95-5b04-4660-a152-fef546f629ef",
   "metadata": {},
   "source": [
    "Then we compute a 2x2 cooccurrence matrix for the two `bed` datasets:"
   ]
  },
  {
   "cell_type": "code",
   "execution_count": 34,
   "id": "f8c72d11-372b-4810-b604-b764a9915f4a",
   "metadata": {},
   "outputs": [],
   "source": [
    "import itertools\n",
    "\n",
    "cooccurrence_matrix = []\n",
    "\n",
    "# For all four combinations of [False, True] \n",
    "for x_value, y_value in itertools.product([False, True], repeat=2):\n",
    "    \n",
    "    # Count how many times they occurr\n",
    "    mask = bed_matrix_binary[ENCODE_IDENTIFIER_BEDFILE_X] == x_value\n",
    "    mask &= bed_matrix_binary[ENCODE_IDENTIFIER_BEDFILE_Y] == y_value\n",
    "    count = mask.sum()\n",
    "    \n",
    "    # Store that\n",
    "    cooccurrence_matrix.append([x_value, y_value, count])\n",
    "\n",
    "# Make this into a dataframe\n",
    "cooccurrence_matrix = pd.DataFrame(\n",
    "    cooccurrence_matrix, \n",
    "    columns=[\n",
    "         ENCODE_IDENTIFIER_BEDFILE_X,\n",
    "         ENCODE_IDENTIFIER_BEDFILE_Y,\n",
    "         'count',\n",
    "     ]\n",
    ")\n",
    "\n",
    "# Reshape this into 2x2 matrix\n",
    "cooccurrence_matrix = cooccurrence_matrix.set_index([\n",
    "    ENCODE_IDENTIFIER_BEDFILE_X, \n",
    "    ENCODE_IDENTIFIER_BEDFILE_Y\n",
    "])['count'].unstack(ENCODE_IDENTIFIER_BEDFILE_Y)"
   ]
  },
  {
   "cell_type": "markdown",
   "id": "3d0ba16b-6ba3-46d7-bb24-a1567009f333",
   "metadata": {},
   "source": [
    "From this we get the number of times the BED files overlap (based on our genomic grid), the number of times they are both missing, and the number of times one occurs without the other (see below).\n",
    "\n",
    "Note that in the code we use some optimisations and therefore the numbers are calculated in a slightly more sophisticated way, but the end result is the same."
   ]
  },
  {
   "cell_type": "code",
   "execution_count": 35,
   "id": "2259f912-d9dd-42ef-9061-49ff42c6adb9",
   "metadata": {},
   "outputs": [
    {
     "data": {
      "text/html": [
       "<div>\n",
       "<style scoped>\n",
       "    .dataframe tbody tr th:only-of-type {\n",
       "        vertical-align: middle;\n",
       "    }\n",
       "\n",
       "    .dataframe tbody tr th {\n",
       "        vertical-align: top;\n",
       "    }\n",
       "\n",
       "    .dataframe thead th {\n",
       "        text-align: right;\n",
       "    }\n",
       "</style>\n",
       "<table border=\"1\" class=\"dataframe\">\n",
       "  <thead>\n",
       "    <tr style=\"text-align: right;\">\n",
       "      <th>ENCFF122CSI</th>\n",
       "      <th>False</th>\n",
       "      <th>True</th>\n",
       "    </tr>\n",
       "    <tr>\n",
       "      <th>ENCFF981ISM</th>\n",
       "      <th></th>\n",
       "      <th></th>\n",
       "    </tr>\n",
       "  </thead>\n",
       "  <tbody>\n",
       "    <tr>\n",
       "      <th>False</th>\n",
       "      <td>2782330</td>\n",
       "      <td>22382</td>\n",
       "    </tr>\n",
       "    <tr>\n",
       "      <th>True</th>\n",
       "      <td>5065</td>\n",
       "      <td>25458</td>\n",
       "    </tr>\n",
       "  </tbody>\n",
       "</table>\n",
       "</div>"
      ],
      "text/plain": [
       "ENCFF122CSI    False   True\n",
       "ENCFF981ISM                \n",
       "False        2782330  22382\n",
       "True            5065  25458"
      ]
     },
     "execution_count": 35,
     "metadata": {},
     "output_type": "execute_result"
    }
   ],
   "source": [
    "cooccurrence_matrix"
   ]
  },
  {
   "cell_type": "markdown",
   "id": "b1deb329-9210-4744-b558-3effd33c398b",
   "metadata": {},
   "source": [
    "Note that the matrix columns sum to the universe length (i.e. the number of genomic windows):"
   ]
  },
  {
   "cell_type": "code",
   "execution_count": 36,
   "id": "56cbcd9c-c9f1-4300-afa5-0f21b2f63ff6",
   "metadata": {},
   "outputs": [
    {
     "name": "stdout",
     "output_type": "stream",
     "text": [
      "Universe length: 2,835,235, sum of co-occurrence matrix columns: 2,835,235\n"
     ]
    }
   ],
   "source": [
    "universe_length = len(genomic_windows_no_blacklist)\n",
    "_sum = np.sum(np.asarray(cooccurrence_matrix))\n",
    "print(\"Universe length: {:,}, sum of co-occurrence matrix columns: {:,}\".format(universe_length, _sum))\n",
    "assert universe_length == _sum\n"
   ]
  },
  {
   "cell_type": "markdown",
   "id": "486e3917-4841-4d1c-a12c-b148e2748f36",
   "metadata": {},
   "source": [
    "Once we have the co-occurrence matrix, we can compute the joint probabilities.\n",
    "\n",
    "To add some statistical smoothing we will use a pseudocount defined in `STATISTICS_PSEUDOCOUNT` above:"
   ]
  },
  {
   "cell_type": "code",
   "execution_count": 37,
   "id": "1c9209ac-6310-44b4-83eb-ffd892021803",
   "metadata": {},
   "outputs": [
    {
     "name": "stdout",
     "output_type": "stream",
     "text": [
      "STATISTICS_PSEUDOCOUNT=100\n"
     ]
    }
   ],
   "source": [
    "print(f'{STATISTICS_PSEUDOCOUNT=}')"
   ]
  },
  {
   "cell_type": "markdown",
   "id": "4a227f82-835b-4982-8921-f720fd67f63d",
   "metadata": {},
   "source": [
    "We will add this pseudocount to each and every cell of the co-occurrence matrix, and will then divide the cells by the total effective universe size which is now equal to the `universe_size + 4*pseudocount`."
   ]
  },
  {
   "cell_type": "code",
   "execution_count": 38,
   "id": "8747a6c2-b0a1-4fc2-a955-41379be3021e",
   "metadata": {},
   "outputs": [],
   "source": [
    "joint_probabilities = (cooccurrence_matrix + STATISTICS_PSEUDOCOUNT) / (universe_length + 4*STATISTICS_PSEUDOCOUNT)"
   ]
  },
  {
   "cell_type": "code",
   "execution_count": 39,
   "id": "6aab41aa-8c41-4a15-861d-38638cad12fd",
   "metadata": {},
   "outputs": [
    {
     "data": {
      "text/html": [
       "<div>\n",
       "<style scoped>\n",
       "    .dataframe tbody tr th:only-of-type {\n",
       "        vertical-align: middle;\n",
       "    }\n",
       "\n",
       "    .dataframe tbody tr th {\n",
       "        vertical-align: top;\n",
       "    }\n",
       "\n",
       "    .dataframe thead th {\n",
       "        text-align: right;\n",
       "    }\n",
       "</style>\n",
       "<table border=\"1\" class=\"dataframe\">\n",
       "  <thead>\n",
       "    <tr style=\"text-align: right;\">\n",
       "      <th>ENCFF122CSI</th>\n",
       "      <th>False</th>\n",
       "      <th>True</th>\n",
       "    </tr>\n",
       "    <tr>\n",
       "      <th>ENCFF981ISM</th>\n",
       "      <th></th>\n",
       "      <th></th>\n",
       "    </tr>\n",
       "  </thead>\n",
       "  <tbody>\n",
       "    <tr>\n",
       "      <th>False</th>\n",
       "      <td>0.981237</td>\n",
       "      <td>0.007928</td>\n",
       "    </tr>\n",
       "    <tr>\n",
       "      <th>True</th>\n",
       "      <td>0.001821</td>\n",
       "      <td>0.009013</td>\n",
       "    </tr>\n",
       "  </tbody>\n",
       "</table>\n",
       "</div>"
      ],
      "text/plain": [
       "ENCFF122CSI     False      True\n",
       "ENCFF981ISM                    \n",
       "False        0.981237  0.007928\n",
       "True         0.001821  0.009013"
      ]
     },
     "execution_count": 39,
     "metadata": {},
     "output_type": "execute_result"
    }
   ],
   "source": [
    "joint_probabilities"
   ]
  },
  {
   "cell_type": "markdown",
   "id": "29bab99a-2108-4147-b937-f9226b7199b3",
   "metadata": {},
   "source": [
    "We can obtain marginal probabilities as well:"
   ]
  },
  {
   "cell_type": "code",
   "execution_count": 40,
   "id": "9185f23b-f36b-4b64-9d12-97186e9c8982",
   "metadata": {},
   "outputs": [],
   "source": [
    "marginal_x = joint_probabilities.sum(axis=1)\n",
    "assert marginal_x.index.name == ENCODE_IDENTIFIER_BEDFILE_X\n",
    "\n",
    "marginal_y = joint_probabilities.sum(axis=0)\n",
    "assert marginal_y.index.name == ENCODE_IDENTIFIER_BEDFILE_Y\n"
   ]
  },
  {
   "cell_type": "code",
   "execution_count": 41,
   "id": "e0c6bf0d-c017-4f56-b562-c4e2fa7e2394",
   "metadata": {},
   "outputs": [
    {
     "data": {
      "text/plain": [
       "ENCFF981ISM\n",
       "False    0.989165\n",
       "True     0.010835\n",
       "dtype: float64"
      ]
     },
     "execution_count": 41,
     "metadata": {},
     "output_type": "execute_result"
    }
   ],
   "source": [
    "marginal_x"
   ]
  },
  {
   "cell_type": "code",
   "execution_count": 42,
   "id": "863b0c75-3006-4199-8361-7efb1c5edc89",
   "metadata": {},
   "outputs": [
    {
     "data": {
      "text/plain": [
       "ENCFF122CSI\n",
       "False    0.983058\n",
       "True     0.016942\n",
       "dtype: float64"
      ]
     },
     "execution_count": 42,
     "metadata": {},
     "output_type": "execute_result"
    }
   ],
   "source": [
    "marginal_y"
   ]
  },
  {
   "cell_type": "markdown",
   "id": "51d11e0c-9a87-4294-b22a-a0c7974071c5",
   "metadata": {},
   "source": [
    "If our data were independent, we would expect to observe the following joint_probability table (resulting of multiplying the marginal probabilities):"
   ]
  },
  {
   "cell_type": "code",
   "execution_count": 43,
   "id": "dbbfa4de-8f2a-49f3-8a87-6eeb8abc99b7",
   "metadata": {},
   "outputs": [],
   "source": [
    "import itertools\n",
    "\n",
    "joint_independent = []\n",
    "\n",
    "# For all four combinations of [False, True] \n",
    "for x_value, y_value in itertools.product([False, True], repeat=2):\n",
    "    \n",
    "    # Compute the probability under independence\n",
    "    p = marginal_x.loc[x_value] * marginal_y.loc[y_value]\n",
    "    \n",
    "    # Store that\n",
    "    joint_independent.append([x_value, y_value, p])\n",
    "\n",
    "# Make this into a dataframe\n",
    "joint_independent = pd.DataFrame(\n",
    "    joint_independent, \n",
    "    columns=[\n",
    "         ENCODE_IDENTIFIER_BEDFILE_X,\n",
    "         ENCODE_IDENTIFIER_BEDFILE_Y,\n",
    "         'count',\n",
    "     ]\n",
    ")\n",
    "\n",
    "# Reshape this into 2x2 matrix\n",
    "joint_independent = joint_independent.set_index([\n",
    "    ENCODE_IDENTIFIER_BEDFILE_X, \n",
    "    ENCODE_IDENTIFIER_BEDFILE_Y\n",
    "])['count'].unstack(ENCODE_IDENTIFIER_BEDFILE_Y)"
   ]
  },
  {
   "cell_type": "code",
   "execution_count": 44,
   "id": "3e715391-c7e3-4ca2-9e46-3556d8c2e5e4",
   "metadata": {},
   "outputs": [],
   "source": [
    "assert joint_independent.index.equals(joint_probabilities.index)\n",
    "assert joint_independent.columns.equals(joint_probabilities.columns)\n"
   ]
  },
  {
   "cell_type": "code",
   "execution_count": 45,
   "id": "361829c7-3fb3-4f43-8110-100ceb01a916",
   "metadata": {},
   "outputs": [
    {
     "data": {
      "text/html": [
       "<div>\n",
       "<style scoped>\n",
       "    .dataframe tbody tr th:only-of-type {\n",
       "        vertical-align: middle;\n",
       "    }\n",
       "\n",
       "    .dataframe tbody tr th {\n",
       "        vertical-align: top;\n",
       "    }\n",
       "\n",
       "    .dataframe thead th {\n",
       "        text-align: right;\n",
       "    }\n",
       "</style>\n",
       "<table border=\"1\" class=\"dataframe\">\n",
       "  <thead>\n",
       "    <tr style=\"text-align: right;\">\n",
       "      <th>ENCFF122CSI</th>\n",
       "      <th>False</th>\n",
       "      <th>True</th>\n",
       "    </tr>\n",
       "    <tr>\n",
       "      <th>ENCFF981ISM</th>\n",
       "      <th></th>\n",
       "      <th></th>\n",
       "    </tr>\n",
       "  </thead>\n",
       "  <tbody>\n",
       "    <tr>\n",
       "      <th>False</th>\n",
       "      <td>0.972407</td>\n",
       "      <td>0.016758</td>\n",
       "    </tr>\n",
       "    <tr>\n",
       "      <th>True</th>\n",
       "      <td>0.010651</td>\n",
       "      <td>0.000184</td>\n",
       "    </tr>\n",
       "  </tbody>\n",
       "</table>\n",
       "</div>"
      ],
      "text/plain": [
       "ENCFF122CSI     False      True\n",
       "ENCFF981ISM                    \n",
       "False        0.972407  0.016758\n",
       "True         0.010651  0.000184"
      ]
     },
     "execution_count": 45,
     "metadata": {},
     "output_type": "execute_result"
    }
   ],
   "source": [
    "joint_independent"
   ]
  },
  {
   "cell_type": "markdown",
   "id": "27b561d7-3fdc-4d2c-8b25-f159f2131305",
   "metadata": {},
   "source": [
    "We now have everything we need to compute the marginal and relative entropies.\n",
    "First, the marginal entropies:"
   ]
  },
  {
   "cell_type": "code",
   "execution_count": 46,
   "id": "74f9b8d2-b33f-49cf-9de2-93ab44c7ebf4",
   "metadata": {},
   "outputs": [
    {
     "name": "stdout",
     "output_type": "stream",
     "text": [
      "-> Computed marginal entropy of ENCFF981ISM = 0.05980241823702084\n",
      "-> Computed marginal entropy of ENCFF122CSI = 0.0858845552486885\n"
     ]
    }
   ],
   "source": [
    "import scipy.stats \n",
    "\n",
    "entropy_marginal_x = scipy.stats.entropy(marginal_x) \n",
    "print(f'-> Computed marginal entropy of {ENCODE_IDENTIFIER_BEDFILE_X} = {entropy_marginal_x}')\n",
    "\n",
    "entropy_marginal_y = scipy.stats.entropy(marginal_y) \n",
    "print(f'-> Computed marginal entropy of {ENCODE_IDENTIFIER_BEDFILE_Y} = {entropy_marginal_y}')\n"
   ]
  },
  {
   "cell_type": "markdown",
   "id": "316d92ae-473f-4460-a7c7-a57c534781a4",
   "metadata": {},
   "source": [
    "Now we can compute the joint entropy of the two variables:"
   ]
  },
  {
   "cell_type": "code",
   "execution_count": 47,
   "id": "6277ddef-e39b-4068-b6c6-427cde4ac400",
   "metadata": {},
   "outputs": [
    {
     "name": "stdout",
     "output_type": "stream",
     "text": [
      "-> Computed joint entropy of ENCFF981ISM,ENCFF122CSI = 0.11087141848050827\n"
     ]
    }
   ],
   "source": [
    "joint_entropy_xy = scipy.stats.entropy(np.asarray(joint_probabilities).ravel())\n",
    "print(f'-> Computed joint entropy of {ENCODE_IDENTIFIER_BEDFILE_X},{ENCODE_IDENTIFIER_BEDFILE_Y} = {joint_entropy_xy}')\n"
   ]
  },
  {
   "cell_type": "markdown",
   "id": "896489f3-f5ba-4e2e-bd56-6cb053e73863",
   "metadata": {},
   "source": [
    "We can also compute the mutual information, which is the K-L divergence from independence:"
   ]
  },
  {
   "cell_type": "code",
   "execution_count": 48,
   "id": "84961b63-bdcd-4b4d-ab3b-cf6ae80b83cb",
   "metadata": {},
   "outputs": [
    {
     "name": "stdout",
     "output_type": "stream",
     "text": [
      "-> Computed MI of ENCFF981ISM,ENCFF122CSI = 0.03481555500520116\n"
     ]
    }
   ],
   "source": [
    "mi_xy_using_kl_formula = scipy.stats.entropy(\n",
    "    np.asarray(joint_probabilities).ravel(),\n",
    "    np.asarray(joint_independent).ravel(),\n",
    "    \n",
    ")\n",
    "print(f'-> Computed MI of {ENCODE_IDENTIFIER_BEDFILE_X},{ENCODE_IDENTIFIER_BEDFILE_Y} = {mi_xy_using_kl_formula}')\n"
   ]
  },
  {
   "cell_type": "markdown",
   "id": "b66fc2b5-11fd-4ea6-b4a8-020ee92b1860",
   "metadata": {},
   "source": [
    "This should be the same as the sum of marginal entropies minus joint entropy:"
   ]
  },
  {
   "cell_type": "code",
   "execution_count": 49,
   "id": "81ef5eab-9ce0-499c-b1af-b7694c3e2c44",
   "metadata": {},
   "outputs": [
    {
     "name": "stdout",
     "output_type": "stream",
     "text": [
      "-> Recomputed MI of ENCFF981ISM,ENCFF122CSI = 0.03481555500520106\n"
     ]
    }
   ],
   "source": [
    "mi_xy_using_entropies = entropy_marginal_x + entropy_marginal_y - joint_entropy_xy\n",
    "print(f'-> Recomputed MI of {ENCODE_IDENTIFIER_BEDFILE_X},{ENCODE_IDENTIFIER_BEDFILE_Y} = {mi_xy_using_entropies}')\n",
    "\n",
    "from numpy.testing import assert_array_almost_equal\n",
    "# I'm using the array function because the default parameters make sense there\n",
    "assert_array_almost_equal([mi_xy_using_kl_formula], [mi_xy_using_entropies])"
   ]
  },
  {
   "cell_type": "markdown",
   "id": "bd3a2dfd-9169-4e66-9fae-8f601fb5a802",
   "metadata": {},
   "source": [
    "The resulting uncertainty coefficients are therefore computed as follows:"
   ]
  },
  {
   "cell_type": "code",
   "execution_count": 50,
   "id": "5d89ff3c-70d9-42b0-8e1e-08e66d18564b",
   "metadata": {},
   "outputs": [],
   "source": [
    "uncertainty_x_given_y = mi_xy_using_kl_formula / entropy_marginal_x\n",
    "uncertainty_y_given_x = mi_xy_using_kl_formula / entropy_marginal_y"
   ]
  },
  {
   "cell_type": "code",
   "execution_count": 51,
   "id": "972bd87f-5e56-45bc-9978-ebbb93924207",
   "metadata": {},
   "outputs": [
    {
     "name": "stdout",
     "output_type": "stream",
     "text": [
      "-> Uncertainty coefficient U(X|Y) <- MI(X,Y)/H(X) =  0.5821763739923229\n",
      "-> Uncertainty coefficient U(Y|X) <- MI(X,Y)/H(Y) =  0.4053762041893185\n"
     ]
    }
   ],
   "source": [
    "print(f\"-> Uncertainty coefficient U(X|Y) <- MI(X,Y)/H(X) =  {uncertainty_x_given_y}\")\n",
    "print(f\"-> Uncertainty coefficient U(Y|X) <- MI(X,Y)/H(Y) =  {uncertainty_y_given_x}\")\n"
   ]
  },
  {
   "cell_type": "markdown",
   "id": "a27198e0-dbcb-417d-8235-13cb2fa31724",
   "metadata": {},
   "source": [
    "Note that in the pipeline output we will be using the convention that $X$ is in rows of the output, and $Y$ in the columns. And we will further assume that $X$ is a protein, e.g. PHF8 and Y is a histone. With such assumptions we will be using the `uncertainty_x_given_y` as our final output. The code below verifies this and shows how to extract these numbers from the pipeline"
   ]
  },
  {
   "cell_type": "code",
   "execution_count": 52,
   "id": "f8d7f58e-af08-46ff-89de-99d5a997a4f5",
   "metadata": {},
   "outputs": [
    {
     "data": {
      "text/plain": [
       "0.5821763739923229"
      ]
     },
     "execution_count": 52,
     "metadata": {},
     "output_type": "execute_result"
    }
   ],
   "source": [
    "uncertainty_x_given_y"
   ]
  },
  {
   "cell_type": "markdown",
   "id": "1f6f2ef3-035e-455f-92a8-b568c07d6dce",
   "metadata": {},
   "source": [
    "In one exceptional case, when dealing with (network analysis) a harmonic mean of these parameters will be used, this can be computed using `scipy.stats.hmean` function:"
   ]
  },
  {
   "cell_type": "code",
   "execution_count": 53,
   "id": "4e084d53-abce-454e-ab28-1e929aa60eb5",
   "metadata": {},
   "outputs": [
    {
     "data": {
      "text/plain": [
       "0.47795014437054345"
      ]
     },
     "execution_count": 53,
     "metadata": {},
     "output_type": "execute_result"
    }
   ],
   "source": [
    "from scipy.stats import hmean\n",
    "hmean([uncertainty_x_given_y, uncertainty_y_given_x])"
   ]
  },
  {
   "cell_type": "markdown",
   "id": "74953e99-909b-4119-bc72-8526b64489d0",
   "metadata": {},
   "source": [
    "Or, by a longer form expression which may appear in textbooks:"
   ]
  },
  {
   "cell_type": "code",
   "execution_count": 54,
   "id": "b47e37ff-3b8d-454a-af90-f46030296529",
   "metadata": {},
   "outputs": [
    {
     "data": {
      "text/plain": [
       "0.47795014437054345"
      ]
     },
     "execution_count": 54,
     "metadata": {},
     "output_type": "execute_result"
    }
   ],
   "source": [
    "2 * mi_xy_using_kl_formula / (entropy_marginal_x + entropy_marginal_y)"
   ]
  },
  {
   "cell_type": "markdown",
   "id": "4d0d4412-c33e-4af4-9790-9d0e927436f6",
   "metadata": {},
   "source": [
    "# Verification of pipeline results\n",
    "\n",
    "As we used two encode datasets to comptue this example we can use this notebook to verify the pipeline results, provided that it has been run."
   ]
  },
  {
   "cell_type": "code",
   "execution_count": 55,
   "id": "7548fdc0-23db-458b-a067-54d15b82c117",
   "metadata": {},
   "outputs": [],
   "source": [
    "cell_line = encode_meta['Biosample term name'].unique()\n",
    "assert len(cell_line) == 1\n",
    "cell_line = cell_line[0]"
   ]
  },
  {
   "cell_type": "code",
   "execution_count": 56,
   "id": "64bcd4f4-3dff-430f-99b3-10fd53e9e231",
   "metadata": {},
   "outputs": [
    {
     "data": {
      "text/plain": [
       "1"
      ]
     },
     "execution_count": 56,
     "metadata": {},
     "output_type": "execute_result"
    }
   ],
   "source": [
    "MIN_PERIODS_FOR_CORRELATIONS"
   ]
  },
  {
   "cell_type": "code",
   "execution_count": 57,
   "id": "9014644d-6a40-4119-8c7b-a45f76623366",
   "metadata": {},
   "outputs": [
    {
     "name": "stdout",
     "output_type": "stream",
     "text": [
      "-> Reading pipeline outputs from ../../output/final/analysis/params_1000bp_pc_100_mp_1/K562/consolidated_tables/bedstats_consolidated_K562_1000bp_params_pc_100_mp_1_from_bed.csv.gz\n",
      "-> column headers parsed:\n",
      "Index(['metadata', 'marcs_feature_significant_category', 'normalised_mi',\n",
      "       'entropy_by_row', 'kendall_correlation', 'mi', 'entropy_by_col',\n",
      "       'counts_true_true', 'counts_false_true', 'counts_true_false',\n",
      "       'counts_false_false'],\n",
      "      dtype='object', name='col_type')\n"
     ]
    }
   ],
   "source": [
    "OUTPUT_CSV_GZ = pathlib.Path(\n",
    "    f'../../output/final/analysis/params_{BIN_SIZE}bp_pc_{STATISTICS_PSEUDOCOUNT}_mp_{MIN_PERIODS_FOR_CORRELATIONS}/{cell_line}/consolidated_tables/bedstats_consolidated_{cell_line}_{BIN_SIZE}bp_params_pc_{STATISTICS_PSEUDOCOUNT}_mp_{MIN_PERIODS_FOR_CORRELATIONS}_from_bed.csv.gz'\n",
    ")\n",
    "\n",
    "print(f'-> Reading pipeline outputs from {OUTPUT_CSV_GZ}')\n",
    "assert OUTPUT_CSV_GZ.is_file(), \"Pipeline output not found - are you sure the pipeline was run to completion?\"\n",
    "\n",
    "\n",
    "pipeline_outputs = pd.read_csv(OUTPUT_CSV_GZ, index_col=0)\n",
    "\n",
    "pipeline_outputs.columns = pd.MultiIndex.from_tuples([c.split('__') for c in pipeline_outputs.columns], names=['col_type', 'colname'])\n",
    "\n",
    "print('-> column headers parsed:')\n",
    "print(pipeline_outputs.columns.get_level_values('col_type').unique())\n"
   ]
  },
  {
   "cell_type": "code",
   "execution_count": 58,
   "id": "a51bfaed-367d-4d42-8b9f-b3aab1c6ffba",
   "metadata": {},
   "outputs": [
    {
     "data": {
      "text/html": [
       "<div>\n",
       "<style scoped>\n",
       "    .dataframe tbody tr th:only-of-type {\n",
       "        vertical-align: middle;\n",
       "    }\n",
       "\n",
       "    .dataframe tbody tr th {\n",
       "        vertical-align: top;\n",
       "    }\n",
       "\n",
       "    .dataframe thead tr th {\n",
       "        text-align: left;\n",
       "    }\n",
       "\n",
       "    .dataframe thead tr:last-of-type th {\n",
       "        text-align: right;\n",
       "    }\n",
       "</style>\n",
       "<table border=\"1\" class=\"dataframe\">\n",
       "  <thead>\n",
       "    <tr>\n",
       "      <th>col_type</th>\n",
       "      <th colspan=\"5\" halign=\"left\">metadata</th>\n",
       "      <th colspan=\"5\" halign=\"left\">marcs_feature_significant_category</th>\n",
       "      <th>...</th>\n",
       "      <th colspan=\"10\" halign=\"left\">counts_false_false</th>\n",
       "    </tr>\n",
       "    <tr>\n",
       "      <th>colname</th>\n",
       "      <th>encode_id</th>\n",
       "      <th>cell_line</th>\n",
       "      <th>factor</th>\n",
       "      <th>factor_type</th>\n",
       "      <th>marcs_gene_label</th>\n",
       "      <th>H2A.Z</th>\n",
       "      <th>H3K27ac</th>\n",
       "      <th>H3K27me2</th>\n",
       "      <th>H3K27me3</th>\n",
       "      <th>H3K4me1</th>\n",
       "      <th>...</th>\n",
       "      <th>state:15_Quies</th>\n",
       "      <th>state:1_TssA</th>\n",
       "      <th>state:2_TssAFlnk</th>\n",
       "      <th>state:3_TxFlnk</th>\n",
       "      <th>state:4_Tx</th>\n",
       "      <th>state:5_TxWk</th>\n",
       "      <th>state:6_EnhG</th>\n",
       "      <th>state:7_Enh</th>\n",
       "      <th>state:8_ZNF/Rpts</th>\n",
       "      <th>state:9_Het</th>\n",
       "    </tr>\n",
       "    <tr>\n",
       "      <th>Factor_Cell_Identifier</th>\n",
       "      <th></th>\n",
       "      <th></th>\n",
       "      <th></th>\n",
       "      <th></th>\n",
       "      <th></th>\n",
       "      <th></th>\n",
       "      <th></th>\n",
       "      <th></th>\n",
       "      <th></th>\n",
       "      <th></th>\n",
       "      <th></th>\n",
       "      <th></th>\n",
       "      <th></th>\n",
       "      <th></th>\n",
       "      <th></th>\n",
       "      <th></th>\n",
       "      <th></th>\n",
       "      <th></th>\n",
       "      <th></th>\n",
       "      <th></th>\n",
       "      <th></th>\n",
       "    </tr>\n",
       "  </thead>\n",
       "  <tbody>\n",
       "    <tr>\n",
       "      <th>ADNP-K562-ENCFF739AJO</th>\n",
       "      <td>ENCFF739AJO</td>\n",
       "      <td>K562</td>\n",
       "      <td>ADNP</td>\n",
       "      <td>protein</td>\n",
       "      <td>ADNP</td>\n",
       "      <td>Neither</td>\n",
       "      <td>NaN</td>\n",
       "      <td>NaN</td>\n",
       "      <td>Neither</td>\n",
       "      <td>Neither</td>\n",
       "      <td>...</td>\n",
       "      <td>944095.0</td>\n",
       "      <td>2770050.0</td>\n",
       "      <td>2758028.0</td>\n",
       "      <td>2796910.0</td>\n",
       "      <td>2701476.0</td>\n",
       "      <td>2416319.0</td>\n",
       "      <td>2777986.0</td>\n",
       "      <td>2652595.0</td>\n",
       "      <td>2800345.0</td>\n",
       "      <td>2776332.0</td>\n",
       "    </tr>\n",
       "    <tr>\n",
       "      <th>AFF1-K562-ENCFF195YGC</th>\n",
       "      <td>ENCFF195YGC</td>\n",
       "      <td>K562</td>\n",
       "      <td>AFF1</td>\n",
       "      <td>protein</td>\n",
       "      <td>AFF1</td>\n",
       "      <td>NaN</td>\n",
       "      <td>NaN</td>\n",
       "      <td>NaN</td>\n",
       "      <td>NaN</td>\n",
       "      <td>NaN</td>\n",
       "      <td>...</td>\n",
       "      <td>949267.0</td>\n",
       "      <td>2779125.0</td>\n",
       "      <td>2765182.0</td>\n",
       "      <td>2803088.0</td>\n",
       "      <td>2706542.0</td>\n",
       "      <td>2417014.0</td>\n",
       "      <td>2782919.0</td>\n",
       "      <td>2653527.0</td>\n",
       "      <td>2805917.0</td>\n",
       "      <td>2781939.0</td>\n",
       "    </tr>\n",
       "    <tr>\n",
       "      <th>AFF1-K562-ENCFF674XTY</th>\n",
       "      <td>ENCFF674XTY</td>\n",
       "      <td>K562</td>\n",
       "      <td>AFF1</td>\n",
       "      <td>protein</td>\n",
       "      <td>AFF1</td>\n",
       "      <td>NaN</td>\n",
       "      <td>NaN</td>\n",
       "      <td>NaN</td>\n",
       "      <td>NaN</td>\n",
       "      <td>NaN</td>\n",
       "      <td>...</td>\n",
       "      <td>957511.0</td>\n",
       "      <td>2788113.0</td>\n",
       "      <td>2772685.0</td>\n",
       "      <td>2814105.0</td>\n",
       "      <td>2717880.0</td>\n",
       "      <td>2426518.0</td>\n",
       "      <td>2793931.0</td>\n",
       "      <td>2660970.0</td>\n",
       "      <td>2817366.0</td>\n",
       "      <td>2793315.0</td>\n",
       "    </tr>\n",
       "    <tr>\n",
       "      <th>ARID1B-K562-ENCFF879NTL</th>\n",
       "      <td>ENCFF879NTL</td>\n",
       "      <td>K562</td>\n",
       "      <td>ARID1B</td>\n",
       "      <td>protein</td>\n",
       "      <td>ARID1B</td>\n",
       "      <td>Neither</td>\n",
       "      <td>NaN</td>\n",
       "      <td>NaN</td>\n",
       "      <td>NaN</td>\n",
       "      <td>NaN</td>\n",
       "      <td>...</td>\n",
       "      <td>912195.0</td>\n",
       "      <td>2738438.0</td>\n",
       "      <td>2735645.0</td>\n",
       "      <td>2760289.0</td>\n",
       "      <td>2663106.0</td>\n",
       "      <td>2385776.0</td>\n",
       "      <td>2742981.0</td>\n",
       "      <td>2642590.0</td>\n",
       "      <td>2761588.0</td>\n",
       "      <td>2737625.0</td>\n",
       "    </tr>\n",
       "    <tr>\n",
       "      <th>ARID2-K562-ENCFF913WRW</th>\n",
       "      <td>ENCFF913WRW</td>\n",
       "      <td>K562</td>\n",
       "      <td>ARID2</td>\n",
       "      <td>protein</td>\n",
       "      <td>ARID2</td>\n",
       "      <td>Neither</td>\n",
       "      <td>NaN</td>\n",
       "      <td>NaN</td>\n",
       "      <td>Neither</td>\n",
       "      <td>Neither</td>\n",
       "      <td>...</td>\n",
       "      <td>958075.0</td>\n",
       "      <td>2784414.0</td>\n",
       "      <td>2769572.0</td>\n",
       "      <td>2812570.0</td>\n",
       "      <td>2717226.0</td>\n",
       "      <td>2427008.0</td>\n",
       "      <td>2792948.0</td>\n",
       "      <td>2660247.0</td>\n",
       "      <td>2816181.0</td>\n",
       "      <td>2792197.0</td>\n",
       "    </tr>\n",
       "  </tbody>\n",
       "</table>\n",
       "<p>5 rows × 326 columns</p>\n",
       "</div>"
      ],
      "text/plain": [
       "col_type                    metadata                                \\\n",
       "colname                    encode_id cell_line  factor factor_type   \n",
       "Factor_Cell_Identifier                                               \n",
       "ADNP-K562-ENCFF739AJO    ENCFF739AJO      K562    ADNP     protein   \n",
       "AFF1-K562-ENCFF195YGC    ENCFF195YGC      K562    AFF1     protein   \n",
       "AFF1-K562-ENCFF674XTY    ENCFF674XTY      K562    AFF1     protein   \n",
       "ARID1B-K562-ENCFF879NTL  ENCFF879NTL      K562  ARID1B     protein   \n",
       "ARID2-K562-ENCFF913WRW   ENCFF913WRW      K562   ARID2     protein   \n",
       "\n",
       "col_type                                 marcs_feature_significant_category  \\\n",
       "colname                 marcs_gene_label                              H2A.Z   \n",
       "Factor_Cell_Identifier                                                        \n",
       "ADNP-K562-ENCFF739AJO               ADNP                            Neither   \n",
       "AFF1-K562-ENCFF195YGC               AFF1                                NaN   \n",
       "AFF1-K562-ENCFF674XTY               AFF1                                NaN   \n",
       "ARID1B-K562-ENCFF879NTL           ARID1B                            Neither   \n",
       "ARID2-K562-ENCFF913WRW             ARID2                            Neither   \n",
       "\n",
       "col_type                                                    ...  \\\n",
       "colname                 H3K27ac H3K27me2 H3K27me3  H3K4me1  ...   \n",
       "Factor_Cell_Identifier                                      ...   \n",
       "ADNP-K562-ENCFF739AJO       NaN      NaN  Neither  Neither  ...   \n",
       "AFF1-K562-ENCFF195YGC       NaN      NaN      NaN      NaN  ...   \n",
       "AFF1-K562-ENCFF674XTY       NaN      NaN      NaN      NaN  ...   \n",
       "ARID1B-K562-ENCFF879NTL     NaN      NaN      NaN      NaN  ...   \n",
       "ARID2-K562-ENCFF913WRW      NaN      NaN  Neither  Neither  ...   \n",
       "\n",
       "col_type                counts_false_false                                \\\n",
       "colname                     state:15_Quies state:1_TssA state:2_TssAFlnk   \n",
       "Factor_Cell_Identifier                                                     \n",
       "ADNP-K562-ENCFF739AJO             944095.0    2770050.0        2758028.0   \n",
       "AFF1-K562-ENCFF195YGC             949267.0    2779125.0        2765182.0   \n",
       "AFF1-K562-ENCFF674XTY             957511.0    2788113.0        2772685.0   \n",
       "ARID1B-K562-ENCFF879NTL           912195.0    2738438.0        2735645.0   \n",
       "ARID2-K562-ENCFF913WRW            958075.0    2784414.0        2769572.0   \n",
       "\n",
       "col_type                                                                     \\\n",
       "colname                 state:3_TxFlnk state:4_Tx state:5_TxWk state:6_EnhG   \n",
       "Factor_Cell_Identifier                                                        \n",
       "ADNP-K562-ENCFF739AJO        2796910.0  2701476.0    2416319.0    2777986.0   \n",
       "AFF1-K562-ENCFF195YGC        2803088.0  2706542.0    2417014.0    2782919.0   \n",
       "AFF1-K562-ENCFF674XTY        2814105.0  2717880.0    2426518.0    2793931.0   \n",
       "ARID1B-K562-ENCFF879NTL      2760289.0  2663106.0    2385776.0    2742981.0   \n",
       "ARID2-K562-ENCFF913WRW       2812570.0  2717226.0    2427008.0    2792948.0   \n",
       "\n",
       "col_type                                                          \n",
       "colname                 state:7_Enh state:8_ZNF/Rpts state:9_Het  \n",
       "Factor_Cell_Identifier                                            \n",
       "ADNP-K562-ENCFF739AJO     2652595.0        2800345.0   2776332.0  \n",
       "AFF1-K562-ENCFF195YGC     2653527.0        2805917.0   2781939.0  \n",
       "AFF1-K562-ENCFF674XTY     2660970.0        2817366.0   2793315.0  \n",
       "ARID1B-K562-ENCFF879NTL   2642590.0        2761588.0   2737625.0  \n",
       "ARID2-K562-ENCFF913WRW    2660247.0        2816181.0   2792197.0  \n",
       "\n",
       "[5 rows x 326 columns]"
      ]
     },
     "execution_count": 58,
     "metadata": {},
     "output_type": "execute_result"
    }
   ],
   "source": [
    "pipeline_outputs.head()"
   ]
  },
  {
   "cell_type": "markdown",
   "id": "23032e24-1039-465c-a817-a14cde34fb04",
   "metadata": {},
   "source": [
    "Pipeline outputs are indexed using the Factor-cell-identifier keys, create those here:"
   ]
  },
  {
   "cell_type": "code",
   "execution_count": 59,
   "id": "82d8e25e-1ef6-4d35-823e-2b51c73783e6",
   "metadata": {},
   "outputs": [],
   "source": [
    "def factor_cell_identifier(encode_meta_row):\n",
    "    assay = encode_meta_row['Assay']\n",
    "\n",
    "    if assay in ['TF ChIP-seq', 'Histone ChIP-seq']:\n",
    "        factor = encode_meta_row['Experiment target'].partition('-')[0]\n",
    "    else:\n",
    "        factor = assay\n",
    "        \n",
    "    cell_line = encode_meta_row['Biosample term name']\n",
    "    identifier = encode_meta_row.name\n",
    "    \n",
    "    return f'{factor}-{cell_line}-{identifier}'"
   ]
  },
  {
   "cell_type": "code",
   "execution_count": 60,
   "id": "cb3c3007-d5cf-42fa-b739-e5d243bc202e",
   "metadata": {},
   "outputs": [
    {
     "name": "stdout",
     "output_type": "stream",
     "text": [
      "-> ENCFF981ISM -> PHF8-K562-ENCFF981ISM\n",
      "-> ENCFF122CSI -> H3K4me3-K562-ENCFF122CSI\n"
     ]
    }
   ],
   "source": [
    "FACTOR_CELL_IDENTIFIER_X = factor_cell_identifier(encode_meta.loc[ENCODE_IDENTIFIER_BEDFILE_X])\n",
    "print(f'-> {ENCODE_IDENTIFIER_BEDFILE_X} -> {FACTOR_CELL_IDENTIFIER_X}')\n",
    "FACTOR_CELL_IDENTIFIER_Y = factor_cell_identifier(encode_meta.loc[ENCODE_IDENTIFIER_BEDFILE_Y])\n",
    "print(f'-> {ENCODE_IDENTIFIER_BEDFILE_Y} -> {FACTOR_CELL_IDENTIFIER_Y}')\n"
   ]
  },
  {
   "cell_type": "markdown",
   "id": "46763d97-cd64-4441-984a-a2951ac193bc",
   "metadata": {},
   "source": [
    "Note that the pipeline outputs are not symmetric, and the important statistics are only computed for (`[all assays]` vs `[non-protein assays]`). At this point onwards we will therefore assume that the assay Y is one of the non-protein assays and verify the data this way."
   ]
  },
  {
   "cell_type": "code",
   "execution_count": 61,
   "id": "f907671a-bd98-479a-926f-fa8b8db2c90f",
   "metadata": {},
   "outputs": [],
   "source": [
    "assert encode_meta.loc[ENCODE_IDENTIFIER_BEDFILE_Y, 'Assay'] in ['Histone ChIP-seq', 'ATAC-seq', 'DNAse-seq']\n"
   ]
  },
  {
   "cell_type": "markdown",
   "id": "9483d29e-c033-455e-b6d8-7207208c4810",
   "metadata": {},
   "source": [
    "## Validation of correlation calculation\n",
    "\n",
    "The correlation value is stored in the column called `{CORRELATION_TYPE}_correlation`, we can extract the computed correlation result for our two example bed files:"
   ]
  },
  {
   "cell_type": "code",
   "execution_count": 62,
   "id": "01a5ee60-41b7-4517-8b3c-37d1121a5707",
   "metadata": {},
   "outputs": [
    {
     "data": {
      "text/plain": [
       "'kendall_correlation'"
      ]
     },
     "execution_count": 62,
     "metadata": {},
     "output_type": "execute_result"
    }
   ],
   "source": [
    "f'{CORRELATION_TYPE}_correlation'"
   ]
  },
  {
   "cell_type": "code",
   "execution_count": 63,
   "id": "2651ad09-1511-4bd2-921a-61f6a39684a6",
   "metadata": {},
   "outputs": [],
   "source": [
    "correlation_answer_from_pipeline = pipeline_outputs.loc[\n",
    "    FACTOR_CELL_IDENTIFIER_X, \n",
    "    (\n",
    "        f'{CORRELATION_TYPE}_correlation', FACTOR_CELL_IDENTIFIER_Y\n",
    "    )\n",
    "]"
   ]
  },
  {
   "cell_type": "code",
   "execution_count": 64,
   "id": "e4eb2cb6-7910-4c45-8dbe-da56f3d4620e",
   "metadata": {},
   "outputs": [
    {
     "name": "stdout",
     "output_type": "stream",
     "text": [
      "-> Correlation computed by the pipeline: 0.3595867836677336, correlation computed by us: 0.35958678366773367\n"
     ]
    }
   ],
   "source": [
    "print(f'-> Correlation computed by the pipeline: {correlation_answer_from_pipeline}, correlation computed by us: {correlation_answer}')\n",
    "\n",
    "assert_array_almost_equal(\n",
    "    [correlation_answer], \n",
    "    [correlation_answer_from_pipeline]\n",
    ")"
   ]
  },
  {
   "cell_type": "markdown",
   "id": "2a5e9352-d524-46c1-8ee4-cbfa03250c2d",
   "metadata": {},
   "source": [
    "### Validation of the co-occurrence counts\n",
    "\n",
    "Co-occurrence counts are split between four columns in the pipeline output:\n",
    "\n",
    "1. `counts_true_true`, representing X=True, Y=True (X in rows)\n",
    "2. `counts_false_true`, representing X=False, Y=True (X in rows)\n",
    "3. `counts_true_false`, representing X=True, Y=False (X in rows)\n",
    "4. `counts_false_false` representing X=False, Y=False (X in rows)\n"
   ]
  },
  {
   "cell_type": "code",
   "execution_count": 65,
   "id": "16197344-a3be-4e39-9657-4ac01e3a24df",
   "metadata": {},
   "outputs": [
    {
     "data": {
      "text/plain": [
       "'PHF8-K562-ENCFF981ISM'"
      ]
     },
     "execution_count": 65,
     "metadata": {},
     "output_type": "execute_result"
    }
   ],
   "source": [
    "FACTOR_CELL_IDENTIFIER_X"
   ]
  },
  {
   "cell_type": "code",
   "execution_count": 66,
   "id": "923c665a-89ac-446f-9231-e70d5fafcec1",
   "metadata": {},
   "outputs": [
    {
     "data": {
      "text/html": [
       "<div>\n",
       "<style scoped>\n",
       "    .dataframe tbody tr th:only-of-type {\n",
       "        vertical-align: middle;\n",
       "    }\n",
       "\n",
       "    .dataframe tbody tr th {\n",
       "        vertical-align: top;\n",
       "    }\n",
       "\n",
       "    .dataframe thead th {\n",
       "        text-align: right;\n",
       "    }\n",
       "</style>\n",
       "<table border=\"1\" class=\"dataframe\">\n",
       "  <thead>\n",
       "    <tr style=\"text-align: right;\">\n",
       "      <th>ENCFF122CSI</th>\n",
       "      <th>False</th>\n",
       "      <th>True</th>\n",
       "    </tr>\n",
       "    <tr>\n",
       "      <th>ENCFF981ISM</th>\n",
       "      <th></th>\n",
       "      <th></th>\n",
       "    </tr>\n",
       "  </thead>\n",
       "  <tbody>\n",
       "    <tr>\n",
       "      <th>False</th>\n",
       "      <td>2782330</td>\n",
       "      <td>22382</td>\n",
       "    </tr>\n",
       "    <tr>\n",
       "      <th>True</th>\n",
       "      <td>5065</td>\n",
       "      <td>25458</td>\n",
       "    </tr>\n",
       "  </tbody>\n",
       "</table>\n",
       "</div>"
      ],
      "text/plain": [
       "ENCFF122CSI    False   True\n",
       "ENCFF981ISM                \n",
       "False        2782330  22382\n",
       "True            5065  25458"
      ]
     },
     "execution_count": 66,
     "metadata": {},
     "output_type": "execute_result"
    }
   ],
   "source": [
    "cooccurrence_matrix"
   ]
  },
  {
   "cell_type": "markdown",
   "id": "707fa484-5496-4952-9c93-4631db89d229",
   "metadata": {},
   "source": [
    "We can use that to extract a co-occurrence matrix:"
   ]
  },
  {
   "cell_type": "code",
   "execution_count": 67,
   "id": "52040072-61f1-43f9-b961-3c424b3da745",
   "metadata": {},
   "outputs": [
    {
     "data": {
      "text/html": [
       "<div>\n",
       "<style scoped>\n",
       "    .dataframe tbody tr th:only-of-type {\n",
       "        vertical-align: middle;\n",
       "    }\n",
       "\n",
       "    .dataframe tbody tr th {\n",
       "        vertical-align: top;\n",
       "    }\n",
       "\n",
       "    .dataframe thead th {\n",
       "        text-align: right;\n",
       "    }\n",
       "</style>\n",
       "<table border=\"1\" class=\"dataframe\">\n",
       "  <thead>\n",
       "    <tr style=\"text-align: right;\">\n",
       "      <th>ENCFF122CSI</th>\n",
       "      <th>False</th>\n",
       "      <th>True</th>\n",
       "    </tr>\n",
       "    <tr>\n",
       "      <th>ENCFF981ISM</th>\n",
       "      <th></th>\n",
       "      <th></th>\n",
       "    </tr>\n",
       "  </thead>\n",
       "  <tbody>\n",
       "    <tr>\n",
       "      <th>False</th>\n",
       "      <td>2782330</td>\n",
       "      <td>22382</td>\n",
       "    </tr>\n",
       "    <tr>\n",
       "      <th>True</th>\n",
       "      <td>5065</td>\n",
       "      <td>25458</td>\n",
       "    </tr>\n",
       "  </tbody>\n",
       "</table>\n",
       "</div>"
      ],
      "text/plain": [
       "ENCFF122CSI    False   True\n",
       "ENCFF981ISM                \n",
       "False        2782330  22382\n",
       "True            5065  25458"
      ]
     },
     "execution_count": 67,
     "metadata": {},
     "output_type": "execute_result"
    }
   ],
   "source": [
    "co_occurrence_matrix_from_pipeline = pd.DataFrame([\n",
    "    [\n",
    "     pipeline_outputs.loc[FACTOR_CELL_IDENTIFIER_X, ('counts_false_false', FACTOR_CELL_IDENTIFIER_Y)],\n",
    "     pipeline_outputs.loc[FACTOR_CELL_IDENTIFIER_X, ('counts_false_true', FACTOR_CELL_IDENTIFIER_Y)],\n",
    "    ],\n",
    "    [\n",
    "     pipeline_outputs.loc[FACTOR_CELL_IDENTIFIER_X, ('counts_true_false', FACTOR_CELL_IDENTIFIER_Y)],\n",
    "     pipeline_outputs.loc[FACTOR_CELL_IDENTIFIER_X, ('counts_true_true', FACTOR_CELL_IDENTIFIER_Y)],\n",
    "    ],\n",
    "], index=[False, True], columns=[False, True], dtype=int)\n",
    "\n",
    "co_occurrence_matrix_from_pipeline.index.name = ENCODE_IDENTIFIER_BEDFILE_X\n",
    "co_occurrence_matrix_from_pipeline.columns.name = ENCODE_IDENTIFIER_BEDFILE_Y\n",
    "\n",
    "co_occurrence_matrix_from_pipeline"
   ]
  },
  {
   "cell_type": "markdown",
   "id": "7df02eea-d3ed-4c70-808e-c537d7fbb737",
   "metadata": {},
   "source": [
    "Make sure the results are identical:"
   ]
  },
  {
   "cell_type": "code",
   "execution_count": 68,
   "id": "76e9f5b5-1f4a-4d34-8d6e-fb13cd437a5b",
   "metadata": {},
   "outputs": [],
   "source": [
    "from numpy.testing import assert_array_equal\n",
    "assert_array_equal(cooccurrence_matrix, co_occurrence_matrix_from_pipeline)"
   ]
  },
  {
   "cell_type": "markdown",
   "id": "eed00353-2163-42fa-a42f-8663b76a5c96",
   "metadata": {},
   "source": [
    "### Validation of the entropies\n",
    "\n",
    "We can now validate the marginal entropies.\n",
    "\n",
    "For the $X$ variable, these are listed in the pipeline matrix only once in column `entropy_by_row`:"
   ]
  },
  {
   "cell_type": "code",
   "execution_count": 69,
   "id": "c30aa672-f514-4037-94d0-f91ec9525647",
   "metadata": {},
   "outputs": [
    {
     "name": "stdout",
     "output_type": "stream",
     "text": [
      "-> Marginal entropy for ENCFF981ISM: computed here: 0.05980241823702084, computed by pipeline: 0.0598024182370209\n"
     ]
    }
   ],
   "source": [
    "marginal_entropy_x_from_pipeline = pipeline_outputs.loc[\n",
    "    FACTOR_CELL_IDENTIFIER_X, \n",
    "    ('entropy_by_row', 'entropy_by_row')\n",
    "]\n",
    "\n",
    "print(f'-> Marginal entropy for {ENCODE_IDENTIFIER_BEDFILE_X}: computed here: {entropy_marginal_x}, computed by pipeline: {marginal_entropy_x_from_pipeline}')\n",
    "assert_array_almost_equal([entropy_marginal_x], [marginal_entropy_x_from_pipeline])"
   ]
  },
  {
   "cell_type": "markdown",
   "id": "d9df5b74-143f-4c23-af11-432a2b949919",
   "metadata": {},
   "source": [
    "For variable Y the entropy is listed twice: once in column `entropy_by_row`, the other time as one of the columns in `entropy_by_col`. First, let's find the entropy by row:"
   ]
  },
  {
   "cell_type": "code",
   "execution_count": 70,
   "id": "2dae34be-88eb-415c-95d2-b9e7b90d37be",
   "metadata": {},
   "outputs": [
    {
     "name": "stdout",
     "output_type": "stream",
     "text": [
      "-> Marginal entropy for ENCFF122CSI: computed here: 0.0858845552486885, computed by pipeline: 0.0858845552486885\n"
     ]
    }
   ],
   "source": [
    "marginal_entropy_y_from_pipeline_by_row = pipeline_outputs.loc[\n",
    "    FACTOR_CELL_IDENTIFIER_Y, \n",
    "    ('entropy_by_row', 'entropy_by_row')\n",
    "]\n",
    "\n",
    "print(f'-> Marginal entropy for {ENCODE_IDENTIFIER_BEDFILE_Y}: computed here: {entropy_marginal_y}, computed by pipeline: {marginal_entropy_y_from_pipeline_by_row}')\n",
    "assert_array_almost_equal([entropy_marginal_y], [marginal_entropy_y_from_pipeline_by_row])"
   ]
  },
  {
   "cell_type": "markdown",
   "id": "9575e39d-fd43-41b4-8a3c-acf2cd86ca39",
   "metadata": {},
   "source": [
    "And now by column (the whole `entropy_by_col` column will be the same value ...)"
   ]
  },
  {
   "cell_type": "code",
   "execution_count": 71,
   "id": "29acdd5e-8744-4504-9c66-0f09e6451ad9",
   "metadata": {},
   "outputs": [
    {
     "name": "stdout",
     "output_type": "stream",
     "text": [
      "-> Marginal entropy for ENCFF122CSI: computed here: 0.0858845552486885, computed by pipeline (column): [0.08588456]\n"
     ]
    }
   ],
   "source": [
    "marginal_entropy_y_from_pipeline_by_col = pipeline_outputs[('entropy_by_col', FACTOR_CELL_IDENTIFIER_Y)].unique()\n",
    "\n",
    "print(f'-> Marginal entropy for {ENCODE_IDENTIFIER_BEDFILE_Y}: computed here: {entropy_marginal_y}, computed by pipeline (column): {marginal_entropy_y_from_pipeline_by_col}')\n",
    "\n",
    "\n",
    "assert_array_almost_equal([entropy_marginal_y], marginal_entropy_y_from_pipeline_by_col)\n",
    "\n"
   ]
  },
  {
   "cell_type": "markdown",
   "id": "bbd3a8aa-769a-42bf-9ed0-5d9a19dcc609",
   "metadata": {},
   "source": [
    "Similarly, we can verify Mutual Information calculations:"
   ]
  },
  {
   "cell_type": "code",
   "execution_count": 72,
   "id": "f2fafcf4-4507-463f-8b2d-c5cfb7040423",
   "metadata": {},
   "outputs": [
    {
     "name": "stdout",
     "output_type": "stream",
     "text": [
      "-> MI for ENCFF981ISM, ENCFF122CSI: computed here: 0.03481555500520116, computed by pipeline: 0.0348155550052011\n"
     ]
    }
   ],
   "source": [
    "mi_from_pipeline = pipeline_outputs.loc[FACTOR_CELL_IDENTIFIER_X, ('mi', FACTOR_CELL_IDENTIFIER_Y)]\n",
    "\n",
    "print(f'-> MI for {ENCODE_IDENTIFIER_BEDFILE_X}, {ENCODE_IDENTIFIER_BEDFILE_Y}: computed here: {mi_xy_using_kl_formula}, computed by pipeline: {mi_from_pipeline}')\n",
    "\n",
    "assert_array_almost_equal([mi_xy_using_kl_formula], [mi_from_pipeline])"
   ]
  },
  {
   "cell_type": "markdown",
   "id": "fbac7ad4-cc81-42d1-9067-716f7cfab908",
   "metadata": {},
   "source": [
    "And finally, and most importantly we need to verify that the normalised mutual information column in the pipeline output correspond to the `uncertainty_x_given_y`, and _not_ `uncertainty_y_given_x`"
   ]
  },
  {
   "cell_type": "code",
   "execution_count": 73,
   "id": "ae031d8d-b4bc-41dd-b227-3a959d8734a7",
   "metadata": {},
   "outputs": [
    {
     "name": "stdout",
     "output_type": "stream",
     "text": [
      "-> Normed MI ENCFF981ISM \"given\" ENCFF122CSI: computed here: 0.5821763739923229, computed by pipeline: 0.5821763739923219\n",
      "-> Note this is not the same as normed MI ENCFF122CSI \"given\" ENCFF981ISM (=0.4053762041893185)\n"
     ]
    }
   ],
   "source": [
    "normed_mi_from_pipeline = pipeline_outputs.loc[FACTOR_CELL_IDENTIFIER_X, ('normalised_mi', FACTOR_CELL_IDENTIFIER_Y)]\n",
    "\n",
    "print(f'-> Normed MI {ENCODE_IDENTIFIER_BEDFILE_X} \"given\" {ENCODE_IDENTIFIER_BEDFILE_Y}: computed here: {uncertainty_x_given_y}, computed by pipeline: {normed_mi_from_pipeline}')\n",
    "\n",
    "assert_array_almost_equal([uncertainty_x_given_y], [normed_mi_from_pipeline])\n",
    "\n",
    "print(f'-> Note this is not the same as normed MI {ENCODE_IDENTIFIER_BEDFILE_Y} \"given\" {ENCODE_IDENTIFIER_BEDFILE_X} (={uncertainty_y_given_x})')\n"
   ]
  },
  {
   "cell_type": "markdown",
   "id": "d35a9874-97a6-4bc4-b8b3-ec91dc874bb8",
   "metadata": {},
   "source": [
    "That's it !"
   ]
  }
 ],
 "metadata": {
  "kernelspec": {
   "display_name": "Python 3",
   "language": "python",
   "name": "python3"
  },
  "language_info": {
   "codemirror_mode": {
    "name": "ipython",
    "version": 3
   },
   "file_extension": ".py",
   "mimetype": "text/x-python",
   "name": "python",
   "nbconvert_exporter": "python",
   "pygments_lexer": "ipython3",
   "version": "3.9.12"
  }
 },
 "nbformat": 4,
 "nbformat_minor": 5
}
