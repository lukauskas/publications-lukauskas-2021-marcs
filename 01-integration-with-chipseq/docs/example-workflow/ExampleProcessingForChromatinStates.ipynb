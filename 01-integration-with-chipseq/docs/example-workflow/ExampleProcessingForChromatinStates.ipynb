{
 "cells": [
  {
   "cell_type": "code",
   "execution_count": 1,
   "id": "cca41935-32e9-4092-837f-851653849d2f",
   "metadata": {},
   "outputs": [],
   "source": [
    "import pathlib\n",
    "import pandas as pd\n",
    "import numpy as np"
   ]
  },
  {
   "cell_type": "markdown",
   "id": "40ae144e-c959-46a8-8195-4794b6534e0a",
   "metadata": {},
   "source": [
    "## Configuration and Inputs\n",
    "\n",
    "First let's set up the environment.\n",
    "\n",
    "Let's start with a few inputs, defined below.\n",
    "\n",
    "Input: pipeline inputs (raw data) directory:"
   ]
  },
  {
   "cell_type": "code",
   "execution_count": 2,
   "id": "bcb68901-df3c-4c3d-9c1d-de2dc9439488",
   "metadata": {},
   "outputs": [],
   "source": [
    "RAW_DATA_DIR = pathlib.Path('../../data/raw')"
   ]
  },
  {
   "cell_type": "markdown",
   "id": "cafa03cc-c083-4d9f-8a1c-4141c8e69e39",
   "metadata": {},
   "source": [
    "List of ENCODE files (from pipeline's raw data)"
   ]
  },
  {
   "cell_type": "code",
   "execution_count": 3,
   "id": "e4c0f0a1-d2d3-4841-883b-125e0dd9d5e0",
   "metadata": {},
   "outputs": [],
   "source": [
    "ENCODE_METADATA_TSV = RAW_DATA_DIR / 'encode/encode_metadata.2021-11-05.tsv.gz'\n",
    "assert ENCODE_METADATA_TSV.is_file()"
   ]
  },
  {
   "cell_type": "markdown",
   "id": "11521e87-0158-4847-875b-b6ce032883e5",
   "metadata": {},
   "source": [
    "**Input**: blacklist file for hg38"
   ]
  },
  {
   "cell_type": "code",
   "execution_count": 4,
   "id": "f003c905-cc29-4d00-a82a-21b18bacd752",
   "metadata": {},
   "outputs": [],
   "source": [
    "BLACKLIST = RAW_DATA_DIR / 'blacklist/hg38-blacklist.v2.bed.gz'"
   ]
  },
  {
   "cell_type": "markdown",
   "id": "59e066f2-5d62-42ce-b11d-184db56e8c9f",
   "metadata": {},
   "source": [
    "Input: chromsizes file for `hg38`, only the canonical chromosomes"
   ]
  },
  {
   "cell_type": "code",
   "execution_count": 5,
   "id": "ad91ca34-948c-441e-8cc1-faaf23850a5c",
   "metadata": {},
   "outputs": [],
   "source": [
    "CHROMSIZES = RAW_DATA_DIR / 'genome/hg38.filtered.chrom.sizes'"
   ]
  },
  {
   "cell_type": "markdown",
   "id": "826c9654-d798-469d-9839-ebfaababa6ec",
   "metadata": {},
   "source": [
    "Get a set of valid chromosomes from chromsizes file"
   ]
  },
  {
   "cell_type": "code",
   "execution_count": 6,
   "id": "a0aaca00-9482-4712-bbc6-8004f5f6ac94",
   "metadata": {},
   "outputs": [
    {
     "data": {
      "text/plain": [
       "{'chr1',\n",
       " 'chr10',\n",
       " 'chr11',\n",
       " 'chr12',\n",
       " 'chr13',\n",
       " 'chr14',\n",
       " 'chr15',\n",
       " 'chr16',\n",
       " 'chr17',\n",
       " 'chr18',\n",
       " 'chr19',\n",
       " 'chr2',\n",
       " 'chr20',\n",
       " 'chr21',\n",
       " 'chr22',\n",
       " 'chr3',\n",
       " 'chr4',\n",
       " 'chr5',\n",
       " 'chr6',\n",
       " 'chr7',\n",
       " 'chr8',\n",
       " 'chr9',\n",
       " 'chrX'}"
      ]
     },
     "execution_count": 6,
     "metadata": {},
     "output_type": "execute_result"
    }
   ],
   "source": [
    "VALID_CHROMOSOMES = set()\n",
    "\n",
    "with open(CHROMSIZES, 'rt') as f:\n",
    "    for line in f:\n",
    "        VALID_CHROMOSOMES.add(line.partition('\\t')[0])\n",
    "VALID_CHROMOSOMES"
   ]
  },
  {
   "cell_type": "markdown",
   "id": "d9106f5f-1697-46b9-9322-0c314da13cde",
   "metadata": {},
   "source": [
    "**Config**: the configuration directives required for computations, as they're defined in the [main config file](../../config/config.yaml)."
   ]
  },
  {
   "cell_type": "code",
   "execution_count": 7,
   "id": "57b78a87-5f3b-447b-ac25-13cba1c8abea",
   "metadata": {},
   "outputs": [],
   "source": [
    "BIN_SIZE = 1000  \n",
    "STATISTICS_PSEUDOCOUNT = 100\n",
    "# We only need the number below for the verification step (to load the correct results file)\n",
    "MIN_PERIODS_FOR_CORRELATIONS = 1"
   ]
  },
  {
   "cell_type": "markdown",
   "id": "182c4f6f-2515-48ae-a50e-d52f87b1b076",
   "metadata": {},
   "source": [
    "While the pipeline analyses the ENCODE data exhaustively, in this script we will only process the data for one `BED` dataset that we will call $X$. We define this dataset by its ENCODE identifier below.\n",
    "\n",
    "We will becomparing this dataset $X$ to a chromatin state defined by it's shorthand name.\n",
    "You can find the list of available chromatin states and their shorthands [on the Roadmap website](https://egg2.wustl.edu/roadmap/web_portal/chr_state_learning.html)."
   ]
  },
  {
   "cell_type": "code",
   "execution_count": 8,
   "id": "5e383429-2e6c-43b5-829e-ff33ca2d0b7f",
   "metadata": {},
   "outputs": [],
   "source": [
    "ENCODE_IDENTIFIER_BEDFILE_X = 'ENCFF981ISM' # PHF8\n",
    "CHROMATIN_STATE = '1_TssA'"
   ]
  },
  {
   "cell_type": "markdown",
   "id": "2342542f-2ff6-4308-9d89-c57bef1bfb1d",
   "metadata": {},
   "source": [
    "We will write outputs to the directory specified by the combination of these identifeirs:"
   ]
  },
  {
   "cell_type": "code",
   "execution_count": 9,
   "id": "bc5fc23c-5e80-435f-9bda-5f62750bb304",
   "metadata": {},
   "outputs": [],
   "source": [
    "NOTEBOOK_OUTPUT_DIR = pathlib.Path('outputs') / f'{ENCODE_IDENTIFIER_BEDFILE_X}-{CHROMATIN_STATE}'\n",
    "if not NOTEBOOK_OUTPUT_DIR.is_dir():\n",
    "    NOTEBOOK_OUTPUT_DIR.mkdir(parents=True)"
   ]
  },
  {
   "cell_type": "markdown",
   "id": "caf788f2-2876-4266-9fbc-1c0296d347d0",
   "metadata": {},
   "source": [
    "## Downloading ENCODE data\n",
    "\n",
    "Just like the pipeline, we can extract the information about ENCODE files from the encode metadata TSV:"
   ]
  },
  {
   "cell_type": "code",
   "execution_count": 10,
   "id": "af0b8922-aed1-4b09-bf74-96b432a461e9",
   "metadata": {},
   "outputs": [
    {
     "name": "stderr",
     "output_type": "stream",
     "text": [
      "<ipython-input-10-7f394826646b>:1: DtypeWarning: Columns (20) have mixed types. Specify dtype option on import or set low_memory=False.\n",
      "  encode_meta = pd.read_csv(ENCODE_METADATA_TSV, sep='\\t', index_col=0)\n"
     ]
    },
    {
     "data": {
      "text/html": [
       "<div>\n",
       "<style scoped>\n",
       "    .dataframe tbody tr th:only-of-type {\n",
       "        vertical-align: middle;\n",
       "    }\n",
       "\n",
       "    .dataframe tbody tr th {\n",
       "        vertical-align: top;\n",
       "    }\n",
       "\n",
       "    .dataframe thead th {\n",
       "        text-align: right;\n",
       "    }\n",
       "</style>\n",
       "<table border=\"1\" class=\"dataframe\">\n",
       "  <thead>\n",
       "    <tr style=\"text-align: right;\">\n",
       "      <th></th>\n",
       "      <th>File format</th>\n",
       "      <th>File type</th>\n",
       "      <th>File format type</th>\n",
       "      <th>Output type</th>\n",
       "      <th>File assembly</th>\n",
       "      <th>Experiment accession</th>\n",
       "      <th>Assay</th>\n",
       "      <th>Donor(s)</th>\n",
       "      <th>Biosample term id</th>\n",
       "      <th>Biosample term name</th>\n",
       "      <th>...</th>\n",
       "      <th>Genome annotation</th>\n",
       "      <th>Platform</th>\n",
       "      <th>Controlled by</th>\n",
       "      <th>File Status</th>\n",
       "      <th>s3_uri</th>\n",
       "      <th>File analysis title</th>\n",
       "      <th>File analysis status</th>\n",
       "      <th>Audit WARNING</th>\n",
       "      <th>Audit NOT_COMPLIANT</th>\n",
       "      <th>Audit ERROR</th>\n",
       "    </tr>\n",
       "    <tr>\n",
       "      <th>File accession</th>\n",
       "      <th></th>\n",
       "      <th></th>\n",
       "      <th></th>\n",
       "      <th></th>\n",
       "      <th></th>\n",
       "      <th></th>\n",
       "      <th></th>\n",
       "      <th></th>\n",
       "      <th></th>\n",
       "      <th></th>\n",
       "      <th></th>\n",
       "      <th></th>\n",
       "      <th></th>\n",
       "      <th></th>\n",
       "      <th></th>\n",
       "      <th></th>\n",
       "      <th></th>\n",
       "      <th></th>\n",
       "      <th></th>\n",
       "      <th></th>\n",
       "      <th></th>\n",
       "    </tr>\n",
       "  </thead>\n",
       "  <tbody>\n",
       "    <tr>\n",
       "      <th>ENCFF981ISM</th>\n",
       "      <td>bed narrowPeak</td>\n",
       "      <td>bed</td>\n",
       "      <td>narrowPeak</td>\n",
       "      <td>IDR thresholded peaks</td>\n",
       "      <td>GRCh38</td>\n",
       "      <td>ENCSR000AQH</td>\n",
       "      <td>TF ChIP-seq</td>\n",
       "      <td>/human-donors/ENCDO000AAD/</td>\n",
       "      <td>EFO:0002067</td>\n",
       "      <td>K562</td>\n",
       "      <td>...</td>\n",
       "      <td>NaN</td>\n",
       "      <td>NaN</td>\n",
       "      <td>NaN</td>\n",
       "      <td>released</td>\n",
       "      <td>s3://encode-public/2021/01/07/4e27a806-b056-4a...</td>\n",
       "      <td>ENCODE4 v1.6.1 GRCh38</td>\n",
       "      <td>released</td>\n",
       "      <td>borderline replicate concordance, low read len...</td>\n",
       "      <td>NaN</td>\n",
       "      <td>NaN</td>\n",
       "    </tr>\n",
       "  </tbody>\n",
       "</table>\n",
       "<p>1 rows × 57 columns</p>\n",
       "</div>"
      ],
      "text/plain": [
       "                   File format File type File format type  \\\n",
       "File accession                                              \n",
       "ENCFF981ISM     bed narrowPeak       bed       narrowPeak   \n",
       "\n",
       "                          Output type File assembly Experiment accession  \\\n",
       "File accession                                                             \n",
       "ENCFF981ISM     IDR thresholded peaks        GRCh38          ENCSR000AQH   \n",
       "\n",
       "                      Assay                    Donor(s) Biosample term id  \\\n",
       "File accession                                                              \n",
       "ENCFF981ISM     TF ChIP-seq  /human-donors/ENCDO000AAD/       EFO:0002067   \n",
       "\n",
       "               Biosample term name  ... Genome annotation Platform  \\\n",
       "File accession                      ...                              \n",
       "ENCFF981ISM                   K562  ...               NaN      NaN   \n",
       "\n",
       "               Controlled by File Status  \\\n",
       "File accession                             \n",
       "ENCFF981ISM              NaN    released   \n",
       "\n",
       "                                                           s3_uri  \\\n",
       "File accession                                                      \n",
       "ENCFF981ISM     s3://encode-public/2021/01/07/4e27a806-b056-4a...   \n",
       "\n",
       "                  File analysis title File analysis status  \\\n",
       "File accession                                               \n",
       "ENCFF981ISM     ENCODE4 v1.6.1 GRCh38             released   \n",
       "\n",
       "                                                    Audit WARNING  \\\n",
       "File accession                                                      \n",
       "ENCFF981ISM     borderline replicate concordance, low read len...   \n",
       "\n",
       "                Audit NOT_COMPLIANT Audit ERROR  \n",
       "File accession                                   \n",
       "ENCFF981ISM                     NaN         NaN  \n",
       "\n",
       "[1 rows x 57 columns]"
      ]
     },
     "execution_count": 10,
     "metadata": {},
     "output_type": "execute_result"
    }
   ],
   "source": [
    "encode_meta = pd.read_csv(ENCODE_METADATA_TSV, sep='\\t', index_col=0)\n",
    "encode_meta = encode_meta.loc[[ENCODE_IDENTIFIER_BEDFILE_X]]\n",
    "encode_meta"
   ]
  },
  {
   "cell_type": "markdown",
   "id": "c49e1677-deb1-4610-a5b8-f20df4acf26f",
   "metadata": {},
   "source": [
    "The file can be downloaded from the columns `File download URL` and `md5sum`"
   ]
  },
  {
   "cell_type": "code",
   "execution_count": 11,
   "id": "537782d6-a3d6-4879-9bbc-18e82cd2a42f",
   "metadata": {},
   "outputs": [
    {
     "data": {
      "text/html": [
       "<div>\n",
       "<style scoped>\n",
       "    .dataframe tbody tr th:only-of-type {\n",
       "        vertical-align: middle;\n",
       "    }\n",
       "\n",
       "    .dataframe tbody tr th {\n",
       "        vertical-align: top;\n",
       "    }\n",
       "\n",
       "    .dataframe thead th {\n",
       "        text-align: right;\n",
       "    }\n",
       "</style>\n",
       "<table border=\"1\" class=\"dataframe\">\n",
       "  <thead>\n",
       "    <tr style=\"text-align: right;\">\n",
       "      <th></th>\n",
       "      <th>File download URL</th>\n",
       "      <th>md5sum</th>\n",
       "    </tr>\n",
       "    <tr>\n",
       "      <th>File accession</th>\n",
       "      <th></th>\n",
       "      <th></th>\n",
       "    </tr>\n",
       "  </thead>\n",
       "  <tbody>\n",
       "    <tr>\n",
       "      <th>ENCFF981ISM</th>\n",
       "      <td>https://www.encodeproject.org/files/ENCFF981IS...</td>\n",
       "      <td>9c193f16fb52a60daa00555fc986a6a1</td>\n",
       "    </tr>\n",
       "  </tbody>\n",
       "</table>\n",
       "</div>"
      ],
      "text/plain": [
       "                                                File download URL  \\\n",
       "File accession                                                      \n",
       "ENCFF981ISM     https://www.encodeproject.org/files/ENCFF981IS...   \n",
       "\n",
       "                                          md5sum  \n",
       "File accession                                    \n",
       "ENCFF981ISM     9c193f16fb52a60daa00555fc986a6a1  "
      ]
     },
     "execution_count": 11,
     "metadata": {},
     "output_type": "execute_result"
    }
   ],
   "source": [
    "encode_meta[['File download URL', 'md5sum']]"
   ]
  },
  {
   "cell_type": "markdown",
   "id": "8a1e7c79-a9fd-4338-8b40-ce6103ccf270",
   "metadata": {},
   "source": [
    "For simplicity we will keep using the file identifier as filename, and will be downloading the file to the following location:"
   ]
  },
  {
   "cell_type": "code",
   "execution_count": 12,
   "id": "0c01bc10-99fd-475b-9707-b119fdf58270",
   "metadata": {},
   "outputs": [
    {
     "data": {
      "text/plain": [
       "{'ENCFF981ISM': PosixPath('outputs/ENCFF981ISM-1_TssA/ENCFF981ISM.bed.gz')}"
      ]
     },
     "execution_count": 12,
     "metadata": {},
     "output_type": "execute_result"
    }
   ],
   "source": [
    "BED_FILENAMES = {\n",
    "    id_: (NOTEBOOK_OUTPUT_DIR / f'{id_}.bed.gz') for id_ in encode_meta.index\n",
    "}\n",
    "BED_FILENAMES"
   ]
  },
  {
   "cell_type": "code",
   "execution_count": 13,
   "id": "29daabc9-62c3-4af5-9dc5-c94208b6114b",
   "metadata": {},
   "outputs": [
    {
     "name": "stdout",
     "output_type": "stream",
     "text": [
      "-> Downloading https://www.encodeproject.org/files/ENCFF981ISM/@@download/ENCFF981ISM.bed.gz to outputs/ENCFF981ISM-1_TssA/ENCFF981ISM.bed.gz\n",
      "-> Verifying checksum\n",
      "-> Downloaded file checksum: 9c193f16fb52a60daa00555fc986a6a1\n"
     ]
    }
   ],
   "source": [
    "import urllib.request\n",
    "import hashlib\n",
    "\n",
    "for id_, row in encode_meta[['File download URL', 'md5sum']].iterrows():\n",
    "    url = row['File download URL']\n",
    "    expected_checksum = row['md5sum']\n",
    "    target_filename = BED_FILENAMES[id_]\n",
    "    \n",
    "    print(f\"-> Downloading {url} to {target_filename}\")\n",
    "    urllib.request.urlretrieve(url, target_filename)\n",
    "    \n",
    "    print(f\"-> Verifying checksum\")\n",
    "    \n",
    "    # Computes MD5 checksum for file, see https://stackoverflow.com/a/59056796/171400\n",
    "    with open(target_filename, 'rb') as f:\n",
    "        checksum = hashlib.md5()\n",
    "        while chunk := f.read(8192):\n",
    "            checksum.update(chunk)\n",
    "        \n",
    "        checksum = checksum.hexdigest()\n",
    "    print(f\"-> Downloaded file checksum: {checksum}\")\n",
    "    assert checksum == expected_checksum, \"Checksums do not match\""
   ]
  },
  {
   "cell_type": "markdown",
   "id": "b69a35c0-4716-4cf6-9306-bfc1e812a7fb",
   "metadata": {},
   "source": [
    "## Obtaining chromatin state data\n",
    "\n",
    "We will use the hg38 liftover of ROADMAP chromatin states that was already downloaded to [data/raw/roadmap](data/raw/roadmap). See README in this directory on how to obtain it."
   ]
  },
  {
   "cell_type": "code",
   "execution_count": 14,
   "id": "e9ca76b0-f01d-4cfb-8b25-64edafa53e57",
   "metadata": {},
   "outputs": [],
   "source": [
    "ROADMAP_CHROMATIN_STATES_TGZ = RAW_DATA_DIR / 'roadmap/all_hg38lift.mnemonics.bedFiles.2021-11-25.tgz'\n",
    "assert ROADMAP_CHROMATIN_STATES_TGZ.exists()"
   ]
  },
  {
   "cell_type": "markdown",
   "id": "c0157d8f-0976-4bb9-9ddc-442ce97ed3cc",
   "metadata": {},
   "source": [
    "We need to extract the chromatin state information for the correct cell line from this archive.\n",
    "\n",
    "We will assume cell line K562, whose ROADMAP Epigenome identifier is `E123`.\n",
    "You can find identifiers for other cell lines [in the Roadmap metadata spreadsheet](https://egg2.wustl.edu/roadmap/web_portal/meta.html)."
   ]
  },
  {
   "cell_type": "code",
   "execution_count": 15,
   "id": "c60fcbbe-21ba-4941-bdb5-642fd21ef906",
   "metadata": {},
   "outputs": [],
   "source": [
    "EPIGENOME_IDENTIFIER = 'E123' # K562\n",
    "ROADMAP_CHROMATIN_STATE_FILENAME = f'{EPIGENOME_IDENTIFIER}_15_coreMarks_hg38lift_mnemonics.bed.gz'\n",
    "CHROMATIN_STATE_FILE = NOTEBOOK_OUTPUT_DIR / ROADMAP_CHROMATIN_STATE_FILENAME"
   ]
  },
  {
   "cell_type": "code",
   "execution_count": 16,
   "id": "41d7313f-eb6b-4c00-beab-7c31c7bb5a98",
   "metadata": {},
   "outputs": [
    {
     "name": "stdout",
     "output_type": "stream",
     "text": [
      "Extracting chromatin states for E123 to file outputs/ENCFF981ISM-1_TssA/E123_15_coreMarks_hg38lift_mnemonics.bed.gz\n",
      "Will run the following shell command:\n",
      "tar -xOzf ../../data/raw/roadmap/all_hg38lift.mnemonics.bedFiles.2021-11-25.tgz E123_15_coreMarks_hg38lift_mnemonics.bed.gz\n",
      "Done !\n"
     ]
    }
   ],
   "source": [
    "print(f\"Extracting chromatin states for {EPIGENOME_IDENTIFIER} to file {CHROMATIN_STATE_FILE}\")\n",
    "print(\"Will run the following shell command:\")\n",
    "_command = ['tar', '-xOzf', ROADMAP_CHROMATIN_STATES_TGZ, ROADMAP_CHROMATIN_STATE_FILENAME]\n",
    "print(' '.join(map(str,_command)))\n",
    "\n",
    "import subprocess\n",
    "with open(CHROMATIN_STATE_FILE, 'wb') as f:\n",
    "    subprocess.run(_command, stdout=f, check=True)\n",
    "    \n",
    "print(\"Done !\")\n",
    "assert CHROMATIN_STATE_FILE.exists()"
   ]
  },
  {
   "cell_type": "markdown",
   "id": "1c814232-1cdd-483a-adfd-d7ac475c9ab3",
   "metadata": {},
   "source": [
    "The first ten rows of this file will give an indication on how the data is structured:"
   ]
  },
  {
   "cell_type": "code",
   "execution_count": 17,
   "id": "a4ccb35a-e4d1-4dd6-88a6-22b437d62cb8",
   "metadata": {},
   "outputs": [
    {
     "name": "stdout",
     "output_type": "stream",
     "text": [
      "chr1\t10000\t10800\t9_Het\n",
      "chr1\t10800\t96080\t15_Quies\n",
      "chr1\t96276\t96476\t15_Quies\n",
      "chr1\t97276\t109000\t15_Quies\n",
      "chr1\t109000\t109200\t7_Enh\n",
      "chr1\t109200\t118400\t15_Quies\n",
      "chr1\t118400\t118800\t1_TssA\n",
      "chr1\t118800\t138400\t15_Quies\n",
      "chr1\t138400\t139400\t1_TssA\n",
      "chr1\t139400\t177200\t15_Quies\n"
     ]
    }
   ],
   "source": [
    "import gzip\n",
    "with gzip.open(CHROMATIN_STATE_FILE, 'rt') as f:\n",
    "    \n",
    "    n_rows = 10\n",
    "    for line in f:\n",
    "        print(line.strip())\n",
    "        n_rows -= 1\n",
    "        if n_rows <= 0:\n",
    "            break"
   ]
  },
  {
   "cell_type": "markdown",
   "id": "5b5c1c5f-c82b-4675-810c-788628f88f04",
   "metadata": {},
   "source": [
    "### Non-overlaping genomic bins\n",
    "\n",
    "We start the data processing by dividing the whole genome into a set of non-overlapping bins of the specified bin size (parameter `BIN_SIZE`). This is achieved with [`bedtools makewindows`](https://daler.github.io/pybedtools/autodocs/pybedtools.bedtool.BedTool.window_maker.html)."
   ]
  },
  {
   "cell_type": "code",
   "execution_count": 18,
   "id": "1d1ae3c0-30ff-44ee-a0d4-c5aa88fbeb65",
   "metadata": {},
   "outputs": [],
   "source": [
    "import pybedtools"
   ]
  },
  {
   "cell_type": "code",
   "execution_count": 19,
   "id": "20159e39-665c-4d72-b403-8c5a637652a6",
   "metadata": {},
   "outputs": [],
   "source": [
    "genomic_windows = pybedtools.BedTool().window_maker(w=BIN_SIZE, g=CHROMSIZES, i='srcwinnum')\n",
    "genomic_windows = genomic_windows.saveas(NOTEBOOK_OUTPUT_DIR / 'genomic_windows.bed.gz')"
   ]
  },
  {
   "cell_type": "code",
   "execution_count": 20,
   "id": "1f53543e-8007-4a1d-836d-9eac18cb7935",
   "metadata": {},
   "outputs": [
    {
     "name": "stdout",
     "output_type": "stream",
     "text": [
      "Made 3,031,053 genomic windows of bin size 1,000bp\n"
     ]
    }
   ],
   "source": [
    "print(\"Made {:,} genomic windows of bin size {:,}bp\".format(len(genomic_windows), BIN_SIZE))"
   ]
  },
  {
   "cell_type": "markdown",
   "id": "c62adbdc-91fb-459f-bd4d-50a6db05920a",
   "metadata": {},
   "source": [
    "Now throw away the genomic windows that overlap blacklisted regions"
   ]
  },
  {
   "cell_type": "code",
   "execution_count": 21,
   "id": "29bb60ed-3101-42a8-997f-c9fb9194b8ce",
   "metadata": {},
   "outputs": [],
   "source": [
    "blacklist = pybedtools.BedTool(BLACKLIST)"
   ]
  },
  {
   "cell_type": "code",
   "execution_count": 22,
   "id": "ba2d60c7-fa22-4199-8a06-0acba8e860da",
   "metadata": {},
   "outputs": [
    {
     "data": {
      "text/plain": [
       "<BedTool(outputs/ENCFF981ISM-1_TssA/genomic_windows_wo_blacklist.bed.gz)>"
      ]
     },
     "execution_count": 22,
     "metadata": {},
     "output_type": "execute_result"
    }
   ],
   "source": [
    "genomic_windows_no_blacklist = genomic_windows.intersect(blacklist, v=True)\n",
    "genomic_windows_no_blacklist.saveas(NOTEBOOK_OUTPUT_DIR / 'genomic_windows_wo_blacklist.bed.gz')\n"
   ]
  },
  {
   "cell_type": "code",
   "execution_count": 23,
   "id": "0da56ed8-a0dd-4306-b4fa-09900bc4b465",
   "metadata": {},
   "outputs": [
    {
     "name": "stdout",
     "output_type": "stream",
     "text": [
      "Was left with 2,835,235 genomic windows of bin size 1,000bp\n"
     ]
    }
   ],
   "source": [
    "print(\"Was left with {:,} genomic windows of bin size {:,}bp\".format(len(genomic_windows_no_blacklist), BIN_SIZE))"
   ]
  },
  {
   "cell_type": "markdown",
   "id": "3f319455-736c-410e-b681-c25fe36ea8fa",
   "metadata": {},
   "source": [
    "### genomic-bins vs bedfile intersection matrix\n",
    "\n",
    "Once we have the genomic windows matrix we can use it as a common ground on which to project the ChIP-seq datasets onto. \n",
    "\n",
    "For each genomic bin, we want to obtain the maximum [`signalValue` (column 7)](https://genome.ucsc.edu/FAQ/FAQformat.html#format12) of the peaks from the `bed` files that overlap this bin. We can achieve this with [`bedtools map`](https://bedtools.readthedocs.io/en/latest/content/tools/map.html) operation."
   ]
  },
  {
   "cell_type": "code",
   "execution_count": 24,
   "id": "7f5fb6c1-2068-4f5b-81e1-4591740c384b",
   "metadata": {},
   "outputs": [
    {
     "name": "stdout",
     "output_type": "stream",
     "text": [
      "-> Processing outputs/ENCFF981ISM-1_TssA/ENCFF981ISM.bed.gz\n",
      "-> Done. Saving as outputs/ENCFF981ISM-1_TssA/ENCFF981ISM.mapped_to_genomic_windows.bed.gz\n"
     ]
    }
   ],
   "source": [
    "matrix_to_bedtool_maps = {}\n",
    "\n",
    "for id_, bed_filename in  BED_FILENAMES.items():\n",
    "    print(f\"-> Processing {bed_filename}\")\n",
    "    \n",
    "    # Load bed filename\n",
    "    bed = pybedtools.BedTool(bed_filename)\n",
    "    # Drop chromosomes we are not interested in\n",
    "    bed = bed.filter(lambda x: x.chrom in VALID_CHROMOSOMES)\n",
    "    # Sort it\n",
    "    bed = bed.sort(g=CHROMSIZES)\n",
    "    \n",
    "    # Map this file onto the genomic window\n",
    "    mapped = genomic_windows_no_blacklist.map(\n",
    "        bed,\n",
    "        \n",
    "        c=7, # signalValue\n",
    "        o='max'\n",
    "    )\n",
    "    \n",
    "    new_filename = (NOTEBOOK_OUTPUT_DIR / f'{id_}.mapped_to_genomic_windows.bed.gz')\n",
    "    print(f'-> Done. Saving as {new_filename}')\n",
    "    mapped.saveas(new_filename)\n",
    "    \n",
    "    matrix_to_bedtool_maps[id_] = mapped\n",
    "    "
   ]
  },
  {
   "cell_type": "markdown",
   "id": "d9df6906-661a-4408-91e6-3474f1cf56c3",
   "metadata": {},
   "source": [
    "What the code above does result in is the bed file whose regions are the same of the genomic windows, but the fifth column (score) now corresponds to the maximum signal value overlapping peaks, or a dot (`.`) if the overlap is missing:"
   ]
  },
  {
   "cell_type": "code",
   "execution_count": 25,
   "id": "16c969e6-9598-44b3-848a-28efd990e737",
   "metadata": {},
   "outputs": [
    {
     "name": "stdout",
     "output_type": "stream",
     "text": [
      "chr1\t793000\t794000\tchr1_794\t.\n",
      " chr1\t794000\t795000\tchr1_795\t.\n",
      " chr1\t795000\t796000\tchr1_796\t.\n",
      " chr1\t796000\t797000\tchr1_797\t.\n",
      " chr1\t797000\t798000\tchr1_798\t.\n",
      " chr1\t798000\t799000\tchr1_799\t.\n",
      " chr1\t799000\t800000\tchr1_800\t.\n",
      " chr1\t800000\t801000\tchr1_801\t.\n",
      " chr1\t801000\t802000\tchr1_802\t.\n",
      " chr1\t802000\t803000\tchr1_803\t.\n",
      " chr1\t803000\t804000\tchr1_804\t.\n",
      " chr1\t804000\t805000\tchr1_805\t.\n",
      " chr1\t805000\t806000\tchr1_806\t.\n",
      " chr1\t806000\t807000\tchr1_807\t.\n",
      " chr1\t807000\t808000\tchr1_808\t.\n",
      " chr1\t808000\t809000\tchr1_809\t.\n",
      " chr1\t809000\t810000\tchr1_810\t.\n",
      " chr1\t810000\t811000\tchr1_811\t.\n",
      " chr1\t811000\t812000\tchr1_812\t.\n",
      " chr1\t812000\t813000\tchr1_813\t.\n",
      " "
     ]
    }
   ],
   "source": [
    "matrix_to_bedtool_maps[ENCODE_IDENTIFIER_BEDFILE_X].head(20)"
   ]
  },
  {
   "cell_type": "markdown",
   "id": "029b0fb1-387e-4846-883f-a8c6f6a1c001",
   "metadata": {},
   "source": [
    "### Chromatin states vs bedfile intersection matrix\n",
    "\n",
    "We have to process the chromatin state bed file slightly differently.\n",
    "For each genomic bin, we want to obtain _all_ of the chromatin states that overlap this bin.\n",
    "\n",
    "To do this, we need to aggregate over column 4 (name/mnemonic), and use bedtools operation \"distinct\" (see [bedtools documentation](https://bedtools.readthedocs.io/en/latest/content/tools/map.html))."
   ]
  },
  {
   "cell_type": "code",
   "execution_count": 26,
   "id": "24974ab3-6340-440a-955b-a85f1e51f335",
   "metadata": {},
   "outputs": [
    {
     "name": "stdout",
     "output_type": "stream",
     "text": [
      "-> Processing outputs/ENCFF981ISM-1_TssA/E123_15_coreMarks_hg38lift_mnemonics.bed.gz\n",
      "-> Done. Saving as outputs/ENCFF981ISM-1_TssA/chromatin_states.mapped_to_genomic_windows.bed.gz\n"
     ]
    }
   ],
   "source": [
    "for id_, bed_filename in [('chromatin_states', CHROMATIN_STATE_FILE)]:\n",
    "    print(f\"-> Processing {bed_filename}\")\n",
    "    \n",
    "    # Load bed filename\n",
    "    bed = pybedtools.BedTool(bed_filename)\n",
    "    \n",
    "    # Drop chromosomes we are not interested in\n",
    "    bed = bed.filter(lambda x: x.chrom in VALID_CHROMOSOMES)\n",
    "    \n",
    "    # Sort it\n",
    "    bed = bed.sort(g=CHROMSIZES)\n",
    "    \n",
    "    # Map this file onto the genomic window\n",
    "    mapped = genomic_windows_no_blacklist.map(\n",
    "        bed,\n",
    "        \n",
    "        c=4, # Mnemonic\n",
    "        o='distinct'\n",
    "    )\n",
    "    \n",
    "    new_filename = (NOTEBOOK_OUTPUT_DIR / f'{id_}.mapped_to_genomic_windows.bed.gz')\n",
    "    print(f'-> Done. Saving as {new_filename}')\n",
    "    mapped.saveas(new_filename)\n",
    "    \n",
    "    matrix_to_bedtool_maps[id_] = mapped\n",
    "    "
   ]
  },
  {
   "cell_type": "markdown",
   "id": "c26b290a-9627-47a4-8ec9-d33d01735afb",
   "metadata": {},
   "source": [
    "The resulting bed file looks like this. Note how bins overlapping multiple chromatin states\n",
    "have them all listed, separated with commas:"
   ]
  },
  {
   "cell_type": "code",
   "execution_count": 27,
   "id": "71ee26c4-ff35-4f7a-8735-0758396d2a8b",
   "metadata": {},
   "outputs": [
    {
     "name": "stdout",
     "output_type": "stream",
     "text": [
      "chr1\t793000\t794000\tchr1_794\t15_Quies\n",
      " chr1\t794000\t795000\tchr1_795\t15_Quies\n",
      " chr1\t795000\t796000\tchr1_796\t15_Quies\n",
      " chr1\t796000\t797000\tchr1_797\t15_Quies\n",
      " chr1\t797000\t798000\tchr1_798\t15_Quies\n",
      " chr1\t798000\t799000\tchr1_799\t15_Quies\n",
      " chr1\t799000\t800000\tchr1_800\t15_Quies\n",
      " chr1\t800000\t801000\tchr1_801\t15_Quies\n",
      " chr1\t801000\t802000\tchr1_802\t15_Quies\n",
      " chr1\t802000\t803000\tchr1_803\t15_Quies\n",
      " chr1\t803000\t804000\tchr1_804\t15_Quies\n",
      " chr1\t804000\t805000\tchr1_805\t15_Quies,7_Enh\n",
      " chr1\t805000\t806000\tchr1_806\t5_TxWk,7_Enh\n",
      " chr1\t806000\t807000\tchr1_807\t5_TxWk\n",
      " chr1\t807000\t808000\tchr1_808\t5_TxWk\n",
      " chr1\t808000\t809000\tchr1_809\t5_TxWk\n",
      " chr1\t809000\t810000\tchr1_810\t5_TxWk\n",
      " chr1\t810000\t811000\tchr1_811\t5_TxWk\n",
      " chr1\t811000\t812000\tchr1_812\t5_TxWk\n",
      " chr1\t812000\t813000\tchr1_813\t1_TssA,2_TssAFlnk,5_TxWk\n",
      " "
     ]
    }
   ],
   "source": [
    "matrix_to_bedtool_maps['chromatin_states'].head(20)"
   ]
  },
  {
   "cell_type": "markdown",
   "id": "4c99982e-4066-42a3-b233-097c0edf8806",
   "metadata": {},
   "source": [
    "At this point we can get out of the bedtools environment and work in pandas:"
   ]
  },
  {
   "cell_type": "code",
   "execution_count": 28,
   "id": "e3b158fa-31b7-4a23-9ccd-ff3e158190f0",
   "metadata": {},
   "outputs": [],
   "source": [
    "matrix_to_bedtool_maps_df = {\n",
    "    id_: mapped_bed.to_dataframe()\n",
    "    for id_, mapped_bed in matrix_to_bedtool_maps.items()\n",
    "}"
   ]
  },
  {
   "cell_type": "code",
   "execution_count": 29,
   "id": "62c9cc6d-6ef6-4ac3-b2a9-90620724bb5f",
   "metadata": {},
   "outputs": [
    {
     "data": {
      "text/html": [
       "<div>\n",
       "<style scoped>\n",
       "    .dataframe tbody tr th:only-of-type {\n",
       "        vertical-align: middle;\n",
       "    }\n",
       "\n",
       "    .dataframe tbody tr th {\n",
       "        vertical-align: top;\n",
       "    }\n",
       "\n",
       "    .dataframe thead th {\n",
       "        text-align: right;\n",
       "    }\n",
       "</style>\n",
       "<table border=\"1\" class=\"dataframe\">\n",
       "  <thead>\n",
       "    <tr style=\"text-align: right;\">\n",
       "      <th></th>\n",
       "      <th>chrom</th>\n",
       "      <th>start</th>\n",
       "      <th>end</th>\n",
       "      <th>name</th>\n",
       "      <th>score</th>\n",
       "    </tr>\n",
       "  </thead>\n",
       "  <tbody>\n",
       "    <tr>\n",
       "      <th>0</th>\n",
       "      <td>chr1</td>\n",
       "      <td>793000</td>\n",
       "      <td>794000</td>\n",
       "      <td>chr1_794</td>\n",
       "      <td>.</td>\n",
       "    </tr>\n",
       "    <tr>\n",
       "      <th>1</th>\n",
       "      <td>chr1</td>\n",
       "      <td>794000</td>\n",
       "      <td>795000</td>\n",
       "      <td>chr1_795</td>\n",
       "      <td>.</td>\n",
       "    </tr>\n",
       "    <tr>\n",
       "      <th>2</th>\n",
       "      <td>chr1</td>\n",
       "      <td>795000</td>\n",
       "      <td>796000</td>\n",
       "      <td>chr1_796</td>\n",
       "      <td>.</td>\n",
       "    </tr>\n",
       "    <tr>\n",
       "      <th>3</th>\n",
       "      <td>chr1</td>\n",
       "      <td>796000</td>\n",
       "      <td>797000</td>\n",
       "      <td>chr1_797</td>\n",
       "      <td>.</td>\n",
       "    </tr>\n",
       "    <tr>\n",
       "      <th>4</th>\n",
       "      <td>chr1</td>\n",
       "      <td>797000</td>\n",
       "      <td>798000</td>\n",
       "      <td>chr1_798</td>\n",
       "      <td>.</td>\n",
       "    </tr>\n",
       "    <tr>\n",
       "      <th>...</th>\n",
       "      <td>...</td>\n",
       "      <td>...</td>\n",
       "      <td>...</td>\n",
       "      <td>...</td>\n",
       "      <td>...</td>\n",
       "    </tr>\n",
       "    <tr>\n",
       "      <th>2835230</th>\n",
       "      <td>chrX</td>\n",
       "      <td>155978000</td>\n",
       "      <td>155979000</td>\n",
       "      <td>chrX_155979</td>\n",
       "      <td>.</td>\n",
       "    </tr>\n",
       "    <tr>\n",
       "      <th>2835231</th>\n",
       "      <td>chrX</td>\n",
       "      <td>155979000</td>\n",
       "      <td>155980000</td>\n",
       "      <td>chrX_155980</td>\n",
       "      <td>.</td>\n",
       "    </tr>\n",
       "    <tr>\n",
       "      <th>2835232</th>\n",
       "      <td>chrX</td>\n",
       "      <td>155980000</td>\n",
       "      <td>155981000</td>\n",
       "      <td>chrX_155981</td>\n",
       "      <td>.</td>\n",
       "    </tr>\n",
       "    <tr>\n",
       "      <th>2835233</th>\n",
       "      <td>chrX</td>\n",
       "      <td>155981000</td>\n",
       "      <td>155982000</td>\n",
       "      <td>chrX_155982</td>\n",
       "      <td>.</td>\n",
       "    </tr>\n",
       "    <tr>\n",
       "      <th>2835234</th>\n",
       "      <td>chrX</td>\n",
       "      <td>155982000</td>\n",
       "      <td>155983000</td>\n",
       "      <td>chrX_155983</td>\n",
       "      <td>.</td>\n",
       "    </tr>\n",
       "  </tbody>\n",
       "</table>\n",
       "<p>2835235 rows × 5 columns</p>\n",
       "</div>"
      ],
      "text/plain": [
       "        chrom      start        end         name score\n",
       "0        chr1     793000     794000     chr1_794     .\n",
       "1        chr1     794000     795000     chr1_795     .\n",
       "2        chr1     795000     796000     chr1_796     .\n",
       "3        chr1     796000     797000     chr1_797     .\n",
       "4        chr1     797000     798000     chr1_798     .\n",
       "...       ...        ...        ...          ...   ...\n",
       "2835230  chrX  155978000  155979000  chrX_155979     .\n",
       "2835231  chrX  155979000  155980000  chrX_155980     .\n",
       "2835232  chrX  155980000  155981000  chrX_155981     .\n",
       "2835233  chrX  155981000  155982000  chrX_155982     .\n",
       "2835234  chrX  155982000  155983000  chrX_155983     .\n",
       "\n",
       "[2835235 rows x 5 columns]"
      ]
     },
     "execution_count": 29,
     "metadata": {},
     "output_type": "execute_result"
    }
   ],
   "source": [
    "matrix_to_bedtool_maps_df[ENCODE_IDENTIFIER_BEDFILE_X]"
   ]
  },
  {
   "cell_type": "code",
   "execution_count": 30,
   "id": "30092326-2a51-47b3-9cb9-cb702227dedf",
   "metadata": {},
   "outputs": [
    {
     "data": {
      "text/html": [
       "<div>\n",
       "<style scoped>\n",
       "    .dataframe tbody tr th:only-of-type {\n",
       "        vertical-align: middle;\n",
       "    }\n",
       "\n",
       "    .dataframe tbody tr th {\n",
       "        vertical-align: top;\n",
       "    }\n",
       "\n",
       "    .dataframe thead th {\n",
       "        text-align: right;\n",
       "    }\n",
       "</style>\n",
       "<table border=\"1\" class=\"dataframe\">\n",
       "  <thead>\n",
       "    <tr style=\"text-align: right;\">\n",
       "      <th></th>\n",
       "      <th>chrom</th>\n",
       "      <th>start</th>\n",
       "      <th>end</th>\n",
       "      <th>name</th>\n",
       "      <th>score</th>\n",
       "    </tr>\n",
       "  </thead>\n",
       "  <tbody>\n",
       "    <tr>\n",
       "      <th>0</th>\n",
       "      <td>chr1</td>\n",
       "      <td>793000</td>\n",
       "      <td>794000</td>\n",
       "      <td>chr1_794</td>\n",
       "      <td>15_Quies</td>\n",
       "    </tr>\n",
       "    <tr>\n",
       "      <th>1</th>\n",
       "      <td>chr1</td>\n",
       "      <td>794000</td>\n",
       "      <td>795000</td>\n",
       "      <td>chr1_795</td>\n",
       "      <td>15_Quies</td>\n",
       "    </tr>\n",
       "    <tr>\n",
       "      <th>2</th>\n",
       "      <td>chr1</td>\n",
       "      <td>795000</td>\n",
       "      <td>796000</td>\n",
       "      <td>chr1_796</td>\n",
       "      <td>15_Quies</td>\n",
       "    </tr>\n",
       "    <tr>\n",
       "      <th>3</th>\n",
       "      <td>chr1</td>\n",
       "      <td>796000</td>\n",
       "      <td>797000</td>\n",
       "      <td>chr1_797</td>\n",
       "      <td>15_Quies</td>\n",
       "    </tr>\n",
       "    <tr>\n",
       "      <th>4</th>\n",
       "      <td>chr1</td>\n",
       "      <td>797000</td>\n",
       "      <td>798000</td>\n",
       "      <td>chr1_798</td>\n",
       "      <td>15_Quies</td>\n",
       "    </tr>\n",
       "    <tr>\n",
       "      <th>...</th>\n",
       "      <td>...</td>\n",
       "      <td>...</td>\n",
       "      <td>...</td>\n",
       "      <td>...</td>\n",
       "      <td>...</td>\n",
       "    </tr>\n",
       "    <tr>\n",
       "      <th>2835230</th>\n",
       "      <td>chrX</td>\n",
       "      <td>155978000</td>\n",
       "      <td>155979000</td>\n",
       "      <td>chrX_155979</td>\n",
       "      <td>15_Quies</td>\n",
       "    </tr>\n",
       "    <tr>\n",
       "      <th>2835231</th>\n",
       "      <td>chrX</td>\n",
       "      <td>155979000</td>\n",
       "      <td>155980000</td>\n",
       "      <td>chrX_155980</td>\n",
       "      <td>15_Quies</td>\n",
       "    </tr>\n",
       "    <tr>\n",
       "      <th>2835232</th>\n",
       "      <td>chrX</td>\n",
       "      <td>155980000</td>\n",
       "      <td>155981000</td>\n",
       "      <td>chrX_155981</td>\n",
       "      <td>15_Quies</td>\n",
       "    </tr>\n",
       "    <tr>\n",
       "      <th>2835233</th>\n",
       "      <td>chrX</td>\n",
       "      <td>155981000</td>\n",
       "      <td>155982000</td>\n",
       "      <td>chrX_155982</td>\n",
       "      <td>15_Quies</td>\n",
       "    </tr>\n",
       "    <tr>\n",
       "      <th>2835234</th>\n",
       "      <td>chrX</td>\n",
       "      <td>155982000</td>\n",
       "      <td>155983000</td>\n",
       "      <td>chrX_155983</td>\n",
       "      <td>15_Quies</td>\n",
       "    </tr>\n",
       "  </tbody>\n",
       "</table>\n",
       "<p>2835235 rows × 5 columns</p>\n",
       "</div>"
      ],
      "text/plain": [
       "        chrom      start        end         name     score\n",
       "0        chr1     793000     794000     chr1_794  15_Quies\n",
       "1        chr1     794000     795000     chr1_795  15_Quies\n",
       "2        chr1     795000     796000     chr1_796  15_Quies\n",
       "3        chr1     796000     797000     chr1_797  15_Quies\n",
       "4        chr1     797000     798000     chr1_798  15_Quies\n",
       "...       ...        ...        ...          ...       ...\n",
       "2835230  chrX  155978000  155979000  chrX_155979  15_Quies\n",
       "2835231  chrX  155979000  155980000  chrX_155980  15_Quies\n",
       "2835232  chrX  155980000  155981000  chrX_155981  15_Quies\n",
       "2835233  chrX  155981000  155982000  chrX_155982  15_Quies\n",
       "2835234  chrX  155982000  155983000  chrX_155983  15_Quies\n",
       "\n",
       "[2835235 rows x 5 columns]"
      ]
     },
     "execution_count": 30,
     "metadata": {},
     "output_type": "execute_result"
    }
   ],
   "source": [
    "matrix_to_bedtool_maps_df['chromatin_states']"
   ]
  },
  {
   "cell_type": "markdown",
   "id": "01e8b217-cfd5-4fe6-89be-5c17a0949bae",
   "metadata": {},
   "source": [
    "### Converting matrices into a workable format: bed file"
   ]
  },
  {
   "cell_type": "markdown",
   "id": "873bbc55-137c-438d-9ad7-ff241feaac71",
   "metadata": {},
   "source": [
    "We are mostly interested in the `score` column here.\n",
    "For the bed file X, the process is fairly straightforward:\n",
    "\n",
    "1. Settthe index to the column `name`\n",
    "2. Select only the `score` column\n",
    "3. Replace `.` scores with NaNs\n",
    "4. Convert to `float`"
   ]
  },
  {
   "cell_type": "code",
   "execution_count": 31,
   "id": "c1c17f18-10e3-433b-9174-d37310dff077",
   "metadata": {},
   "outputs": [
    {
     "data": {
      "text/html": [
       "<div>\n",
       "<style scoped>\n",
       "    .dataframe tbody tr th:only-of-type {\n",
       "        vertical-align: middle;\n",
       "    }\n",
       "\n",
       "    .dataframe tbody tr th {\n",
       "        vertical-align: top;\n",
       "    }\n",
       "\n",
       "    .dataframe thead th {\n",
       "        text-align: right;\n",
       "    }\n",
       "</style>\n",
       "<table border=\"1\" class=\"dataframe\">\n",
       "  <thead>\n",
       "    <tr style=\"text-align: right;\">\n",
       "      <th></th>\n",
       "      <th>ENCFF981ISM</th>\n",
       "    </tr>\n",
       "    <tr>\n",
       "      <th>name</th>\n",
       "      <th></th>\n",
       "    </tr>\n",
       "  </thead>\n",
       "  <tbody>\n",
       "    <tr>\n",
       "      <th>chr1_794</th>\n",
       "      <td>NaN</td>\n",
       "    </tr>\n",
       "    <tr>\n",
       "      <th>chr1_795</th>\n",
       "      <td>NaN</td>\n",
       "    </tr>\n",
       "    <tr>\n",
       "      <th>chr1_796</th>\n",
       "      <td>NaN</td>\n",
       "    </tr>\n",
       "    <tr>\n",
       "      <th>chr1_797</th>\n",
       "      <td>NaN</td>\n",
       "    </tr>\n",
       "    <tr>\n",
       "      <th>chr1_798</th>\n",
       "      <td>NaN</td>\n",
       "    </tr>\n",
       "    <tr>\n",
       "      <th>...</th>\n",
       "      <td>...</td>\n",
       "    </tr>\n",
       "    <tr>\n",
       "      <th>chrX_155979</th>\n",
       "      <td>NaN</td>\n",
       "    </tr>\n",
       "    <tr>\n",
       "      <th>chrX_155980</th>\n",
       "      <td>NaN</td>\n",
       "    </tr>\n",
       "    <tr>\n",
       "      <th>chrX_155981</th>\n",
       "      <td>NaN</td>\n",
       "    </tr>\n",
       "    <tr>\n",
       "      <th>chrX_155982</th>\n",
       "      <td>NaN</td>\n",
       "    </tr>\n",
       "    <tr>\n",
       "      <th>chrX_155983</th>\n",
       "      <td>NaN</td>\n",
       "    </tr>\n",
       "  </tbody>\n",
       "</table>\n",
       "<p>2835235 rows × 1 columns</p>\n",
       "</div>"
      ],
      "text/plain": [
       "             ENCFF981ISM\n",
       "name                    \n",
       "chr1_794             NaN\n",
       "chr1_795             NaN\n",
       "chr1_796             NaN\n",
       "chr1_797             NaN\n",
       "chr1_798             NaN\n",
       "...                  ...\n",
       "chrX_155979          NaN\n",
       "chrX_155980          NaN\n",
       "chrX_155981          NaN\n",
       "chrX_155982          NaN\n",
       "chrX_155983          NaN\n",
       "\n",
       "[2835235 rows x 1 columns]"
      ]
     },
     "execution_count": 31,
     "metadata": {},
     "output_type": "execute_result"
    }
   ],
   "source": [
    "bed_matrix = pd.DataFrame(\n",
    "    {\n",
    "        id_: matrix_to_bedtool_maps_df[id_].set_index('name')['score'].replace('.', np.nan).astype(float)\n",
    "        for id_ in [ENCODE_IDENTIFIER_BEDFILE_X]\n",
    "    }\n",
    ")\n",
    "bed_matrix"
   ]
  },
  {
   "cell_type": "markdown",
   "id": "734a4c41-c4f3-423e-89be-8a9328e5d6a7",
   "metadata": {},
   "source": [
    "Since we cannot compute correlations between chromatin states (for that, see other examples), we will only need the boolean matrix:"
   ]
  },
  {
   "cell_type": "code",
   "execution_count": 32,
   "id": "1048b4df-de29-4699-8345-a6311eae4c96",
   "metadata": {},
   "outputs": [
    {
     "data": {
      "text/html": [
       "<div>\n",
       "<style scoped>\n",
       "    .dataframe tbody tr th:only-of-type {\n",
       "        vertical-align: middle;\n",
       "    }\n",
       "\n",
       "    .dataframe tbody tr th {\n",
       "        vertical-align: top;\n",
       "    }\n",
       "\n",
       "    .dataframe thead th {\n",
       "        text-align: right;\n",
       "    }\n",
       "</style>\n",
       "<table border=\"1\" class=\"dataframe\">\n",
       "  <thead>\n",
       "    <tr style=\"text-align: right;\">\n",
       "      <th></th>\n",
       "      <th>ENCFF981ISM</th>\n",
       "    </tr>\n",
       "    <tr>\n",
       "      <th>name</th>\n",
       "      <th></th>\n",
       "    </tr>\n",
       "  </thead>\n",
       "  <tbody>\n",
       "    <tr>\n",
       "      <th>chr1_794</th>\n",
       "      <td>False</td>\n",
       "    </tr>\n",
       "    <tr>\n",
       "      <th>chr1_795</th>\n",
       "      <td>False</td>\n",
       "    </tr>\n",
       "    <tr>\n",
       "      <th>chr1_796</th>\n",
       "      <td>False</td>\n",
       "    </tr>\n",
       "    <tr>\n",
       "      <th>chr1_797</th>\n",
       "      <td>False</td>\n",
       "    </tr>\n",
       "    <tr>\n",
       "      <th>chr1_798</th>\n",
       "      <td>False</td>\n",
       "    </tr>\n",
       "  </tbody>\n",
       "</table>\n",
       "</div>"
      ],
      "text/plain": [
       "          ENCFF981ISM\n",
       "name                 \n",
       "chr1_794        False\n",
       "chr1_795        False\n",
       "chr1_796        False\n",
       "chr1_797        False\n",
       "chr1_798        False"
      ]
     },
     "execution_count": 32,
     "metadata": {},
     "output_type": "execute_result"
    }
   ],
   "source": [
    "bed_matrix_binary = ~bed_matrix.isnull()\n",
    "bed_matrix_binary.head()"
   ]
  },
  {
   "cell_type": "markdown",
   "id": "59bc88d2-fd52-4b47-a010-3b77b9af8328",
   "metadata": {},
   "source": [
    "### Converting matrices into workable format: chromatin states"
   ]
  },
  {
   "cell_type": "markdown",
   "id": "cb902d94-1f19-493b-b868-890a214dfa0a",
   "metadata": {},
   "source": [
    "For chromatin states, however, the process is a bit more involved as we need to do the following:\n",
    "    \n",
    "1. Set the index to the column `name`\n",
    "2. Select only the `score` column\n",
    "3. Replace `.` scores with empty strings\n",
    "4. Split the chromatin states by commas\n",
    "5. Pick only the regions that contain the chromatin state of interest\n",
    "6. Convert to `bool`"
   ]
  },
  {
   "cell_type": "markdown",
   "id": "139648b9-89f6-443a-b940-1f312cc9d35e",
   "metadata": {},
   "source": [
    "This complicated set of `pandas` commands will do the trick:"
   ]
  },
  {
   "cell_type": "code",
   "execution_count": 33,
   "id": "6841a697-52b6-47fe-8364-ae57998cab2c",
   "metadata": {},
   "outputs": [
    {
     "data": {
      "text/html": [
       "<div>\n",
       "<style scoped>\n",
       "    .dataframe tbody tr th:only-of-type {\n",
       "        vertical-align: middle;\n",
       "    }\n",
       "\n",
       "    .dataframe tbody tr th {\n",
       "        vertical-align: top;\n",
       "    }\n",
       "\n",
       "    .dataframe thead th {\n",
       "        text-align: right;\n",
       "    }\n",
       "</style>\n",
       "<table border=\"1\" class=\"dataframe\">\n",
       "  <thead>\n",
       "    <tr style=\"text-align: right;\">\n",
       "      <th></th>\n",
       "      <th>name</th>\n",
       "      <th>i</th>\n",
       "      <th>chromatin_state</th>\n",
       "    </tr>\n",
       "  </thead>\n",
       "  <tbody>\n",
       "    <tr>\n",
       "      <th>0</th>\n",
       "      <td>chr1_794</td>\n",
       "      <td>0</td>\n",
       "      <td>15_Quies</td>\n",
       "    </tr>\n",
       "    <tr>\n",
       "      <th>1</th>\n",
       "      <td>chr1_795</td>\n",
       "      <td>0</td>\n",
       "      <td>15_Quies</td>\n",
       "    </tr>\n",
       "    <tr>\n",
       "      <th>2</th>\n",
       "      <td>chr1_796</td>\n",
       "      <td>0</td>\n",
       "      <td>15_Quies</td>\n",
       "    </tr>\n",
       "    <tr>\n",
       "      <th>3</th>\n",
       "      <td>chr1_797</td>\n",
       "      <td>0</td>\n",
       "      <td>15_Quies</td>\n",
       "    </tr>\n",
       "    <tr>\n",
       "      <th>4</th>\n",
       "      <td>chr1_798</td>\n",
       "      <td>0</td>\n",
       "      <td>15_Quies</td>\n",
       "    </tr>\n",
       "    <tr>\n",
       "      <th>5</th>\n",
       "      <td>chr1_799</td>\n",
       "      <td>0</td>\n",
       "      <td>15_Quies</td>\n",
       "    </tr>\n",
       "    <tr>\n",
       "      <th>6</th>\n",
       "      <td>chr1_800</td>\n",
       "      <td>0</td>\n",
       "      <td>15_Quies</td>\n",
       "    </tr>\n",
       "    <tr>\n",
       "      <th>7</th>\n",
       "      <td>chr1_801</td>\n",
       "      <td>0</td>\n",
       "      <td>15_Quies</td>\n",
       "    </tr>\n",
       "    <tr>\n",
       "      <th>8</th>\n",
       "      <td>chr1_802</td>\n",
       "      <td>0</td>\n",
       "      <td>15_Quies</td>\n",
       "    </tr>\n",
       "    <tr>\n",
       "      <th>9</th>\n",
       "      <td>chr1_803</td>\n",
       "      <td>0</td>\n",
       "      <td>15_Quies</td>\n",
       "    </tr>\n",
       "    <tr>\n",
       "      <th>10</th>\n",
       "      <td>chr1_804</td>\n",
       "      <td>0</td>\n",
       "      <td>15_Quies</td>\n",
       "    </tr>\n",
       "    <tr>\n",
       "      <th>11</th>\n",
       "      <td>chr1_805</td>\n",
       "      <td>0</td>\n",
       "      <td>15_Quies</td>\n",
       "    </tr>\n",
       "    <tr>\n",
       "      <th>12</th>\n",
       "      <td>chr1_805</td>\n",
       "      <td>1</td>\n",
       "      <td>7_Enh</td>\n",
       "    </tr>\n",
       "    <tr>\n",
       "      <th>13</th>\n",
       "      <td>chr1_806</td>\n",
       "      <td>0</td>\n",
       "      <td>5_TxWk</td>\n",
       "    </tr>\n",
       "    <tr>\n",
       "      <th>14</th>\n",
       "      <td>chr1_806</td>\n",
       "      <td>1</td>\n",
       "      <td>7_Enh</td>\n",
       "    </tr>\n",
       "    <tr>\n",
       "      <th>15</th>\n",
       "      <td>chr1_807</td>\n",
       "      <td>0</td>\n",
       "      <td>5_TxWk</td>\n",
       "    </tr>\n",
       "    <tr>\n",
       "      <th>16</th>\n",
       "      <td>chr1_808</td>\n",
       "      <td>0</td>\n",
       "      <td>5_TxWk</td>\n",
       "    </tr>\n",
       "    <tr>\n",
       "      <th>17</th>\n",
       "      <td>chr1_809</td>\n",
       "      <td>0</td>\n",
       "      <td>5_TxWk</td>\n",
       "    </tr>\n",
       "    <tr>\n",
       "      <th>18</th>\n",
       "      <td>chr1_810</td>\n",
       "      <td>0</td>\n",
       "      <td>5_TxWk</td>\n",
       "    </tr>\n",
       "    <tr>\n",
       "      <th>19</th>\n",
       "      <td>chr1_811</td>\n",
       "      <td>0</td>\n",
       "      <td>5_TxWk</td>\n",
       "    </tr>\n",
       "  </tbody>\n",
       "</table>\n",
       "</div>"
      ],
      "text/plain": [
       "        name  i chromatin_state\n",
       "0   chr1_794  0        15_Quies\n",
       "1   chr1_795  0        15_Quies\n",
       "2   chr1_796  0        15_Quies\n",
       "3   chr1_797  0        15_Quies\n",
       "4   chr1_798  0        15_Quies\n",
       "5   chr1_799  0        15_Quies\n",
       "6   chr1_800  0        15_Quies\n",
       "7   chr1_801  0        15_Quies\n",
       "8   chr1_802  0        15_Quies\n",
       "9   chr1_803  0        15_Quies\n",
       "10  chr1_804  0        15_Quies\n",
       "11  chr1_805  0        15_Quies\n",
       "12  chr1_805  1           7_Enh\n",
       "13  chr1_806  0          5_TxWk\n",
       "14  chr1_806  1           7_Enh\n",
       "15  chr1_807  0          5_TxWk\n",
       "16  chr1_808  0          5_TxWk\n",
       "17  chr1_809  0          5_TxWk\n",
       "18  chr1_810  0          5_TxWk\n",
       "19  chr1_811  0          5_TxWk"
      ]
     },
     "execution_count": 33,
     "metadata": {},
     "output_type": "execute_result"
    }
   ],
   "source": [
    "# Reindex and pick score\n",
    "chromatin_state_matrix = matrix_to_bedtool_maps_df['chromatin_states'].set_index('name')['score'].copy()\n",
    "# Replace dots with empty\n",
    "chromatin_state_matrix = chromatin_state_matrix.replace('.', '').fillna('')\n",
    "# Split states by ',', the expand=True followed with stack will generate results in the long form, see output:\n",
    "chromatin_state_matrix = chromatin_state_matrix.astype(str).str.split(',', expand=True).stack()\n",
    "# We want to be able to name the resulting columns\n",
    "chromatin_state_matrix = chromatin_state_matrix.reset_index()\n",
    "# Name is the same as bedfile name, \"i\" is an iterator which tracks which position the chromatin state was in\n",
    "# and chromatin state is chromatin state\n",
    "chromatin_state_matrix.columns = ['name', 'i', 'chromatin_state']\n",
    "# Intermediate output to see what is happening better\n",
    "chromatin_state_matrix.head(20)"
   ]
  },
  {
   "cell_type": "code",
   "execution_count": 34,
   "id": "45226c7d-6e45-493f-95ef-51b93b615dfc",
   "metadata": {},
   "outputs": [
    {
     "data": {
      "text/plain": [
       "name\n",
       "chr1_794       False\n",
       "chr1_795       False\n",
       "chr1_796       False\n",
       "chr1_797       False\n",
       "chr1_798       False\n",
       "               ...  \n",
       "chrX_155979    False\n",
       "chrX_155980    False\n",
       "chrX_155981    False\n",
       "chrX_155982    False\n",
       "chrX_155983    False\n",
       "Name: 1_TssA, Length: 2835235, dtype: bool"
      ]
     },
     "execution_count": 34,
     "metadata": {},
     "output_type": "execute_result"
    }
   ],
   "source": [
    "# Pick the chromatin state of interest\n",
    "chromatin_state_matrix = chromatin_state_matrix[chromatin_state_matrix['chromatin_state'] == CHROMATIN_STATE]\n",
    "# index by name again\n",
    "chromatin_state_matrix = chromatin_state_matrix.set_index('name')\n",
    "# This should not be duplicated anymore\n",
    "assert not chromatin_state_matrix.index.duplicated().any()\n",
    "\n",
    "# Start converting to boolean by adding a column named as the state itself\n",
    "chromatin_state_matrix[CHROMATIN_STATE] = True # (as we filtered the dataframe to contain only regions that contain state, this should be True)\n",
    "# Keep only this column\n",
    "chromatin_state_matrix = chromatin_state_matrix[CHROMATIN_STATE]\n",
    "# Reindex matrix with the full list of regions, filling in with False \n",
    "chromatin_state_matrix = chromatin_state_matrix.reindex(genomic_windows_no_blacklist.to_dataframe()['name'].values, fill_value=False)\n",
    "\n",
    "# We should have the matrix ready now:\n",
    "chromatin_state_matrix"
   ]
  },
  {
   "cell_type": "markdown",
   "id": "422f5de7-13af-49ed-9989-205366bab331",
   "metadata": {},
   "source": [
    "We can make sure this is boolean (not object):"
   ]
  },
  {
   "cell_type": "code",
   "execution_count": 35,
   "id": "6df4276b-4782-459f-a5b6-30e2c469c581",
   "metadata": {},
   "outputs": [
    {
     "data": {
      "text/plain": [
       "dtype('bool')"
      ]
     },
     "execution_count": 35,
     "metadata": {},
     "output_type": "execute_result"
    }
   ],
   "source": [
    "chromatin_state_matrix.dtype"
   ]
  },
  {
   "cell_type": "markdown",
   "id": "a3d9093e-6338-4130-950f-c2fc18d23edc",
   "metadata": {},
   "source": [
    "And see that it has both True and False"
   ]
  },
  {
   "cell_type": "code",
   "execution_count": 36,
   "id": "8328528e-1789-4dfd-9e2b-82b89e649f4f",
   "metadata": {},
   "outputs": [
    {
     "name": "stdout",
     "output_type": "stream",
     "text": [
      "The history saving thread hit an unexpected error (OperationalError('database is locked')).History will not be written to the database.\n"
     ]
    },
    {
     "data": {
      "text/plain": [
       "False    2793552\n",
       "True       41683\n",
       "Name: 1_TssA, dtype: int64"
      ]
     },
     "execution_count": 36,
     "metadata": {},
     "output_type": "execute_result"
    }
   ],
   "source": [
    "chromatin_state_matrix.value_counts()"
   ]
  },
  {
   "cell_type": "markdown",
   "id": "7566d521-af1e-49c5-8f86-2f12297b7757",
   "metadata": {},
   "source": [
    "At this point we can simply join our matrix with the binary bed file matrix:"
   ]
  },
  {
   "cell_type": "code",
   "execution_count": 37,
   "id": "cc272f9f-7507-4f66-b3c1-4a7cb9f5471e",
   "metadata": {},
   "outputs": [
    {
     "data": {
      "text/html": [
       "<div>\n",
       "<style scoped>\n",
       "    .dataframe tbody tr th:only-of-type {\n",
       "        vertical-align: middle;\n",
       "    }\n",
       "\n",
       "    .dataframe tbody tr th {\n",
       "        vertical-align: top;\n",
       "    }\n",
       "\n",
       "    .dataframe thead th {\n",
       "        text-align: right;\n",
       "    }\n",
       "</style>\n",
       "<table border=\"1\" class=\"dataframe\">\n",
       "  <thead>\n",
       "    <tr style=\"text-align: right;\">\n",
       "      <th></th>\n",
       "      <th>ENCFF981ISM</th>\n",
       "      <th>1_TssA</th>\n",
       "    </tr>\n",
       "    <tr>\n",
       "      <th>name</th>\n",
       "      <th></th>\n",
       "      <th></th>\n",
       "    </tr>\n",
       "  </thead>\n",
       "  <tbody>\n",
       "    <tr>\n",
       "      <th>chr1_794</th>\n",
       "      <td>False</td>\n",
       "      <td>False</td>\n",
       "    </tr>\n",
       "    <tr>\n",
       "      <th>chr1_795</th>\n",
       "      <td>False</td>\n",
       "      <td>False</td>\n",
       "    </tr>\n",
       "    <tr>\n",
       "      <th>chr1_796</th>\n",
       "      <td>False</td>\n",
       "      <td>False</td>\n",
       "    </tr>\n",
       "    <tr>\n",
       "      <th>chr1_797</th>\n",
       "      <td>False</td>\n",
       "      <td>False</td>\n",
       "    </tr>\n",
       "    <tr>\n",
       "      <th>chr1_798</th>\n",
       "      <td>False</td>\n",
       "      <td>False</td>\n",
       "    </tr>\n",
       "    <tr>\n",
       "      <th>...</th>\n",
       "      <td>...</td>\n",
       "      <td>...</td>\n",
       "    </tr>\n",
       "    <tr>\n",
       "      <th>chrX_155979</th>\n",
       "      <td>False</td>\n",
       "      <td>False</td>\n",
       "    </tr>\n",
       "    <tr>\n",
       "      <th>chrX_155980</th>\n",
       "      <td>False</td>\n",
       "      <td>False</td>\n",
       "    </tr>\n",
       "    <tr>\n",
       "      <th>chrX_155981</th>\n",
       "      <td>False</td>\n",
       "      <td>False</td>\n",
       "    </tr>\n",
       "    <tr>\n",
       "      <th>chrX_155982</th>\n",
       "      <td>False</td>\n",
       "      <td>False</td>\n",
       "    </tr>\n",
       "    <tr>\n",
       "      <th>chrX_155983</th>\n",
       "      <td>False</td>\n",
       "      <td>False</td>\n",
       "    </tr>\n",
       "  </tbody>\n",
       "</table>\n",
       "<p>2835235 rows × 2 columns</p>\n",
       "</div>"
      ],
      "text/plain": [
       "             ENCFF981ISM  1_TssA\n",
       "name                            \n",
       "chr1_794           False   False\n",
       "chr1_795           False   False\n",
       "chr1_796           False   False\n",
       "chr1_797           False   False\n",
       "chr1_798           False   False\n",
       "...                  ...     ...\n",
       "chrX_155979        False   False\n",
       "chrX_155980        False   False\n",
       "chrX_155981        False   False\n",
       "chrX_155982        False   False\n",
       "chrX_155983        False   False\n",
       "\n",
       "[2835235 rows x 2 columns]"
      ]
     },
     "execution_count": 37,
     "metadata": {},
     "output_type": "execute_result"
    }
   ],
   "source": [
    "bed_matrix_binary = bed_matrix_binary.join(chromatin_state_matrix)\n",
    "bed_matrix_binary"
   ]
  },
  {
   "cell_type": "markdown",
   "id": "08a9dbcc-c218-4e5f-a40e-3e6b40c4a469",
   "metadata": {},
   "source": [
    "There should not be any nulls in this matrix:"
   ]
  },
  {
   "cell_type": "code",
   "execution_count": 38,
   "id": "0e44f696-dc85-4f33-99d9-0b6eaffb68d8",
   "metadata": {},
   "outputs": [],
   "source": [
    "assert not bed_matrix_binary.isnull().any().any()"
   ]
  },
  {
   "cell_type": "markdown",
   "id": "aa4f5795-b006-4c16-9f4b-8eaf81f16304",
   "metadata": {},
   "source": [
    "And dtypes should be bool:"
   ]
  },
  {
   "cell_type": "code",
   "execution_count": 39,
   "id": "24d2d5b7-5b68-4b57-b6d4-44833d83a258",
   "metadata": {},
   "outputs": [
    {
     "data": {
      "text/plain": [
       "ENCFF981ISM    bool\n",
       "1_TssA         bool\n",
       "dtype: object"
      ]
     },
     "execution_count": 39,
     "metadata": {},
     "output_type": "execute_result"
    }
   ],
   "source": [
    "bed_matrix_binary.dtypes"
   ]
  },
  {
   "cell_type": "markdown",
   "id": "747d4326-cd4c-469a-ab03-1f6c55c78963",
   "metadata": {},
   "source": [
    "### Entropy based statistics\n",
    "\n",
    "The entropy-based statistics are the main workhorse of this pipeline.\n",
    "\n",
    "To make use of it, we need to compute the 2x2 co-occurence matrix for the two datasets"
   ]
  },
  {
   "cell_type": "code",
   "execution_count": 40,
   "id": "75e69c67-304b-427b-9748-ce37e54b7d07",
   "metadata": {},
   "outputs": [],
   "source": [
    "import itertools\n",
    "\n",
    "cooccurrence_matrix = []\n",
    "\n",
    "# For all four combinations of [False, True] \n",
    "for x_value, y_value in itertools.product([False, True], repeat=2):\n",
    "    \n",
    "    # Count how many times they occurr\n",
    "    mask = bed_matrix_binary[ENCODE_IDENTIFIER_BEDFILE_X] == x_value\n",
    "    mask &= bed_matrix_binary[CHROMATIN_STATE] == y_value\n",
    "    count = mask.sum()\n",
    "    \n",
    "    # Store that\n",
    "    cooccurrence_matrix.append([x_value, y_value, count])\n",
    "\n",
    "# Make this into a dataframe\n",
    "cooccurrence_matrix = pd.DataFrame(\n",
    "    cooccurrence_matrix, \n",
    "    columns=[\n",
    "         ENCODE_IDENTIFIER_BEDFILE_X,\n",
    "         CHROMATIN_STATE,\n",
    "         'count',\n",
    "     ]\n",
    ")\n",
    "\n",
    "# Reshape this into 2x2 matrix\n",
    "cooccurrence_matrix = cooccurrence_matrix.set_index([\n",
    "    ENCODE_IDENTIFIER_BEDFILE_X, \n",
    "    CHROMATIN_STATE\n",
    "])['count'].unstack(CHROMATIN_STATE)"
   ]
  },
  {
   "cell_type": "markdown",
   "id": "66194c74-211d-42a9-98c9-f6cfef3051ea",
   "metadata": {},
   "source": [
    "From this we get the number of times the datasets overlap (based on our genomic grid), the number of times they are both missing, and the number of times one occurs without the other (see below).\n",
    "\n",
    "Note that in the code we use some optimisations and therefore the numbers are calculated in a slightly more sophisticated way, but the end result is the same."
   ]
  },
  {
   "cell_type": "code",
   "execution_count": 41,
   "id": "3f3f58b1-d536-45f0-a82a-12caff3b52e7",
   "metadata": {},
   "outputs": [
    {
     "data": {
      "text/html": [
       "<div>\n",
       "<style scoped>\n",
       "    .dataframe tbody tr th:only-of-type {\n",
       "        vertical-align: middle;\n",
       "    }\n",
       "\n",
       "    .dataframe tbody tr th {\n",
       "        vertical-align: top;\n",
       "    }\n",
       "\n",
       "    .dataframe thead th {\n",
       "        text-align: right;\n",
       "    }\n",
       "</style>\n",
       "<table border=\"1\" class=\"dataframe\">\n",
       "  <thead>\n",
       "    <tr style=\"text-align: right;\">\n",
       "      <th>1_TssA</th>\n",
       "      <th>False</th>\n",
       "      <th>True</th>\n",
       "    </tr>\n",
       "    <tr>\n",
       "      <th>ENCFF981ISM</th>\n",
       "      <th></th>\n",
       "      <th></th>\n",
       "    </tr>\n",
       "  </thead>\n",
       "  <tbody>\n",
       "    <tr>\n",
       "      <th>False</th>\n",
       "      <td>2785700</td>\n",
       "      <td>19012</td>\n",
       "    </tr>\n",
       "    <tr>\n",
       "      <th>True</th>\n",
       "      <td>7852</td>\n",
       "      <td>22671</td>\n",
       "    </tr>\n",
       "  </tbody>\n",
       "</table>\n",
       "</div>"
      ],
      "text/plain": [
       "1_TssA         False   True\n",
       "ENCFF981ISM                \n",
       "False        2785700  19012\n",
       "True            7852  22671"
      ]
     },
     "execution_count": 41,
     "metadata": {},
     "output_type": "execute_result"
    }
   ],
   "source": [
    "cooccurrence_matrix"
   ]
  },
  {
   "cell_type": "markdown",
   "id": "31ff1e1c-b96c-4a5c-93fd-d5e61e713e65",
   "metadata": {},
   "source": [
    "Note that the matrix columns sum to the universe length (i.e. the number of genomic windows):"
   ]
  },
  {
   "cell_type": "code",
   "execution_count": 42,
   "id": "3ae84666-eeb7-4a12-884a-d6bc318d4b22",
   "metadata": {},
   "outputs": [
    {
     "name": "stdout",
     "output_type": "stream",
     "text": [
      "Universe length: 2,835,235, sum of co-occurrence matrix columns: 2,835,235\n"
     ]
    }
   ],
   "source": [
    "universe_length = len(genomic_windows_no_blacklist)\n",
    "_sum = np.sum(np.asarray(cooccurrence_matrix))\n",
    "print(\"Universe length: {:,}, sum of co-occurrence matrix columns: {:,}\".format(universe_length, _sum))\n",
    "assert universe_length == _sum\n"
   ]
  },
  {
   "cell_type": "markdown",
   "id": "dbef6205-ea02-462c-9c07-ec7423b8633a",
   "metadata": {},
   "source": [
    "Once we have the co-occurrence matrix, we can compute the joint probabilities.\n",
    "\n",
    "To add some statistical smoothing we will use a pseudocount defined in `STATISTICS_PSEUDOCOUNT` above:"
   ]
  },
  {
   "cell_type": "code",
   "execution_count": 43,
   "id": "b2809f37-e0fa-408a-8b1d-98ce97e1b533",
   "metadata": {},
   "outputs": [
    {
     "name": "stdout",
     "output_type": "stream",
     "text": [
      "STATISTICS_PSEUDOCOUNT=100\n"
     ]
    }
   ],
   "source": [
    "print(f'{STATISTICS_PSEUDOCOUNT=}')"
   ]
  },
  {
   "cell_type": "markdown",
   "id": "393b0d53-32c7-4436-b95b-18273253bf2a",
   "metadata": {},
   "source": [
    "We will add this pseudocount to each and every cell of the co-occurrence matrix, and will then divide the cells by the total effective universe size which is now equal to the `universe_size + 4*pseudocount`."
   ]
  },
  {
   "cell_type": "code",
   "execution_count": 44,
   "id": "a6296bff-1b1c-443f-a4e5-fd2337a16b40",
   "metadata": {},
   "outputs": [],
   "source": [
    "joint_probabilities = (cooccurrence_matrix + STATISTICS_PSEUDOCOUNT) / (universe_length + 4*STATISTICS_PSEUDOCOUNT)"
   ]
  },
  {
   "cell_type": "code",
   "execution_count": 45,
   "id": "99312398-f940-4457-8149-638407f90aee",
   "metadata": {},
   "outputs": [
    {
     "data": {
      "text/html": [
       "<div>\n",
       "<style scoped>\n",
       "    .dataframe tbody tr th:only-of-type {\n",
       "        vertical-align: middle;\n",
       "    }\n",
       "\n",
       "    .dataframe tbody tr th {\n",
       "        vertical-align: top;\n",
       "    }\n",
       "\n",
       "    .dataframe thead th {\n",
       "        text-align: right;\n",
       "    }\n",
       "</style>\n",
       "<table border=\"1\" class=\"dataframe\">\n",
       "  <thead>\n",
       "    <tr style=\"text-align: right;\">\n",
       "      <th>1_TssA</th>\n",
       "      <th>False</th>\n",
       "      <th>True</th>\n",
       "    </tr>\n",
       "    <tr>\n",
       "      <th>ENCFF981ISM</th>\n",
       "      <th></th>\n",
       "      <th></th>\n",
       "    </tr>\n",
       "  </thead>\n",
       "  <tbody>\n",
       "    <tr>\n",
       "      <th>False</th>\n",
       "      <td>0.982425</td>\n",
       "      <td>0.00674</td>\n",
       "    </tr>\n",
       "    <tr>\n",
       "      <th>True</th>\n",
       "      <td>0.002804</td>\n",
       "      <td>0.00803</td>\n",
       "    </tr>\n",
       "  </tbody>\n",
       "</table>\n",
       "</div>"
      ],
      "text/plain": [
       "1_TssA          False     True\n",
       "ENCFF981ISM                   \n",
       "False        0.982425  0.00674\n",
       "True         0.002804  0.00803"
      ]
     },
     "execution_count": 45,
     "metadata": {},
     "output_type": "execute_result"
    }
   ],
   "source": [
    "joint_probabilities"
   ]
  },
  {
   "cell_type": "markdown",
   "id": "f17740bd-6070-45d5-bfd4-831d8f770d3f",
   "metadata": {},
   "source": [
    "We can obtain marginal probabilities as well:"
   ]
  },
  {
   "cell_type": "code",
   "execution_count": 46,
   "id": "e11bf671-7dcd-4c16-a537-582db436f303",
   "metadata": {},
   "outputs": [],
   "source": [
    "marginal_x = joint_probabilities.sum(axis=1)\n",
    "assert marginal_x.index.name == ENCODE_IDENTIFIER_BEDFILE_X\n",
    "\n",
    "marginal_y = joint_probabilities.sum(axis=0)\n",
    "assert marginal_y.index.name == CHROMATIN_STATE\n"
   ]
  },
  {
   "cell_type": "code",
   "execution_count": 47,
   "id": "7d100619-cd3e-414d-816c-3c7d4ab583ae",
   "metadata": {},
   "outputs": [
    {
     "data": {
      "text/plain": [
       "ENCFF981ISM\n",
       "False    0.989165\n",
       "True     0.010835\n",
       "dtype: float64"
      ]
     },
     "execution_count": 47,
     "metadata": {},
     "output_type": "execute_result"
    }
   ],
   "source": [
    "marginal_x"
   ]
  },
  {
   "cell_type": "code",
   "execution_count": 48,
   "id": "c7d0dcc2-6fe8-4911-bf49-a6e7b4e2f271",
   "metadata": {},
   "outputs": [
    {
     "data": {
      "text/plain": [
       "1_TssA\n",
       "False    0.98523\n",
       "True     0.01477\n",
       "dtype: float64"
      ]
     },
     "execution_count": 48,
     "metadata": {},
     "output_type": "execute_result"
    }
   ],
   "source": [
    "marginal_y"
   ]
  },
  {
   "cell_type": "markdown",
   "id": "bd2d259a-aded-4f3d-b0a7-c80599ea4476",
   "metadata": {},
   "source": [
    "If our data were independent, we would expect to observe the following joint_probability table (resulting of multiplying the marginal probabilities):"
   ]
  },
  {
   "cell_type": "code",
   "execution_count": 49,
   "id": "41940a71-3eba-4b15-b71b-5dd2da0d0e72",
   "metadata": {},
   "outputs": [],
   "source": [
    "import itertools\n",
    "\n",
    "joint_independent = []\n",
    "\n",
    "# For all four combinations of [False, True] \n",
    "for x_value, y_value in itertools.product([False, True], repeat=2):\n",
    "    \n",
    "    # Compute the probability under independence\n",
    "    p = marginal_x.loc[x_value] * marginal_y.loc[y_value]\n",
    "    \n",
    "    # Store that\n",
    "    joint_independent.append([x_value, y_value, p])\n",
    "\n",
    "# Make this into a dataframe\n",
    "joint_independent = pd.DataFrame(\n",
    "    joint_independent, \n",
    "    columns=[\n",
    "         ENCODE_IDENTIFIER_BEDFILE_X,\n",
    "         CHROMATIN_STATE,\n",
    "         'count',\n",
    "     ]\n",
    ")\n",
    "\n",
    "# Reshape this into 2x2 matrix\n",
    "joint_independent = joint_independent.set_index([\n",
    "    ENCODE_IDENTIFIER_BEDFILE_X, \n",
    "    CHROMATIN_STATE\n",
    "])['count'].unstack(CHROMATIN_STATE)"
   ]
  },
  {
   "cell_type": "code",
   "execution_count": 50,
   "id": "a141ec90-720f-47f9-aa40-f26d718e2bb1",
   "metadata": {},
   "outputs": [],
   "source": [
    "assert joint_independent.index.equals(joint_probabilities.index)\n",
    "assert joint_independent.columns.equals(joint_probabilities.columns)\n"
   ]
  },
  {
   "cell_type": "code",
   "execution_count": 51,
   "id": "ba32f1e7-ad81-4b7a-9bb0-31d6de4203b1",
   "metadata": {},
   "outputs": [
    {
     "data": {
      "text/html": [
       "<div>\n",
       "<style scoped>\n",
       "    .dataframe tbody tr th:only-of-type {\n",
       "        vertical-align: middle;\n",
       "    }\n",
       "\n",
       "    .dataframe tbody tr th {\n",
       "        vertical-align: top;\n",
       "    }\n",
       "\n",
       "    .dataframe thead th {\n",
       "        text-align: right;\n",
       "    }\n",
       "</style>\n",
       "<table border=\"1\" class=\"dataframe\">\n",
       "  <thead>\n",
       "    <tr style=\"text-align: right;\">\n",
       "      <th>1_TssA</th>\n",
       "      <th>False</th>\n",
       "      <th>True</th>\n",
       "    </tr>\n",
       "    <tr>\n",
       "      <th>ENCFF981ISM</th>\n",
       "      <th></th>\n",
       "      <th></th>\n",
       "    </tr>\n",
       "  </thead>\n",
       "  <tbody>\n",
       "    <tr>\n",
       "      <th>False</th>\n",
       "      <td>0.974555</td>\n",
       "      <td>0.01461</td>\n",
       "    </tr>\n",
       "    <tr>\n",
       "      <th>True</th>\n",
       "      <td>0.010675</td>\n",
       "      <td>0.00016</td>\n",
       "    </tr>\n",
       "  </tbody>\n",
       "</table>\n",
       "</div>"
      ],
      "text/plain": [
       "1_TssA          False     True\n",
       "ENCFF981ISM                   \n",
       "False        0.974555  0.01461\n",
       "True         0.010675  0.00016"
      ]
     },
     "execution_count": 51,
     "metadata": {},
     "output_type": "execute_result"
    }
   ],
   "source": [
    "joint_independent"
   ]
  },
  {
   "cell_type": "markdown",
   "id": "d2040b50-98cf-4c94-907f-fbef6c3f7cef",
   "metadata": {},
   "source": [
    "We now have everything we need to compute the marginal and relative entropies.\n",
    "First, the marginal entropies:"
   ]
  },
  {
   "cell_type": "code",
   "execution_count": 52,
   "id": "d908ea68-f27c-4313-bc3d-7f600ca1d66f",
   "metadata": {},
   "outputs": [
    {
     "name": "stdout",
     "output_type": "stream",
     "text": [
      "-> Computed marginal entropy of ENCFF981ISM = 0.05980241823702094\n",
      "-> Computed marginal entropy of 1_TssA = 0.07691924810266863\n"
     ]
    }
   ],
   "source": [
    "import scipy.stats \n",
    "\n",
    "entropy_marginal_x = scipy.stats.entropy(marginal_x) \n",
    "print(f'-> Computed marginal entropy of {ENCODE_IDENTIFIER_BEDFILE_X} = {entropy_marginal_x}')\n",
    "\n",
    "entropy_marginal_y = scipy.stats.entropy(marginal_y) \n",
    "print(f'-> Computed marginal entropy of {CHROMATIN_STATE} = {entropy_marginal_y}')\n"
   ]
  },
  {
   "cell_type": "markdown",
   "id": "4481691b-f94d-417b-a676-f5c753f53ff2",
   "metadata": {},
   "source": [
    "Now we can compute the joint entropy of the two variables:"
   ]
  },
  {
   "cell_type": "code",
   "execution_count": 53,
   "id": "18748f45-f09e-46dc-8504-f73818d86ef8",
   "metadata": {},
   "outputs": [
    {
     "name": "stdout",
     "output_type": "stream",
     "text": [
      "-> Computed joint entropy of ENCFF981ISM,1_TssA = 0.10633914807473072\n"
     ]
    }
   ],
   "source": [
    "joint_entropy_xy = scipy.stats.entropy(np.asarray(joint_probabilities).ravel())\n",
    "print(f'-> Computed joint entropy of {ENCODE_IDENTIFIER_BEDFILE_X},{CHROMATIN_STATE} = {joint_entropy_xy}')\n"
   ]
  },
  {
   "cell_type": "markdown",
   "id": "caad969e-f9ac-4b83-92d8-934179f1bb61",
   "metadata": {},
   "source": [
    "We can also compute the mutual information, which is the K-L divergence from independence:"
   ]
  },
  {
   "cell_type": "code",
   "execution_count": 54,
   "id": "aebc86a1-a143-4cfe-bdf6-4a010229ade1",
   "metadata": {},
   "outputs": [
    {
     "name": "stdout",
     "output_type": "stream",
     "text": [
      "-> Computed MI of ENCFF981ISM,1_TssA = 0.03038251826495885\n"
     ]
    }
   ],
   "source": [
    "mi_xy_using_kl_formula = scipy.stats.entropy(\n",
    "    np.asarray(joint_probabilities).ravel(),\n",
    "    np.asarray(joint_independent).ravel(),\n",
    "    \n",
    ")\n",
    "print(f'-> Computed MI of {ENCODE_IDENTIFIER_BEDFILE_X},{CHROMATIN_STATE} = {mi_xy_using_kl_formula}')\n"
   ]
  },
  {
   "cell_type": "markdown",
   "id": "9355f8a0-aa1d-4f55-8992-cdde09157a36",
   "metadata": {},
   "source": [
    "This should be the same as the sum of marginal entropies minus joint entropy:"
   ]
  },
  {
   "cell_type": "code",
   "execution_count": 55,
   "id": "d07cb983-7b91-47c4-8592-d8c11f23e9f8",
   "metadata": {},
   "outputs": [
    {
     "name": "stdout",
     "output_type": "stream",
     "text": [
      "-> Recomputed MI of ENCFF981ISM,1_TssA = 0.030382518264958858\n"
     ]
    }
   ],
   "source": [
    "mi_xy_using_entropies = entropy_marginal_x + entropy_marginal_y - joint_entropy_xy\n",
    "print(f'-> Recomputed MI of {ENCODE_IDENTIFIER_BEDFILE_X},{CHROMATIN_STATE} = {mi_xy_using_entropies}')\n",
    "\n",
    "from numpy.testing import assert_array_almost_equal\n",
    "# I'm using the array function because the default parameters make sense there\n",
    "assert_array_almost_equal([mi_xy_using_kl_formula], [mi_xy_using_entropies])"
   ]
  },
  {
   "cell_type": "markdown",
   "id": "c92058c1-fb65-4355-bf35-0de9cad6affa",
   "metadata": {},
   "source": [
    "The resulting uncertainty coefficients are therefore computed as follows:"
   ]
  },
  {
   "cell_type": "code",
   "execution_count": 56,
   "id": "d64e81db-584d-4377-af64-02454728aac7",
   "metadata": {},
   "outputs": [],
   "source": [
    "uncertainty_x_given_y = mi_xy_using_kl_formula / entropy_marginal_x\n",
    "uncertainty_y_given_x = mi_xy_using_kl_formula / entropy_marginal_y"
   ]
  },
  {
   "cell_type": "code",
   "execution_count": 57,
   "id": "1ab772e9-9808-4e11-a1de-2f62d86f3d02",
   "metadata": {},
   "outputs": [
    {
     "name": "stdout",
     "output_type": "stream",
     "text": [
      "-> Uncertainty coefficient U(X|Y) <- MI(X,Y)/H(X) =  0.50804832246985\n",
      "-> Uncertainty coefficient U(Y|X) <- MI(X,Y)/H(Y) =  0.39499239805887754\n"
     ]
    }
   ],
   "source": [
    "print(f\"-> Uncertainty coefficient U(X|Y) <- MI(X,Y)/H(X) =  {uncertainty_x_given_y}\")\n",
    "print(f\"-> Uncertainty coefficient U(Y|X) <- MI(X,Y)/H(Y) =  {uncertainty_y_given_x}\")\n"
   ]
  },
  {
   "cell_type": "markdown",
   "id": "6b34226d-66db-4569-804e-52551d4b4c52",
   "metadata": {},
   "source": [
    "Note that in the pipeline output we will be using the convention that  𝑋  is in rows of the output, and  𝑌  in the columns. And we will further assume that  𝑋  is a protein, e.g. PHF8 and Y is a chromatin state. With such assumptions we will be using the uncertainty_x_given_y as our final output. The code below verifies this and shows how to extract these numbers from the pipeline"
   ]
  },
  {
   "cell_type": "code",
   "execution_count": 58,
   "id": "9180740c-cfe0-4649-8c6c-8ba7aa3e8dde",
   "metadata": {},
   "outputs": [
    {
     "data": {
      "text/plain": [
       "0.50804832246985"
      ]
     },
     "execution_count": 58,
     "metadata": {},
     "output_type": "execute_result"
    }
   ],
   "source": [
    "uncertainty_x_given_y"
   ]
  },
  {
   "cell_type": "markdown",
   "id": "9dfeabd3-a8f4-4af8-bb0a-20acce32be10",
   "metadata": {},
   "source": [
    "# Verification of pipeline results\n",
    "\n",
    "As we used two encode datasets to comptue this example we can use this notebook to verify the pipeline results, provided that it has been run."
   ]
  },
  {
   "cell_type": "code",
   "execution_count": 59,
   "id": "9e6185ee-e0a4-49d3-b3af-13ba53ffaec5",
   "metadata": {},
   "outputs": [],
   "source": [
    "cell_line = encode_meta['Biosample term name'].unique()\n",
    "assert len(cell_line) == 1\n",
    "cell_line = cell_line[0]"
   ]
  },
  {
   "cell_type": "code",
   "execution_count": 60,
   "id": "9ebc1056-71e3-4928-8ab0-564fb8fd704f",
   "metadata": {},
   "outputs": [
    {
     "name": "stdout",
     "output_type": "stream",
     "text": [
      "-> Reading pipeline outputs from ../../output/final/analysis/params_1000bp_pc_100_mp_1/K562/consolidated_tables/bedstats_consolidated_K562_1000bp_params_pc_100_mp_1_from_bed.csv.gz\n",
      "-> column headers parsed:\n",
      "Index(['metadata', 'marcs_feature_significant_category', 'normalised_mi',\n",
      "       'entropy_by_row', 'kendall_correlation', 'mi', 'entropy_by_col',\n",
      "       'counts_true_true', 'counts_false_true', 'counts_true_false',\n",
      "       'counts_false_false'],\n",
      "      dtype='object', name='col_type')\n"
     ]
    }
   ],
   "source": [
    "OUTPUT_CSV_GZ = pathlib.Path(\n",
    "    f'../../output/final/analysis/params_{BIN_SIZE}bp_pc_{STATISTICS_PSEUDOCOUNT}_mp_{MIN_PERIODS_FOR_CORRELATIONS}/{cell_line}/consolidated_tables/bedstats_consolidated_{cell_line}_{BIN_SIZE}bp_params_pc_{STATISTICS_PSEUDOCOUNT}_mp_{MIN_PERIODS_FOR_CORRELATIONS}_from_bed.csv.gz'\n",
    ")\n",
    "\n",
    "print(f'-> Reading pipeline outputs from {OUTPUT_CSV_GZ}')\n",
    "assert OUTPUT_CSV_GZ.is_file(), \"Pipeline output not found - are you sure the pipeline was run to completion?\"\n",
    "\n",
    "\n",
    "pipeline_outputs = pd.read_csv(OUTPUT_CSV_GZ, index_col=0)\n",
    "\n",
    "pipeline_outputs.columns = pd.MultiIndex.from_tuples([c.split('__') for c in pipeline_outputs.columns], names=['col_type', 'colname'])\n",
    "\n",
    "print('-> column headers parsed:')\n",
    "print(pipeline_outputs.columns.get_level_values('col_type').unique())\n"
   ]
  },
  {
   "cell_type": "code",
   "execution_count": 61,
   "id": "8c4159ef-bb5e-4bb8-802d-9cc273096151",
   "metadata": {},
   "outputs": [
    {
     "data": {
      "text/html": [
       "<div>\n",
       "<style scoped>\n",
       "    .dataframe tbody tr th:only-of-type {\n",
       "        vertical-align: middle;\n",
       "    }\n",
       "\n",
       "    .dataframe tbody tr th {\n",
       "        vertical-align: top;\n",
       "    }\n",
       "\n",
       "    .dataframe thead tr th {\n",
       "        text-align: left;\n",
       "    }\n",
       "\n",
       "    .dataframe thead tr:last-of-type th {\n",
       "        text-align: right;\n",
       "    }\n",
       "</style>\n",
       "<table border=\"1\" class=\"dataframe\">\n",
       "  <thead>\n",
       "    <tr>\n",
       "      <th>col_type</th>\n",
       "      <th colspan=\"5\" halign=\"left\">metadata</th>\n",
       "      <th colspan=\"5\" halign=\"left\">marcs_feature_significant_category</th>\n",
       "      <th>...</th>\n",
       "      <th colspan=\"10\" halign=\"left\">counts_false_false</th>\n",
       "    </tr>\n",
       "    <tr>\n",
       "      <th>colname</th>\n",
       "      <th>encode_id</th>\n",
       "      <th>cell_line</th>\n",
       "      <th>factor</th>\n",
       "      <th>factor_type</th>\n",
       "      <th>marcs_gene_label</th>\n",
       "      <th>H2A.Z</th>\n",
       "      <th>H3K27ac</th>\n",
       "      <th>H3K27me2</th>\n",
       "      <th>H3K27me3</th>\n",
       "      <th>H3K4me1</th>\n",
       "      <th>...</th>\n",
       "      <th>state:15_Quies</th>\n",
       "      <th>state:1_TssA</th>\n",
       "      <th>state:2_TssAFlnk</th>\n",
       "      <th>state:3_TxFlnk</th>\n",
       "      <th>state:4_Tx</th>\n",
       "      <th>state:5_TxWk</th>\n",
       "      <th>state:6_EnhG</th>\n",
       "      <th>state:7_Enh</th>\n",
       "      <th>state:8_ZNF/Rpts</th>\n",
       "      <th>state:9_Het</th>\n",
       "    </tr>\n",
       "    <tr>\n",
       "      <th>Factor_Cell_Identifier</th>\n",
       "      <th></th>\n",
       "      <th></th>\n",
       "      <th></th>\n",
       "      <th></th>\n",
       "      <th></th>\n",
       "      <th></th>\n",
       "      <th></th>\n",
       "      <th></th>\n",
       "      <th></th>\n",
       "      <th></th>\n",
       "      <th></th>\n",
       "      <th></th>\n",
       "      <th></th>\n",
       "      <th></th>\n",
       "      <th></th>\n",
       "      <th></th>\n",
       "      <th></th>\n",
       "      <th></th>\n",
       "      <th></th>\n",
       "      <th></th>\n",
       "      <th></th>\n",
       "    </tr>\n",
       "  </thead>\n",
       "  <tbody>\n",
       "    <tr>\n",
       "      <th>ADNP-K562-ENCFF739AJO</th>\n",
       "      <td>ENCFF739AJO</td>\n",
       "      <td>K562</td>\n",
       "      <td>ADNP</td>\n",
       "      <td>protein</td>\n",
       "      <td>ADNP</td>\n",
       "      <td>Neither</td>\n",
       "      <td>NaN</td>\n",
       "      <td>NaN</td>\n",
       "      <td>Neither</td>\n",
       "      <td>Neither</td>\n",
       "      <td>...</td>\n",
       "      <td>944095.0</td>\n",
       "      <td>2770050.0</td>\n",
       "      <td>2758028.0</td>\n",
       "      <td>2796910.0</td>\n",
       "      <td>2701476.0</td>\n",
       "      <td>2416319.0</td>\n",
       "      <td>2777986.0</td>\n",
       "      <td>2652595.0</td>\n",
       "      <td>2800345.0</td>\n",
       "      <td>2776332.0</td>\n",
       "    </tr>\n",
       "    <tr>\n",
       "      <th>AFF1-K562-ENCFF195YGC</th>\n",
       "      <td>ENCFF195YGC</td>\n",
       "      <td>K562</td>\n",
       "      <td>AFF1</td>\n",
       "      <td>protein</td>\n",
       "      <td>AFF1</td>\n",
       "      <td>NaN</td>\n",
       "      <td>NaN</td>\n",
       "      <td>NaN</td>\n",
       "      <td>NaN</td>\n",
       "      <td>NaN</td>\n",
       "      <td>...</td>\n",
       "      <td>949267.0</td>\n",
       "      <td>2779125.0</td>\n",
       "      <td>2765182.0</td>\n",
       "      <td>2803088.0</td>\n",
       "      <td>2706542.0</td>\n",
       "      <td>2417014.0</td>\n",
       "      <td>2782919.0</td>\n",
       "      <td>2653527.0</td>\n",
       "      <td>2805917.0</td>\n",
       "      <td>2781939.0</td>\n",
       "    </tr>\n",
       "    <tr>\n",
       "      <th>AFF1-K562-ENCFF674XTY</th>\n",
       "      <td>ENCFF674XTY</td>\n",
       "      <td>K562</td>\n",
       "      <td>AFF1</td>\n",
       "      <td>protein</td>\n",
       "      <td>AFF1</td>\n",
       "      <td>NaN</td>\n",
       "      <td>NaN</td>\n",
       "      <td>NaN</td>\n",
       "      <td>NaN</td>\n",
       "      <td>NaN</td>\n",
       "      <td>...</td>\n",
       "      <td>957511.0</td>\n",
       "      <td>2788113.0</td>\n",
       "      <td>2772685.0</td>\n",
       "      <td>2814105.0</td>\n",
       "      <td>2717880.0</td>\n",
       "      <td>2426518.0</td>\n",
       "      <td>2793931.0</td>\n",
       "      <td>2660970.0</td>\n",
       "      <td>2817366.0</td>\n",
       "      <td>2793315.0</td>\n",
       "    </tr>\n",
       "    <tr>\n",
       "      <th>ARID1B-K562-ENCFF879NTL</th>\n",
       "      <td>ENCFF879NTL</td>\n",
       "      <td>K562</td>\n",
       "      <td>ARID1B</td>\n",
       "      <td>protein</td>\n",
       "      <td>ARID1B</td>\n",
       "      <td>Neither</td>\n",
       "      <td>NaN</td>\n",
       "      <td>NaN</td>\n",
       "      <td>NaN</td>\n",
       "      <td>NaN</td>\n",
       "      <td>...</td>\n",
       "      <td>912195.0</td>\n",
       "      <td>2738438.0</td>\n",
       "      <td>2735645.0</td>\n",
       "      <td>2760289.0</td>\n",
       "      <td>2663106.0</td>\n",
       "      <td>2385776.0</td>\n",
       "      <td>2742981.0</td>\n",
       "      <td>2642590.0</td>\n",
       "      <td>2761588.0</td>\n",
       "      <td>2737625.0</td>\n",
       "    </tr>\n",
       "    <tr>\n",
       "      <th>ARID2-K562-ENCFF913WRW</th>\n",
       "      <td>ENCFF913WRW</td>\n",
       "      <td>K562</td>\n",
       "      <td>ARID2</td>\n",
       "      <td>protein</td>\n",
       "      <td>ARID2</td>\n",
       "      <td>Neither</td>\n",
       "      <td>NaN</td>\n",
       "      <td>NaN</td>\n",
       "      <td>Neither</td>\n",
       "      <td>Neither</td>\n",
       "      <td>...</td>\n",
       "      <td>958075.0</td>\n",
       "      <td>2784414.0</td>\n",
       "      <td>2769572.0</td>\n",
       "      <td>2812570.0</td>\n",
       "      <td>2717226.0</td>\n",
       "      <td>2427008.0</td>\n",
       "      <td>2792948.0</td>\n",
       "      <td>2660247.0</td>\n",
       "      <td>2816181.0</td>\n",
       "      <td>2792197.0</td>\n",
       "    </tr>\n",
       "  </tbody>\n",
       "</table>\n",
       "<p>5 rows × 326 columns</p>\n",
       "</div>"
      ],
      "text/plain": [
       "col_type                    metadata                                \\\n",
       "colname                    encode_id cell_line  factor factor_type   \n",
       "Factor_Cell_Identifier                                               \n",
       "ADNP-K562-ENCFF739AJO    ENCFF739AJO      K562    ADNP     protein   \n",
       "AFF1-K562-ENCFF195YGC    ENCFF195YGC      K562    AFF1     protein   \n",
       "AFF1-K562-ENCFF674XTY    ENCFF674XTY      K562    AFF1     protein   \n",
       "ARID1B-K562-ENCFF879NTL  ENCFF879NTL      K562  ARID1B     protein   \n",
       "ARID2-K562-ENCFF913WRW   ENCFF913WRW      K562   ARID2     protein   \n",
       "\n",
       "col_type                                 marcs_feature_significant_category  \\\n",
       "colname                 marcs_gene_label                              H2A.Z   \n",
       "Factor_Cell_Identifier                                                        \n",
       "ADNP-K562-ENCFF739AJO               ADNP                            Neither   \n",
       "AFF1-K562-ENCFF195YGC               AFF1                                NaN   \n",
       "AFF1-K562-ENCFF674XTY               AFF1                                NaN   \n",
       "ARID1B-K562-ENCFF879NTL           ARID1B                            Neither   \n",
       "ARID2-K562-ENCFF913WRW             ARID2                            Neither   \n",
       "\n",
       "col_type                                                    ...  \\\n",
       "colname                 H3K27ac H3K27me2 H3K27me3  H3K4me1  ...   \n",
       "Factor_Cell_Identifier                                      ...   \n",
       "ADNP-K562-ENCFF739AJO       NaN      NaN  Neither  Neither  ...   \n",
       "AFF1-K562-ENCFF195YGC       NaN      NaN      NaN      NaN  ...   \n",
       "AFF1-K562-ENCFF674XTY       NaN      NaN      NaN      NaN  ...   \n",
       "ARID1B-K562-ENCFF879NTL     NaN      NaN      NaN      NaN  ...   \n",
       "ARID2-K562-ENCFF913WRW      NaN      NaN  Neither  Neither  ...   \n",
       "\n",
       "col_type                counts_false_false                                \\\n",
       "colname                     state:15_Quies state:1_TssA state:2_TssAFlnk   \n",
       "Factor_Cell_Identifier                                                     \n",
       "ADNP-K562-ENCFF739AJO             944095.0    2770050.0        2758028.0   \n",
       "AFF1-K562-ENCFF195YGC             949267.0    2779125.0        2765182.0   \n",
       "AFF1-K562-ENCFF674XTY             957511.0    2788113.0        2772685.0   \n",
       "ARID1B-K562-ENCFF879NTL           912195.0    2738438.0        2735645.0   \n",
       "ARID2-K562-ENCFF913WRW            958075.0    2784414.0        2769572.0   \n",
       "\n",
       "col_type                                                                     \\\n",
       "colname                 state:3_TxFlnk state:4_Tx state:5_TxWk state:6_EnhG   \n",
       "Factor_Cell_Identifier                                                        \n",
       "ADNP-K562-ENCFF739AJO        2796910.0  2701476.0    2416319.0    2777986.0   \n",
       "AFF1-K562-ENCFF195YGC        2803088.0  2706542.0    2417014.0    2782919.0   \n",
       "AFF1-K562-ENCFF674XTY        2814105.0  2717880.0    2426518.0    2793931.0   \n",
       "ARID1B-K562-ENCFF879NTL      2760289.0  2663106.0    2385776.0    2742981.0   \n",
       "ARID2-K562-ENCFF913WRW       2812570.0  2717226.0    2427008.0    2792948.0   \n",
       "\n",
       "col_type                                                          \n",
       "colname                 state:7_Enh state:8_ZNF/Rpts state:9_Het  \n",
       "Factor_Cell_Identifier                                            \n",
       "ADNP-K562-ENCFF739AJO     2652595.0        2800345.0   2776332.0  \n",
       "AFF1-K562-ENCFF195YGC     2653527.0        2805917.0   2781939.0  \n",
       "AFF1-K562-ENCFF674XTY     2660970.0        2817366.0   2793315.0  \n",
       "ARID1B-K562-ENCFF879NTL   2642590.0        2761588.0   2737625.0  \n",
       "ARID2-K562-ENCFF913WRW    2660247.0        2816181.0   2792197.0  \n",
       "\n",
       "[5 rows x 326 columns]"
      ]
     },
     "execution_count": 61,
     "metadata": {},
     "output_type": "execute_result"
    }
   ],
   "source": [
    "pipeline_outputs.head()"
   ]
  },
  {
   "cell_type": "markdown",
   "id": "6f394659-6992-4249-9dd2-1aa93f21f49d",
   "metadata": {},
   "source": [
    "Pipeline outputs are indexed using the Factor-cell-identifier keys, create those here:"
   ]
  },
  {
   "cell_type": "code",
   "execution_count": 62,
   "id": "37e3aced-3229-4bca-9c35-c7477f289cc1",
   "metadata": {},
   "outputs": [],
   "source": [
    "def factor_cell_identifier(encode_meta_row):\n",
    "    assay = encode_meta_row['Assay']\n",
    "\n",
    "    if assay in ['TF ChIP-seq', 'Histone ChIP-seq']:\n",
    "        factor = encode_meta_row['Experiment target'].partition('-')[0]\n",
    "    else:\n",
    "        factor = assay\n",
    "        \n",
    "    cell_line = encode_meta_row['Biosample term name']\n",
    "    identifier = encode_meta_row.name\n",
    "    \n",
    "    return f'{factor}-{cell_line}-{identifier}'"
   ]
  },
  {
   "cell_type": "code",
   "execution_count": 63,
   "id": "9df9ef90-7ce7-4dba-8825-599060604444",
   "metadata": {},
   "outputs": [
    {
     "name": "stdout",
     "output_type": "stream",
     "text": [
      "-> ENCFF981ISM -> PHF8-K562-ENCFF981ISM\n"
     ]
    }
   ],
   "source": [
    "FACTOR_CELL_IDENTIFIER_X = factor_cell_identifier(encode_meta.loc[ENCODE_IDENTIFIER_BEDFILE_X])\n",
    "print(f'-> {ENCODE_IDENTIFIER_BEDFILE_X} -> {FACTOR_CELL_IDENTIFIER_X}')"
   ]
  },
  {
   "cell_type": "markdown",
   "id": "a48a6ad7-8fe4-4713-81b9-e443d25b7c5b",
   "metadata": {},
   "source": [
    "The chromatin states in the outputs have a prefix `state:`"
   ]
  },
  {
   "cell_type": "code",
   "execution_count": 64,
   "id": "17b09127-5839-47b0-b602-865b6bcf9331",
   "metadata": {},
   "outputs": [],
   "source": [
    "RESULTS_ID_CHROMATIN_STATE = 'state:' + CHROMATIN_STATE"
   ]
  },
  {
   "cell_type": "markdown",
   "id": "bd1dc0aa-9cee-4932-93f3-fddd432051d8",
   "metadata": {},
   "source": [
    "### Validation of the co-occurrence counts\n",
    "\n",
    "Co-occurrence counts are split between four columns in the pipeline output:\n",
    "\n",
    "1. `counts_true_true`, representing X=True, Y=True (X in rows)\n",
    "2. `counts_false_true`, representing X=False, Y=True (X in rows)\n",
    "3. `counts_true_false`, representing X=True, Y=False (X in rows)\n",
    "4. `counts_false_false` representing X=False, Y=False (X in rows)\n"
   ]
  },
  {
   "cell_type": "code",
   "execution_count": 65,
   "id": "e80f0ce8-d1e7-46a8-951d-5c7488ccd682",
   "metadata": {},
   "outputs": [
    {
     "data": {
      "text/plain": [
       "('PHF8-K562-ENCFF981ISM', 'state:1_TssA')"
      ]
     },
     "execution_count": 65,
     "metadata": {},
     "output_type": "execute_result"
    }
   ],
   "source": [
    "FACTOR_CELL_IDENTIFIER_X, RESULTS_ID_CHROMATIN_STATE"
   ]
  },
  {
   "cell_type": "code",
   "execution_count": 66,
   "id": "b2871128-e1d4-4fe1-90cb-3e5dfe69cd7e",
   "metadata": {},
   "outputs": [
    {
     "data": {
      "text/html": [
       "<div>\n",
       "<style scoped>\n",
       "    .dataframe tbody tr th:only-of-type {\n",
       "        vertical-align: middle;\n",
       "    }\n",
       "\n",
       "    .dataframe tbody tr th {\n",
       "        vertical-align: top;\n",
       "    }\n",
       "\n",
       "    .dataframe thead th {\n",
       "        text-align: right;\n",
       "    }\n",
       "</style>\n",
       "<table border=\"1\" class=\"dataframe\">\n",
       "  <thead>\n",
       "    <tr style=\"text-align: right;\">\n",
       "      <th>1_TssA</th>\n",
       "      <th>False</th>\n",
       "      <th>True</th>\n",
       "    </tr>\n",
       "    <tr>\n",
       "      <th>ENCFF981ISM</th>\n",
       "      <th></th>\n",
       "      <th></th>\n",
       "    </tr>\n",
       "  </thead>\n",
       "  <tbody>\n",
       "    <tr>\n",
       "      <th>False</th>\n",
       "      <td>2785700</td>\n",
       "      <td>19012</td>\n",
       "    </tr>\n",
       "    <tr>\n",
       "      <th>True</th>\n",
       "      <td>7852</td>\n",
       "      <td>22671</td>\n",
       "    </tr>\n",
       "  </tbody>\n",
       "</table>\n",
       "</div>"
      ],
      "text/plain": [
       "1_TssA         False   True\n",
       "ENCFF981ISM                \n",
       "False        2785700  19012\n",
       "True            7852  22671"
      ]
     },
     "execution_count": 66,
     "metadata": {},
     "output_type": "execute_result"
    }
   ],
   "source": [
    "cooccurrence_matrix"
   ]
  },
  {
   "cell_type": "code",
   "execution_count": 67,
   "id": "b75fa357-7ec2-4a80-aac9-399301d7ca81",
   "metadata": {},
   "outputs": [
    {
     "data": {
      "text/html": [
       "<div>\n",
       "<style scoped>\n",
       "    .dataframe tbody tr th:only-of-type {\n",
       "        vertical-align: middle;\n",
       "    }\n",
       "\n",
       "    .dataframe tbody tr th {\n",
       "        vertical-align: top;\n",
       "    }\n",
       "\n",
       "    .dataframe thead th {\n",
       "        text-align: right;\n",
       "    }\n",
       "</style>\n",
       "<table border=\"1\" class=\"dataframe\">\n",
       "  <thead>\n",
       "    <tr style=\"text-align: right;\">\n",
       "      <th>state:1_TssA</th>\n",
       "      <th>False</th>\n",
       "      <th>True</th>\n",
       "    </tr>\n",
       "    <tr>\n",
       "      <th>ENCFF981ISM</th>\n",
       "      <th></th>\n",
       "      <th></th>\n",
       "    </tr>\n",
       "  </thead>\n",
       "  <tbody>\n",
       "    <tr>\n",
       "      <th>False</th>\n",
       "      <td>2785700</td>\n",
       "      <td>19012</td>\n",
       "    </tr>\n",
       "    <tr>\n",
       "      <th>True</th>\n",
       "      <td>7852</td>\n",
       "      <td>22671</td>\n",
       "    </tr>\n",
       "  </tbody>\n",
       "</table>\n",
       "</div>"
      ],
      "text/plain": [
       "state:1_TssA    False   True\n",
       "ENCFF981ISM                 \n",
       "False         2785700  19012\n",
       "True             7852  22671"
      ]
     },
     "execution_count": 67,
     "metadata": {},
     "output_type": "execute_result"
    }
   ],
   "source": [
    "co_occurrence_matrix_from_pipeline = pd.DataFrame([\n",
    "    [\n",
    "     pipeline_outputs.loc[FACTOR_CELL_IDENTIFIER_X, ('counts_false_false', RESULTS_ID_CHROMATIN_STATE)],\n",
    "     pipeline_outputs.loc[FACTOR_CELL_IDENTIFIER_X, ('counts_false_true', RESULTS_ID_CHROMATIN_STATE)],\n",
    "    ],\n",
    "    [\n",
    "     pipeline_outputs.loc[FACTOR_CELL_IDENTIFIER_X, ('counts_true_false', RESULTS_ID_CHROMATIN_STATE)],\n",
    "     pipeline_outputs.loc[FACTOR_CELL_IDENTIFIER_X, ('counts_true_true', RESULTS_ID_CHROMATIN_STATE)],\n",
    "    ],\n",
    "], index=[False, True], columns=[False, True], dtype=int)\n",
    "\n",
    "co_occurrence_matrix_from_pipeline.index.name = ENCODE_IDENTIFIER_BEDFILE_X\n",
    "co_occurrence_matrix_from_pipeline.columns.name = RESULTS_ID_CHROMATIN_STATE\n",
    "\n",
    "co_occurrence_matrix_from_pipeline"
   ]
  },
  {
   "cell_type": "markdown",
   "id": "e0dc78c8-20e1-4d0a-b6ec-fc9ec47e8614",
   "metadata": {},
   "source": [
    "Make sure the results are identical:"
   ]
  },
  {
   "cell_type": "code",
   "execution_count": 68,
   "id": "59fa79a1-da53-49ca-bed6-b7c82a45d583",
   "metadata": {},
   "outputs": [],
   "source": [
    "from numpy.testing import assert_array_equal\n",
    "assert_array_equal(cooccurrence_matrix, co_occurrence_matrix_from_pipeline)"
   ]
  },
  {
   "cell_type": "markdown",
   "id": "c46434a8-7890-4964-9b1a-83bb2043b7f1",
   "metadata": {},
   "source": [
    "### Validation of the entropies\n",
    "\n",
    "We can now validate the marginal entropies.\n",
    "\n",
    "For the $X$ variable, these are listed in the pipeline matrix only once in column `entropy_by_row`:"
   ]
  },
  {
   "cell_type": "code",
   "execution_count": 69,
   "id": "948b0aa2-3b60-4f6b-969f-4bc7c9910158",
   "metadata": {},
   "outputs": [
    {
     "name": "stdout",
     "output_type": "stream",
     "text": [
      "-> Marginal entropy for ENCFF981ISM: computed here: 0.05980241823702094, computed by pipeline: 0.0598024182370209\n"
     ]
    }
   ],
   "source": [
    "marginal_entropy_x_from_pipeline = pipeline_outputs.loc[\n",
    "    FACTOR_CELL_IDENTIFIER_X, \n",
    "    ('entropy_by_row', 'entropy_by_row')\n",
    "]\n",
    "\n",
    "print(f'-> Marginal entropy for {ENCODE_IDENTIFIER_BEDFILE_X}: computed here: {entropy_marginal_x}, computed by pipeline: {marginal_entropy_x_from_pipeline}')\n",
    "assert_array_almost_equal([entropy_marginal_x], [marginal_entropy_x_from_pipeline])"
   ]
  },
  {
   "cell_type": "markdown",
   "id": "7eaef5ce-c6b1-49fd-b527-14c9e520ca18",
   "metadata": {},
   "source": [
    "For chromatin state, the entropy is listed as one of the columns in `entropy_by_col`."
   ]
  },
  {
   "cell_type": "code",
   "execution_count": 70,
   "id": "97dcd736-46d2-430c-a3a3-4919a2284f26",
   "metadata": {},
   "outputs": [
    {
     "name": "stdout",
     "output_type": "stream",
     "text": [
      "-> Marginal entropy for 1_TssA: computed here: 0.07691924810266863, computed by pipeline (column): [0.07691925]\n"
     ]
    }
   ],
   "source": [
    "marginal_entropy_y_from_pipeline_by_col = pipeline_outputs[('entropy_by_col', RESULTS_ID_CHROMATIN_STATE)].unique()\n",
    "\n",
    "print(f'-> Marginal entropy for {CHROMATIN_STATE}: computed here: {entropy_marginal_y}, computed by pipeline (column): {marginal_entropy_y_from_pipeline_by_col}')\n",
    "\n",
    "\n",
    "assert_array_almost_equal([entropy_marginal_y], marginal_entropy_y_from_pipeline_by_col)\n",
    "\n"
   ]
  },
  {
   "cell_type": "markdown",
   "id": "2fe426c1-fac2-4a91-bf3d-49f647b91aaa",
   "metadata": {},
   "source": [
    "Similarly, we can verify Mutual Information calculations:"
   ]
  },
  {
   "cell_type": "code",
   "execution_count": 71,
   "id": "dc26b3a6-2c30-4331-ae4c-cc2ccf34d88f",
   "metadata": {},
   "outputs": [
    {
     "name": "stdout",
     "output_type": "stream",
     "text": [
      "-> MI for ENCFF981ISM, 1_TssA: computed here: 0.03038251826495885, computed by pipeline: 0.0303825182649588\n"
     ]
    }
   ],
   "source": [
    "mi_from_pipeline = pipeline_outputs.loc[FACTOR_CELL_IDENTIFIER_X, ('mi', RESULTS_ID_CHROMATIN_STATE)]\n",
    "\n",
    "print(f'-> MI for {ENCODE_IDENTIFIER_BEDFILE_X}, {CHROMATIN_STATE}: computed here: {mi_xy_using_kl_formula}, computed by pipeline: {mi_from_pipeline}')\n",
    "\n",
    "assert_array_almost_equal([mi_xy_using_kl_formula], [mi_from_pipeline])"
   ]
  },
  {
   "cell_type": "markdown",
   "id": "99e0e9d0-36a9-459a-aaa6-ac39a1d0ca9c",
   "metadata": {},
   "source": [
    "And finally, and most importantly we need to verify that the normalised mutual information column in the pipeline output correspond to the `uncertainty_x_given_y`, and _not_ `uncertainty_y_given_x`"
   ]
  },
  {
   "cell_type": "code",
   "execution_count": 72,
   "id": "a50530ed-10dd-4625-a953-aa1c927176a1",
   "metadata": {},
   "outputs": [
    {
     "name": "stdout",
     "output_type": "stream",
     "text": [
      "-> Normed MI ENCFF981ISM \"given\" 1_TssA: computed here: 0.50804832246985, computed by pipeline: 0.5080483224698498\n",
      "-> Note this is not the same as normed MI 1_TssA \"given\" ENCFF981ISM (=0.39499239805887754)\n"
     ]
    }
   ],
   "source": [
    "normed_mi_from_pipeline = pipeline_outputs.loc[FACTOR_CELL_IDENTIFIER_X, ('normalised_mi', RESULTS_ID_CHROMATIN_STATE)]\n",
    "\n",
    "print(f'-> Normed MI {ENCODE_IDENTIFIER_BEDFILE_X} \"given\" {CHROMATIN_STATE}: computed here: {uncertainty_x_given_y}, computed by pipeline: {normed_mi_from_pipeline}')\n",
    "\n",
    "assert_array_almost_equal([uncertainty_x_given_y], [normed_mi_from_pipeline])\n",
    "\n",
    "print(f'-> Note this is not the same as normed MI {CHROMATIN_STATE} \"given\" {ENCODE_IDENTIFIER_BEDFILE_X} (={uncertainty_y_given_x})')\n"
   ]
  },
  {
   "cell_type": "markdown",
   "id": "5bd9f42d-8b45-42c0-99e2-93f80ad2ba27",
   "metadata": {},
   "source": [
    "That's it!"
   ]
  },
  {
   "cell_type": "code",
   "execution_count": null,
   "id": "1040ff55-6727-45da-858f-044fa4c15072",
   "metadata": {},
   "outputs": [],
   "source": []
  }
 ],
 "metadata": {
  "kernelspec": {
   "display_name": "Python 3",
   "language": "python",
   "name": "python3"
  },
  "language_info": {
   "codemirror_mode": {
    "name": "ipython",
    "version": 3
   },
   "file_extension": ".py",
   "mimetype": "text/x-python",
   "name": "python",
   "nbconvert_exporter": "python",
   "pygments_lexer": "ipython3",
   "version": "3.9.12"
  }
 },
 "nbformat": 4,
 "nbformat_minor": 5
}
