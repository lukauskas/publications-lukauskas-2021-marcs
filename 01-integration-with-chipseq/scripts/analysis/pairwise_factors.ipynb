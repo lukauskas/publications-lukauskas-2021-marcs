{
 "cells": [
  {
   "cell_type": "code",
   "execution_count": null,
   "id": "60b87c33-6a8d-4896-a535-e5bc118f98f5",
   "metadata": {},
   "outputs": [],
   "source": [
    "%config InlineBackend.figure_format = 'retina'\n",
    "%matplotlib inline\n",
    "# %matplotlib widget\n",
    "\n",
    "import os\n",
    "import pandas as pd\n",
    "import numpy as np\n",
    "import seaborn as sns\n",
    "from matplotlib import pyplot as plt\n",
    "from tqdm import tqdm\n",
    "sns.set_palette(['#1E1E1E', '#BB3524', '#F5D54A', '#384827', '#282F44'])\n",
    "sns.set_context('paper')\n",
    "sns.set_style({'axes.axisbelow': True, \n",
    "               'axes.edgecolor': '.15',\n",
    "               'axes.facecolor': 'white',\n",
    "               'axes.grid': False, \n",
    "               'axes.labelcolor': '.15', \n",
    "               'figure.facecolor': 'white', \n",
    "               'grid.color': '.15',\n",
    "               'grid.linestyle': ':', \n",
    "               'grid.alpha': .5, \n",
    "               'image.cmap': 'Greys', \n",
    "               'legend.frameon': False, \n",
    "               'legend.numpoints': 1, \n",
    "               'legend.scatterpoints': 1,\n",
    "               'lines.solid_capstyle': 'butt', \n",
    "               'axes.spines.right': False, \n",
    "               'axes.spines.top': False,  \n",
    "               'text.color': '.15',  \n",
    "               'xtick.top': False, \n",
    "               'ytick.right': False, \n",
    "               'xtick.color': '.15',\n",
    "               'xtick.direction': 'out', \n",
    "               'ytick.color': '.15', \n",
    "               'ytick.direction': 'out', \n",
    "              })\n",
    "\n",
    "\n",
    "import matplotlib\n",
    "\n",
    "FONT_SIZE_PT = 5\n",
    "matplotlib.rcParams['font.family'] = 'Arial'\n",
    "matplotlib.rcParams['font.size'] = FONT_SIZE_PT\n",
    "matplotlib.rcParams['axes.labelsize'] = FONT_SIZE_PT\n",
    "matplotlib.rcParams['axes.titlesize'] = FONT_SIZE_PT\n",
    "matplotlib.rcParams['figure.titlesize'] = FONT_SIZE_PT\n",
    "matplotlib.rcParams['xtick.labelsize'] = FONT_SIZE_PT\n",
    "matplotlib.rcParams['ytick.labelsize'] = FONT_SIZE_PT\n",
    "matplotlib.rcParams['legend.fontsize'] = FONT_SIZE_PT\n",
    "matplotlib.rcParams['legend.title_fontsize'] = FONT_SIZE_PT\n",
    "\n",
    "matplotlib.rcParams['xtick.major.size'] = matplotlib.rcParams['ytick.major.size'] = 2\n",
    "matplotlib.rcParams['xtick.major.width'] = matplotlib.rcParams['ytick.major.width'] = 0.5\n",
    "\n",
    "\n",
    "matplotlib.rcParams['xtick.minor.size'] = matplotlib.rcParams['ytick.minor.size'] = 1\n",
    "\n",
    "matplotlib.rcParams['xtick.minor.width'] = matplotlib.rcParams['ytick.minor.width'] = 0.5\n",
    "\n",
    "matplotlib.rcParams['axes.linewidth'] = 0.5\n",
    "matplotlib.rcParams['lines.linewidth'] = 0.5\n",
    "matplotlib.rcParams['grid.linewidth'] = 0.25\n",
    "matplotlib.rcParams['patch.linewidth'] = 0.25\n",
    "matplotlib.rcParams['lines.markeredgewidth'] = 0.25\n",
    "matplotlib.rcParams['lines.markersize'] = 2\n",
    "\n",
    "FIVE_MM_IN_INCH = 0.19685\n",
    "DPI = 600\n",
    "matplotlib.rcParams['figure.figsize'] = (10 * FIVE_MM_IN_INCH, 9 * FIVE_MM_IN_INCH)\n",
    "matplotlib.rcParams['savefig.dpi'] = DPI\n",
    "matplotlib.rcParams['figure.dpi'] = DPI // 4\n",
    "\n",
    "\n",
    "#http://phyletica.org/matplotlib-fonts/\n",
    "matplotlib.rcParams['pdf.fonttype'] = 42\n",
    "matplotlib.rcParams['ps.fonttype'] = 42\n",
    "\n",
    "pd.set_option(\"display.max_columns\", 200)"
   ]
  },
  {
   "cell_type": "code",
   "execution_count": null,
   "id": "a9571a18-942a-4b2b-946d-c47586fb0188",
   "metadata": {},
   "outputs": [],
   "source": [
    "import palettable"
   ]
  },
  {
   "cell_type": "code",
   "execution_count": null,
   "id": "c86cabb7-b3f9-4a65-b97a-db18a022b6c6",
   "metadata": {},
   "outputs": [],
   "source": [
    "HAVE_SNAKEMAKE = 'snakemake' in locals()\n",
    "\n",
    "if HAVE_SNAKEMAKE:\n",
    "    \n",
    "    input_consolidated_stats = snakemake.input.consolidated_tsv\n",
    "    \n",
    "    param_factors_x = snakemake.params.chip_features_x\n",
    "    param_factors_y = snakemake.params.chip_features_y\n",
    "    param_cell_line = snakemake.params.cell_line\n",
    "    \n",
    "    output_plot_dir = snakemake.output.output_dir\n",
    "    \n",
    "    param_hue_palette_factor_type = snakemake.params.get('hue_palette_factor_type', None)\n",
    "    param_shape_palette_factor_type = snakemake.params.get('shape_palette_factor_type', None)\n",
    "    param_input_header_separator = snakemake.params.get('input_header_sep', '__')\n",
    "    param_limits_log2 = snakemake.params.get('limits_log2', None)\n",
    "    \n",
    "    # Default to hmean\n",
    "    param_agg_op = snakemake.params.get('chip_feature_agg_op', 'hmean')\n",
    "    param_main_stat_col = snakemake.params.get('chip_feature_main_stat_col', 'normalised_mi')\n",
    "    \n",
    "else:\n",
    "    print(\"No snakemake -- DEBUG MODE\")\n",
    "    \n",
    "    _OUTDIR = '.nb-testing-outputs'\n",
    "    if not os.path.isdir(_OUTDIR):\n",
    "        os.makedirs(_OUTDIR)\n",
    "    \n",
    "   \n",
    "    _bin_size = 1000\n",
    "    _pseudocount = 100\n",
    "    _min_periods = 1\n",
    "     \n",
    "    _OUTDIR = '.nb-testing-outputs'\n",
    "    if not os.path.isdir(_OUTDIR):\n",
    "        os.makedirs(_OUTDIR)\n",
    "    \n",
    "    param_cell_line = 'K562'\n",
    "    input_consolidated_stats = f'../../output/final/analysis/params_{_bin_size}bp_pc_{_pseudocount}_mp_{_min_periods}/{param_cell_line}/consolidated_tables/bedstats_consolidated_{param_cell_line}_{_bin_size}bp_params_pc_{_pseudocount}_mp_{_min_periods}_from_bed.csv.gz'\n",
    "       \n",
    "    param_correlation_method = 'kendall'\n",
    "    param_input_header_separator = '__'\n",
    "\n",
    "    param_factors_x = [\"state:1_TssA\"]\n",
    "    param_factors_y = ['state:7_Enh']\n",
    "\n",
    "#     param_factors_x = ['H3K4me1-K562-ENCFF540NGG', 'H3K4me1-K562-ENCFF759NWD']\n",
    "#     param_factors_y = ['H3K4me3-K562-ENCFF689QIJ', 'H3K4me3-K562-ENCFF706WUF','H3K4me3-K562-ENCFF885FQN']\n",
    "\n",
    "    param_hue_palette_factor_type = None\n",
    "    param_shape_palette_factor_type = None\n",
    "    \n",
    "    # Sensible x and y- lim for scatterplot\n",
    "    param_limits_log2 = None\n",
    "    \n",
    "    output_plot_dir = os.path.join(_OUTDIR, 'pairwise_plots')\n",
    "    \n",
    "    param_agg_op = 'hmean'\n",
    "    \n",
    "    param_main_stat_col = 'normalised_mi'\n",
    "    \n",
    "param_fdr_method = 'fdr_bh'\n",
    "param_alpha = 0.05"
   ]
  },
  {
   "cell_type": "code",
   "execution_count": null,
   "id": "ff7fff77-941c-4b2e-b2ed-34bac9776921",
   "metadata": {},
   "outputs": [],
   "source": [
    "param_main_stat_col"
   ]
  },
  {
   "cell_type": "code",
   "execution_count": null,
   "id": "af1c4d07-61d3-444a-a52e-b435166247f8",
   "metadata": {},
   "outputs": [],
   "source": [
    "import re\n",
    "param_factors_x_safe = '_and_'.join([re.sub('[^a-zA-Z0-9_-]+', '_', x) for x in param_factors_x])\n",
    "param_factors_y_safe = '_and_'.join([re.sub('[^a-zA-Z0-9_-]+', '_', x) for x in param_factors_y])\n",
    "param_cell_line_safe = re.sub('[^a-zA-Z0-9_-]+', '_', param_cell_line)\n",
    "\n",
    "param_factors_x_safe, param_factors_y_safe, param_cell_line"
   ]
  },
  {
   "cell_type": "code",
   "execution_count": null,
   "id": "c8feaf93-679b-44a4-aa2f-6fca7de6d6bc",
   "metadata": {},
   "outputs": [],
   "source": [
    "param_factors_x_label = param_factors_x[0] if len(param_factors_x) == 1 else '{}({})'.format(param_agg_op, ', '.join(param_factors_x))\n",
    "param_factors_y_label = param_factors_y[0] if len(param_factors_y) == 1 else '{}({})'.format(param_agg_op, ', '.join(param_factors_y))\n",
    "\n",
    "param_factors_x_label, param_factors_y_label"
   ]
  },
  {
   "cell_type": "code",
   "execution_count": null,
   "id": "88e8fdf5-60e9-4f5a-908d-59483f65ace4",
   "metadata": {},
   "outputs": [],
   "source": [
    "%load_ext autoreload\n",
    "%aimport helpers\n",
    "%autoreload 1"
   ]
  },
  {
   "cell_type": "code",
   "execution_count": null,
   "id": "93b937f3-27f8-4d57-99e0-79962ea8f238",
   "metadata": {},
   "outputs": [],
   "source": [
    "if not os.path.isdir(output_plot_dir):\n",
    "    os.makedirs(output_plot_dir)"
   ]
  },
  {
   "cell_type": "code",
   "execution_count": null,
   "id": "a856bbe1-7bae-4248-9e32-f07be16abb4c",
   "metadata": {},
   "outputs": [],
   "source": [
    "if param_hue_palette_factor_type is None:\n",
    "    param_hue_palette_factor_type = helpers.get_default_hue_palette_factor_type()\n",
    "    \n",
    "if param_shape_palette_factor_type is None:\n",
    "    param_shape_palette_factor_type = helpers.get_default_shape_palette_factor_type()\n",
    "    \n",
    "print(f'{param_hue_palette_factor_type=}')\n",
    "print(f'{param_shape_palette_factor_type}')"
   ]
  },
  {
   "cell_type": "markdown",
   "id": "bce871e1-b899-4e5e-a24f-16b64ed9dd12",
   "metadata": {},
   "source": [
    "# Input\n",
    "\n",
    "So the previous step of the pipeline was aimed to assemble the data into an easily-digestable format.\n",
    "\n",
    "The goal of this notebook is to compare the mutual information responses of two factors, `param_factor_x`, and `param_factor_y`.\n",
    "\n",
    "This is what the data looks like as we import it:"
   ]
  },
  {
   "cell_type": "code",
   "execution_count": null,
   "id": "ec48331f-9d0e-48e5-ab2e-cfb99c194844",
   "metadata": {},
   "outputs": [],
   "source": [
    "data = pd.read_csv(input_consolidated_stats, index_col=0)\n",
    "data.columns = pd.MultiIndex.from_tuples(\n",
    "    [\n",
    "        c.split(param_input_header_separator) for c in data.columns\n",
    "    ],\n",
    "    names=['header', 'column']\n",
    ")\n",
    "\n",
    "data"
   ]
  },
  {
   "cell_type": "code",
   "execution_count": null,
   "id": "5b7be14a-e763-46d6-b589-17f13e956a95",
   "metadata": {},
   "outputs": [],
   "source": [
    "data[data[('metadata', 'factor_type')] != 'protein']"
   ]
  },
  {
   "cell_type": "markdown",
   "id": "a9b1059f-6415-43d0-9961-1f46ba723f43",
   "metadata": {},
   "source": [
    "To match what we are doing in `summarise_results.py.ipynb`, let's reaggregate data by factor"
   ]
  },
  {
   "cell_type": "code",
   "execution_count": null,
   "id": "b9a94f23-b474-4000-87ff-bfc995eab907",
   "metadata": {},
   "outputs": [],
   "source": [
    "# see helpers.reaggregate_by_factor\n",
    "data = helpers.reaggregate_by_factor(data, factor_col=('metadata', 'factor'))\n",
    "data['marcs_feature_significant_category'] = data['marcs_feature_significant_category'].fillna('No data')"
   ]
  },
  {
   "cell_type": "markdown",
   "id": "b1c93322-0067-44b1-81c1-a0daf0f5cad7",
   "metadata": {},
   "source": [
    "Otherwise we really only need the MI data for for the factors of interest. Fetch that"
   ]
  },
  {
   "cell_type": "code",
   "execution_count": null,
   "id": "4fc4242e-c3c9-4c8d-802d-f05e89319c5e",
   "metadata": {},
   "outputs": [],
   "source": [
    "data_stats_x = data[[(param_main_stat_col, xx) for xx in param_factors_x]]\n",
    "data_stats_y = data[[(param_main_stat_col, yy) for yy in param_factors_y]]"
   ]
  },
  {
   "cell_type": "code",
   "execution_count": null,
   "id": "8c720a64-dbcf-4afe-bcfb-872fd188b1c6",
   "metadata": {},
   "outputs": [],
   "source": [
    "data_stats_x.head()"
   ]
  },
  {
   "cell_type": "code",
   "execution_count": null,
   "id": "9f4f7292-376e-412a-9676-77b00491cad6",
   "metadata": {},
   "outputs": [],
   "source": [
    "data_stats_y.head()"
   ]
  },
  {
   "cell_type": "markdown",
   "id": "07665aa2-dcc9-41c4-a4ab-925dad401240",
   "metadata": {},
   "source": [
    "For cases where we have more than one param selected, we are going to average the data columnwise.\n",
    "\n",
    "\n",
    "We will use `param_agg_op`:"
   ]
  },
  {
   "cell_type": "code",
   "execution_count": null,
   "id": "2d7d2953-a65b-41b1-844b-a7b605088a77",
   "metadata": {},
   "outputs": [],
   "source": [
    "print(f'{param_agg_op=}')\n",
    "_op = helpers.nan_aware_hmean if param_agg_op == 'hmean' else param_agg_op\n",
    "print(f'{_op=}')"
   ]
  },
  {
   "cell_type": "code",
   "execution_count": null,
   "id": "56d8fea2-a987-41fe-90ec-3164da3a91ee",
   "metadata": {},
   "outputs": [],
   "source": [
    "data_stats = pd.DataFrame({\n",
    "    (param_main_stat_col, 'factors_x'): data_stats_x.agg(_op, axis=1),\n",
    "    (param_main_stat_col, 'factors_y'): data_stats_y.agg(_op, axis=1)\n",
    "})\n",
    "data_stats.head()   "
   ]
  },
  {
   "cell_type": "markdown",
   "id": "4897c332-e09b-4959-ae19-8c795ecfbd89",
   "metadata": {},
   "source": [
    "We will also need some metadata"
   ]
  },
  {
   "cell_type": "code",
   "execution_count": null,
   "id": "9183a847-eb1d-480c-ae87-a135f1c52523",
   "metadata": {},
   "outputs": [],
   "source": [
    "data_meta = data[['metadata']].copy()\n",
    "data_marcs = data[['marcs_feature_significant_category']]"
   ]
  },
  {
   "cell_type": "code",
   "execution_count": null,
   "id": "b14bfd28-a1b8-451b-9439-f02fceba22c9",
   "metadata": {},
   "outputs": [],
   "source": [
    "MARCS_FEATURE_ORDER = helpers.MARCS_FEATURE_ORDER"
   ]
  },
  {
   "cell_type": "code",
   "execution_count": null,
   "id": "d14f409a-ff90-42af-9eb0-94e87952d5a5",
   "metadata": {},
   "outputs": [],
   "source": [
    "data_meta"
   ]
  },
  {
   "cell_type": "markdown",
   "id": "ed63474e-79c1-4eb0-9633-3d029a0a61d4",
   "metadata": {},
   "source": [
    "Add the names of the factors that we are comparing to the metadata:"
   ]
  },
  {
   "cell_type": "code",
   "execution_count": null,
   "id": "e27b32f8-2d6e-4e7b-8989-7e4d62fdfe6c",
   "metadata": {},
   "outputs": [],
   "source": [
    "data_meta[('metadata', 'comparison_factor_x')] = [';'.join(param_factors_x)] * len(data_meta)\n",
    "data_meta[('metadata', 'comparison_factor_y')] = [';'.join(param_factors_y)] * len(data_meta)\n",
    "\n",
    "data_meta"
   ]
  },
  {
   "cell_type": "markdown",
   "id": "7fecda69-2aef-484f-be55-16377b62c56e",
   "metadata": {},
   "source": [
    "At this point, it makes life easier to convert the stat to `log2` scale. For MI the zeroes are not an issue because we're handling smoothing at the counting step."
   ]
  },
  {
   "cell_type": "code",
   "execution_count": null,
   "id": "2db8f776-5f5a-44f2-9b55-dd6f014879e0",
   "metadata": {},
   "outputs": [],
   "source": [
    "data_stats[(f'{param_main_stat_col}_log2', 'factors_x')] = data_stats[(param_main_stat_col, 'factors_x')].apply(np.log2)\n",
    "data_stats[(f'{param_main_stat_col}_log2', 'factors_y')] = data_stats[(param_main_stat_col, 'factors_y')].apply(np.log2)\n"
   ]
  },
  {
   "cell_type": "code",
   "execution_count": null,
   "id": "52d2132d-319a-4010-9b1c-de6824fa63fe",
   "metadata": {},
   "outputs": [],
   "source": [
    "data_stats"
   ]
  },
  {
   "cell_type": "markdown",
   "id": "c5992aa5-8d2d-4fe4-8c0f-3abc4747ae85",
   "metadata": {},
   "source": [
    "We can now calculate the log diff (`log2(x) - log2(y)`)"
   ]
  },
  {
   "cell_type": "code",
   "execution_count": null,
   "id": "7b3b455b-e7a4-4e4b-a19c-7c20e906720d",
   "metadata": {},
   "outputs": [],
   "source": [
    "data_stats[f'{param_main_stat_col}_log2_diff', 'factors_x_minus_factors_y'] = data_stats[(f'{param_main_stat_col}_log2', 'factors_x')] - data_stats[(f'{param_main_stat_col}_log2', 'factors_y')]\n",
    "data_stats"
   ]
  },
  {
   "cell_type": "markdown",
   "id": "92e89621-6e57-4f01-a117-f92298e24f89",
   "metadata": {},
   "source": [
    "And this should be everything"
   ]
  },
  {
   "cell_type": "code",
   "execution_count": null,
   "id": "d15c480c-3d62-46e6-9f03-3044b5d2e6c2",
   "metadata": {},
   "outputs": [],
   "source": [
    "data_scatterplot = data_meta.join(data_stats).join(data_marcs)\n",
    "data_scatterplot"
   ]
  },
  {
   "cell_type": "markdown",
   "id": "7a9fd698-cd69-42f4-87ae-b737f95b507f",
   "metadata": {},
   "source": [
    "Note that this plot contains all data, not just proteins"
   ]
  },
  {
   "cell_type": "code",
   "execution_count": null,
   "id": "9fc335f3-7417-4de5-a9fd-54054d234611",
   "metadata": {},
   "outputs": [],
   "source": [
    "data_scatterplot.loc[data_scatterplot['metadata', 'factor_type'] != 'protein']"
   ]
  },
  {
   "cell_type": "code",
   "execution_count": null,
   "id": "e199765c-1ca6-495b-a7ab-24b3912fd5c5",
   "metadata": {},
   "outputs": [],
   "source": [
    "assert not data_scatterplot.index.duplicated().any()"
   ]
  },
  {
   "cell_type": "markdown",
   "id": "439f431f-7f3d-4ad9-9012-292d678dbfbf",
   "metadata": {},
   "source": [
    "We can save the output at this point:"
   ]
  },
  {
   "cell_type": "code",
   "execution_count": null,
   "id": "0f44d7ef-dba4-47c4-9e43-d303447f38cb",
   "metadata": {},
   "outputs": [],
   "source": [
    "data_scatterplot.reset_index().to_csv(\n",
    "    os.path.join(output_plot_dir, f'data_scatterplot.csv'),\n",
    "    index=False\n",
    ")\n"
   ]
  },
  {
   "cell_type": "markdown",
   "id": "ab0f72b6-5b81-4860-9a23-02fa66aff1df",
   "metadata": {},
   "source": [
    "# Natural scale plots"
   ]
  },
  {
   "cell_type": "markdown",
   "id": "d684b16d-ac5f-46a9-b19c-3f4d67050629",
   "metadata": {},
   "source": [
    "A sanity scatterplot before making stilised version:"
   ]
  },
  {
   "cell_type": "code",
   "execution_count": null,
   "id": "6ff8b252-d449-470d-8c4c-04c206fd9eff",
   "metadata": {},
   "outputs": [],
   "source": [
    "x_col = f'{param_main_stat_col}', 'factors_x'\n",
    "y_col = f'{param_main_stat_col}', 'factors_y'\n",
    "c_col = f'{param_main_stat_col}_log2_diff', f'factors_x_minus_factors_y'\n",
    "\n",
    "ax = plt.gca()\n",
    "\n",
    "ax.scatter(\n",
    "    x=data_scatterplot[x_col], \n",
    "    y=data_scatterplot[y_col], \n",
    "    c=data_scatterplot[c_col], \n",
    "    cmap='RdBu_r', \n",
    "    vmin=-4, vmax=4,\n",
    "    edgecolor='black'\n",
    ")\n",
    "\n",
    "ax.plot(\n",
    "    [\n",
    "        min(data_scatterplot[x_col].min(), data_scatterplot[y_col].min()), \n",
    "         max(data_scatterplot[x_col].max(), data_scatterplot[y_col].max())\n",
    "    ],\n",
    "    [\n",
    "        min(data_scatterplot[x_col].min(), data_scatterplot[y_col].min()), \n",
    "         max(data_scatterplot[x_col].max(), data_scatterplot[y_col].max())\n",
    "    ],\n",
    "    linestyle=':'\n",
    ")\n",
    "ax.set_xlabel(x_col)\n",
    "ax.set_ylabel(y_col)"
   ]
  },
  {
   "cell_type": "code",
   "execution_count": null,
   "id": "3f63047d-3d58-44ac-bc0d-a8ede623cab7",
   "metadata": {},
   "outputs": [],
   "source": [
    "data_marcs"
   ]
  },
  {
   "cell_type": "code",
   "execution_count": null,
   "id": "8fe03add-69a7-45ca-9b0a-632a7c4fecea",
   "metadata": {},
   "outputs": [],
   "source": [
    "fig = plt.figure()"
   ]
  },
  {
   "cell_type": "code",
   "execution_count": null,
   "id": "2f31dcc6-ad5d-4890-bfff-6ed36d0001c4",
   "metadata": {},
   "outputs": [],
   "source": [
    "fig.bbox"
   ]
  },
  {
   "cell_type": "code",
   "execution_count": null,
   "id": "22292ab8-c932-47a1-9dec-da354c853d4c",
   "metadata": {},
   "outputs": [],
   "source": [
    "_.bounds"
   ]
  },
  {
   "cell_type": "code",
   "execution_count": null,
   "id": "0f057cc3-7099-4a89-8c71-12e9b56b2a7d",
   "metadata": {},
   "outputs": [],
   "source": [
    "import textwrap\n",
    "from matplotlib.backends.backend_pdf import PdfPages\n",
    "from contextlib import suppress\n",
    "import gc\n",
    "import matplotlib.ticker as ticker\n",
    "\n",
    "RECRUITED_FEATURE_GROUP = 'Strongly recruited'\n",
    "EXCLUDED_FEATURE_GROUP = 'Strongly excluded'\n",
    "\n",
    "FEATURES_SHAPE_MAP = {\n",
    "    'Neither': dict(edgecolor='#CDCDCD', linewidth=0.35, zorder=0, s=4, alpha=.8),\n",
    "    'No data': dict(zorder=0, s=4, marker='x', alpha=.8),\n",
    "    RECRUITED_FEATURE_GROUP: dict(edgecolor='#525252', linewidth=.35, zorder=1, s=8, alpha=.8),\n",
    "    EXCLUDED_FEATURE_GROUP: dict(edgecolor='#525252', linewidth=.35, zorder=1, s=8, alpha=.8),\n",
    "}\n",
    "\n",
    "FEATURES_PALETTE = {\n",
    "    'Neither': '#bdbdbd',\n",
    "    'No data': '#bdbdbd',\n",
    "    RECRUITED_FEATURE_GROUP: '#BA5047',\n",
    "    EXCLUDED_FEATURE_GROUP: '#4B82B6',\n",
    "}\n",
    "\n",
    "def make_scatterplots(data, *, x_col, y_col, xlabel, ylabel, title, filename, limits=None):\n",
    "    \n",
    "    max_symbols_per_line = 40\n",
    "    data = data.reset_index()\n",
    "    \n",
    "    \n",
    "    \n",
    "    kws = dict(\n",
    "        x_col=x_col, \n",
    "        xlabel='\\n'.join(textwrap.wrap(xlabel, max_symbols_per_line)),\n",
    "        y_col=y_col, \n",
    "        ylabel='\\n'.join(textwrap.wrap(ylabel, max_symbols_per_line)),\n",
    "        annot_col=('metadata', 'factor'),\n",
    "        approx_number_of_labels=20,\n",
    "        lines=['xy'], \n",
    "        do_not_change_limits=limits is not None,\n",
    "    )\n",
    "\n",
    "    with PdfPages(filename) as pdf:\n",
    "#     with suppress():\n",
    "        \n",
    "        for marcs_feature in [None] + list(MARCS_FEATURE_ORDER):\n",
    "            \n",
    "            fig = plt.figure(figsize=(10*FIVE_MM_IN_INCH, 10*FIVE_MM_IN_INCH))\n",
    "            ax_main = plt.gca()\n",
    "            \n",
    "            if limits is not None:\n",
    "                ax_main.set_xlim(*limits)\n",
    "                ax_main.set_ylim(*limits)\n",
    "            \n",
    "            if marcs_feature is None:\n",
    "                helpers.make_plot(\n",
    "                    shape_col=('metadata', 'factor_type'),\n",
    "                    shape_map=param_shape_palette_factor_type,\n",
    "                    title='\\n'.join(textwrap.wrap(title, max_symbols_per_line)),\n",
    "                    axes=ax_main,\n",
    "                    hue_palette=param_hue_palette_factor_type,\n",
    "                    hue_col=('metadata', 'factor_type'), \n",
    "                    df=data, \n",
    "                    **kws,\n",
    "                )\n",
    "            else:\n",
    "                \n",
    "                data_feature_augmented = data.copy()\n",
    "        \n",
    "                # Hack: Propagate factor types into feature significant category so non-proteins apear with their symbols and not \"x\"\n",
    "                new_column = ('marcs_feature_significant_category_or_feature_type', marcs_feature)\n",
    "                data_feature_augmented[new_column] = data_feature_augmented[('marcs_feature_significant_category', marcs_feature)].copy()\n",
    "                \n",
    "                not_protein = data_feature_augmented[('metadata', 'factor_type')] != 'protein'\n",
    "                data_feature_augmented.loc[not_protein, new_column] = data_feature_augmented.loc[not_protein, ('metadata', 'factor_type')]\n",
    "                \n",
    "                hue_col = shape_col = new_column\n",
    "               \n",
    "                helpers.make_plot(\n",
    "                    shape_col=shape_col,\n",
    "                    shape_map={**param_shape_palette_factor_type, **FEATURES_SHAPE_MAP},\n",
    "                    title='\\n'.join(textwrap.wrap(f'{title} vs MARCS Feature {marcs_feature}', max_symbols_per_line)),\n",
    "                    axes=ax_main,\n",
    "                    # Hack\n",
    "                    label_strategy=set(data_feature_augmented[data_feature_augmented[shape_col].isin([RECRUITED_FEATURE_GROUP, EXCLUDED_FEATURE_GROUP])].index),\n",
    "                    hue_palette={**param_hue_palette_factor_type, **FEATURES_PALETTE},\n",
    "                    adjust_text_kws=dict(lim=100), # to reduce runtime\n",
    "                    df=data_feature_augmented,\n",
    "                    hue_col=hue_col,\n",
    "                    **kws,\n",
    "                )\n",
    "            \n",
    "            # Make sure x and y ticks are of the same precision\n",
    "            \n",
    "            default_ticker = ticker.AutoLocator()\n",
    "            \n",
    "            # Code below tries to get the default tick spacing for x and y axis\n",
    "            # The ticker returns ticks, diff calculates differences, median is a bit redundant as all returned tick spacings should be the same anyway\n",
    "            ticks_spacing_x = np.median(np.diff(default_ticker.tick_values(*ax_main.get_xlim())))\n",
    "            ticks_spacing_y = np.median(np.diff(default_ticker.tick_values(*ax_main.get_ylim())))\n",
    "            \n",
    "            ticks_spacing_xy = np.max([ticks_spacing_x, ticks_spacing_y]) # use maximum spacing of the two axes\n",
    "            \n",
    "            # Make the tick locator constant\n",
    "            ax_main.xaxis.set_major_locator(ticker.MultipleLocator(ticks_spacing_xy))\n",
    "            ax_main.yaxis.set_major_locator(ticker.MultipleLocator(ticks_spacing_xy))\n",
    "            \n",
    "            sns.despine(ax=ax_main, offset=3)\n",
    "            \n",
    "            ax_main.legend(loc='center left', bbox_to_anchor=(1, 0.5))\n",
    "            \n",
    "            pdf.savefig(bbox_inches='tight')\n",
    "            # There's some sort of memory leak going on, let's try to avoid that\n",
    "            plt.close(fig)\n",
    "            plt.close('all')\n",
    "            plt.close()\n",
    "            gc.collect()\n",
    "         \n",
    "        \n",
    "    # There's some sort of memory leak going on, let's try to avoid that\n",
    "    plt.close('all')\n",
    "    plt.close()\n",
    "    gc.collect()\n"
   ]
  },
  {
   "cell_type": "code",
   "execution_count": null,
   "id": "e82b28b3-bbee-42d5-9d51-44cf694bf931",
   "metadata": {},
   "outputs": [],
   "source": [
    "x_col = f'{param_main_stat_col}', 'factors_x'\n",
    "y_col = f'{param_main_stat_col}', 'factors_y'\n",
    "\n",
    "xlabel = f\"Fraction of entropy explained by {param_factors_x_label}\"\n",
    "ylabel = f\"Fraction of entropy explained by {param_factors_y_label}\"\n",
    "title = f'{param_factors_x_label} vs {param_factors_y_label} (natural scale, {param_cell_line})'\n",
    "\n",
    "\n",
    "make_scatterplots(\n",
    "    data_scatterplot, \n",
    "    x_col=x_col,\n",
    "    y_col=y_col,\n",
    "    xlabel=xlabel,\n",
    "    ylabel=ylabel,\n",
    "    title=title,\n",
    "    filename=os.path.join(output_plot_dir, f'pairwise_scatterplot_{param_cell_line_safe}_{param_factors_x_safe}__vs__{param_factors_y_safe}_natural_scale.pdf')\n",
    ")         "
   ]
  },
  {
   "cell_type": "markdown",
   "id": "1aa668bc-99c8-4fe3-9fc1-8f2b96463b2f",
   "metadata": {},
   "source": [
    "# Log2-scale plots"
   ]
  },
  {
   "cell_type": "markdown",
   "id": "0d3fc8e6-c90d-4205-b55f-d28f5389af60",
   "metadata": {},
   "source": [
    "Quickly, figure out a sensible limits for the data if they were not specified:"
   ]
  },
  {
   "cell_type": "code",
   "execution_count": null,
   "id": "12778413-1101-4822-ad7b-07356c58a6b0",
   "metadata": {},
   "outputs": [],
   "source": [
    "if param_limits_log2 is None:\n",
    "    # The reason why limits are asymmetrical is because we really care more a\n",
    "    # about proteins with higher explained variance, than lower\n",
    "    low_limit = data_scatterplot[f'{param_main_stat_col}_log2'].min(axis=1).quantile(0.02)\n",
    "    high_limit = data_scatterplot[f'{param_main_stat_col}_log2'].stack().max() + 1\n",
    "    \n",
    "    param_limits_log2 = (low_limit, high_limit)\n",
    "\n",
    "print(f\"{param_limits_log2=}\")"
   ]
  },
  {
   "cell_type": "markdown",
   "id": "811f43c4-3cc8-4cba-88c6-9f36c44b1355",
   "metadata": {},
   "source": [
    "quick sanity check before making styled plot:"
   ]
  },
  {
   "cell_type": "code",
   "execution_count": null,
   "id": "81a7550a-ad3c-4fb9-a23c-63276bf6bb0b",
   "metadata": {},
   "outputs": [],
   "source": [
    "x_col = f'{param_main_stat_col}_log2', 'factors_x'\n",
    "y_col = f'{param_main_stat_col}_log2', 'factors_y'\n",
    "c_col = f'{param_main_stat_col}_log2_diff', 'factors_x_minus_factors_y'\n",
    "\n",
    "ax = plt.gca()\n",
    "\n",
    "ax.scatter(\n",
    "    x=data_scatterplot[x_col], \n",
    "    y=data_scatterplot[y_col], \n",
    "    c=data_scatterplot[c_col], \n",
    "    cmap='RdBu_r', \n",
    "    vmin=-4, vmax=4,\n",
    "    edgecolor='black'\n",
    ")\n",
    "\n",
    "ax.plot(param_limits_log2, param_limits_log2, linestyle=':')\n",
    "ax.set_xlabel(x_col)\n",
    "ax.set_ylabel(y_col)\n",
    "ax.set_xlim(*param_limits_log2)\n",
    "ax.set_ylim(*param_limits_log2)"
   ]
  },
  {
   "cell_type": "markdown",
   "id": "d76cee81-e2e6-4be6-8dc4-adfbc89c86d4",
   "metadata": {},
   "source": [
    "And a styled plot"
   ]
  },
  {
   "cell_type": "code",
   "execution_count": null,
   "id": "5a720146-66bb-473f-acde-81987a8069af",
   "metadata": {},
   "outputs": [],
   "source": [
    "x_col = f'{param_main_stat_col}_log2', 'factors_x'\n",
    "y_col = f'{param_main_stat_col}_log2', 'factors_y'\n",
    "\n",
    "xlabel = f\"Fraction of entropy explained by {param_factors_x_label}, log2\"\n",
    "ylabel = f\"Fraction of entropy explained by {param_factors_y_label}, log2\"\n",
    "title = f'{param_factors_x_label} vs {param_factors_y_label} (log scale, {param_cell_line})'\n",
    "\n",
    "\n",
    "make_scatterplots(\n",
    "    data_scatterplot, \n",
    "    x_col=x_col,\n",
    "    y_col=y_col,\n",
    "    xlabel=xlabel,\n",
    "    ylabel=ylabel,\n",
    "    title=title,\n",
    "    filename=os.path.join(output_plot_dir, f'pairwise_scatterplot_{param_cell_line_safe}_{param_factors_x_safe}__vs__{param_factors_y_safe}_log2_scale.pdf'),\n",
    "    limits=param_limits_log2,\n",
    ")         "
   ]
  },
  {
   "cell_type": "markdown",
   "id": "d16b43aa-acf5-4c03-8e1b-bcf682502cbe",
   "metadata": {},
   "source": [
    "# Co-relationship with MARCS features"
   ]
  },
  {
   "cell_type": "code",
   "execution_count": null,
   "id": "5cb0c827-02fb-4377-9e27-6c930f7d5641",
   "metadata": {},
   "outputs": [],
   "source": [
    "helpers.get_stats??"
   ]
  },
  {
   "cell_type": "code",
   "execution_count": null,
   "id": "2b05a35f-0b79-499e-abd8-465a6355a80b",
   "metadata": {},
   "outputs": [],
   "source": [
    "stats = helpers.get_stats(\n",
    "    data_scatterplot,\n",
    "    column=\"normalised_mi_log2_diff\",\n",
    "    control_groups=['Neither', 'No data'], \n",
    "    test_groups=[RECRUITED_FEATURE_GROUP, EXCLUDED_FEATURE_GROUP],\n",
    "    fdr_method=param_fdr_method,\n",
    "    fdr_alpha=param_alpha,\n",
    "    log2=False, # Data is already log2, no need to log2 again in the code.\n",
    ")\n",
    "\n",
    "# Rename the mean_diff to something more descriptive\n",
    "# the added `log2` is because we're passing data as log2 already\n",
    "stats = stats.rename(columns={'mean_diff': 'mean_log2_diff_of_diffs'})\n",
    "\n",
    "# The get_stats function is written for many datasets... In our case, however, we will have only one \"dataset\" and it is factors_y_minus_factors_x\n",
    "stats = stats.loc['factors_x_minus_factors_y']\n",
    "stats['comparison_factor_x'] = ';'.join(param_factors_x)\n",
    "stats['comparison_factor_y'] = ';'.join(param_factors_y)\n",
    "\n",
    "stats = stats.sort_values(by='p-val')\n",
    "stats.to_csv(os.path.join(output_plot_dir, 'mwu_stats.csv'))\n",
    "stats"
   ]
  },
  {
   "cell_type": "markdown",
   "id": "83e5ddbe-57a2-4275-8273-c839f2d93285",
   "metadata": {},
   "source": [
    "# World's smallest heatmap"
   ]
  },
  {
   "cell_type": "code",
   "execution_count": null,
   "id": "4fdff741-57b0-4722-b174-66750e1b5f6a",
   "metadata": {},
   "outputs": [],
   "source": [
    "_df = stats.copy()\n",
    "_df['title'] = f'{param_factors_x_label} minus {param_factors_y_label}'\n",
    "_df = _df.reset_index().set_index(['title', 'marcs_feature', 'group'])\n",
    "\n",
    "matrix = _df['mean_log2_diff_of_diffs'].unstack(['marcs_feature', 'group'])\n",
    "matrix_mask =  ~(_df['significant'].unstack(['marcs_feature', 'group']).fillna(False))\n",
    "matrix_pvals = _df['p-val corrected'].unstack(['marcs_feature', 'group'])\n",
    "\n",
    "matrix = matrix[MARCS_FEATURE_ORDER]\n",
    "matrix_mask = matrix_mask[MARCS_FEATURE_ORDER]\n",
    "matrix_pvals = matrix_pvals[MARCS_FEATURE_ORDER]"
   ]
  },
  {
   "cell_type": "code",
   "execution_count": null,
   "id": "ee31b073-7c3c-4195-96a4-9171c87a7855",
   "metadata": {},
   "outputs": [],
   "source": [
    "matrix"
   ]
  },
  {
   "cell_type": "code",
   "execution_count": null,
   "id": "fde2253c-c656-4a19-aea9-b708720b3628",
   "metadata": {},
   "outputs": [],
   "source": [
    "matrix_mask"
   ]
  },
  {
   "cell_type": "code",
   "execution_count": null,
   "id": "cacbeeda-c255-426f-9b86-bf2a5d4f2f18",
   "metadata": {},
   "outputs": [],
   "source": [
    "matrix_pvals"
   ]
  },
  {
   "cell_type": "code",
   "execution_count": null,
   "id": "426a28c8-3ec6-4ac1-aa80-21560c1426ab",
   "metadata": {},
   "outputs": [],
   "source": [
    "_matrix = matrix.copy()\n",
    "_mask = matrix_mask.copy()\n",
    "_pvals = matrix_pvals.copy()\n",
    "\n",
    "\n",
    "_row_order = list(_matrix.index)\n",
    "_col_order = ['-'.join(ix) for ix in _matrix.columns]\n",
    "\n",
    "_row_coords = pd.Series(\n",
    "    np.arange(len(_row_order), 0, -1) * 10.0 - 5, # times five because of matplotlib dendrogram madness,\n",
    "    index=_row_order,\n",
    "    name='row_coord'\n",
    ")\n",
    "\n",
    "_col_coords = pd.Series(\n",
    "    np.arange(1, len(_col_order)+1) * 10.0 - 5, # times five because of matplotlib dendrogram madness\n",
    "    index=_col_order,\n",
    "    name='col_coord'\n",
    ")\n",
    "\n",
    "\n",
    "# Don't mess with the wide format, convert all into narrow\n",
    "# To do this make sure we have normal indices column names\n",
    "for _df in [_matrix, _mask, _pvals, _row_coords, _col_coords]:\n",
    "    if isinstance(_df.index, pd.MultiIndex):\n",
    "        _df.index = ['-'.join(ix) for ix in _df.index]\n",
    "    \n",
    "    if isinstance(_df, pd.DataFrame) and isinstance(_df.columns, pd.MultiIndex):\n",
    "        _df.columns = ['-'.join(ix) for ix in _df.columns]\n",
    "\n",
    "# A couple operations to force the matrix into long format:\n",
    "_matrix_long = pd.concat([_matrix, _mask, _pvals], keys=['matrix', 'mask', 'pvals'])\n",
    "_matrix_long = _matrix_long.stack()\n",
    "_matrix_long.index.names = ['measurement', 'row_name', 'col_name']\n",
    "_matrix_long = _matrix_long.unstack('measurement')\n",
    "_matrix_long = _matrix_long.join(_row_coords, on='row_name')\n",
    "_matrix_long = _matrix_long.join(_col_coords, on='col_name')\n",
    "\n",
    "# Bin the p-values\n",
    "# If you change the bins, change the legend code below too\n",
    "_matrix_long['pvals_binned'] = pd.cut(_matrix_long['pvals'], bins=[0, 0.01, 0.05, 1.0])\n",
    "assert len(_matrix_long.pvals_binned.cat.categories) == 3\n",
    "_pval_kwarg_dict = dict(zip(_matrix_long.pvals_binned.cat.categories, [dict(s=30, marker='s', edgecolor='#525252', linewidth=0.45), dict(s=20, marker='s', edgecolor='#525252', linewidth=0.45), dict(s=10, marker='s', edgecolor='#CDCDCD', linewidth=0.45)]))\n",
    "_ns_pval_group = _matrix_long.pvals_binned.cat.categories[-1]\n"
   ]
  },
  {
   "cell_type": "code",
   "execution_count": null,
   "id": "9fe076bb-9c8b-4447-846a-0a845ff2cdcb",
   "metadata": {},
   "outputs": [],
   "source": [
    "from matplotlib.gridspec import GridSpec\n",
    "\n",
    "# Force the colour scale for min and max\n",
    "_vmin = -2.1 # don't make this a round number (will help with the ticks)\n",
    "_vmax = 2.1\n",
    "_title = f'Mean log2 difference\\nin normed MI\\n(to other proteins)'\n",
    "_cmap = 'RdBu_r'\n",
    "\n",
    "n_rows, n_cols = _matrix.shape\n",
    "\n",
    "fig = plt.figure(\n",
    "    figsize=(\n",
    "        # four mm * (columns + dendrogram) + [labels]\n",
    "        4/5*FIVE_MM_IN_INCH*(n_cols+5) + FIVE_MM_IN_INCH*5, \n",
    "        # four mm * (rows + dendrogram)\n",
    "        4/5*FIVE_MM_IN_INCH*(n_rows+5+5),\n",
    "    ),\n",
    "    constrained_layout=True,\n",
    ")\n",
    "\n",
    "gs = GridSpec(3, 2, width_ratios=[5, n_cols], height_ratios=[5, n_rows, 5], wspace=0.05, hspace=0.05)\n",
    "\n",
    "ax_heatmap = fig.add_subplot(gs[1,1])\n",
    "ax_heatmap.invert_yaxis()\n",
    "ax_heatmap.xaxis.tick_top()\n",
    "ax_heatmap.yaxis.tick_right()\n",
    "\n",
    "sns.despine(ax=ax_heatmap, bottom=False, right=False, top=False, left=False)\n",
    "ax_heatmap.xaxis.set_tick_params(length=0)\n",
    "ax_heatmap.yaxis.set_tick_params(length=0)\n",
    "\n",
    "# Draw heatmap\n",
    "for _pval_group, _submatrix in _matrix_long.groupby('pvals_binned'):\n",
    "    \n",
    "     _colours = ax_heatmap.scatter(\n",
    "        _submatrix['col_coord'], \n",
    "        _submatrix['row_coord'], \n",
    "        c=_submatrix['matrix'], \n",
    "        vmin=_vmin, vmax=_vmax, \n",
    "        cmap=_cmap,\n",
    "        **_pval_kwarg_dict[_pval_group],\n",
    "    )\n",
    "        \n",
    "# Set ticks\n",
    "_yticks = _row_coords.sort_values()\n",
    "ax_heatmap.set_yticks(_yticks.values)\n",
    "ax_heatmap.set_yticklabels(_yticks.index)\n",
    "\n",
    "_xticks = _col_coords.sort_values()\n",
    "ax_heatmap.set_xticks(_xticks.values)\n",
    "ax_heatmap.set_xticklabels(_xticks.index, rotation=90)\n",
    "\n",
    "\n",
    "# Add legends\n",
    "ax_legend = fig.add_subplot(gs[0,0])\n",
    "\n",
    "# Colourbar\n",
    "cax = ax_legend.inset_axes([0.0, 0.7, 1.0, 0.3])\n",
    "fig.colorbar(_colours, ax=ax_legend, cax=cax, orientation='horizontal')\n",
    "cax.set_title(_title)\n",
    "cax.minorticks_on()\n",
    "\n",
    "\n",
    "# P-val legend\n",
    "ax_legend.text(0.5, 0.4, 'MWU p-val (B/H):', ha='center', va='center')\n",
    "assert len(_pval_kwarg_dict) == 3\n",
    "ax_legend.scatter(0.25, 0.25, color='#bdbdbd', **_pval_kwarg_dict[_matrix_long.pvals_binned.cat.categories[0]])\n",
    "ax_legend.scatter(0.5, 0.25, color='#bdbdbd', **_pval_kwarg_dict[_matrix_long.pvals_binned.cat.categories[1]])\n",
    "ax_legend.scatter(0.75, 0.25, color='#bdbdbd', **_pval_kwarg_dict[_matrix_long.pvals_binned.cat.categories[2]])\n",
    "\n",
    "ax_legend.text(0.25, 0.15, '<0.01', ha='center', va='top')\n",
    "ax_legend.text(0.5, 0.15, '<0.05', ha='center', va='top')\n",
    "ax_legend.text(0.75, 0.15, 'n.s', ha='center', va='top')\n",
    "\n",
    "ax_legend.set_ylim([0, 1])\n",
    "ax_legend.set_xlim([0, 1])\n",
    "ax_legend.axis('off')\n",
    "\n",
    "plt.savefig(\n",
    "    os.path.join(output_plot_dir, f'pairwise_scatterplot_{param_cell_line_safe}_{param_factors_x_safe}__vs__{param_factors_y_safe}_mwu_heatmap.pdf'),\n",
    "    bbox_inches='tight'\n",
    ")"
   ]
  },
  {
   "cell_type": "code",
   "execution_count": null,
   "id": "6e175cc4-9437-44ab-9d52-181cca2a941b",
   "metadata": {},
   "outputs": [],
   "source": []
  }
 ],
 "metadata": {
  "kernelspec": {
   "display_name": "Python 3 (ipykernel)",
   "language": "python",
   "name": "python3"
  },
  "language_info": {
   "codemirror_mode": {
    "name": "ipython",
    "version": 3
   },
   "file_extension": ".py",
   "mimetype": "text/x-python",
   "name": "python",
   "nbconvert_exporter": "python",
   "pygments_lexer": "ipython3",
   "version": "3.9.7"
  }
 },
 "nbformat": 4,
 "nbformat_minor": 5
}
