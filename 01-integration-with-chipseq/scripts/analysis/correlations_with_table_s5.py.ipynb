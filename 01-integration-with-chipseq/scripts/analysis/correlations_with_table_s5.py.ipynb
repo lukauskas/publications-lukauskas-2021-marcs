{
 "cells": [
  {
   "cell_type": "code",
   "execution_count": null,
   "id": "a02f926f-5521-4501-8bf4-7b27b775a0d9",
   "metadata": {},
   "outputs": [],
   "source": [
    "%config InlineBackend.figure_format = 'retina'\n",
    "%matplotlib inline\n",
    "import os\n",
    "import pandas as pd\n",
    "import numpy as np\n",
    "import seaborn as sns\n",
    "from matplotlib import pyplot as plt\n",
    "from tqdm import tqdm\n",
    "sns.set_palette(['#1E1E1E', '#BB3524', '#F5D54A', '#384827', '#282F44'])\n",
    "sns.set_context('paper')\n",
    "sns.set_style({'axes.axisbelow': True, \n",
    "               'axes.edgecolor': '.15',\n",
    "               'axes.facecolor': 'white',\n",
    "               'axes.grid': False, \n",
    "               'axes.labelcolor': '.15', \n",
    "               'figure.facecolor': 'white', \n",
    "               'grid.color': '.15',\n",
    "               'grid.linestyle': ':', \n",
    "               'grid.alpha': .5, \n",
    "               'image.cmap': 'Greys', \n",
    "               'legend.frameon': False, \n",
    "               'legend.numpoints': 1, \n",
    "               'legend.scatterpoints': 1,\n",
    "               'lines.solid_capstyle': 'butt', \n",
    "               'axes.spines.right': False, \n",
    "               'axes.spines.top': False,  \n",
    "               'text.color': '.15',  \n",
    "               'xtick.top': False, \n",
    "               'ytick.right': False, \n",
    "               'xtick.color': '.15',\n",
    "               'xtick.direction': 'out', \n",
    "               'ytick.color': '.15', \n",
    "               'ytick.direction': 'out', \n",
    "              })\n",
    "\n",
    "\n",
    "import matplotlib\n",
    "\n",
    "FONT_SIZE_PT = 5\n",
    "matplotlib.rcParams['font.family'] = 'Arial'\n",
    "matplotlib.rcParams['font.size'] = FONT_SIZE_PT\n",
    "matplotlib.rcParams['axes.labelsize'] = FONT_SIZE_PT\n",
    "matplotlib.rcParams['axes.titlesize'] = FONT_SIZE_PT\n",
    "matplotlib.rcParams['figure.titlesize'] = FONT_SIZE_PT\n",
    "matplotlib.rcParams['xtick.labelsize'] = FONT_SIZE_PT\n",
    "matplotlib.rcParams['ytick.labelsize'] = FONT_SIZE_PT\n",
    "matplotlib.rcParams['legend.fontsize'] = FONT_SIZE_PT\n",
    "matplotlib.rcParams['legend.title_fontsize'] = FONT_SIZE_PT\n",
    "\n",
    "matplotlib.rcParams['xtick.major.size'] = matplotlib.rcParams['ytick.major.size'] = 2\n",
    "matplotlib.rcParams['xtick.major.width'] = matplotlib.rcParams['ytick.major.width'] = 0.5\n",
    "\n",
    "\n",
    "matplotlib.rcParams['xtick.minor.size'] = matplotlib.rcParams['ytick.minor.size'] = 1\n",
    "\n",
    "matplotlib.rcParams['xtick.minor.width'] = matplotlib.rcParams['ytick.minor.width'] = 0.5\n",
    "\n",
    "matplotlib.rcParams['axes.linewidth'] = 0.5\n",
    "matplotlib.rcParams['lines.linewidth'] = 0.5\n",
    "matplotlib.rcParams['grid.linewidth'] = 0.25\n",
    "matplotlib.rcParams['patch.linewidth'] = 0.25\n",
    "matplotlib.rcParams['lines.markeredgewidth'] = 0.25\n",
    "matplotlib.rcParams['lines.markersize'] = 2\n",
    "\n",
    "FIVE_MM_IN_INCH = 0.19685\n",
    "DPI = 600\n",
    "matplotlib.rcParams['figure.figsize'] = (10 * FIVE_MM_IN_INCH, 9 * FIVE_MM_IN_INCH)\n",
    "matplotlib.rcParams['savefig.dpi'] = DPI\n",
    "matplotlib.rcParams['figure.dpi'] = DPI // 4\n",
    "\n",
    "\n",
    "#http://phyletica.org/matplotlib-fonts/\n",
    "matplotlib.rcParams['pdf.fonttype'] = 42\n",
    "matplotlib.rcParams['ps.fonttype'] = 42\n",
    "\n",
    "pd.set_option(\"display.max_columns\", 200)"
   ]
  },
  {
   "cell_type": "code",
   "execution_count": null,
   "id": "df57ef2b-edde-4e8c-aa71-13f29a993023",
   "metadata": {},
   "outputs": [],
   "source": [
    "import helpers\n",
    "import importlib\n",
    "importlib.reload(helpers)\n",
    "\n",
    "from helpers import *"
   ]
  },
  {
   "cell_type": "code",
   "execution_count": null,
   "id": "847895e6-e4bc-423b-9920-2d0812c20162",
   "metadata": {},
   "outputs": [],
   "source": [
    "HAVE_SNAKEMAKE = 'snakemake' in locals()\n",
    "\n",
    "\n",
    "\n",
    "if HAVE_SNAKEMAKE:\n",
    "    \n",
    "    input_peaklists = snakemake.input.peaklists\n",
    "    input_stats = snakemake.input.stats\n",
    "    \n",
    "    input_marcs_interaction_data = snakemake.input.marcs_interaction_data\n",
    "    input_marcs_gene_name_map = snakemake.input.marcs_gene_name_map\n",
    "    \n",
    "    param_cell_line = str(snakemake.params.cell_line)\n",
    "    \n",
    "    output_plot_dir = snakemake.output.plot_dir\n",
    "    \n",
    "        \n",
    "    param_analysis_mode = snakemake.params['analysis_mode']\n",
    "    \n",
    "    param_correlation_method = snakemake.params['correlation_method']\n",
    "    \n",
    "else:\n",
    "    print(\"No snakemake -- DEBUG MODE\")\n",
    "    \n",
    "    _OUTDIR = '.nb-testing-outputs'\n",
    "    if not os.path.isdir(_OUTDIR):\n",
    "        os.makedirs(_OUTDIR)\n",
    "    \n",
    "    _bin_size = 1000\n",
    "    \n",
    "    param_cell_line = 'K562'\n",
    "\n",
    "    _pseudocount = 100\n",
    "    _min_periods = 1\n",
    "    \n",
    "    input_peaklists = []\n",
    "    input_stats = []\n",
    "    \n",
    "    for _cell_line in [param_cell_line]:\n",
    "        for dataset in ['feature_accessibility', 'feature_histone', 'protein']:\n",
    "            input_peaklists.append(f'../../output/final/encode/encode_{dataset}_data.{_cell_line}.bed.tsv.gz')\n",
    "        \n",
    "        input_stats.append(f'../../output/final/bedstats/genomic-window-matrix-stats-{_bin_size}bp_params_pc_{_pseudocount}_mp_{_min_periods}_from_bed.{_cell_line}.h5')\n",
    "    \n",
    "\n",
    "    input_marcs_interaction_data = f'../../data/raw/marcs/table-s5/table-s5.sheet.01.edges.full.tsv.gz'\n",
    "    input_marcs_gene_name_map = f'../../output/interim/marcs/genes_to_marcs_from_table-s1.tsv.gz'\n",
    "    \n",
    "    param_correlation_method = 'kendall'\n",
    "    param_input_header_separator = '__'\n",
    "    param_analysis_mode = 'full'\n",
    "    \n",
    "    output_plot_dir = os.path.join(_OUTDIR, 'table-s5')\n",
    "    "
   ]
  },
  {
   "cell_type": "code",
   "execution_count": null,
   "id": "c5fbff93-5c57-4638-ba3b-0d92a87da0f4",
   "metadata": {},
   "outputs": [],
   "source": [
    "%load_ext autoreload\n",
    "%autoreload 1"
   ]
  },
  {
   "cell_type": "code",
   "execution_count": null,
   "id": "70ee43ff-8835-4da2-81fb-b23306a68565",
   "metadata": {},
   "outputs": [],
   "source": [
    "%aimport helpers"
   ]
  },
  {
   "cell_type": "code",
   "execution_count": null,
   "id": "1e7e73b1-87af-4062-8c6d-ab960fb501aa",
   "metadata": {},
   "outputs": [],
   "source": [
    "if not os.path.isdir(output_plot_dir):\n",
    "    os.makedirs(output_plot_dir)"
   ]
  },
  {
   "cell_type": "markdown",
   "id": "ff54f3f0-4d3e-49bf-9e05-90d5c00b80c0",
   "metadata": {},
   "source": [
    "# Input\n",
    "\n",
    "## MARCS data\n",
    "\n",
    "First, let's load the interaction data from MARCS"
   ]
  },
  {
   "cell_type": "code",
   "execution_count": null,
   "id": "020881e9-c408-4e43-b8d1-ac8412385cbf",
   "metadata": {},
   "outputs": [],
   "source": [
    "marcs_interaction_data = pd.read_csv(input_marcs_interaction_data, sep='\\t')\n",
    "marcs_interaction_data.head()"
   ]
  },
  {
   "cell_type": "markdown",
   "id": "f9f61dc3-68af-4ace-a77f-b42b1186c638",
   "metadata": {},
   "source": [
    "We should drop the \"Excluded\" rows:"
   ]
  },
  {
   "cell_type": "code",
   "execution_count": null,
   "id": "0aecf358-3327-4148-9fb3-3f22f67418a3",
   "metadata": {},
   "outputs": [],
   "source": [
    "marcs_interaction_data = marcs_interaction_data[marcs_interaction_data['interaction_type'] != 'Excluded']\n",
    "marcs_interaction_data.head()"
   ]
  },
  {
   "cell_type": "markdown",
   "id": "a415e074-8937-4f2e-bd64-eb6e6535a0c0",
   "metadata": {},
   "source": [
    "We should also optimise the index "
   ]
  },
  {
   "cell_type": "code",
   "execution_count": null,
   "id": "fe1a7942-f12a-4d38-9805-95ccd420f933",
   "metadata": {},
   "outputs": [],
   "source": [
    "marcs_interaction_data = marcs_interaction_data.set_index(\n",
    "    ['Gene label (row)', 'Gene label (col)']\n",
    ").sort_index()"
   ]
  },
  {
   "cell_type": "markdown",
   "id": "47729054-eb63-467f-af5c-0c9c8527f6d1",
   "metadata": {},
   "source": [
    "We will also need a way to convert marcs labels to gene names:"
   ]
  },
  {
   "cell_type": "code",
   "execution_count": null,
   "id": "7e84ba37-6cdf-4925-9e6b-f20426b05ccb",
   "metadata": {},
   "outputs": [],
   "source": [
    "marcs_gene_label_map = pd.read_csv(input_marcs_gene_name_map, sep='\\t')\n",
    "marcs_gene_label_map"
   ]
  },
  {
   "cell_type": "markdown",
   "id": "0526d68a-ae94-4ab3-b11b-58da20d02e24",
   "metadata": {},
   "source": [
    "## NGS data\n",
    "\n",
    "At this point we need to load the information from the NGS datasets.\n",
    "\n",
    "Unfortunately, for this particular notebook we cannot use the consolidated datasets as we need to perform different analysis. \n",
    "\n",
    "Due to this need to repeat some of the logic in `consolidated_bedstats_for_cell_line.ipynb`"
   ]
  },
  {
   "cell_type": "markdown",
   "id": "b9c4bd3e-6229-40c2-8a81-79bcab5aa70f",
   "metadata": {},
   "source": [
    "Load the peaklists"
   ]
  },
  {
   "cell_type": "code",
   "execution_count": null,
   "id": "54a23f2e-998d-40e3-b6a3-a49e1a47a5c2",
   "metadata": {},
   "outputs": [],
   "source": [
    "CELL_LINE_COLUMN = 'Biosample term name'\n",
    "_peaklists = [\n",
    "    pd.read_csv(peaklist_file, sep='\\t', index_col=0) for peaklist_file in input_peaklists\n",
    "]\n",
    "\n",
    "peaklist = pd.concat(_peaklists)\n",
    "peaklist['Factor_Cell_Identifier'] = peaklist['Factor'].str.cat(peaklist[CELL_LINE_COLUMN], sep='-').str.cat(peaklist.index, sep='-')\n",
    "\n",
    "peaklist['is_protein'] = peaklist['FactorType'] == 'protein'\n",
    "\n"
   ]
  },
  {
   "cell_type": "markdown",
   "id": "75d310a7-f1ca-43c8-b43b-2b74d3fd1c40",
   "metadata": {},
   "source": [
    "Load the important stats.\n",
    "\n",
    "Unlike in other notebooks of this pipeline, which use one-sided normalisation (by rows),\n",
    "we will be using the harmonic average of the normalised MI coefficients as we want to know the joint influence of two proteins to each other (instead of onedirectional influence of one factor to another)"
   ]
  },
  {
   "cell_type": "code",
   "execution_count": null,
   "id": "acc232eb-9d9d-4a83-a941-012d178184f7",
   "metadata": {},
   "outputs": [],
   "source": [
    "data_to_load = {\n",
    "    # Correlation between ChIP-seq signals\n",
    "    f'{param_correlation_method}_correlation': f'correlation_matrix/{param_correlation_method}',\n",
    "\n",
    "    # Uncertainty coefficient (unlike in other datasets we need take the average here ! )\n",
    "    'harmonic_avg_normalised_mi': 'uncertainty_coefficient/avg',\n",
    "}\n",
    "\n",
    "data = {k : [] for k in data_to_load}\n",
    "\n",
    "seen_indices = set()\n",
    "\n",
    "for filename in input_stats:\n",
    "    with pd.HDFStore(filename, 'r') as store:\n",
    "        for name, key in data_to_load.items():\n",
    "            df = store[f'/{param_analysis_mode}/{key}']\n",
    "            \n",
    "            seen_indices.update(df.index)\n",
    "            data[name].append(df)\n",
    "\n",
    "data = {\n",
    "    k: pd.concat(v) for k,v in data.items()\n",
    "}"
   ]
  },
  {
   "cell_type": "code",
   "execution_count": null,
   "id": "9813a98c-ba38-418f-8729-7a67205bc35d",
   "metadata": {},
   "outputs": [],
   "source": [
    "data['harmonic_avg_normalised_mi']"
   ]
  },
  {
   "cell_type": "markdown",
   "id": "b5c3d72b-c5a1-4bc2-ac19-6d17c016479f",
   "metadata": {},
   "source": [
    "The previous scripts should've taken care of computing this matrix correctly, and therefore both harmonic_avg_normalised_mi and the correlation should be symmetric, we can quickly check this:"
   ]
  },
  {
   "cell_type": "code",
   "execution_count": null,
   "id": "dd2e440f-37d7-4831-97bd-b74a824fdd25",
   "metadata": {},
   "outputs": [],
   "source": [
    "from numpy.random import RandomState\n",
    "from numpy.testing import assert_almost_equal\n",
    "\n",
    "random = RandomState(42)\n",
    "\n",
    "for i in tqdm(range(10000)):\n",
    "    f_a = f_b = None\n",
    "    \n",
    "    while f_a == f_b:\n",
    "        f_a = random.choice(data[f'{param_correlation_method}_correlation'].index)\n",
    "        f_b = random.choice(data[f'{param_correlation_method}_correlation'].index)\n",
    "    \n",
    "    assert_almost_equal(\n",
    "        data['harmonic_avg_normalised_mi'].loc[f_a, f_b],\n",
    "        data['harmonic_avg_normalised_mi'].loc[f_b, f_a],\n",
    "        decimal=10\n",
    "    )\n",
    "    \n",
    "    assert_almost_equal(\n",
    "        data[f'{param_correlation_method}_correlation'].loc[f_a, f_b],\n",
    "        data[f'{param_correlation_method}_correlation'].loc[f_b, f_a],\n",
    "        decimal=10\n",
    "    )\n",
    "    \n",
    "    "
   ]
  },
  {
   "cell_type": "markdown",
   "id": "bbb82f7c-6a3e-4bda-84f2-c9ed33df3585",
   "metadata": {},
   "source": [
    "Reindex peaklist with identifiers observed in data to make our life easier of course"
   ]
  },
  {
   "cell_type": "code",
   "execution_count": null,
   "id": "943bdac5-c914-4fad-9c96-a12a209c4e50",
   "metadata": {},
   "outputs": [],
   "source": [
    "peaklist_correlation_indexed = []\n",
    "\n",
    "for ix in seen_indices:\n",
    "    if not ix.startswith('dataset'):\n",
    "        continue\n",
    "        \n",
    "    # Basically just decompose the three values separated by \":\" to get the index in peaklist\n",
    "    __, peaklist_ix, agg_op = ix.split(':')\n",
    "    \n",
    "    if peaklist_ix in peaklist.index:\n",
    "        peaklist_correlation_indexed.append([ix, peaklist_ix, agg_op])\n",
    "\n",
    "peaklist_correlation_indexed = pd.DataFrame(peaklist_correlation_indexed, columns=['correlation_index', 'peaklist_index', 'agg_op'])\n",
    "peaklist_correlation_indexed = peaklist_correlation_indexed.join(peaklist, on='peaklist_index').set_index('correlation_index')\n",
    "\n",
    "peaklist_correlation_indexed['Factor_Cell_Identifier_op'] = peaklist_correlation_indexed['Factor_Cell_Identifier'].str.cat(peaklist_correlation_indexed['agg_op'], sep=':')\n",
    "peaklist_correlation_indexed.head()"
   ]
  },
  {
   "cell_type": "markdown",
   "id": "1e56b1e5-7767-4508-829d-2370c3ca654d",
   "metadata": {},
   "source": [
    "Here we are only interested in pairwise relationships between protein factors we observe in NGS:"
   ]
  },
  {
   "cell_type": "code",
   "execution_count": null,
   "id": "d4f34fc4-54f0-4ed5-8425-d5173206548e",
   "metadata": {},
   "outputs": [],
   "source": [
    "protein_factors = set(peaklist_correlation_indexed[peaklist_correlation_indexed['is_protein']]['Factor'].unique())\n",
    "len_protein_factors = len(protein_factors)\n",
    "len_pairwise_combinations = int(len(protein_factors) * (len(protein_factors) - 1) * 0.5)"
   ]
  },
  {
   "cell_type": "code",
   "execution_count": null,
   "id": "5fc67e99-108e-4a23-819c-bb99bd2409f0",
   "metadata": {},
   "outputs": [],
   "source": [
    "print(\n",
    "    \"Got {:,} protein factors in total, will therefore proccess {:,} pairwise combinations\".format(\n",
    "        len_protein_factors,\n",
    "        len_pairwise_combinations\n",
    "    )\n",
    ")"
   ]
  },
  {
   "cell_type": "markdown",
   "id": "1b487d66-0c60-4516-9a17-2e1706f3f9fc",
   "metadata": {},
   "source": [
    "We can precompute index lookups for each of the factors"
   ]
  },
  {
   "cell_type": "code",
   "execution_count": null,
   "id": "814d75f4-ad32-4d46-a370-b70affa69917",
   "metadata": {},
   "outputs": [],
   "source": [
    "marcs_gene_label_map"
   ]
  },
  {
   "cell_type": "code",
   "execution_count": null,
   "id": "846f183b-5cb9-48e0-85db-064f8ff5c283",
   "metadata": {},
   "outputs": [],
   "source": [
    "peaklist_index_lookup = {}\n",
    "marcs_index_lookup = {}\n",
    "for factor in protein_factors:\n",
    "    \n",
    "    peaklist_index_lookup[factor] = peaklist_correlation_indexed[peaklist_correlation_indexed['Factor'] == factor].index\n",
    "    marcs_index_lookup[factor] = sorted(marcs_gene_label_map[marcs_gene_label_map['gene_name'] == factor]['marcs_gene_label'].unique())"
   ]
  },
  {
   "cell_type": "markdown",
   "id": "c55289f0-6599-4e8d-b28a-959e31c73aff",
   "metadata": {},
   "source": [
    "At this point we just need to generate a pairwise interaction dataframe for each of the entries in our ChIP-seq dataset.\n",
    "\n",
    "For each pairwise combination of the Factor values (factor_a, factor_b) in the `data`, we want to know:\n",
    "\n",
    "1. The mean harmonic average between normalised mi that factor_b explains in factor_a, and factor_a explains in factor_b. The computation of this average has been taken care of in previous scripts. The stats dataframe should be symmetric so we do not need to explicitly worry about order of operations\n",
    "2. Correlation between peak signals of these data, again from precomputed tables.\n",
    "3. The MARCS interaction score estimate data for proteins which the factors correspond to\n",
    "\n",
    "The code below is not optimised so have a coffee, it will take a while\n",
    "\n",
    "In case of many-to-many mappings between factors and genes, we will be taking mean for numeric variables, and \"best\" case values for non-numeric data in MARCS based on the ordering below. i.e. if there are multiple classifications, one high-confidence and the other 'q <= 0.001' we will be aggregating that to \"high-confidence\""
   ]
  },
  {
   "cell_type": "code",
   "execution_count": null,
   "id": "c08fd525-d903-4855-88e7-fbcbaf9b3be0",
   "metadata": {},
   "outputs": [],
   "source": [
    "marcs_non_numeric_ordering = {\n",
    "    'Classification': ['high-confidence', 'q ≤ 0.0001', 'q ≤ 0.001','q ≤ 0.01', 'q ≤ 0.05', 'Other'],\n",
    "    'interaction_type': ['In BioGRID', 'Not in BioGRID']\n",
    "}"
   ]
  },
  {
   "cell_type": "code",
   "execution_count": null,
   "id": "9d2c7cde-8d22-47ac-9217-4b7e077b78b0",
   "metadata": {},
   "outputs": [],
   "source": [
    "marcs_interaction_data['interaction_type'].unique()"
   ]
  },
  {
   "cell_type": "code",
   "execution_count": null,
   "id": "92987dfa-03e3-47bf-b6e5-b4f379ceb19c",
   "metadata": {},
   "outputs": [],
   "source": [
    "import itertools\n",
    "\n",
    "\n",
    "no_data_for = set()\n",
    "\n",
    "_ans = []\n",
    "\n",
    "for factor_a, factor_b in tqdm(\n",
    "        itertools.combinations(protein_factors, 2), \n",
    "        total=len_pairwise_combinations\n",
    "):\n",
    "    \n",
    "    peaklist_indices_a = peaklist_index_lookup[factor_a]\n",
    "    peaklist_indices_b = peaklist_index_lookup[factor_b]\n",
    "    \n",
    "    # Gather the mean normalised mi and corr\n",
    "    \n",
    "    mean_normed_mi = helpers.nan_aware_hmean([\n",
    "        data['harmonic_avg_normalised_mi'].loc[ix_aa, ix_bb]\n",
    "             for ix_aa, ix_bb in itertools.product(peaklist_indices_a, peaklist_indices_b)\n",
    "    ])\n",
    "    \n",
    "    mean_corr = np.nanmean([\n",
    "        data[f'{param_correlation_method}_correlation'].loc[ix_aa, ix_bb]\n",
    "             for ix_aa, ix_bb in itertools.product(peaklist_indices_a, peaklist_indices_b)\n",
    "    ])\n",
    "    \n",
    "    # Now let's collect marcs interaction data\n",
    "    \n",
    "    marcs_indices_a = marcs_index_lookup[factor_a]\n",
    "    marcs_indices_b = marcs_index_lookup[factor_b]\n",
    "    \n",
    "    marcs_subdata = []\n",
    "        \n",
    "    # For MARCS we need to try both combinations _a, or _b before we give up:\n",
    "    for marcs_ix_aa, marcs_ix_bb in itertools.product(marcs_indices_a, marcs_indices_b):\n",
    "\n",
    "        try:\n",
    "            # Try a, b\n",
    "            marcs_row = marcs_interaction_data.loc(axis=0)[marcs_ix_aa, marcs_ix_bb]\n",
    "        except KeyError:\n",
    "            try:\n",
    "                # If we fail, try b, a\n",
    "                marcs_row = marcs_interaction_data.loc(axis=0)[marcs_ix_bb, marcs_ix_aa]\n",
    "            except KeyError:\n",
    "                # If we fail that - give up\n",
    "                continue\n",
    "        \n",
    "        marcs_subdata.append(marcs_row)\n",
    "    \n",
    "    # If we have no marcs data for this particular combination, record it and continue\n",
    "    if not marcs_subdata:\n",
    "        no_data_for.add((factor_a, factor_b))\n",
    "        continue\n",
    "    \n",
    "    # If we reached this step we have all the data we need.\n",
    "    marcs_subdata = pd.DataFrame(marcs_subdata)\n",
    "    \n",
    "    # Time to aggregate it all (in case there are multiple rows)\n",
    "    # and save it into the dataframe\n",
    "    \n",
    "    d = {\n",
    "        'factor_a': factor_a,\n",
    "        'factor_b': factor_b,\n",
    "        'hmean_harmonic_avg_normalised_mi': mean_normed_mi,\n",
    "        f'mean_{param_correlation_method}_corr': mean_corr,\n",
    "        'n_ngs': len(peaklist_indices_a) * len(peaklist_indices_b),\n",
    "        'n_marcs': len(marcs_subdata),\n",
    "    }\n",
    "    \n",
    "    for numeric_col in ['score', 'neg_log10_q']:\n",
    "        d[f'marcs_{numeric_col}'] = marcs_subdata[numeric_col].mean()\n",
    "    \n",
    "    for non_numeric_col in ['Classification', 'interaction_type']:\n",
    "        order = sorted(\n",
    "            marcs_subdata[non_numeric_col], \n",
    "            key=lambda x: marcs_non_numeric_ordering[non_numeric_col].index(x)\n",
    "        )\n",
    "        \n",
    "        d['marcs_{}'.format(non_numeric_col.lower())] = order[0]\n",
    "        \n",
    "    _ans.append(d)\n",
    "    \n",
    "\n",
    "aggregated_stats = pd.DataFrame(_ans)"
   ]
  },
  {
   "cell_type": "code",
   "execution_count": null,
   "id": "e33b317e-738b-4655-b1d2-ba4123e42bea",
   "metadata": {},
   "outputs": [],
   "source": [
    "aggregated_stats"
   ]
  },
  {
   "cell_type": "markdown",
   "id": "79a02439-2dd4-4cd0-b66e-4c894e319851",
   "metadata": {},
   "source": [
    "We couldn't find interactions in MARCS data for these factors (should only be the Excluded ones where we don't have a gene name assigned uniquely):"
   ]
  },
  {
   "cell_type": "code",
   "execution_count": null,
   "id": "5b8858e4-6356-477d-9a20-3070bc33dfee",
   "metadata": {},
   "outputs": [],
   "source": [
    "no_data_for"
   ]
  },
  {
   "cell_type": "markdown",
   "id": "7fe5cb01-45a2-4752-bb88-e25f6abef707",
   "metadata": {},
   "source": [
    "Export the data:"
   ]
  },
  {
   "cell_type": "code",
   "execution_count": null,
   "id": "dd8dc416-a1f4-4e3b-83da-8aa15923a627",
   "metadata": {},
   "outputs": [],
   "source": [
    "aggregated_stats.to_csv(\n",
    "    os.path.join(output_plot_dir, f'{param_cell_line}-interactions-vs-chip.tsv.gz'), sep='\\t')"
   ]
  },
  {
   "cell_type": "code",
   "execution_count": null,
   "id": "390bc362-c0e3-424d-958d-ebecc6bdfa1f",
   "metadata": {},
   "outputs": [],
   "source": [
    "group_sizes = aggregated_stats.groupby(['marcs_classification', 'marcs_interaction_type']).size()\n",
    "group_sizes"
   ]
  },
  {
   "cell_type": "markdown",
   "id": "9387ad74-5139-4b6f-8090-a3f980a0c5f5",
   "metadata": {},
   "source": [
    "At this point we have all the data we need to make the plots.\n",
    "\n",
    "We will use violin plots to illustrate the distribution, and the following statistical test to check for differences between groups:\n",
    "\n",
    "Note that correction is applied for each subfigure separately"
   ]
  },
  {
   "cell_type": "code",
   "execution_count": null,
   "id": "4f638e36-a70b-4d6d-b743-a96e23dc0977",
   "metadata": {},
   "outputs": [],
   "source": [
    "from statannotations.Annotator import Annotator\n",
    "_annotator_kwargs = dict(\n",
    "    test='Mann-Whitney-gt', text_format='star',\n",
    "    loc='outside',\n",
    "    line_width=0.5,\n",
    "    comparisons_correction='bonferroni'\n",
    ")"
   ]
  },
  {
   "cell_type": "markdown",
   "id": "0dcc4b7f-884c-4606-bb1d-2c8836cb0f54",
   "metadata": {},
   "source": [
    "We will be testing all MARCS confidence groups against \"other\". First, ooling in-biogrid and non-biogrid data together (first subfigure, left), then only non-biogrid, after splitting the two.\n",
    "\n",
    "Will only test groups that have min number of elements greater than or equal to:"
   ]
  },
  {
   "cell_type": "code",
   "execution_count": null,
   "id": "61b0db46-3739-4c6c-aa2a-487c3aa403fe",
   "metadata": {},
   "outputs": [],
   "source": [
    "min_in_group_for_mwu_test = 8"
   ]
  },
  {
   "cell_type": "code",
   "execution_count": null,
   "id": "646a7193-c6c2-45d1-8f75-bd3081fc0968",
   "metadata": {},
   "outputs": [],
   "source": [
    "fig = plt.figure(figsize=(\n",
    "    FIVE_MM_IN_INCH*10*2, \n",
    "    FIVE_MM_IN_INCH*12 # asymmetric height to allow for some room for annotations\n",
    "), constrained_layout=True)\n",
    "\n",
    "ax_together = fig.add_subplot(1, 2, 1)\n",
    "\n",
    "_kws = dict(\n",
    "    x='marcs_classification', \n",
    "    order=marcs_non_numeric_ordering['Classification'],\n",
    "    y='hmean_harmonic_avg_normalised_mi',\n",
    "    data=aggregated_stats\n",
    ")\n",
    "\n",
    "sns.violinplot(\n",
    "    ax=ax_together,\n",
    "    palette='GnBu_r',\n",
    "    **_kws\n",
    ")\n",
    "\n",
    "print(\"---------First test (subfigure 1) -------\")\n",
    "pairs_together = [(c, 'Other') for c in marcs_non_numeric_ordering['Classification'] if c != 'Other' and min(group_sizes.loc[c].sum(), group_sizes.loc['Other'].sum()) >= min_in_group_for_mwu_test]\n",
    "an = Annotator(ax=ax_together, pairs=pairs_together, plot='violinplot', **_kws)\n",
    "an.configure(**_annotator_kwargs)\n",
    "an.apply_and_annotate()\n",
    "\n",
    "ax_split = fig.add_subplot(1, 2, 2, sharey=ax_together)\n",
    "\n",
    "sns.violinplot(\n",
    "    ax=ax_split,\n",
    "    hue='marcs_interaction_type',\n",
    "    hue_order=marcs_non_numeric_ordering['interaction_type'],\n",
    "    palette=['#398DB6', '#CB5346'],\n",
    "    **_kws\n",
    ")\n",
    "\n",
    "print(\"---------Second test (subfigure 2) -------\")\n",
    "pairs_split = [((c, 'Not in BioGRID'), ('Other', 'Not in BioGRID')) for c in marcs_non_numeric_ordering['Classification'] if c != 'Other' and min(group_sizes.loc[c, 'Not in BioGRID'], group_sizes.loc['Other', 'Not in BioGRID']) >= min_in_group_for_mwu_test]\n",
    "an_split = Annotator(\n",
    "    ax=ax_split, \n",
    "    pairs=pairs_split, \n",
    "    plot='violinplot',  hue='marcs_interaction_type',\n",
    "    hue_order=marcs_non_numeric_ordering['interaction_type'], \n",
    "    **_kws\n",
    ")\n",
    "an_split.configure(**_annotator_kwargs)\n",
    "an_split.apply_and_annotate()\n",
    "\n",
    "\n",
    "for ax in [ax_together, ax_split]:\n",
    "    ax.xaxis.set_tick_params(rotation=90)\n",
    "    ax.set_xlabel(\"Confidence in interaction (MARCS)\")\n",
    "    ax.set_ylabel(f\"Normalised MI in\\n{param_cell_line} ChIP-seq datasets\")\n",
    "    \n",
    "plt.savefig(os.path.join(output_plot_dir, f'{param_cell_line}-interactions-vs-chip-mi.pdf'), bbox_inches='tight')\n",
    "    "
   ]
  },
  {
   "cell_type": "markdown",
   "id": "40e67a3a-6d15-4153-a1d8-52ebf064441d",
   "metadata": {},
   "source": [
    "Let's make one more plot for correlation:"
   ]
  },
  {
   "cell_type": "code",
   "execution_count": null,
   "id": "9d3f45e1-d30e-4405-b1d1-a64baeff1311",
   "metadata": {},
   "outputs": [],
   "source": [
    "fig = plt.figure(figsize=(\n",
    "    FIVE_MM_IN_INCH*10*2, \n",
    "    FIVE_MM_IN_INCH*12 # asymmetric height to allow for some room for annotations\n",
    "), constrained_layout=True)\n",
    "\n",
    "ax_together = fig.add_subplot(1, 2, 1)\n",
    "\n",
    "_kws = dict(\n",
    "    x='marcs_classification', \n",
    "    order=marcs_non_numeric_ordering['Classification'],\n",
    "    y=f'mean_{param_correlation_method}_corr',\n",
    "    data=aggregated_stats\n",
    ")\n",
    "\n",
    "sns.violinplot(\n",
    "    ax=ax_together,\n",
    "    palette='GnBu_r',\n",
    "    **_kws\n",
    ")\n",
    "\n",
    "print(\"---------First test (subfigure 1) -------\")\n",
    "pairs_together = [(c, 'Other') for c in marcs_non_numeric_ordering['Classification'] if c != 'Other']\n",
    "an = Annotator(ax=ax_together, pairs=pairs_together, plot='violinplot', **_kws)\n",
    "an.configure(**_annotator_kwargs)\n",
    "an.apply_and_annotate()\n",
    "\n",
    "ax_split = fig.add_subplot(1, 2, 2, sharey=ax_together)\n",
    "\n",
    "sns.violinplot(\n",
    "    ax=ax_split,\n",
    "    hue='marcs_interaction_type',\n",
    "    hue_order=marcs_non_numeric_ordering['interaction_type'],\n",
    "    palette=['#398DB6', '#CB5346'],\n",
    "    **_kws\n",
    ")\n",
    "\n",
    "print(\"---------Second test (subfigure 2) -------\")\n",
    "pairs_split = [((c, 'Not in BioGRID'), ('Other', 'Not in BioGRID')) for c in marcs_non_numeric_ordering['Classification'] if c != 'Other']\n",
    "an_split = Annotator(\n",
    "    ax=ax_split, \n",
    "    pairs=pairs_split, \n",
    "    plot='violinplot',  hue='marcs_interaction_type',\n",
    "    hue_order=marcs_non_numeric_ordering['interaction_type'], \n",
    "    **_kws\n",
    ")\n",
    "an_split.configure(**_annotator_kwargs)\n",
    "an_split.apply_and_annotate()\n",
    "\n",
    "\n",
    "for ax in [ax_together, ax_split]:\n",
    "    ax.xaxis.set_tick_params(rotation=90)\n",
    "    ax.set_xlabel(\"Confidence in interaction (MARCS)\")\n",
    "    ax.set_ylabel(f\"Correlation ({param_correlation_method}) in\\n{param_cell_line} ChIP-seq datasets\")\n",
    "    \n",
    "plt.savefig(os.path.join(output_plot_dir, f'{param_cell_line}-interactions-vs-chip-corr.pdf'), bbox_inches='tight')\n",
    "    "
   ]
  },
  {
   "cell_type": "markdown",
   "id": "f83fc7e0-7f81-4577-bbb1-d318da0a5038",
   "metadata": {},
   "source": [
    "And that should be it !"
   ]
  },
  {
   "cell_type": "code",
   "execution_count": null,
   "id": "51f940da-3c57-4fa2-832c-056fecc42b73",
   "metadata": {},
   "outputs": [],
   "source": []
  }
 ],
 "metadata": {
  "kernelspec": {
   "display_name": "Python 3 (ipykernel)",
   "language": "python",
   "name": "python3"
  },
  "language_info": {
   "codemirror_mode": {
    "name": "ipython",
    "version": 3
   },
   "file_extension": ".py",
   "mimetype": "text/x-python",
   "name": "python",
   "nbconvert_exporter": "python",
   "pygments_lexer": "ipython3",
   "version": "3.9.7"
  }
 },
 "nbformat": 4,
 "nbformat_minor": 5
}
