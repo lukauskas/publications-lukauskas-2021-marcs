{
 "cells": [
  {
   "cell_type": "markdown",
   "metadata": {},
   "source": [
    "This notebook generates PTM enrichment barplots for all protein complexes in the data"
   ]
  },
  {
   "cell_type": "code",
   "execution_count": 1,
   "metadata": {},
   "outputs": [],
   "source": [
    "%config InlineBackend.figure_format = 'retina'\n",
    "%matplotlib inline\n",
    "import os\n",
    "import pandas as pd\n",
    "import numpy as np\n",
    "import seaborn as sns\n",
    "from matplotlib import pyplot as plt\n",
    "from tqdm import tqdm\n",
    "sns.set_palette('Dark2')\n",
    "sns.set_style({'axes.axisbelow': True, 'axes.edgecolor': '.15', 'axes.facecolor': 'white',\n",
    "               'axes.grid': True, 'axes.labelcolor': '.15', 'axes.linewidth': 1.25, \n",
    "               'figure.facecolor': 'white', 'font.family': ['sans-serif'], 'grid.color': '.15',\n",
    "               'grid.linestyle': ':', 'grid.alpha': .5, 'image.cmap': 'Greys', \n",
    "               'legend.frameon': False, 'legend.numpoints': 1, 'legend.scatterpoints': 1,\n",
    "               'lines.solid_capstyle': 'round', 'axes.spines.right': False, 'axes.spines.top': False,  \n",
    "               'text.color': '.15',  'xtick.top': False, 'ytick.right': False, 'xtick.color': '.15',\n",
    "               'xtick.direction': 'out', 'xtick.major.size': 6, 'xtick.minor.size': 3,\n",
    "               'ytick.color': '.15', 'ytick.direction': 'out', 'ytick.major.size': 6,'ytick.minor.size': 3})\n",
    "sns.set_context('paper')\n",
    "\n",
    "#http://phyletica.org/matplotlib-fonts/\n",
    "import matplotlib\n",
    "matplotlib.rcParams['pdf.fonttype'] = 42\n",
    "matplotlib.rcParams['ps.fonttype'] = 42"
   ]
  },
  {
   "cell_type": "code",
   "execution_count": 2,
   "metadata": {},
   "outputs": [],
   "source": [
    "import matplotlib.gridspec as gridspec"
   ]
  },
  {
   "cell_type": "code",
   "execution_count": 3,
   "metadata": {},
   "outputs": [],
   "source": [
    "from snapanalysis.config import OUTPUT_DIRECTORY as MAIN_OUTPUT_DIRECTORY\n",
    "OUTPUT_DIRECTORY = os.path.join(MAIN_OUTPUT_DIRECTORY, 'ptm-response')\n",
    "\n",
    "if not os.path.isdir(OUTPUT_DIRECTORY):\n",
    "    os.makedirs(OUTPUT_DIRECTORY)\n",
    "    \n",
    "OUTPUT_DIRECTORY_BARPLOTS = os.path.join(OUTPUT_DIRECTORY, 'barplots')\n",
    "\n",
    "if not os.path.isdir(OUTPUT_DIRECTORY_BARPLOTS):\n",
    "    os.makedirs(OUTPUT_DIRECTORY_BARPLOTS)"
   ]
  },
  {
   "cell_type": "code",
   "execution_count": 4,
   "metadata": {},
   "outputs": [],
   "source": [
    "from snapanalysis.models.ptm_response.main import OUTPUT_FILE as PTM_RESPONSE_FILE\n",
    "with pd.HDFStore(PTM_RESPONSE_FILE, 'r') as store:\n",
    "    \n",
    "    enrichment_complexes = store['ptm_stats/joint_camera_complexes']"
   ]
  },
  {
   "cell_type": "code",
   "execution_count": 5,
   "metadata": {},
   "outputs": [],
   "source": [
    "import importlib\n",
    "import helpers\n",
    "importlib.reload(helpers)\n",
    "from helpers import *"
   ]
  },
  {
   "cell_type": "code",
   "execution_count": 6,
   "metadata": {},
   "outputs": [
    {
     "name": "stdout",
     "output_type": "stream",
     "text": [
      "Informative URIs for predictors:\n",
      "\n",
      "               H2A.Z: http://ife-snap-data/proteins?pdorder=H36,H26,H37,H43,H45&showsimilar=false&noclusterproteins=true\n",
      "                H3ac: http://ife-snap-data/proteins?pdorder=H05,H10,H02,H12,H16,H20,H21,H25,H22,H26,H41,H43&showsimilar=false&noclusterproteins=true\n",
      "             H3K4me1: http://ife-snap-data/proteins?pdorder=H05,H03,H06,H13,H16,H30,H31,H15,H09&showsimilar=false&noclusterproteins=true\n",
      "             H3K4me3: http://ife-snap-data/proteins?pdorder=H02,H13,H21,H15,H11,H14,H22,H40,H41&showsimilar=false&noclusterproteins=true\n",
      "         H3K9acK14ac: http://ife-snap-data/proteins?pdorder=H15,H05,H09,H02,H11,H16,H18,H06,H19,H21,H23,H22,H24,H41,H42&showsimilar=false&noclusterproteins=true\n",
      "             H3K9me2: http://ife-snap-data/proteins?pdorder=H47,H27M,H47M&showsimilar=false&noclusterproteins=true\n",
      "             H3K9me3: http://ife-snap-data/proteins?pdorder=H01,H27M,H01M,H03,H04,H03M,H04M&showsimilar=false&noclusterproteins=true\n",
      "             H3K27ac: http://ife-snap-data/proteins?pdorder=H30,H05,H31&showsimilar=false&noclusterproteins=true\n",
      "            H3K27me2: http://ife-snap-data/proteins?pdorder=H46,H27M,H46M&showsimilar=false&noclusterproteins=true\n",
      "            H3K27me3: http://ife-snap-data/proteins?pdorder=H03,H27M,H03M,H01,H04,H05,H06,H01M,H04M,H09,H19&showsimilar=false&noclusterproteins=true\n",
      "                H4ac: http://ife-snap-data/proteins?pdorder=H14,H02,H22,H39,H40,H11,H24,H12,H26&showsimilar=false&noclusterproteins=true\n",
      "             H4K16ac: http://ife-snap-data/proteins?pdorder=H13,H05,H16,H02,H21,H29,H14,H09,H18,H11,H23,H10,H20,H12,H25&showsimilar=false&noclusterproteins=true\n",
      "            H4K20me2: http://ife-snap-data/proteins?pdorder=H39,H27M,H39M,H14,H40,H22,H41,H24,H42,H26,H43,H38,H44,H37,H45&showsimilar=false&noclusterproteins=true\n",
      "            H4K20me3: http://ife-snap-data/proteins?pdorder=H07,H27M,H07M,H04,H08,H04M,H08M&showsimilar=false&noclusterproteins=true\n",
      "     DNA Methylation: http://ife-snap-data/proteins?pdorder=H27M,H01,H01M,H03,H03M,H07,H07M,H39,H39M,H46,H46M,H47,H47M,H04,H04M,H08,H08M&showsimilar=false&noclusterproteins=true\n"
     ]
    }
   ],
   "source": [
    "import urllib\n",
    "\n",
    "print('Informative URIs for predictors:')\n",
    "print()\n",
    "\n",
    "for predictor in PREDICTOR_ORDER:\n",
    "    \n",
    "    uri = predictor_sorted_uri(predictor)\n",
    "    \n",
    "    print(f'{predictor:>20}: {uri}')"
   ]
  },
  {
   "cell_type": "code",
   "execution_count": 7,
   "metadata": {},
   "outputs": [],
   "source": [
    "color_me1 = '#BBE1BB'\n",
    "color_me2 = '#9FBA7D'\n",
    "color_me3 = '#6F9979'\n",
    "color_ac = '#6484A2'\n",
    "\n",
    "palette = {\n",
    "     'H2A.Z': '#786D9B',\n",
    "     'H3K4me1': color_me1,\n",
    "     'H3K4me3': color_me3,\n",
    "     'H3K9acK14ac': color_ac,\n",
    "     'H3K9me2': color_me2,\n",
    "     'H3K9me3': color_me3,\n",
    "     'H3K27ac': color_ac,\n",
    "     'H3K27me2': color_me2,\n",
    "     'H3K27me3': color_me3,\n",
    "     'H3ac': color_ac,\n",
    "     'H4K16ac': color_ac,\n",
    "     'H4K20me2': color_me2,\n",
    "     'H4K20me3': color_me3,\n",
    "     'H4ac': color_ac,\n",
    "     'DNA Methylation': '#85B3B2',\n",
    "}\n",
    "\n",
    "\n"
   ]
  },
  {
   "cell_type": "code",
   "execution_count": 8,
   "metadata": {},
   "outputs": [],
   "source": [
    "GROUPED_ORDER = [\n",
    "    ['H2A.Z', 'DNA Methylation'],\n",
    "    \n",
    "    ['H3K4me1', 'H3K4me3'],\n",
    "    ['H3ac', 'H3K9acK14ac', 'H3K27ac'],\n",
    "    \n",
    "    ['H3K9me2', 'H3K9me3'],\n",
    "    ['H3K27me2', 'H3K27me3'],\n",
    "    \n",
    "    ['H4ac', 'H4K16ac'],\n",
    "    ['H4K20me2', 'H4K20me3']\n",
    "]"
   ]
  },
  {
   "cell_type": "code",
   "execution_count": 9,
   "metadata": {},
   "outputs": [],
   "source": [
    "limma_results = load_limma_data()"
   ]
  },
  {
   "cell_type": "code",
   "execution_count": 10,
   "metadata": {},
   "outputs": [],
   "source": [
    "complexes_to_plot = sorted(enrichment_complexes.reset_index().query('significant')['Complex'].unique())"
   ]
  },
  {
   "cell_type": "code",
   "execution_count": 12,
   "metadata": {
    "scrolled": false
   },
   "outputs": [
    {
     "name": "stderr",
     "output_type": "stream",
     "text": [
      "\r",
      "  0%|          | 0/96 [00:00<?, ?it/s]"
     ]
    },
    {
     "name": "stdout",
     "output_type": "stream",
     "text": [
      "40S Ribosomal subunit\n",
      "Skipping 40S Ribosomal subunit because it has more than 25 proteins\n",
      "AP-2 dimers\n"
     ]
    },
    {
     "name": "stderr",
     "output_type": "stream",
     "text": [
      "\r",
      "  2%|▏         | 2/96 [00:02<02:16,  1.45s/it]"
     ]
    },
    {
     "name": "stdout",
     "output_type": "stream",
     "text": [
      "APC/C\n"
     ]
    },
    {
     "name": "stderr",
     "output_type": "stream",
     "text": [
      "\r",
      "  3%|▎         | 3/96 [00:05<02:45,  1.78s/it]"
     ]
    },
    {
     "name": "stdout",
     "output_type": "stream",
     "text": [
      "ASAP\n"
     ]
    },
    {
     "name": "stderr",
     "output_type": "stream",
     "text": [
      "\r",
      "  4%|▍         | 4/96 [00:07<02:44,  1.79s/it]"
     ]
    },
    {
     "name": "stdout",
     "output_type": "stream",
     "text": [
      "ATAC\n"
     ]
    },
    {
     "name": "stderr",
     "output_type": "stream",
     "text": [
      "\r",
      "  5%|▌         | 5/96 [00:08<02:36,  1.71s/it]"
     ]
    },
    {
     "name": "stdout",
     "output_type": "stream",
     "text": [
      "ATAC (exclusive subunits)\n"
     ]
    },
    {
     "name": "stderr",
     "output_type": "stream",
     "text": [
      "\r",
      "  6%|▋         | 6/96 [00:10<02:31,  1.68s/it]"
     ]
    },
    {
     "name": "stdout",
     "output_type": "stream",
     "text": [
      "B-MYB-MuvB\n"
     ]
    },
    {
     "name": "stderr",
     "output_type": "stream",
     "text": [
      "\r",
      "  7%|▋         | 7/96 [00:11<02:26,  1.64s/it]"
     ]
    },
    {
     "name": "stdout",
     "output_type": "stream",
     "text": [
      "B-MYB-MuvB (exclusive subunits)\n"
     ]
    },
    {
     "name": "stderr",
     "output_type": "stream",
     "text": [
      "\r",
      "  8%|▊         | 8/96 [00:13<02:25,  1.66s/it]"
     ]
    },
    {
     "name": "stdout",
     "output_type": "stream",
     "text": [
      "BAF\n"
     ]
    },
    {
     "name": "stderr",
     "output_type": "stream",
     "text": [
      "\r",
      "  9%|▉         | 9/96 [00:15<02:24,  1.66s/it]"
     ]
    },
    {
     "name": "stdout",
     "output_type": "stream",
     "text": [
      "BHC\n"
     ]
    },
    {
     "name": "stderr",
     "output_type": "stream",
     "text": [
      "\r",
      " 10%|█         | 10/96 [00:16<02:23,  1.66s/it]"
     ]
    },
    {
     "name": "stdout",
     "output_type": "stream",
     "text": [
      "BRCA1-A\n"
     ]
    },
    {
     "name": "stderr",
     "output_type": "stream",
     "text": [
      "\r",
      " 11%|█▏        | 11/96 [00:18<02:22,  1.68s/it]"
     ]
    },
    {
     "name": "stdout",
     "output_type": "stream",
     "text": [
      "BRCC\n"
     ]
    },
    {
     "name": "stderr",
     "output_type": "stream",
     "text": [
      "\r",
      " 12%|█▎        | 12/96 [00:20<02:14,  1.61s/it]"
     ]
    },
    {
     "name": "stdout",
     "output_type": "stream",
     "text": [
      "BRISC\n"
     ]
    },
    {
     "name": "stderr",
     "output_type": "stream",
     "text": [
      "\r",
      " 14%|█▎        | 13/96 [00:21<02:08,  1.54s/it]"
     ]
    },
    {
     "name": "stdout",
     "output_type": "stream",
     "text": [
      "Base Excision Repair Complex (exclusive subunits)\n"
     ]
    },
    {
     "name": "stderr",
     "output_type": "stream",
     "text": [
      "\r",
      " 15%|█▍        | 14/96 [00:23<02:06,  1.54s/it]"
     ]
    },
    {
     "name": "stdout",
     "output_type": "stream",
     "text": [
      "CAF-1\n"
     ]
    },
    {
     "name": "stderr",
     "output_type": "stream",
     "text": [
      "\r",
      " 16%|█▌        | 15/96 [00:24<02:03,  1.52s/it]"
     ]
    },
    {
     "name": "stdout",
     "output_type": "stream",
     "text": [
      "CHRAC\n"
     ]
    },
    {
     "name": "stderr",
     "output_type": "stream",
     "text": [
      "\r",
      " 17%|█▋        | 16/96 [00:26<02:04,  1.56s/it]"
     ]
    },
    {
     "name": "stdout",
     "output_type": "stream",
     "text": [
      "CtBP\n"
     ]
    },
    {
     "name": "stderr",
     "output_type": "stream",
     "text": [
      "\r",
      " 18%|█▊        | 17/96 [00:27<02:02,  1.56s/it]"
     ]
    },
    {
     "name": "stdout",
     "output_type": "stream",
     "text": [
      "EBAFA/B\n"
     ]
    },
    {
     "name": "stderr",
     "output_type": "stream",
     "text": [
      "\r",
      " 19%|█▉        | 18/96 [00:29<02:02,  1.57s/it]"
     ]
    },
    {
     "name": "stdout",
     "output_type": "stream",
     "text": [
      "EMSY\n"
     ]
    },
    {
     "name": "stderr",
     "output_type": "stream",
     "text": [
      "\r",
      " 20%|█▉        | 19/96 [00:31<02:10,  1.69s/it]"
     ]
    },
    {
     "name": "stdout",
     "output_type": "stream",
     "text": [
      "EMSY (exclusive subunits)\n"
     ]
    },
    {
     "name": "stderr",
     "output_type": "stream",
     "text": [
      "\r",
      " 21%|██        | 20/96 [00:34<02:43,  2.15s/it]"
     ]
    },
    {
     "name": "stdout",
     "output_type": "stream",
     "text": [
      "Fanconi Anemia\n"
     ]
    },
    {
     "name": "stderr",
     "output_type": "stream",
     "text": [
      "\r",
      " 22%|██▏       | 21/96 [00:36<02:40,  2.13s/it]"
     ]
    },
    {
     "name": "stdout",
     "output_type": "stream",
     "text": [
      "GBAF\n"
     ]
    },
    {
     "name": "stderr",
     "output_type": "stream",
     "text": [
      "\r",
      " 23%|██▎       | 22/96 [00:38<02:31,  2.05s/it]"
     ]
    },
    {
     "name": "stdout",
     "output_type": "stream",
     "text": [
      "GBAF (exclusive subunits)\n",
      "Skipping GBAF (exclusive subunits) because it does not match quality criteria\n",
      "HBO1\n"
     ]
    },
    {
     "name": "stderr",
     "output_type": "stream",
     "text": [
      "\r",
      " 25%|██▌       | 24/96 [00:40<02:00,  1.68s/it]"
     ]
    },
    {
     "name": "stdout",
     "output_type": "stream",
     "text": [
      "HBO1 (exclusive subunits)\n"
     ]
    },
    {
     "name": "stderr",
     "output_type": "stream",
     "text": [
      "\r",
      " 26%|██▌       | 25/96 [00:41<01:55,  1.63s/it]"
     ]
    },
    {
     "name": "stdout",
     "output_type": "stream",
     "text": [
      "HDAC-ELMSAN1-DNTTIP1\n"
     ]
    },
    {
     "name": "stderr",
     "output_type": "stream",
     "text": [
      "\r",
      " 27%|██▋       | 26/96 [00:43<01:53,  1.62s/it]"
     ]
    },
    {
     "name": "stdout",
     "output_type": "stream",
     "text": [
      "HUSH\n"
     ]
    },
    {
     "name": "stderr",
     "output_type": "stream",
     "text": [
      "\r",
      " 28%|██▊       | 27/96 [00:44<01:53,  1.64s/it]"
     ]
    },
    {
     "name": "stdout",
     "output_type": "stream",
     "text": [
      "INO80\n"
     ]
    },
    {
     "name": "stderr",
     "output_type": "stream",
     "text": [
      "\r",
      " 29%|██▉       | 28/96 [00:46<01:50,  1.62s/it]"
     ]
    },
    {
     "name": "stdout",
     "output_type": "stream",
     "text": [
      "INO80 (exclusive subunits)\n"
     ]
    },
    {
     "name": "stderr",
     "output_type": "stream",
     "text": [
      "\r",
      " 30%|███       | 29/96 [00:48<01:47,  1.61s/it]"
     ]
    },
    {
     "name": "stdout",
     "output_type": "stream",
     "text": [
      "Integrator\n"
     ]
    },
    {
     "name": "stderr",
     "output_type": "stream",
     "text": [
      "\r",
      " 31%|███▏      | 30/96 [00:49<01:49,  1.66s/it]"
     ]
    },
    {
     "name": "stdout",
     "output_type": "stream",
     "text": [
      "Integrator (exclusive subunits)\n"
     ]
    },
    {
     "name": "stderr",
     "output_type": "stream",
     "text": [
      "\r",
      " 32%|███▏      | 31/96 [00:51<01:44,  1.61s/it]"
     ]
    },
    {
     "name": "stdout",
     "output_type": "stream",
     "text": [
      "KAP1-HP1\n"
     ]
    },
    {
     "name": "stderr",
     "output_type": "stream",
     "text": [
      "\r",
      " 33%|███▎      | 32/96 [00:52<01:42,  1.61s/it]"
     ]
    },
    {
     "name": "stdout",
     "output_type": "stream",
     "text": [
      "KAP1-SETDB1-DNMT1-ZNF304\n",
      "Skipping KAP1-SETDB1-DNMT1-ZNF304 because it does not match quality criteria\n",
      "LSD-CoREST\n"
     ]
    },
    {
     "name": "stderr",
     "output_type": "stream",
     "text": [
      "\r",
      " 35%|███▌      | 34/96 [00:54<01:25,  1.38s/it]"
     ]
    },
    {
     "name": "stdout",
     "output_type": "stream",
     "text": [
      "MLL1/2\n"
     ]
    },
    {
     "name": "stderr",
     "output_type": "stream",
     "text": [
      "\r",
      " 36%|███▋      | 35/96 [00:56<01:29,  1.47s/it]"
     ]
    },
    {
     "name": "stdout",
     "output_type": "stream",
     "text": [
      "MLL1/2 (exclusive subunits)\n"
     ]
    },
    {
     "name": "stderr",
     "output_type": "stream",
     "text": [
      "\r",
      " 38%|███▊      | 36/96 [00:57<01:28,  1.48s/it]"
     ]
    },
    {
     "name": "stdout",
     "output_type": "stream",
     "text": [
      "MLL3/4\n"
     ]
    },
    {
     "name": "stderr",
     "output_type": "stream",
     "text": [
      "\r",
      " 39%|███▊      | 37/96 [00:59<01:30,  1.54s/it]"
     ]
    },
    {
     "name": "stdout",
     "output_type": "stream",
     "text": [
      "MLL3/4 (exclusive subunits)\n"
     ]
    },
    {
     "name": "stderr",
     "output_type": "stream",
     "text": [
      "\r",
      " 40%|███▉      | 38/96 [01:01<01:31,  1.57s/it]"
     ]
    },
    {
     "name": "stdout",
     "output_type": "stream",
     "text": [
      "MOZ/MORF\n"
     ]
    },
    {
     "name": "stderr",
     "output_type": "stream",
     "text": [
      "\r",
      " 41%|████      | 39/96 [01:03<01:38,  1.72s/it]"
     ]
    },
    {
     "name": "stdout",
     "output_type": "stream",
     "text": [
      "MRN\n"
     ]
    },
    {
     "name": "stderr",
     "output_type": "stream",
     "text": [
      "\r",
      " 42%|████▏     | 40/96 [01:04<01:33,  1.66s/it]"
     ]
    },
    {
     "name": "stdout",
     "output_type": "stream",
     "text": [
      "MSL\n"
     ]
    },
    {
     "name": "stderr",
     "output_type": "stream",
     "text": [
      "\r",
      " 43%|████▎     | 41/96 [01:06<01:28,  1.61s/it]"
     ]
    },
    {
     "name": "stdout",
     "output_type": "stream",
     "text": [
      "Mediator\n"
     ]
    },
    {
     "name": "stderr",
     "output_type": "stream",
     "text": [
      "\r",
      " 44%|████▍     | 42/96 [01:07<01:25,  1.59s/it]"
     ]
    },
    {
     "name": "stdout",
     "output_type": "stream",
     "text": [
      "N-CoR1\n"
     ]
    },
    {
     "name": "stderr",
     "output_type": "stream",
     "text": [
      "\r",
      " 45%|████▍     | 43/96 [01:09<01:24,  1.59s/it]"
     ]
    },
    {
     "name": "stdout",
     "output_type": "stream",
     "text": [
      "N-CoR2\n"
     ]
    },
    {
     "name": "stderr",
     "output_type": "stream",
     "text": [
      "\r",
      " 46%|████▌     | 44/96 [01:10<01:22,  1.59s/it]"
     ]
    },
    {
     "name": "stdout",
     "output_type": "stream",
     "text": [
      "NSL\n"
     ]
    },
    {
     "name": "stderr",
     "output_type": "stream",
     "text": [
      "\r",
      " 47%|████▋     | 45/96 [01:12<01:23,  1.63s/it]"
     ]
    },
    {
     "name": "stdout",
     "output_type": "stream",
     "text": [
      "NSL (exclusive subunits)\n"
     ]
    },
    {
     "name": "stderr",
     "output_type": "stream",
     "text": [
      "\r",
      " 48%|████▊     | 46/96 [01:14<01:21,  1.63s/it]"
     ]
    },
    {
     "name": "stdout",
     "output_type": "stream",
     "text": [
      "NuA4\n"
     ]
    },
    {
     "name": "stderr",
     "output_type": "stream",
     "text": [
      "\r",
      " 49%|████▉     | 47/96 [01:15<01:20,  1.64s/it]"
     ]
    },
    {
     "name": "stdout",
     "output_type": "stream",
     "text": [
      "NuA4 (exclusive subunits)\n"
     ]
    },
    {
     "name": "stderr",
     "output_type": "stream",
     "text": [
      "\r",
      " 50%|█████     | 48/96 [01:17<01:23,  1.74s/it]"
     ]
    },
    {
     "name": "stdout",
     "output_type": "stream",
     "text": [
      "NuRD\n"
     ]
    },
    {
     "name": "stderr",
     "output_type": "stream",
     "text": [
      "\r",
      " 51%|█████     | 49/96 [01:19<01:21,  1.73s/it]"
     ]
    },
    {
     "name": "stdout",
     "output_type": "stream",
     "text": [
      "NuRD (exclusive subunits)\n"
     ]
    },
    {
     "name": "stderr",
     "output_type": "stream",
     "text": [
      "\r",
      " 52%|█████▏    | 50/96 [01:21<01:24,  1.84s/it]"
     ]
    },
    {
     "name": "stdout",
     "output_type": "stream",
     "text": [
      "NuRF\n"
     ]
    },
    {
     "name": "stderr",
     "output_type": "stream",
     "text": [
      "\r",
      " 53%|█████▎    | 51/96 [01:23<01:25,  1.90s/it]"
     ]
    },
    {
     "name": "stdout",
     "output_type": "stream",
     "text": [
      "Nuclear cap-binding complex\n"
     ]
    },
    {
     "name": "stderr",
     "output_type": "stream",
     "text": [
      "\r",
      " 54%|█████▍    | 52/96 [01:28<01:58,  2.69s/it]"
     ]
    },
    {
     "name": "stdout",
     "output_type": "stream",
     "text": [
      "ORC\n"
     ]
    },
    {
     "name": "stderr",
     "output_type": "stream",
     "text": [
      "\r",
      " 55%|█████▌    | 53/96 [01:30<01:45,  2.46s/it]"
     ]
    },
    {
     "name": "stdout",
     "output_type": "stream",
     "text": [
      "PBAF\n"
     ]
    },
    {
     "name": "stderr",
     "output_type": "stream",
     "text": [
      "\r",
      " 56%|█████▋    | 54/96 [01:32<01:37,  2.33s/it]"
     ]
    },
    {
     "name": "stdout",
     "output_type": "stream",
     "text": [
      "PBAF (exclusive subunits)\n"
     ]
    },
    {
     "name": "stderr",
     "output_type": "stream",
     "text": [
      "\r",
      " 57%|█████▋    | 55/96 [01:34<01:33,  2.27s/it]"
     ]
    },
    {
     "name": "stdout",
     "output_type": "stream",
     "text": [
      "PCAF\n"
     ]
    },
    {
     "name": "stderr",
     "output_type": "stream",
     "text": [
      "\r",
      " 58%|█████▊    | 56/96 [01:36<01:25,  2.13s/it]"
     ]
    },
    {
     "name": "stdout",
     "output_type": "stream",
     "text": [
      "PR-DUB\n"
     ]
    },
    {
     "name": "stderr",
     "output_type": "stream",
     "text": [
      "\r",
      " 59%|█████▉    | 57/96 [01:37<01:19,  2.04s/it]"
     ]
    },
    {
     "name": "stdout",
     "output_type": "stream",
     "text": [
      "PRC1\n"
     ]
    },
    {
     "name": "stderr",
     "output_type": "stream",
     "text": [
      "\r",
      " 60%|██████    | 58/96 [01:40<01:17,  2.03s/it]"
     ]
    },
    {
     "name": "stdout",
     "output_type": "stream",
     "text": [
      "PRC1 (exclusive subunits)\n"
     ]
    },
    {
     "name": "stderr",
     "output_type": "stream",
     "text": [
      "\r",
      " 61%|██████▏   | 59/96 [01:41<01:11,  1.93s/it]"
     ]
    },
    {
     "name": "stdout",
     "output_type": "stream",
     "text": [
      "PRC2.1\n"
     ]
    },
    {
     "name": "stderr",
     "output_type": "stream",
     "text": [
      "\r",
      " 62%|██████▎   | 60/96 [01:43<01:06,  1.84s/it]"
     ]
    },
    {
     "name": "stdout",
     "output_type": "stream",
     "text": [
      "PRC2.1 (exclusive subunits)\n"
     ]
    },
    {
     "name": "stderr",
     "output_type": "stream",
     "text": [
      "\r",
      " 64%|██████▎   | 61/96 [01:45<01:04,  1.85s/it]"
     ]
    },
    {
     "name": "stdout",
     "output_type": "stream",
     "text": [
      "PRC2.2\n"
     ]
    },
    {
     "name": "stderr",
     "output_type": "stream",
     "text": [
      "\r",
      " 65%|██████▍   | 62/96 [01:46<01:01,  1.82s/it]"
     ]
    },
    {
     "name": "stdout",
     "output_type": "stream",
     "text": [
      "PSAP\n"
     ]
    },
    {
     "name": "stderr",
     "output_type": "stream",
     "text": [
      "\r",
      " 66%|██████▌   | 63/96 [01:49<01:03,  1.92s/it]"
     ]
    },
    {
     "name": "stdout",
     "output_type": "stream",
     "text": [
      "Paf1C\n"
     ]
    },
    {
     "name": "stderr",
     "output_type": "stream",
     "text": [
      "\r",
      " 67%|██████▋   | 64/96 [01:50<00:56,  1.76s/it]"
     ]
    },
    {
     "name": "stdout",
     "output_type": "stream",
     "text": [
      "Piccolo NuA4\n"
     ]
    },
    {
     "name": "stderr",
     "output_type": "stream",
     "text": [
      "\r",
      " 68%|██████▊   | 65/96 [01:52<00:52,  1.69s/it]"
     ]
    },
    {
     "name": "stdout",
     "output_type": "stream",
     "text": [
      "RFC\n"
     ]
    },
    {
     "name": "stderr",
     "output_type": "stream",
     "text": [
      "\r",
      " 69%|██████▉   | 66/96 [01:53<00:49,  1.66s/it]"
     ]
    },
    {
     "name": "stdout",
     "output_type": "stream",
     "text": [
      "RMI/BLM\n"
     ]
    },
    {
     "name": "stderr",
     "output_type": "stream",
     "text": [
      "\r",
      " 70%|██████▉   | 67/96 [01:55<00:48,  1.66s/it]"
     ]
    },
    {
     "name": "stdout",
     "output_type": "stream",
     "text": [
      "RNA Pol II\n"
     ]
    },
    {
     "name": "stderr",
     "output_type": "stream",
     "text": [
      "\r",
      " 71%|███████   | 68/96 [01:57<00:47,  1.69s/it]"
     ]
    },
    {
     "name": "stdout",
     "output_type": "stream",
     "text": [
      "RNA Pol II (exclusive subunits)\n"
     ]
    },
    {
     "name": "stderr",
     "output_type": "stream",
     "text": [
      "\r",
      " 72%|███████▏  | 69/96 [01:58<00:45,  1.69s/it]"
     ]
    },
    {
     "name": "stdout",
     "output_type": "stream",
     "text": [
      "RNA Pol III\n"
     ]
    },
    {
     "name": "stderr",
     "output_type": "stream",
     "text": [
      "\r",
      " 73%|███████▎  | 70/96 [02:00<00:43,  1.67s/it]"
     ]
    },
    {
     "name": "stdout",
     "output_type": "stream",
     "text": [
      "RPA\n"
     ]
    },
    {
     "name": "stderr",
     "output_type": "stream",
     "text": [
      "\r",
      " 74%|███████▍  | 71/96 [02:02<00:45,  1.84s/it]"
     ]
    },
    {
     "name": "stdout",
     "output_type": "stream",
     "text": [
      "SAGA\n"
     ]
    },
    {
     "name": "stderr",
     "output_type": "stream",
     "text": [
      "\r",
      " 75%|███████▌  | 72/96 [02:04<00:43,  1.81s/it]"
     ]
    },
    {
     "name": "stdout",
     "output_type": "stream",
     "text": [
      "SCF\n"
     ]
    },
    {
     "name": "stderr",
     "output_type": "stream",
     "text": [
      "\r",
      " 76%|███████▌  | 73/96 [02:06<00:40,  1.78s/it]"
     ]
    },
    {
     "name": "stdout",
     "output_type": "stream",
     "text": [
      "SET1A/B\n"
     ]
    },
    {
     "name": "stderr",
     "output_type": "stream",
     "text": [
      "\r",
      " 77%|███████▋  | 74/96 [02:07<00:38,  1.77s/it]"
     ]
    },
    {
     "name": "stdout",
     "output_type": "stream",
     "text": [
      "SF3B\n"
     ]
    },
    {
     "name": "stderr",
     "output_type": "stream",
     "text": [
      "\r",
      " 78%|███████▊  | 75/96 [02:09<00:35,  1.71s/it]"
     ]
    },
    {
     "name": "stdout",
     "output_type": "stream",
     "text": [
      "SIN3A/B\n"
     ]
    },
    {
     "name": "stderr",
     "output_type": "stream",
     "text": [
      "\r",
      " 79%|███████▉  | 76/96 [02:11<00:34,  1.72s/it]"
     ]
    },
    {
     "name": "stdout",
     "output_type": "stream",
     "text": [
      "SIN3A/B (exclusive subunits)\n"
     ]
    },
    {
     "name": "stderr",
     "output_type": "stream",
     "text": [
      "\r",
      " 80%|████████  | 77/96 [02:12<00:32,  1.69s/it]"
     ]
    },
    {
     "name": "stdout",
     "output_type": "stream",
     "text": [
      "SLF1/2-RAD18\n"
     ]
    },
    {
     "name": "stderr",
     "output_type": "stream",
     "text": [
      "\r",
      " 81%|████████▏ | 78/96 [02:14<00:29,  1.64s/it]"
     ]
    },
    {
     "name": "stdout",
     "output_type": "stream",
     "text": [
      "SNARP\n"
     ]
    },
    {
     "name": "stderr",
     "output_type": "stream",
     "text": [
      "\r",
      " 82%|████████▏ | 79/96 [02:16<00:31,  1.85s/it]"
     ]
    },
    {
     "name": "stdout",
     "output_type": "stream",
     "text": [
      "SRCAP\n"
     ]
    },
    {
     "name": "stderr",
     "output_type": "stream",
     "text": [
      "\r",
      " 83%|████████▎ | 80/96 [02:18<00:28,  1.76s/it]"
     ]
    },
    {
     "name": "stdout",
     "output_type": "stream",
     "text": [
      "Shelterin\n"
     ]
    },
    {
     "name": "stderr",
     "output_type": "stream",
     "text": [
      "\r",
      " 84%|████████▍ | 81/96 [02:19<00:25,  1.68s/it]"
     ]
    },
    {
     "name": "stdout",
     "output_type": "stream",
     "text": [
      "Shelterin (exclusive subunits)\n"
     ]
    },
    {
     "name": "stderr",
     "output_type": "stream",
     "text": [
      "\r",
      " 85%|████████▌ | 82/96 [02:21<00:23,  1.66s/it]"
     ]
    },
    {
     "name": "stdout",
     "output_type": "stream",
     "text": [
      "TFIID\n"
     ]
    },
    {
     "name": "stderr",
     "output_type": "stream",
     "text": [
      "\r",
      " 86%|████████▋ | 83/96 [02:23<00:22,  1.71s/it]"
     ]
    },
    {
     "name": "stdout",
     "output_type": "stream",
     "text": [
      "TFTC\n"
     ]
    },
    {
     "name": "stderr",
     "output_type": "stream",
     "text": [
      "\r",
      " 88%|████████▊ | 84/96 [02:24<00:20,  1.71s/it]"
     ]
    },
    {
     "name": "stdout",
     "output_type": "stream",
     "text": [
      "THO\n"
     ]
    },
    {
     "name": "stderr",
     "output_type": "stream",
     "text": [
      "\r",
      " 89%|████████▊ | 85/96 [02:26<00:17,  1.64s/it]"
     ]
    },
    {
     "name": "stdout",
     "output_type": "stream",
     "text": [
      "TREX\n"
     ]
    },
    {
     "name": "stderr",
     "output_type": "stream",
     "text": [
      "\r",
      " 90%|████████▉ | 86/96 [02:27<00:15,  1.58s/it]"
     ]
    },
    {
     "name": "stdout",
     "output_type": "stream",
     "text": [
      "XPC\n"
     ]
    },
    {
     "name": "stderr",
     "output_type": "stream",
     "text": [
      "\r",
      " 91%|█████████ | 87/96 [02:29<00:13,  1.54s/it]"
     ]
    },
    {
     "name": "stdout",
     "output_type": "stream",
     "text": [
      "XPC (exclusive subunits)\n"
     ]
    },
    {
     "name": "stderr",
     "output_type": "stream",
     "text": [
      "\r",
      " 92%|█████████▏| 88/96 [02:30<00:12,  1.50s/it]"
     ]
    },
    {
     "name": "stdout",
     "output_type": "stream",
     "text": [
      "ZAP3\n"
     ]
    },
    {
     "name": "stderr",
     "output_type": "stream",
     "text": [
      "\r",
      " 93%|█████████▎| 89/96 [02:32<00:10,  1.51s/it]"
     ]
    },
    {
     "name": "stdout",
     "output_type": "stream",
     "text": [
      "ZAP3 (exclusive subunits)\n"
     ]
    },
    {
     "name": "stderr",
     "output_type": "stream",
     "text": [
      "\r",
      " 94%|█████████▍| 90/96 [02:33<00:09,  1.57s/it]"
     ]
    },
    {
     "name": "stdout",
     "output_type": "stream",
     "text": [
      "ncPRC1\n"
     ]
    },
    {
     "name": "stderr",
     "output_type": "stream",
     "text": [
      "\r",
      " 95%|█████████▍| 91/96 [02:35<00:08,  1.61s/it]"
     ]
    },
    {
     "name": "stdout",
     "output_type": "stream",
     "text": [
      "ncPRC1.1\n"
     ]
    },
    {
     "name": "stderr",
     "output_type": "stream",
     "text": [
      "\r",
      " 96%|█████████▌| 92/96 [02:37<00:06,  1.71s/it]"
     ]
    },
    {
     "name": "stdout",
     "output_type": "stream",
     "text": [
      "ncPRC1.1 (exclusive subunits)\n"
     ]
    },
    {
     "name": "stderr",
     "output_type": "stream",
     "text": [
      "\r",
      " 97%|█████████▋| 93/96 [02:39<00:05,  1.72s/it]"
     ]
    },
    {
     "name": "stdout",
     "output_type": "stream",
     "text": [
      "ncPRC1.3/5\n"
     ]
    },
    {
     "name": "stderr",
     "output_type": "stream",
     "text": [
      "\r",
      " 98%|█████████▊| 94/96 [02:41<00:03,  1.79s/it]"
     ]
    },
    {
     "name": "stdout",
     "output_type": "stream",
     "text": [
      "ncPRC1.6\n"
     ]
    },
    {
     "name": "stderr",
     "output_type": "stream",
     "text": [
      "\r",
      " 99%|█████████▉| 95/96 [02:43<00:01,  1.86s/it]"
     ]
    },
    {
     "name": "stdout",
     "output_type": "stream",
     "text": [
      "ncPRC1.6 (exclusive subunits)\n"
     ]
    },
    {
     "name": "stderr",
     "output_type": "stream",
     "text": [
      "100%|██████████| 96/96 [02:44<00:00,  1.80s/it]\n"
     ]
    }
   ],
   "source": [
    "import re\n",
    "\n",
    "complexes_to_plot = sorted(enrichment_complexes.reset_index().query('significant')['Complex'].unique())\n",
    "\n",
    "max_proteins = 25\n",
    "\n",
    "for complex_ in tqdm(complexes_to_plot):\n",
    "    \n",
    "    # Title of plot\n",
    "    name = complex_\n",
    "    complex_filename = re.sub('[^a-zA-Z0-9]+', '_', complex_).lower()\n",
    "    filename = f'barplot-{complex_filename}.pdf'\n",
    "    \n",
    "    print(complex_)\n",
    "    \n",
    "    proteins = members_of(complex_)\n",
    "    \n",
    "    if len(proteins) > max_proteins:\n",
    "        print(f'Skipping {complex_} because it has more than {max_proteins} proteins')\n",
    "        continue\n",
    "        \n",
    "    df = limma_results.loc(axis=0)[:, proteins]\n",
    "    \n",
    "    if (df.groupby(level='predictor').size() > 2).sum() < 10:\n",
    "        print(f'Skipping {complex_} because it does not match quality criteria')\n",
    "        continue\n",
    "   \n",
    "\n",
    "    # PLOT\n",
    "    fig = plt.figure(figsize=(5, 6.45), \n",
    "                     constrained_layout=True)\n",
    "\n",
    "    n_groups = len(GROUPED_ORDER)\n",
    "\n",
    "    spec = gridspec.GridSpec(ncols=1,\n",
    "                             nrows=n_groups, \n",
    "                             figure=fig,\n",
    "                             height_ratios=[len(x) for x in GROUPED_ORDER])\n",
    "\n",
    "    ax = None\n",
    "    for i, predictor_subgroup in enumerate(GROUPED_ORDER):\n",
    "        ax = fig.add_subplot(spec[i, :], sharex=ax)\n",
    "\n",
    "        medians = []\n",
    "        ci = []\n",
    "\n",
    "\n",
    "        subgroup_df = df.loc[predictor_subgroup]\n",
    "        \n",
    "        significant_predictors = set()\n",
    "\n",
    "        for predictor in predictor_subgroup:\n",
    "            \n",
    "            try:\n",
    "                subdf = subgroup_df.loc[predictor]\n",
    "                subdf_enrichment = enrichment_complexes.loc[predictor, complex_]\n",
    "            except KeyError:\n",
    "                medians.append(0)\n",
    "                ci.append([0, 0])\n",
    "                \n",
    "                continue\n",
    "            \n",
    "            \n",
    "            mu = subdf_enrichment['empirical_median']\n",
    "            ci_low = subdf_enrichment['empirical_median_ci_left']\n",
    "            ci_high = subdf_enrichment['empirical_median_ci_right']\n",
    "            \n",
    "            if subdf_enrichment['significant']:\n",
    "                significant_predictors.add(predictor)\n",
    "            \n",
    "            err_low = mu - ci_low\n",
    "            err_high = ci_high - mu\n",
    "\n",
    "            medians.append(mu)\n",
    "            ci.append([err_low, err_high])\n",
    "\n",
    "\n",
    "        for y, (predictor, mu, ci) in enumerate(zip(predictor_subgroup, medians, ci)):\n",
    "            ax.barh(y, mu, \n",
    "                    xerr=np.atleast_2d(ci).T,\n",
    "                    color=palette[predictor],\n",
    "                    error_kw=dict(elinewidth=3, capsize=5, capthick=2),\n",
    "                    edgecolor='black', linewidth=1.0)\n",
    "        \n",
    "     \n",
    "        for significant, subsubgroup_df in subgroup_df.groupby('significant'):\n",
    "        \n",
    "            sns.stripplot(y='predictor', x='logFC',\n",
    "                          hue='predictor',\n",
    "                          hue_order=predictor_subgroup,\n",
    "                          dodge=False,\n",
    "                          palette=palette,\n",
    "                          order=predictor_subgroup,\n",
    "                          size=5,\n",
    "                          alpha=.8,\n",
    "                          edgecolor='black',\n",
    "                          linewidth=1.0,\n",
    "                          jitter=0.25,\n",
    "                          marker='o' if significant else 'X',\n",
    "                          ax=ax, data=subsubgroup_df.reset_index())\n",
    "\n",
    "    #     ax.axvline(0, color='#666666')\n",
    "        ax.legend_.set_visible(False)\n",
    "\n",
    "        ax.set_ylabel('')\n",
    "        \n",
    "        ax.yaxis.set_tick_params(length=0, labelsize=10)\n",
    "        ax.xaxis.set_tick_params(length=0)\n",
    "        \n",
    "        for predictor, tick in zip(predictor_subgroup, ax.get_yticklabels()):\n",
    "            if predictor in significant_predictors:\n",
    "                tick.set_fontweight('bold')\n",
    "\n",
    "        if i != n_groups-1:\n",
    "            sns.despine(left=True, bottom=True, offset=5, ax=ax)\n",
    "            for tic in ax.xaxis.get_major_ticks():\n",
    "                tic.tick1On = tic.tick2On = False\n",
    "                tic.label1On = tic.label2On = False\n",
    "            ax.set_xlabel('')\n",
    "        else:\n",
    "            sns.despine(left=True, bottom=False, offset=5, ax=ax)\n",
    "            ax.set_xlabel('Change to log2 H/L ratio attributed to modification', \n",
    "                          fontsize=10)\n",
    "\n",
    "        if i == 0:\n",
    "            ax.set_title(name, fontsize=10)\n",
    "\n",
    "\n",
    "    fig.savefig(os.path.join(OUTPUT_DIRECTORY_BARPLOTS, filename), \n",
    "                bbox_inches='tight')\n",
    "    plt.close()\n",
    "#     break\n"
   ]
  },
  {
   "cell_type": "code",
   "execution_count": 13,
   "metadata": {},
   "outputs": [
    {
     "data": {
      "text/plain": [
       "['INO80', 'INO80 (exclusive subunits)']"
      ]
     },
     "execution_count": 13,
     "metadata": {},
     "output_type": "execute_result"
    }
   ],
   "source": [
    "[c for c in complexes_to_plot if 'ino80' in c.lower()]"
   ]
  },
  {
   "cell_type": "code",
   "execution_count": 14,
   "metadata": {
    "scrolled": false
   },
   "outputs": [
    {
     "name": "stderr",
     "output_type": "stream",
     "text": [
      "\r",
      "  0%|          | 0/96 [00:00<?, ?it/s]"
     ]
    },
    {
     "name": "stdout",
     "output_type": "stream",
     "text": [
      "40S Ribosomal subunit\n",
      "Skipping 40S Ribosomal subunit because it has more than 25 proteins\n",
      "AP-2 dimers\n"
     ]
    },
    {
     "name": "stderr",
     "output_type": "stream",
     "text": [
      "\r",
      "  2%|▏         | 2/96 [00:02<01:40,  1.07s/it]"
     ]
    },
    {
     "name": "stdout",
     "output_type": "stream",
     "text": [
      "APC/C\n"
     ]
    },
    {
     "name": "stderr",
     "output_type": "stream",
     "text": [
      "\r",
      "  3%|▎         | 3/96 [00:06<03:15,  2.10s/it]"
     ]
    },
    {
     "name": "stdout",
     "output_type": "stream",
     "text": [
      "ASAP\n"
     ]
    },
    {
     "name": "stderr",
     "output_type": "stream",
     "text": [
      "\r",
      "  4%|▍         | 4/96 [00:09<03:23,  2.21s/it]"
     ]
    },
    {
     "name": "stdout",
     "output_type": "stream",
     "text": [
      "ATAC\n"
     ]
    },
    {
     "name": "stderr",
     "output_type": "stream",
     "text": [
      "\r",
      "  5%|▌         | 5/96 [00:11<03:29,  2.30s/it]"
     ]
    },
    {
     "name": "stdout",
     "output_type": "stream",
     "text": [
      "ATAC (exclusive subunits)\n"
     ]
    },
    {
     "name": "stderr",
     "output_type": "stream",
     "text": [
      "\r",
      "  6%|▋         | 6/96 [00:13<03:24,  2.28s/it]"
     ]
    },
    {
     "name": "stdout",
     "output_type": "stream",
     "text": [
      "B-MYB-MuvB\n"
     ]
    },
    {
     "name": "stderr",
     "output_type": "stream",
     "text": [
      "\r",
      "  7%|▋         | 7/96 [00:16<03:24,  2.30s/it]"
     ]
    },
    {
     "name": "stdout",
     "output_type": "stream",
     "text": [
      "B-MYB-MuvB (exclusive subunits)\n"
     ]
    },
    {
     "name": "stderr",
     "output_type": "stream",
     "text": [
      "\r",
      "  8%|▊         | 8/96 [00:18<03:16,  2.23s/it]"
     ]
    },
    {
     "name": "stdout",
     "output_type": "stream",
     "text": [
      "BAF\n"
     ]
    },
    {
     "name": "stderr",
     "output_type": "stream",
     "text": [
      "\r",
      "  9%|▉         | 9/96 [00:20<03:04,  2.12s/it]"
     ]
    },
    {
     "name": "stdout",
     "output_type": "stream",
     "text": [
      "BHC\n"
     ]
    },
    {
     "name": "stderr",
     "output_type": "stream",
     "text": [
      "\r",
      " 10%|█         | 10/96 [00:21<02:49,  1.97s/it]"
     ]
    },
    {
     "name": "stdout",
     "output_type": "stream",
     "text": [
      "BRCA1-A\n"
     ]
    },
    {
     "name": "stderr",
     "output_type": "stream",
     "text": [
      "\r",
      " 11%|█▏        | 11/96 [00:23<02:32,  1.80s/it]"
     ]
    },
    {
     "name": "stdout",
     "output_type": "stream",
     "text": [
      "BRCC\n"
     ]
    },
    {
     "name": "stderr",
     "output_type": "stream",
     "text": [
      "\r",
      " 12%|█▎        | 12/96 [00:24<02:21,  1.69s/it]"
     ]
    },
    {
     "name": "stdout",
     "output_type": "stream",
     "text": [
      "BRISC\n"
     ]
    },
    {
     "name": "stderr",
     "output_type": "stream",
     "text": [
      "\r",
      " 14%|█▎        | 13/96 [00:25<02:12,  1.60s/it]"
     ]
    },
    {
     "name": "stdout",
     "output_type": "stream",
     "text": [
      "Base Excision Repair Complex (exclusive subunits)\n"
     ]
    },
    {
     "name": "stderr",
     "output_type": "stream",
     "text": [
      "\r",
      " 15%|█▍        | 14/96 [00:27<02:14,  1.65s/it]"
     ]
    },
    {
     "name": "stdout",
     "output_type": "stream",
     "text": [
      "CAF-1\n"
     ]
    },
    {
     "name": "stderr",
     "output_type": "stream",
     "text": [
      "\r",
      " 16%|█▌        | 15/96 [00:29<02:08,  1.59s/it]"
     ]
    },
    {
     "name": "stdout",
     "output_type": "stream",
     "text": [
      "CHRAC\n"
     ]
    },
    {
     "name": "stderr",
     "output_type": "stream",
     "text": [
      "\r",
      " 17%|█▋        | 16/96 [00:30<02:05,  1.57s/it]"
     ]
    },
    {
     "name": "stdout",
     "output_type": "stream",
     "text": [
      "CtBP\n"
     ]
    },
    {
     "name": "stderr",
     "output_type": "stream",
     "text": [
      "\r",
      " 18%|█▊        | 17/96 [00:32<02:10,  1.65s/it]"
     ]
    },
    {
     "name": "stdout",
     "output_type": "stream",
     "text": [
      "EBAFA/B\n"
     ]
    },
    {
     "name": "stderr",
     "output_type": "stream",
     "text": [
      "\r",
      " 19%|█▉        | 18/96 [00:35<02:30,  1.93s/it]"
     ]
    },
    {
     "name": "stdout",
     "output_type": "stream",
     "text": [
      "EMSY\n"
     ]
    },
    {
     "name": "stderr",
     "output_type": "stream",
     "text": [
      "\r",
      " 20%|█▉        | 19/96 [00:37<02:36,  2.04s/it]"
     ]
    },
    {
     "name": "stdout",
     "output_type": "stream",
     "text": [
      "EMSY (exclusive subunits)\n"
     ]
    },
    {
     "name": "stderr",
     "output_type": "stream",
     "text": [
      "\r",
      " 21%|██        | 20/96 [00:39<02:39,  2.10s/it]"
     ]
    },
    {
     "name": "stdout",
     "output_type": "stream",
     "text": [
      "Fanconi Anemia\n"
     ]
    },
    {
     "name": "stderr",
     "output_type": "stream",
     "text": [
      "\r",
      " 22%|██▏       | 21/96 [00:41<02:33,  2.04s/it]"
     ]
    },
    {
     "name": "stdout",
     "output_type": "stream",
     "text": [
      "GBAF\n"
     ]
    },
    {
     "name": "stderr",
     "output_type": "stream",
     "text": [
      "\r",
      " 23%|██▎       | 22/96 [00:43<02:34,  2.09s/it]"
     ]
    },
    {
     "name": "stdout",
     "output_type": "stream",
     "text": [
      "GBAF (exclusive subunits)\n",
      "Skipping GBAF (exclusive subunits) because it does not match quality criteria\n",
      "HBO1\n"
     ]
    },
    {
     "name": "stderr",
     "output_type": "stream",
     "text": [
      "\r",
      " 25%|██▌       | 24/96 [00:45<02:06,  1.76s/it]"
     ]
    },
    {
     "name": "stdout",
     "output_type": "stream",
     "text": [
      "HBO1 (exclusive subunits)\n"
     ]
    },
    {
     "name": "stderr",
     "output_type": "stream",
     "text": [
      "\r",
      " 26%|██▌       | 25/96 [00:47<02:07,  1.80s/it]"
     ]
    },
    {
     "name": "stdout",
     "output_type": "stream",
     "text": [
      "HDAC-ELMSAN1-DNTTIP1\n"
     ]
    },
    {
     "name": "stderr",
     "output_type": "stream",
     "text": [
      "\r",
      " 27%|██▋       | 26/96 [00:49<02:09,  1.85s/it]"
     ]
    },
    {
     "name": "stdout",
     "output_type": "stream",
     "text": [
      "HUSH\n"
     ]
    },
    {
     "name": "stderr",
     "output_type": "stream",
     "text": [
      "\r",
      " 28%|██▊       | 27/96 [00:51<02:01,  1.76s/it]"
     ]
    },
    {
     "name": "stdout",
     "output_type": "stream",
     "text": [
      "INO80\n"
     ]
    },
    {
     "name": "stderr",
     "output_type": "stream",
     "text": [
      "\r",
      " 29%|██▉       | 28/96 [00:53<02:04,  1.84s/it]"
     ]
    },
    {
     "name": "stdout",
     "output_type": "stream",
     "text": [
      "INO80 (exclusive subunits)\n"
     ]
    },
    {
     "name": "stderr",
     "output_type": "stream",
     "text": [
      "\r",
      " 30%|███       | 29/96 [00:55<02:04,  1.86s/it]"
     ]
    },
    {
     "name": "stdout",
     "output_type": "stream",
     "text": [
      "Integrator\n"
     ]
    },
    {
     "name": "stderr",
     "output_type": "stream",
     "text": [
      "\r",
      " 31%|███▏      | 30/96 [00:57<02:07,  1.94s/it]"
     ]
    },
    {
     "name": "stdout",
     "output_type": "stream",
     "text": [
      "Integrator (exclusive subunits)\n"
     ]
    },
    {
     "name": "stderr",
     "output_type": "stream",
     "text": [
      "\r",
      " 32%|███▏      | 31/96 [00:59<02:07,  1.96s/it]"
     ]
    },
    {
     "name": "stdout",
     "output_type": "stream",
     "text": [
      "KAP1-HP1\n"
     ]
    },
    {
     "name": "stderr",
     "output_type": "stream",
     "text": [
      "\r",
      " 33%|███▎      | 32/96 [01:01<02:08,  2.00s/it]"
     ]
    },
    {
     "name": "stdout",
     "output_type": "stream",
     "text": [
      "KAP1-SETDB1-DNMT1-ZNF304\n",
      "Skipping KAP1-SETDB1-DNMT1-ZNF304 because it does not match quality criteria\n",
      "LSD-CoREST\n"
     ]
    },
    {
     "name": "stderr",
     "output_type": "stream",
     "text": [
      "\r",
      " 35%|███▌      | 34/96 [01:03<01:45,  1.70s/it]"
     ]
    },
    {
     "name": "stdout",
     "output_type": "stream",
     "text": [
      "MLL1/2\n"
     ]
    },
    {
     "name": "stderr",
     "output_type": "stream",
     "text": [
      "\r",
      " 36%|███▋      | 35/96 [01:06<02:05,  2.05s/it]"
     ]
    },
    {
     "name": "stdout",
     "output_type": "stream",
     "text": [
      "MLL1/2 (exclusive subunits)\n"
     ]
    },
    {
     "name": "stderr",
     "output_type": "stream",
     "text": [
      "\r",
      " 38%|███▊      | 36/96 [01:08<02:01,  2.02s/it]"
     ]
    },
    {
     "name": "stdout",
     "output_type": "stream",
     "text": [
      "MLL3/4\n"
     ]
    },
    {
     "name": "stderr",
     "output_type": "stream",
     "text": [
      "\r",
      " 39%|███▊      | 37/96 [01:09<01:53,  1.93s/it]"
     ]
    },
    {
     "name": "stdout",
     "output_type": "stream",
     "text": [
      "MLL3/4 (exclusive subunits)\n"
     ]
    },
    {
     "name": "stderr",
     "output_type": "stream",
     "text": [
      "\r",
      " 40%|███▉      | 38/96 [01:11<01:49,  1.89s/it]"
     ]
    },
    {
     "name": "stdout",
     "output_type": "stream",
     "text": [
      "MOZ/MORF\n"
     ]
    },
    {
     "name": "stderr",
     "output_type": "stream",
     "text": [
      "\r",
      " 41%|████      | 39/96 [01:13<01:51,  1.96s/it]"
     ]
    },
    {
     "name": "stdout",
     "output_type": "stream",
     "text": [
      "MRN\n"
     ]
    },
    {
     "name": "stderr",
     "output_type": "stream",
     "text": [
      "\r",
      " 42%|████▏     | 40/96 [01:15<01:46,  1.91s/it]"
     ]
    },
    {
     "name": "stdout",
     "output_type": "stream",
     "text": [
      "MSL\n"
     ]
    },
    {
     "name": "stderr",
     "output_type": "stream",
     "text": [
      "\r",
      " 43%|████▎     | 41/96 [01:17<01:47,  1.95s/it]"
     ]
    },
    {
     "name": "stdout",
     "output_type": "stream",
     "text": [
      "Mediator\n"
     ]
    },
    {
     "name": "stderr",
     "output_type": "stream",
     "text": [
      "\r",
      " 44%|████▍     | 42/96 [01:20<01:54,  2.12s/it]"
     ]
    },
    {
     "name": "stdout",
     "output_type": "stream",
     "text": [
      "N-CoR1\n"
     ]
    },
    {
     "name": "stderr",
     "output_type": "stream",
     "text": [
      "\r",
      " 45%|████▍     | 43/96 [01:22<01:52,  2.13s/it]"
     ]
    },
    {
     "name": "stdout",
     "output_type": "stream",
     "text": [
      "N-CoR2\n"
     ]
    },
    {
     "name": "stderr",
     "output_type": "stream",
     "text": [
      "\r",
      " 46%|████▌     | 44/96 [01:24<01:45,  2.03s/it]"
     ]
    },
    {
     "name": "stdout",
     "output_type": "stream",
     "text": [
      "NSL\n"
     ]
    },
    {
     "name": "stderr",
     "output_type": "stream",
     "text": [
      "\r",
      " 47%|████▋     | 45/96 [01:26<01:56,  2.29s/it]"
     ]
    },
    {
     "name": "stdout",
     "output_type": "stream",
     "text": [
      "NSL (exclusive subunits)\n"
     ]
    },
    {
     "name": "stderr",
     "output_type": "stream",
     "text": [
      "\r",
      " 48%|████▊     | 46/96 [01:28<01:48,  2.18s/it]"
     ]
    },
    {
     "name": "stdout",
     "output_type": "stream",
     "text": [
      "NuA4\n"
     ]
    },
    {
     "name": "stderr",
     "output_type": "stream",
     "text": [
      "\r",
      " 49%|████▉     | 47/96 [01:31<01:55,  2.36s/it]"
     ]
    },
    {
     "name": "stdout",
     "output_type": "stream",
     "text": [
      "NuA4 (exclusive subunits)\n"
     ]
    },
    {
     "name": "stderr",
     "output_type": "stream",
     "text": [
      "\r",
      " 50%|█████     | 48/96 [01:33<01:46,  2.22s/it]"
     ]
    },
    {
     "name": "stdout",
     "output_type": "stream",
     "text": [
      "NuRD\n"
     ]
    },
    {
     "name": "stderr",
     "output_type": "stream",
     "text": [
      "\r",
      " 51%|█████     | 49/96 [01:35<01:40,  2.13s/it]"
     ]
    },
    {
     "name": "stdout",
     "output_type": "stream",
     "text": [
      "NuRD (exclusive subunits)\n"
     ]
    },
    {
     "name": "stderr",
     "output_type": "stream",
     "text": [
      "\r",
      " 52%|█████▏    | 50/96 [01:37<01:31,  1.99s/it]"
     ]
    },
    {
     "name": "stdout",
     "output_type": "stream",
     "text": [
      "NuRF\n"
     ]
    },
    {
     "name": "stderr",
     "output_type": "stream",
     "text": [
      "\r",
      " 53%|█████▎    | 51/96 [01:39<01:41,  2.25s/it]"
     ]
    },
    {
     "name": "stdout",
     "output_type": "stream",
     "text": [
      "Nuclear cap-binding complex\n"
     ]
    },
    {
     "name": "stderr",
     "output_type": "stream",
     "text": [
      "\r",
      " 54%|█████▍    | 52/96 [01:41<01:35,  2.17s/it]"
     ]
    },
    {
     "name": "stdout",
     "output_type": "stream",
     "text": [
      "ORC\n"
     ]
    },
    {
     "name": "stderr",
     "output_type": "stream",
     "text": [
      "\r",
      " 55%|█████▌    | 53/96 [01:44<01:37,  2.26s/it]"
     ]
    },
    {
     "name": "stdout",
     "output_type": "stream",
     "text": [
      "PBAF\n"
     ]
    },
    {
     "name": "stderr",
     "output_type": "stream",
     "text": [
      "\r",
      " 56%|█████▋    | 54/96 [01:46<01:29,  2.14s/it]"
     ]
    },
    {
     "name": "stdout",
     "output_type": "stream",
     "text": [
      "PBAF (exclusive subunits)\n"
     ]
    },
    {
     "name": "stderr",
     "output_type": "stream",
     "text": [
      "\r",
      " 57%|█████▋    | 55/96 [01:48<01:25,  2.09s/it]"
     ]
    },
    {
     "name": "stdout",
     "output_type": "stream",
     "text": [
      "PCAF\n"
     ]
    },
    {
     "name": "stderr",
     "output_type": "stream",
     "text": [
      "\r",
      " 58%|█████▊    | 56/96 [01:50<01:29,  2.23s/it]"
     ]
    },
    {
     "name": "stdout",
     "output_type": "stream",
     "text": [
      "PR-DUB\n"
     ]
    },
    {
     "name": "stderr",
     "output_type": "stream",
     "text": [
      "\r",
      " 59%|█████▉    | 57/96 [01:52<01:20,  2.08s/it]"
     ]
    },
    {
     "name": "stdout",
     "output_type": "stream",
     "text": [
      "PRC1\n"
     ]
    },
    {
     "name": "stderr",
     "output_type": "stream",
     "text": [
      "\r",
      " 60%|██████    | 58/96 [01:54<01:21,  2.15s/it]"
     ]
    },
    {
     "name": "stdout",
     "output_type": "stream",
     "text": [
      "PRC1 (exclusive subunits)\n"
     ]
    },
    {
     "name": "stderr",
     "output_type": "stream",
     "text": [
      "\r",
      " 61%|██████▏   | 59/96 [01:57<01:23,  2.26s/it]"
     ]
    },
    {
     "name": "stdout",
     "output_type": "stream",
     "text": [
      "PRC2.1\n"
     ]
    },
    {
     "name": "stderr",
     "output_type": "stream",
     "text": [
      "\r",
      " 62%|██████▎   | 60/96 [01:59<01:17,  2.15s/it]"
     ]
    },
    {
     "name": "stdout",
     "output_type": "stream",
     "text": [
      "PRC2.1 (exclusive subunits)\n"
     ]
    },
    {
     "name": "stderr",
     "output_type": "stream",
     "text": [
      "\r",
      " 64%|██████▎   | 61/96 [02:00<01:09,  2.00s/it]"
     ]
    },
    {
     "name": "stdout",
     "output_type": "stream",
     "text": [
      "PRC2.2\n"
     ]
    },
    {
     "name": "stderr",
     "output_type": "stream",
     "text": [
      "\r",
      " 65%|██████▍   | 62/96 [02:03<01:09,  2.04s/it]"
     ]
    },
    {
     "name": "stdout",
     "output_type": "stream",
     "text": [
      "PSAP\n"
     ]
    },
    {
     "name": "stderr",
     "output_type": "stream",
     "text": [
      "\r",
      " 66%|██████▌   | 63/96 [02:05<01:11,  2.16s/it]"
     ]
    },
    {
     "name": "stdout",
     "output_type": "stream",
     "text": [
      "Paf1C\n"
     ]
    },
    {
     "name": "stderr",
     "output_type": "stream",
     "text": [
      "\r",
      " 67%|██████▋   | 64/96 [02:07<01:07,  2.12s/it]"
     ]
    },
    {
     "name": "stdout",
     "output_type": "stream",
     "text": [
      "Piccolo NuA4\n"
     ]
    },
    {
     "name": "stderr",
     "output_type": "stream",
     "text": [
      "\r",
      " 68%|██████▊   | 65/96 [02:09<01:00,  1.94s/it]"
     ]
    },
    {
     "name": "stdout",
     "output_type": "stream",
     "text": [
      "RFC\n"
     ]
    },
    {
     "name": "stderr",
     "output_type": "stream",
     "text": [
      "\r",
      " 69%|██████▉   | 66/96 [02:11<00:59,  1.99s/it]"
     ]
    },
    {
     "name": "stdout",
     "output_type": "stream",
     "text": [
      "RMI/BLM\n"
     ]
    },
    {
     "name": "stderr",
     "output_type": "stream",
     "text": [
      "\r",
      " 70%|██████▉   | 67/96 [02:12<00:56,  1.94s/it]"
     ]
    },
    {
     "name": "stdout",
     "output_type": "stream",
     "text": [
      "RNA Pol II\n"
     ]
    },
    {
     "name": "stderr",
     "output_type": "stream",
     "text": [
      "\r",
      " 71%|███████   | 68/96 [02:17<01:14,  2.67s/it]"
     ]
    },
    {
     "name": "stdout",
     "output_type": "stream",
     "text": [
      "RNA Pol II (exclusive subunits)\n"
     ]
    },
    {
     "name": "stderr",
     "output_type": "stream",
     "text": [
      "\r",
      " 72%|███████▏  | 69/96 [02:20<01:12,  2.70s/it]"
     ]
    },
    {
     "name": "stdout",
     "output_type": "stream",
     "text": [
      "RNA Pol III\n"
     ]
    },
    {
     "name": "stderr",
     "output_type": "stream",
     "text": [
      "\r",
      " 73%|███████▎  | 70/96 [02:22<01:04,  2.46s/it]"
     ]
    },
    {
     "name": "stdout",
     "output_type": "stream",
     "text": [
      "RPA\n"
     ]
    },
    {
     "name": "stderr",
     "output_type": "stream",
     "text": [
      "\r",
      " 74%|███████▍  | 71/96 [02:24<01:02,  2.48s/it]"
     ]
    },
    {
     "name": "stdout",
     "output_type": "stream",
     "text": [
      "SAGA\n"
     ]
    },
    {
     "name": "stderr",
     "output_type": "stream",
     "text": [
      "\r",
      " 75%|███████▌  | 72/96 [02:27<00:59,  2.48s/it]"
     ]
    },
    {
     "name": "stdout",
     "output_type": "stream",
     "text": [
      "SCF\n"
     ]
    },
    {
     "name": "stderr",
     "output_type": "stream",
     "text": [
      "\r",
      " 76%|███████▌  | 73/96 [02:30<01:04,  2.81s/it]"
     ]
    },
    {
     "name": "stdout",
     "output_type": "stream",
     "text": [
      "SET1A/B\n"
     ]
    },
    {
     "name": "stderr",
     "output_type": "stream",
     "text": [
      "\r",
      " 77%|███████▋  | 74/96 [02:33<00:59,  2.70s/it]"
     ]
    },
    {
     "name": "stdout",
     "output_type": "stream",
     "text": [
      "SF3B\n"
     ]
    },
    {
     "name": "stderr",
     "output_type": "stream",
     "text": [
      "\r",
      " 78%|███████▊  | 75/96 [02:34<00:51,  2.45s/it]"
     ]
    },
    {
     "name": "stdout",
     "output_type": "stream",
     "text": [
      "SIN3A/B\n"
     ]
    },
    {
     "name": "stderr",
     "output_type": "stream",
     "text": [
      "\r",
      " 79%|███████▉  | 76/96 [02:36<00:44,  2.24s/it]"
     ]
    },
    {
     "name": "stdout",
     "output_type": "stream",
     "text": [
      "SIN3A/B (exclusive subunits)\n"
     ]
    },
    {
     "name": "stderr",
     "output_type": "stream",
     "text": [
      "\r",
      " 80%|████████  | 77/96 [02:38<00:39,  2.08s/it]"
     ]
    },
    {
     "name": "stdout",
     "output_type": "stream",
     "text": [
      "SLF1/2-RAD18\n"
     ]
    },
    {
     "name": "stderr",
     "output_type": "stream",
     "text": [
      "\r",
      " 81%|████████▏ | 78/96 [02:39<00:34,  1.91s/it]"
     ]
    },
    {
     "name": "stdout",
     "output_type": "stream",
     "text": [
      "SNARP\n"
     ]
    },
    {
     "name": "stderr",
     "output_type": "stream",
     "text": [
      "\r",
      " 82%|████████▏ | 79/96 [02:41<00:30,  1.81s/it]"
     ]
    },
    {
     "name": "stdout",
     "output_type": "stream",
     "text": [
      "SRCAP\n"
     ]
    },
    {
     "name": "stderr",
     "output_type": "stream",
     "text": [
      "\r",
      " 83%|████████▎ | 80/96 [02:43<00:27,  1.72s/it]"
     ]
    },
    {
     "name": "stdout",
     "output_type": "stream",
     "text": [
      "Shelterin\n"
     ]
    },
    {
     "name": "stderr",
     "output_type": "stream",
     "text": [
      "\r",
      " 84%|████████▍ | 81/96 [02:44<00:25,  1.68s/it]"
     ]
    },
    {
     "name": "stdout",
     "output_type": "stream",
     "text": [
      "Shelterin (exclusive subunits)\n"
     ]
    },
    {
     "name": "stderr",
     "output_type": "stream",
     "text": [
      "\r",
      " 85%|████████▌ | 82/96 [02:46<00:22,  1.63s/it]"
     ]
    },
    {
     "name": "stdout",
     "output_type": "stream",
     "text": [
      "TFIID\n"
     ]
    },
    {
     "name": "stderr",
     "output_type": "stream",
     "text": [
      "\r",
      " 86%|████████▋ | 83/96 [02:47<00:21,  1.65s/it]"
     ]
    },
    {
     "name": "stdout",
     "output_type": "stream",
     "text": [
      "TFTC\n"
     ]
    },
    {
     "name": "stderr",
     "output_type": "stream",
     "text": [
      "\r",
      " 88%|████████▊ | 84/96 [02:49<00:20,  1.67s/it]"
     ]
    },
    {
     "name": "stdout",
     "output_type": "stream",
     "text": [
      "THO\n"
     ]
    },
    {
     "name": "stderr",
     "output_type": "stream",
     "text": [
      "\r",
      " 89%|████████▊ | 85/96 [02:51<00:20,  1.83s/it]"
     ]
    },
    {
     "name": "stdout",
     "output_type": "stream",
     "text": [
      "TREX\n"
     ]
    },
    {
     "name": "stderr",
     "output_type": "stream",
     "text": [
      "\r",
      " 90%|████████▉ | 86/96 [02:53<00:17,  1.79s/it]"
     ]
    },
    {
     "name": "stdout",
     "output_type": "stream",
     "text": [
      "XPC\n"
     ]
    },
    {
     "name": "stderr",
     "output_type": "stream",
     "text": [
      "\r",
      " 91%|█████████ | 87/96 [02:55<00:15,  1.74s/it]"
     ]
    },
    {
     "name": "stdout",
     "output_type": "stream",
     "text": [
      "XPC (exclusive subunits)\n"
     ]
    },
    {
     "name": "stderr",
     "output_type": "stream",
     "text": [
      "\r",
      " 92%|█████████▏| 88/96 [02:57<00:15,  1.97s/it]"
     ]
    },
    {
     "name": "stdout",
     "output_type": "stream",
     "text": [
      "ZAP3\n"
     ]
    },
    {
     "name": "stderr",
     "output_type": "stream",
     "text": [
      "\r",
      " 93%|█████████▎| 89/96 [02:59<00:13,  1.95s/it]"
     ]
    },
    {
     "name": "stdout",
     "output_type": "stream",
     "text": [
      "ZAP3 (exclusive subunits)\n"
     ]
    },
    {
     "name": "stderr",
     "output_type": "stream",
     "text": [
      "\r",
      " 94%|█████████▍| 90/96 [03:01<00:11,  1.84s/it]"
     ]
    },
    {
     "name": "stdout",
     "output_type": "stream",
     "text": [
      "ncPRC1\n"
     ]
    },
    {
     "name": "stderr",
     "output_type": "stream",
     "text": [
      "\r",
      " 95%|█████████▍| 91/96 [03:02<00:09,  1.84s/it]"
     ]
    },
    {
     "name": "stdout",
     "output_type": "stream",
     "text": [
      "ncPRC1.1\n"
     ]
    },
    {
     "name": "stderr",
     "output_type": "stream",
     "text": [
      "\r",
      " 96%|█████████▌| 92/96 [03:04<00:07,  1.80s/it]"
     ]
    },
    {
     "name": "stdout",
     "output_type": "stream",
     "text": [
      "ncPRC1.1 (exclusive subunits)\n"
     ]
    },
    {
     "name": "stderr",
     "output_type": "stream",
     "text": [
      "\r",
      " 97%|█████████▋| 93/96 [03:06<00:05,  1.78s/it]"
     ]
    },
    {
     "name": "stdout",
     "output_type": "stream",
     "text": [
      "ncPRC1.3/5\n"
     ]
    },
    {
     "name": "stderr",
     "output_type": "stream",
     "text": [
      "\r",
      " 98%|█████████▊| 94/96 [03:08<00:03,  1.77s/it]"
     ]
    },
    {
     "name": "stdout",
     "output_type": "stream",
     "text": [
      "ncPRC1.6\n"
     ]
    },
    {
     "name": "stderr",
     "output_type": "stream",
     "text": [
      "\r",
      " 99%|█████████▉| 95/96 [03:09<00:01,  1.79s/it]"
     ]
    },
    {
     "name": "stdout",
     "output_type": "stream",
     "text": [
      "ncPRC1.6 (exclusive subunits)\n"
     ]
    },
    {
     "name": "stderr",
     "output_type": "stream",
     "text": [
      "100%|██████████| 96/96 [03:11<00:00,  1.75s/it]\n"
     ]
    }
   ],
   "source": [
    "import re\n",
    "\n",
    "complexes_to_plot = sorted(enrichment_complexes.reset_index().query('significant')['Complex'].unique())\n",
    "\n",
    "max_proteins = 25\n",
    "\n",
    "for complex_ in tqdm(complexes_to_plot):\n",
    "    \n",
    "    # Title of plot\n",
    "    name = complex_\n",
    "    complex_filename = re.sub('[^a-zA-Z0-9]+', '_', complex_).lower()\n",
    "    filename = f'barplot-horizontal-{complex_filename}.pdf'\n",
    "    \n",
    "    print(complex_)\n",
    "    \n",
    "    proteins = members_of(complex_)\n",
    "    \n",
    "    if len(proteins) > max_proteins:\n",
    "        print(f'Skipping {complex_} because it has more than {max_proteins} proteins')\n",
    "        continue\n",
    "        \n",
    "    df = limma_results.loc(axis=0)[:, proteins]\n",
    "    \n",
    "    if (df.groupby(level='predictor').size() > 2).sum() < 10:\n",
    "        print(f'Skipping {complex_} because it does not match quality criteria')\n",
    "        continue\n",
    "   \n",
    "\n",
    "    # PLOT\n",
    "    fig = plt.figure(figsize=(6.25, 4.3), \n",
    "                     constrained_layout=True)\n",
    "\n",
    "    n_groups = len(GROUPED_ORDER)\n",
    "\n",
    "    spec = gridspec.GridSpec(ncols=n_groups,\n",
    "                             nrows=1, \n",
    "                             figure=fig,\n",
    "                             width_ratios=[len(x) for x in GROUPED_ORDER])\n",
    "\n",
    "    ax = None\n",
    "    for i, predictor_subgroup in enumerate(GROUPED_ORDER):\n",
    "        ax = fig.add_subplot(spec[:, i], sharey=ax)\n",
    "\n",
    "        medians = []\n",
    "        ci = []\n",
    "\n",
    "\n",
    "        subgroup_df = df.loc[predictor_subgroup]\n",
    "        \n",
    "        significant_predictors = set()\n",
    "\n",
    "        for predictor in predictor_subgroup:\n",
    "            \n",
    "            try:\n",
    "                subdf = subgroup_df.loc[predictor]\n",
    "                subdf_enrichment = enrichment_complexes.loc[predictor, complex_]\n",
    "            except KeyError:\n",
    "                medians.append(0)\n",
    "                ci.append([0, 0])\n",
    "                \n",
    "                continue\n",
    "            \n",
    "            \n",
    "            mu = subdf_enrichment['empirical_median']\n",
    "            ci_low = subdf_enrichment['empirical_median_ci_left']\n",
    "            ci_high = subdf_enrichment['empirical_median_ci_right']\n",
    "            \n",
    "            if subdf_enrichment['significant']:\n",
    "                significant_predictors.add(predictor)\n",
    "            \n",
    "            err_low = mu - ci_low\n",
    "            err_high = ci_high - mu\n",
    "\n",
    "            medians.append(mu)\n",
    "            ci.append([err_low, err_high])\n",
    "\n",
    "\n",
    "        for y, (predictor, mu, ci) in enumerate(zip(predictor_subgroup, medians, ci)):\n",
    "            ax.bar(y, mu, \n",
    "                   yerr=np.atleast_2d(ci).T,\n",
    "                   color=palette[predictor],\n",
    "                   error_kw=dict(elinewidth=3, capsize=5, capthick=2),\n",
    "                   edgecolor='black', linewidth=1.0)\n",
    "        \n",
    "     \n",
    "        for significant, subsubgroup_df in subgroup_df.groupby('significant'):\n",
    "        \n",
    "            sns.stripplot(x='predictor', y='logFC',\n",
    "                          hue='predictor',\n",
    "                          hue_order=predictor_subgroup,\n",
    "                          dodge=False,\n",
    "                          palette=palette,\n",
    "                          order=predictor_subgroup,\n",
    "                          size=5,\n",
    "                          alpha=.8,\n",
    "                          edgecolor='black',\n",
    "                          linewidth=1.0,\n",
    "                          jitter=0.25,\n",
    "                          marker='o' if significant else 'X',\n",
    "                          ax=ax, data=subsubgroup_df.reset_index())\n",
    "\n",
    "    #     ax.axvline(0, color='#666666')\n",
    "        ax.legend_.set_visible(False)\n",
    "\n",
    "        ax.set_xlabel('')\n",
    "        \n",
    "        ax.xaxis.set_tick_params(length=0, labelsize=10, rotation=90)\n",
    "        ax.yaxis.set_tick_params(length=0)\n",
    "        \n",
    "        for predictor, tick in zip(predictor_subgroup, ax.get_xticklabels()):\n",
    "            if predictor in significant_predictors:\n",
    "                tick.set_fontweight('bold')\n",
    "\n",
    "        if i != 0:\n",
    "            sns.despine(left=True, bottom=True, offset=5, ax=ax)\n",
    "            for tic in ax.yaxis.get_major_ticks():\n",
    "                tic.tick1On = tic.tick2On = False\n",
    "                tic.label1On = tic.label2On = False\n",
    "            ax.set_ylabel('')\n",
    "        else:\n",
    "            sns.despine(left=False, bottom=True, offset=5, ax=ax)\n",
    "            ax.set_ylabel('Change to log2 H/L ratio attributed to modification', \n",
    "                          fontsize=10)\n",
    "\n",
    "    fig.suptitle(name, fontsize=10)\n",
    "\n",
    "\n",
    "    fig.savefig(os.path.join(OUTPUT_DIRECTORY_BARPLOTS, filename), \n",
    "                bbox_inches='tight')\n",
    "    plt.close()\n",
    "#     break\n"
   ]
  },
  {
   "cell_type": "markdown",
   "metadata": {},
   "source": [
    "Some special plots for special complex pairs"
   ]
  },
  {
   "cell_type": "code",
   "execution_count": 47,
   "metadata": {},
   "outputs": [
    {
     "name": "stderr",
     "output_type": "stream",
     "text": [
      "\r",
      "  0%|          | 0/1 [00:00<?, ?it/s]"
     ]
    },
    {
     "name": "stdout",
     "output_type": "stream",
     "text": [
      "SRCAP INO80 (exclusive subunits) barplot-horizontal-srcapvsino80_exclusive_subunits_.pdf\n"
     ]
    },
    {
     "name": "stderr",
     "output_type": "stream",
     "text": [
      "\n"
     ]
    }
   ],
   "source": [
    "import re\n",
    "\n",
    "complex_pairs_to_plot = [('SRCAP', 'INO80 (exclusive subunits)')]\n",
    "\n",
    "COMPLEX_PALETTES = {\n",
    "    'SRCAP': '#4469A7',\n",
    "    'INO80 (exclusive subunits)': '#D54E75'\n",
    "}\n",
    "\n",
    "for complex_a, complex_b in tqdm(complex_pairs_to_plot):\n",
    "    \n",
    "    # Title of plot\n",
    "    name = f'{complex_a} vs {complex_b}'\n",
    "    complex_filename_a = re.sub('[^a-zA-Z0-9]+', '_', complex_a).lower()\n",
    "    complex_filename_b = re.sub('[^a-zA-Z0-9]+', '_', complex_b).lower()\n",
    "    filename = f'barplot-horizontal-{complex_filename_a}vs{complex_filename_b}.pdf'\n",
    "    \n",
    "    print(complex_a, complex_b, filename)\n",
    "    \n",
    "    palette_complexes = dict(zip([complex_a, complex_b], sns.color_palette('Set1', 2)))\n",
    "    if complex_a in COMPLEX_PALETTES:\n",
    "        palette_complexes[complex_a] = COMPLEX_PALETTES[complex_a]\n",
    "    \n",
    "    if complex_b in COMPLEX_PALETTES:\n",
    "        palette_complexes[complex_b] = COMPLEX_PALETTES[complex_b]\n",
    "    \n",
    "    \n",
    "    proteins_a = members_of(complex_a)\n",
    "    proteins_b = members_of(complex_b)\n",
    "    \n",
    "    df_a = limma_results.loc(axis=0)[:, proteins_a]\n",
    "    df_b = limma_results.loc(axis=0)[:, proteins_b]\n",
    "    \n",
    "                                          \n",
    "    if (df_a.groupby(level='predictor').size() > 2).sum() < 10:\n",
    "        print(f'Skipping {complex_a} because it does not match quality criteria')\n",
    "        continue\n",
    "    \n",
    "    if (df_b.groupby(level='predictor').size() > 2).sum() < 10:\n",
    "        print(f'Skipping {complex_b} because it does not match quality criteria')\n",
    "        continue\n",
    "\n",
    "    # PLOT\n",
    "    fig = plt.figure(figsize=(6.25, 5.3), \n",
    "                     constrained_layout=True)\n",
    "\n",
    "    n_groups = len(GROUPED_ORDER)\n",
    "\n",
    "    spec = gridspec.GridSpec(ncols=n_groups,\n",
    "                             nrows=1, \n",
    "                             figure=fig,\n",
    "                             width_ratios=[len(x) for x in GROUPED_ORDER])\n",
    "\n",
    "    ax = None\n",
    "    for i, predictor_subgroup in enumerate(GROUPED_ORDER):\n",
    "        ax = fig.add_subplot(spec[:, i], sharey=ax)\n",
    "\n",
    "        # - complex a -----\n",
    "        \n",
    "        medians_a = []\n",
    "        ci_a = []\n",
    "        \n",
    "        subgroup_df = df_a.loc[predictor_subgroup]\n",
    "        \n",
    "        significant_predictors = set()\n",
    "        for predictor in predictor_subgroup:\n",
    "            try:\n",
    "                subdf = subgroup_df.loc[predictor]\n",
    "                subdf_enrichment = enrichment_complexes.loc[predictor, complex_a]\n",
    "            except KeyError:\n",
    "                medians.append(0)\n",
    "                ci.append([0, 0])\n",
    "                \n",
    "                continue\n",
    "            \n",
    "            mu = subdf_enrichment['empirical_median']\n",
    "            ci_low = subdf_enrichment['empirical_median_ci_left']\n",
    "            ci_high = subdf_enrichment['empirical_median_ci_right']\n",
    "            \n",
    "            if subdf_enrichment['significant']:\n",
    "                significant_predictors.add(predictor)\n",
    "            \n",
    "            err_low = mu - ci_low\n",
    "            err_high = ci_high - mu\n",
    "\n",
    "            medians_a.append(mu)\n",
    "            ci_a.append([err_low, err_high])\n",
    "            \n",
    "        # ------ Complex b -------------------------\n",
    "        \n",
    "        medians_b = []\n",
    "        ci_b = []\n",
    "        \n",
    "        \n",
    "        subgroup_df = df_b.loc[predictor_subgroup]\n",
    "        \n",
    "        \n",
    "        significant_predictors = set()\n",
    "        for predictor in predictor_subgroup:\n",
    "            try:\n",
    "                subdf = subgroup_df.loc[predictor]\n",
    "                subdf_enrichment = enrichment_complexes.loc[predictor, complex_b]\n",
    "            except KeyError:\n",
    "                medians.append(0)\n",
    "                ci.append([0, 0])\n",
    "                \n",
    "                continue\n",
    "            \n",
    "            mu = subdf_enrichment['empirical_median']\n",
    "            ci_low = subdf_enrichment['empirical_median_ci_left']\n",
    "            ci_high = subdf_enrichment['empirical_median_ci_right']\n",
    "            \n",
    "            if subdf_enrichment['significant']:\n",
    "                significant_predictors.add(predictor)\n",
    "            \n",
    "            err_low = mu - ci_low\n",
    "            err_high = ci_high - mu\n",
    "\n",
    "            medians_b.append(mu)\n",
    "            ci_b.append([err_low, err_high])\n",
    "        \n",
    "        # Barplots\n",
    "        bar_width = 0.35\n",
    "        bar_padding = 0.05\n",
    "        for y, (predictor, mu, ci) in enumerate(zip(predictor_subgroup, medians_a, ci_a)):\n",
    "            ax.bar(y - (bar_width/2) - (bar_padding/2), mu, \n",
    "                   yerr=np.atleast_2d(ci).T,\n",
    "                   color=palette_complexes[complex_a],\n",
    "                   width=bar_width,\n",
    "                   error_kw=dict(elinewidth=3, capsize=5, capthick=2),\n",
    "                   edgecolor='black', linewidth=1.0)\n",
    "        \n",
    "        \n",
    "        for y, (predictor, mu, ci) in enumerate(zip(predictor_subgroup, medians_b, ci_b)):\n",
    "            ax.bar(y + (bar_width/2) + (bar_padding/2), mu, \n",
    "                   yerr=np.atleast_2d(ci).T,\n",
    "                   color=palette_complexes[complex_b],\n",
    "                   width=bar_width,\n",
    "                   error_kw=dict(elinewidth=3, capsize=5, capthick=2),\n",
    "                   edgecolor='black', linewidth=1.0)\n",
    "        \n",
    "        # Subgroup ab\n",
    "        subgroup_a = df_a.loc[predictor_subgroup].copy()\n",
    "        subgroup_a['complex'] = complex_a\n",
    "        subgroup_b = df_b.loc[predictor_subgroup].copy()\n",
    "        subgroup_b['complex'] = complex_b\n",
    "        \n",
    "        subgroup_ab = pd.concat([subgroup_a.reset_index(), \n",
    "                                 subgroup_b.reset_index()])\n",
    "        \n",
    "        \n",
    "        for significant, subsubgroup_df in subgroup_df.groupby('significant'):\n",
    "        \n",
    "            sns.stripplot(x='predictor', y='logFC',\n",
    "                          hue='complex',\n",
    "                          hue_order=[complex_a, complex_b],\n",
    "                          dodge=True,\n",
    "                          palette=palette_complexes,\n",
    "                          order=predictor_subgroup,\n",
    "                          size=4,\n",
    "                          alpha=.8,\n",
    "                          edgecolor='black',\n",
    "                          linewidth=1.0,\n",
    "                          jitter=0.25,\n",
    "                          marker='o' if significant else 'X',\n",
    "                          ax=ax, data=subgroup_ab)\n",
    "\n",
    "    #     ax.axvline(0, color='#666666')\n",
    "        if ax.legend_:\n",
    "            ax.legend_.set_visible(False)\n",
    "\n",
    "        ax.set_xlabel('')\n",
    "        \n",
    "        ax.xaxis.set_tick_params(length=0, labelsize=10, rotation=90)\n",
    "        ax.yaxis.set_tick_params(length=0)\n",
    "        \n",
    "        if i != 0:\n",
    "            sns.despine(left=True, bottom=True, offset=5, ax=ax)\n",
    "            for tic in ax.yaxis.get_major_ticks():\n",
    "                tic.tick1On = tic.tick2On = False\n",
    "                tic.label1On = tic.label2On = False\n",
    "            ax.set_ylabel('')\n",
    "        else:\n",
    "            sns.despine(left=False, bottom=True, offset=5, ax=ax)\n",
    "            ax.set_ylabel('Change to log2 H/L ratio attributed to modification', \n",
    "                          fontsize=10)\n",
    "\n",
    "    fig.suptitle(name, fontsize=10)\n",
    "\n",
    "\n",
    "    fig.savefig(os.path.join(OUTPUT_DIRECTORY_BARPLOTS, filename), \n",
    "                bbox_inches='tight')\n",
    "    plt.close()\n",
    "    break\n"
   ]
  },
  {
   "cell_type": "code",
   "execution_count": 30,
   "metadata": {},
   "outputs": [
    {
     "data": {
      "text/html": [
       "<div>\n",
       "<style scoped>\n",
       "    .dataframe tbody tr th:only-of-type {\n",
       "        vertical-align: middle;\n",
       "    }\n",
       "\n",
       "    .dataframe tbody tr th {\n",
       "        vertical-align: top;\n",
       "    }\n",
       "\n",
       "    .dataframe thead th {\n",
       "        text-align: right;\n",
       "    }\n",
       "</style>\n",
       "<table border=\"1\" class=\"dataframe\">\n",
       "  <thead>\n",
       "    <tr style=\"text-align: right;\">\n",
       "      <th></th>\n",
       "      <th>predictor</th>\n",
       "      <th>Gene label</th>\n",
       "      <th>logFC</th>\n",
       "      <th>CI.L</th>\n",
       "      <th>CI.R</th>\n",
       "      <th>AveExpr</th>\n",
       "      <th>t</th>\n",
       "      <th>P.Value</th>\n",
       "      <th>adj.P.Val</th>\n",
       "      <th>B</th>\n",
       "      <th>df_total</th>\n",
       "      <th>moderated_t_stdev</th>\n",
       "      <th>logFC_variance</th>\n",
       "      <th>confint_half_width</th>\n",
       "      <th>neg_log10_p</th>\n",
       "      <th>neg_log10_p_adjust</th>\n",
       "      <th>significant</th>\n",
       "      <th>significant_and_large_fc</th>\n",
       "      <th>complex</th>\n",
       "    </tr>\n",
       "  </thead>\n",
       "  <tbody>\n",
       "    <tr>\n",
       "      <th>0</th>\n",
       "      <td>H4K20me3</td>\n",
       "      <td>ACTR8</td>\n",
       "      <td>-0.381052</td>\n",
       "      <td>-0.855013</td>\n",
       "      <td>0.092910</td>\n",
       "      <td>-0.248728</td>\n",
       "      <td>-1.754591</td>\n",
       "      <td>0.105179</td>\n",
       "      <td>0.416856</td>\n",
       "      <td>-5.234689</td>\n",
       "      <td>11.824618</td>\n",
       "      <td>0.217174</td>\n",
       "      <td>0.056766</td>\n",
       "      <td>0.473961</td>\n",
       "      <td>0.978069</td>\n",
       "      <td>0.380014</td>\n",
       "      <td>False</td>\n",
       "      <td>False</td>\n",
       "      <td>INO80 (exclusive subunits)</td>\n",
       "    </tr>\n",
       "    <tr>\n",
       "      <th>1</th>\n",
       "      <td>H4K20me3</td>\n",
       "      <td>INO80B</td>\n",
       "      <td>-0.426247</td>\n",
       "      <td>-1.035068</td>\n",
       "      <td>0.182575</td>\n",
       "      <td>0.079809</td>\n",
       "      <td>-1.527939</td>\n",
       "      <td>0.152825</td>\n",
       "      <td>0.494878</td>\n",
       "      <td>-5.264421</td>\n",
       "      <td>11.824618</td>\n",
       "      <td>0.278968</td>\n",
       "      <td>0.093666</td>\n",
       "      <td>0.608821</td>\n",
       "      <td>0.815804</td>\n",
       "      <td>0.305502</td>\n",
       "      <td>False</td>\n",
       "      <td>False</td>\n",
       "      <td>INO80 (exclusive subunits)</td>\n",
       "    </tr>\n",
       "    <tr>\n",
       "      <th>2</th>\n",
       "      <td>H4K20me3</td>\n",
       "      <td>ACTR5</td>\n",
       "      <td>-0.385842</td>\n",
       "      <td>-0.993680</td>\n",
       "      <td>0.221997</td>\n",
       "      <td>0.072495</td>\n",
       "      <td>-1.385338</td>\n",
       "      <td>0.191526</td>\n",
       "      <td>0.540702</td>\n",
       "      <td>-5.796292</td>\n",
       "      <td>11.824618</td>\n",
       "      <td>0.278518</td>\n",
       "      <td>0.093364</td>\n",
       "      <td>0.607839</td>\n",
       "      <td>0.717773</td>\n",
       "      <td>0.267042</td>\n",
       "      <td>False</td>\n",
       "      <td>False</td>\n",
       "      <td>INO80 (exclusive subunits)</td>\n",
       "    </tr>\n",
       "    <tr>\n",
       "      <th>3</th>\n",
       "      <td>H4K20me3</td>\n",
       "      <td>TFPT</td>\n",
       "      <td>-0.158337</td>\n",
       "      <td>-0.747202</td>\n",
       "      <td>0.430528</td>\n",
       "      <td>0.099785</td>\n",
       "      <td>-0.586815</td>\n",
       "      <td>0.568363</td>\n",
       "      <td>0.834038</td>\n",
       "      <td>-5.913013</td>\n",
       "      <td>11.824618</td>\n",
       "      <td>0.269824</td>\n",
       "      <td>0.087626</td>\n",
       "      <td>0.588865</td>\n",
       "      <td>0.245374</td>\n",
       "      <td>0.078814</td>\n",
       "      <td>False</td>\n",
       "      <td>False</td>\n",
       "      <td>INO80 (exclusive subunits)</td>\n",
       "    </tr>\n",
       "    <tr>\n",
       "      <th>4</th>\n",
       "      <td>H4K20me3</td>\n",
       "      <td>INO80D</td>\n",
       "      <td>-0.258312</td>\n",
       "      <td>-0.857101</td>\n",
       "      <td>0.340477</td>\n",
       "      <td>0.098878</td>\n",
       "      <td>-0.941469</td>\n",
       "      <td>0.365302</td>\n",
       "      <td>0.700374</td>\n",
       "      <td>-5.928753</td>\n",
       "      <td>11.824618</td>\n",
       "      <td>0.274371</td>\n",
       "      <td>0.090604</td>\n",
       "      <td>0.598789</td>\n",
       "      <td>0.437348</td>\n",
       "      <td>0.154670</td>\n",
       "      <td>False</td>\n",
       "      <td>False</td>\n",
       "      <td>INO80 (exclusive subunits)</td>\n",
       "    </tr>\n",
       "    <tr>\n",
       "      <th>5</th>\n",
       "      <td>H4K20me3</td>\n",
       "      <td>UCHL5</td>\n",
       "      <td>-0.191518</td>\n",
       "      <td>-0.737648</td>\n",
       "      <td>0.354611</td>\n",
       "      <td>0.031103</td>\n",
       "      <td>-0.765331</td>\n",
       "      <td>0.459078</td>\n",
       "      <td>0.765718</td>\n",
       "      <td>-5.994632</td>\n",
       "      <td>11.824618</td>\n",
       "      <td>0.250242</td>\n",
       "      <td>0.075369</td>\n",
       "      <td>0.546130</td>\n",
       "      <td>0.338113</td>\n",
       "      <td>0.115931</td>\n",
       "      <td>False</td>\n",
       "      <td>False</td>\n",
       "      <td>INO80 (exclusive subunits)</td>\n",
       "    </tr>\n",
       "    <tr>\n",
       "      <th>6</th>\n",
       "      <td>H4K20me3</td>\n",
       "      <td>INO80E</td>\n",
       "      <td>-0.190981</td>\n",
       "      <td>-0.862252</td>\n",
       "      <td>0.480290</td>\n",
       "      <td>0.143307</td>\n",
       "      <td>-0.620909</td>\n",
       "      <td>0.546442</td>\n",
       "      <td>0.825434</td>\n",
       "      <td>-6.030738</td>\n",
       "      <td>11.824618</td>\n",
       "      <td>0.307584</td>\n",
       "      <td>0.113867</td>\n",
       "      <td>0.671271</td>\n",
       "      <td>0.262456</td>\n",
       "      <td>0.083318</td>\n",
       "      <td>False</td>\n",
       "      <td>False</td>\n",
       "      <td>INO80 (exclusive subunits)</td>\n",
       "    </tr>\n",
       "    <tr>\n",
       "      <th>7</th>\n",
       "      <td>H4K20me3</td>\n",
       "      <td>NFRKB</td>\n",
       "      <td>-0.413382</td>\n",
       "      <td>-1.089447</td>\n",
       "      <td>0.262682</td>\n",
       "      <td>-0.150890</td>\n",
       "      <td>-1.334438</td>\n",
       "      <td>0.207188</td>\n",
       "      <td>0.555090</td>\n",
       "      <td>-6.069448</td>\n",
       "      <td>11.824618</td>\n",
       "      <td>0.309780</td>\n",
       "      <td>0.115499</td>\n",
       "      <td>0.676064</td>\n",
       "      <td>0.683634</td>\n",
       "      <td>0.255637</td>\n",
       "      <td>False</td>\n",
       "      <td>False</td>\n",
       "      <td>INO80 (exclusive subunits)</td>\n",
       "    </tr>\n",
       "    <tr>\n",
       "      <th>8</th>\n",
       "      <td>H4K20me3</td>\n",
       "      <td>INO80C</td>\n",
       "      <td>-0.267252</td>\n",
       "      <td>-0.911032</td>\n",
       "      <td>0.376529</td>\n",
       "      <td>0.101501</td>\n",
       "      <td>-0.905978</td>\n",
       "      <td>0.383037</td>\n",
       "      <td>0.720934</td>\n",
       "      <td>-6.129865</td>\n",
       "      <td>11.824618</td>\n",
       "      <td>0.294987</td>\n",
       "      <td>0.104732</td>\n",
       "      <td>0.643780</td>\n",
       "      <td>0.416759</td>\n",
       "      <td>0.142104</td>\n",
       "      <td>False</td>\n",
       "      <td>False</td>\n",
       "      <td>INO80 (exclusive subunits)</td>\n",
       "    </tr>\n",
       "    <tr>\n",
       "      <th>9</th>\n",
       "      <td>H4K20me3</td>\n",
       "      <td>INO80</td>\n",
       "      <td>-0.313751</td>\n",
       "      <td>-0.928376</td>\n",
       "      <td>0.300874</td>\n",
       "      <td>0.089740</td>\n",
       "      <td>-1.114062</td>\n",
       "      <td>0.287385</td>\n",
       "      <td>0.643602</td>\n",
       "      <td>-6.284974</td>\n",
       "      <td>11.824618</td>\n",
       "      <td>0.281628</td>\n",
       "      <td>0.095460</td>\n",
       "      <td>0.614625</td>\n",
       "      <td>0.541535</td>\n",
       "      <td>0.191383</td>\n",
       "      <td>False</td>\n",
       "      <td>False</td>\n",
       "      <td>INO80 (exclusive subunits)</td>\n",
       "    </tr>\n",
       "    <tr>\n",
       "      <th>10</th>\n",
       "      <td>H4K20me3</td>\n",
       "      <td>YY1</td>\n",
       "      <td>-0.054882</td>\n",
       "      <td>-0.433695</td>\n",
       "      <td>0.323931</td>\n",
       "      <td>0.169793</td>\n",
       "      <td>-0.316185</td>\n",
       "      <td>0.757374</td>\n",
       "      <td>0.912111</td>\n",
       "      <td>-6.641600</td>\n",
       "      <td>11.824618</td>\n",
       "      <td>0.173576</td>\n",
       "      <td>0.036262</td>\n",
       "      <td>0.378813</td>\n",
       "      <td>0.120690</td>\n",
       "      <td>0.039952</td>\n",
       "      <td>False</td>\n",
       "      <td>False</td>\n",
       "      <td>INO80 (exclusive subunits)</td>\n",
       "    </tr>\n",
       "    <tr>\n",
       "      <th>11</th>\n",
       "      <td>H4K20me2</td>\n",
       "      <td>YY1</td>\n",
       "      <td>1.280490</td>\n",
       "      <td>0.774751</td>\n",
       "      <td>1.786230</td>\n",
       "      <td>2.393853</td>\n",
       "      <td>5.228774</td>\n",
       "      <td>0.000024</td>\n",
       "      <td>0.000456</td>\n",
       "      <td>2.194061</td>\n",
       "      <td>23.729670</td>\n",
       "      <td>0.244893</td>\n",
       "      <td>0.065492</td>\n",
       "      <td>0.505739</td>\n",
       "      <td>4.617726</td>\n",
       "      <td>3.341099</td>\n",
       "      <td>True</td>\n",
       "      <td>True</td>\n",
       "      <td>INO80 (exclusive subunits)</td>\n",
       "    </tr>\n",
       "    <tr>\n",
       "      <th>12</th>\n",
       "      <td>H4K20me2</td>\n",
       "      <td>ACTR5</td>\n",
       "      <td>0.455288</td>\n",
       "      <td>0.133005</td>\n",
       "      <td>0.777572</td>\n",
       "      <td>2.646128</td>\n",
       "      <td>2.917421</td>\n",
       "      <td>0.007598</td>\n",
       "      <td>0.022809</td>\n",
       "      <td>-3.586895</td>\n",
       "      <td>23.729670</td>\n",
       "      <td>0.156059</td>\n",
       "      <td>0.026596</td>\n",
       "      <td>0.322283</td>\n",
       "      <td>2.119276</td>\n",
       "      <td>1.641893</td>\n",
       "      <td>False</td>\n",
       "      <td>False</td>\n",
       "      <td>INO80 (exclusive subunits)</td>\n",
       "    </tr>\n",
       "    <tr>\n",
       "      <th>13</th>\n",
       "      <td>H4K20me2</td>\n",
       "      <td>INO80D</td>\n",
       "      <td>0.757556</td>\n",
       "      <td>0.171931</td>\n",
       "      <td>1.343182</td>\n",
       "      <td>1.975695</td>\n",
       "      <td>2.671438</td>\n",
       "      <td>0.013425</td>\n",
       "      <td>0.035213</td>\n",
       "      <td>-3.899962</td>\n",
       "      <td>23.729670</td>\n",
       "      <td>0.283576</td>\n",
       "      <td>0.087817</td>\n",
       "      <td>0.585626</td>\n",
       "      <td>1.872088</td>\n",
       "      <td>1.453300</td>\n",
       "      <td>False</td>\n",
       "      <td>False</td>\n",
       "      <td>INO80 (exclusive subunits)</td>\n",
       "    </tr>\n",
       "    <tr>\n",
       "      <th>14</th>\n",
       "      <td>H4K20me2</td>\n",
       "      <td>INO80B</td>\n",
       "      <td>0.352281</td>\n",
       "      <td>0.070216</td>\n",
       "      <td>0.634345</td>\n",
       "      <td>2.454584</td>\n",
       "      <td>2.579235</td>\n",
       "      <td>0.016540</td>\n",
       "      <td>0.041225</td>\n",
       "      <td>-4.189088</td>\n",
       "      <td>23.729670</td>\n",
       "      <td>0.136583</td>\n",
       "      <td>0.020372</td>\n",
       "      <td>0.282064</td>\n",
       "      <td>1.781473</td>\n",
       "      <td>1.384839</td>\n",
       "      <td>False</td>\n",
       "      <td>False</td>\n",
       "      <td>INO80 (exclusive subunits)</td>\n",
       "    </tr>\n",
       "    <tr>\n",
       "      <th>15</th>\n",
       "      <td>H4K20me2</td>\n",
       "      <td>NFRKB</td>\n",
       "      <td>0.351299</td>\n",
       "      <td>0.046372</td>\n",
       "      <td>0.656226</td>\n",
       "      <td>2.483767</td>\n",
       "      <td>2.379203</td>\n",
       "      <td>0.025750</td>\n",
       "      <td>0.059285</td>\n",
       "      <td>-5.059640</td>\n",
       "      <td>23.729670</td>\n",
       "      <td>0.147654</td>\n",
       "      <td>0.023808</td>\n",
       "      <td>0.304927</td>\n",
       "      <td>1.589230</td>\n",
       "      <td>1.227057</td>\n",
       "      <td>False</td>\n",
       "      <td>False</td>\n",
       "      <td>INO80 (exclusive subunits)</td>\n",
       "    </tr>\n",
       "    <tr>\n",
       "      <th>16</th>\n",
       "      <td>H4K20me2</td>\n",
       "      <td>INO80E</td>\n",
       "      <td>0.300555</td>\n",
       "      <td>-0.181967</td>\n",
       "      <td>0.783077</td>\n",
       "      <td>2.628445</td>\n",
       "      <td>1.286342</td>\n",
       "      <td>0.210733</td>\n",
       "      <td>0.312058</td>\n",
       "      <td>-6.152401</td>\n",
       "      <td>23.729670</td>\n",
       "      <td>0.233651</td>\n",
       "      <td>0.059617</td>\n",
       "      <td>0.482522</td>\n",
       "      <td>0.676267</td>\n",
       "      <td>0.505765</td>\n",
       "      <td>False</td>\n",
       "      <td>False</td>\n",
       "      <td>INO80 (exclusive subunits)</td>\n",
       "    </tr>\n",
       "    <tr>\n",
       "      <th>17</th>\n",
       "      <td>H4K20me2</td>\n",
       "      <td>TFPT</td>\n",
       "      <td>-0.098476</td>\n",
       "      <td>-0.659327</td>\n",
       "      <td>0.462376</td>\n",
       "      <td>2.223504</td>\n",
       "      <td>-0.362603</td>\n",
       "      <td>0.720111</td>\n",
       "      <td>0.796923</td>\n",
       "      <td>-6.641500</td>\n",
       "      <td>23.729670</td>\n",
       "      <td>0.271580</td>\n",
       "      <td>0.080544</td>\n",
       "      <td>0.560851</td>\n",
       "      <td>0.142601</td>\n",
       "      <td>0.098584</td>\n",
       "      <td>False</td>\n",
       "      <td>False</td>\n",
       "      <td>INO80 (exclusive subunits)</td>\n",
       "    </tr>\n",
       "    <tr>\n",
       "      <th>18</th>\n",
       "      <td>H4K20me2</td>\n",
       "      <td>UCHL5</td>\n",
       "      <td>-0.158818</td>\n",
       "      <td>-0.806407</td>\n",
       "      <td>0.488771</td>\n",
       "      <td>1.850082</td>\n",
       "      <td>-0.506467</td>\n",
       "      <td>0.617202</td>\n",
       "      <td>0.708749</td>\n",
       "      <td>-6.826642</td>\n",
       "      <td>23.729670</td>\n",
       "      <td>0.313581</td>\n",
       "      <td>0.107383</td>\n",
       "      <td>0.647589</td>\n",
       "      <td>0.209573</td>\n",
       "      <td>0.149507</td>\n",
       "      <td>False</td>\n",
       "      <td>False</td>\n",
       "      <td>INO80 (exclusive subunits)</td>\n",
       "    </tr>\n",
       "    <tr>\n",
       "      <th>19</th>\n",
       "      <td>H4K20me2</td>\n",
       "      <td>INO80C</td>\n",
       "      <td>0.129541</td>\n",
       "      <td>-0.284502</td>\n",
       "      <td>0.543585</td>\n",
       "      <td>2.452634</td>\n",
       "      <td>0.646118</td>\n",
       "      <td>0.524403</td>\n",
       "      <td>0.629435</td>\n",
       "      <td>-6.966289</td>\n",
       "      <td>23.729670</td>\n",
       "      <td>0.200491</td>\n",
       "      <td>0.043897</td>\n",
       "      <td>0.414044</td>\n",
       "      <td>0.280335</td>\n",
       "      <td>0.201049</td>\n",
       "      <td>False</td>\n",
       "      <td>False</td>\n",
       "      <td>INO80 (exclusive subunits)</td>\n",
       "    </tr>\n",
       "    <tr>\n",
       "      <th>20</th>\n",
       "      <td>H4K20me2</td>\n",
       "      <td>ACTR8</td>\n",
       "      <td>-0.360150</td>\n",
       "      <td>-1.259898</td>\n",
       "      <td>0.539598</td>\n",
       "      <td>1.197256</td>\n",
       "      <td>-0.826634</td>\n",
       "      <td>0.416680</td>\n",
       "      <td>0.526800</td>\n",
       "      <td>-6.993438</td>\n",
       "      <td>23.729670</td>\n",
       "      <td>0.435683</td>\n",
       "      <td>0.207291</td>\n",
       "      <td>0.899748</td>\n",
       "      <td>0.380198</td>\n",
       "      <td>0.278354</td>\n",
       "      <td>False</td>\n",
       "      <td>False</td>\n",
       "      <td>INO80 (exclusive subunits)</td>\n",
       "    </tr>\n",
       "    <tr>\n",
       "      <th>21</th>\n",
       "      <td>H4K20me2</td>\n",
       "      <td>INO80</td>\n",
       "      <td>-0.456642</td>\n",
       "      <td>-1.368456</td>\n",
       "      <td>0.455172</td>\n",
       "      <td>2.132856</td>\n",
       "      <td>-1.034237</td>\n",
       "      <td>0.311451</td>\n",
       "      <td>0.421017</td>\n",
       "      <td>-7.109805</td>\n",
       "      <td>23.729670</td>\n",
       "      <td>0.441526</td>\n",
       "      <td>0.212888</td>\n",
       "      <td>0.911814</td>\n",
       "      <td>0.506610</td>\n",
       "      <td>0.375700</td>\n",
       "      <td>False</td>\n",
       "      <td>False</td>\n",
       "      <td>INO80 (exclusive subunits)</td>\n",
       "    </tr>\n",
       "    <tr>\n",
       "      <th>0</th>\n",
       "      <td>H4K20me3</td>\n",
       "      <td>SRCAP</td>\n",
       "      <td>0.013903</td>\n",
       "      <td>-0.152888</td>\n",
       "      <td>0.180694</td>\n",
       "      <td>-0.432670</td>\n",
       "      <td>0.181854</td>\n",
       "      <td>0.858768</td>\n",
       "      <td>0.950942</td>\n",
       "      <td>-5.836933</td>\n",
       "      <td>11.862378</td>\n",
       "      <td>0.076453</td>\n",
       "      <td>0.007030</td>\n",
       "      <td>0.166791</td>\n",
       "      <td>0.066124</td>\n",
       "      <td>0.021846</td>\n",
       "      <td>False</td>\n",
       "      <td>False</td>\n",
       "      <td>SRCAP</td>\n",
       "    </tr>\n",
       "    <tr>\n",
       "      <th>1</th>\n",
       "      <td>H4K20me3</td>\n",
       "      <td>ACTR6</td>\n",
       "      <td>0.068712</td>\n",
       "      <td>-0.065816</td>\n",
       "      <td>0.203240</td>\n",
       "      <td>-0.424529</td>\n",
       "      <td>1.114695</td>\n",
       "      <td>0.287125</td>\n",
       "      <td>0.643602</td>\n",
       "      <td>-6.378581</td>\n",
       "      <td>11.824618</td>\n",
       "      <td>0.061642</td>\n",
       "      <td>0.004573</td>\n",
       "      <td>0.134528</td>\n",
       "      <td>0.541930</td>\n",
       "      <td>0.191383</td>\n",
       "      <td>False</td>\n",
       "      <td>False</td>\n",
       "      <td>SRCAP</td>\n",
       "    </tr>\n",
       "    <tr>\n",
       "      <th>2</th>\n",
       "      <td>H4K20me3</td>\n",
       "      <td>ZNHIT1</td>\n",
       "      <td>0.055184</td>\n",
       "      <td>-0.115489</td>\n",
       "      <td>0.225857</td>\n",
       "      <td>-0.487317</td>\n",
       "      <td>0.705642</td>\n",
       "      <td>0.494078</td>\n",
       "      <td>0.795277</td>\n",
       "      <td>-6.447754</td>\n",
       "      <td>11.824618</td>\n",
       "      <td>0.078204</td>\n",
       "      <td>0.007361</td>\n",
       "      <td>0.170673</td>\n",
       "      <td>0.306204</td>\n",
       "      <td>0.099481</td>\n",
       "      <td>False</td>\n",
       "      <td>False</td>\n",
       "      <td>SRCAP</td>\n",
       "    </tr>\n",
       "    <tr>\n",
       "      <th>3</th>\n",
       "      <td>H4K20me3</td>\n",
       "      <td>YEATS4</td>\n",
       "      <td>0.014216</td>\n",
       "      <td>-0.063494</td>\n",
       "      <td>0.091926</td>\n",
       "      <td>-0.395558</td>\n",
       "      <td>0.399233</td>\n",
       "      <td>0.696838</td>\n",
       "      <td>0.888603</td>\n",
       "      <td>-6.836157</td>\n",
       "      <td>11.824618</td>\n",
       "      <td>0.035608</td>\n",
       "      <td>0.001526</td>\n",
       "      <td>0.077710</td>\n",
       "      <td>0.156868</td>\n",
       "      <td>0.051292</td>\n",
       "      <td>False</td>\n",
       "      <td>False</td>\n",
       "      <td>SRCAP</td>\n",
       "    </tr>\n",
       "    <tr>\n",
       "      <th>4</th>\n",
       "      <td>H4K20me3</td>\n",
       "      <td>VPS72</td>\n",
       "      <td>-0.002173</td>\n",
       "      <td>-0.098391</td>\n",
       "      <td>0.094046</td>\n",
       "      <td>-0.359976</td>\n",
       "      <td>-0.049284</td>\n",
       "      <td>0.961516</td>\n",
       "      <td>0.983998</td>\n",
       "      <td>-7.014751</td>\n",
       "      <td>11.824618</td>\n",
       "      <td>0.044088</td>\n",
       "      <td>0.002339</td>\n",
       "      <td>0.096219</td>\n",
       "      <td>0.017044</td>\n",
       "      <td>0.007006</td>\n",
       "      <td>False</td>\n",
       "      <td>False</td>\n",
       "      <td>SRCAP</td>\n",
       "    </tr>\n",
       "    <tr>\n",
       "      <th>5</th>\n",
       "      <td>H4K20me3</td>\n",
       "      <td>DMAP1</td>\n",
       "      <td>0.001858</td>\n",
       "      <td>-0.103808</td>\n",
       "      <td>0.107524</td>\n",
       "      <td>-0.416861</td>\n",
       "      <td>0.038374</td>\n",
       "      <td>0.970030</td>\n",
       "      <td>0.985608</td>\n",
       "      <td>-7.055116</td>\n",
       "      <td>11.824618</td>\n",
       "      <td>0.048417</td>\n",
       "      <td>0.002821</td>\n",
       "      <td>0.105666</td>\n",
       "      <td>0.013215</td>\n",
       "      <td>0.006296</td>\n",
       "      <td>False</td>\n",
       "      <td>False</td>\n",
       "      <td>SRCAP</td>\n",
       "    </tr>\n",
       "    <tr>\n",
       "      <th>6</th>\n",
       "      <td>H4K20me3</td>\n",
       "      <td>RUVBL1</td>\n",
       "      <td>-0.027938</td>\n",
       "      <td>-0.108042</td>\n",
       "      <td>0.052165</td>\n",
       "      <td>-0.375862</td>\n",
       "      <td>-0.761171</td>\n",
       "      <td>0.461465</td>\n",
       "      <td>0.767311</td>\n",
       "      <td>-7.315400</td>\n",
       "      <td>11.824618</td>\n",
       "      <td>0.036704</td>\n",
       "      <td>0.001621</td>\n",
       "      <td>0.080103</td>\n",
       "      <td>0.335861</td>\n",
       "      <td>0.115028</td>\n",
       "      <td>False</td>\n",
       "      <td>False</td>\n",
       "      <td>SRCAP</td>\n",
       "    </tr>\n",
       "    <tr>\n",
       "      <th>7</th>\n",
       "      <td>H4K20me3</td>\n",
       "      <td>ACTL6A</td>\n",
       "      <td>-0.003559</td>\n",
       "      <td>-0.102896</td>\n",
       "      <td>0.095778</td>\n",
       "      <td>-0.349797</td>\n",
       "      <td>-0.078187</td>\n",
       "      <td>0.938987</td>\n",
       "      <td>0.979008</td>\n",
       "      <td>-7.436874</td>\n",
       "      <td>11.824618</td>\n",
       "      <td>0.045517</td>\n",
       "      <td>0.002494</td>\n",
       "      <td>0.099337</td>\n",
       "      <td>0.027341</td>\n",
       "      <td>0.009214</td>\n",
       "      <td>False</td>\n",
       "      <td>False</td>\n",
       "      <td>SRCAP</td>\n",
       "    </tr>\n",
       "    <tr>\n",
       "      <th>8</th>\n",
       "      <td>H4K20me3</td>\n",
       "      <td>RUVBL2</td>\n",
       "      <td>-0.020242</td>\n",
       "      <td>-0.119045</td>\n",
       "      <td>0.078561</td>\n",
       "      <td>-0.363781</td>\n",
       "      <td>-0.447120</td>\n",
       "      <td>0.662868</td>\n",
       "      <td>0.872744</td>\n",
       "      <td>-7.602404</td>\n",
       "      <td>11.824618</td>\n",
       "      <td>0.045273</td>\n",
       "      <td>0.002467</td>\n",
       "      <td>0.098803</td>\n",
       "      <td>0.178573</td>\n",
       "      <td>0.059113</td>\n",
       "      <td>False</td>\n",
       "      <td>False</td>\n",
       "      <td>SRCAP</td>\n",
       "    </tr>\n",
       "    <tr>\n",
       "      <th>9</th>\n",
       "      <td>H4K20me2</td>\n",
       "      <td>SRCAP</td>\n",
       "      <td>0.285460</td>\n",
       "      <td>0.064600</td>\n",
       "      <td>0.506320</td>\n",
       "      <td>0.520482</td>\n",
       "      <td>2.669185</td>\n",
       "      <td>0.013494</td>\n",
       "      <td>0.035276</td>\n",
       "      <td>-3.321237</td>\n",
       "      <td>23.729670</td>\n",
       "      <td>0.106946</td>\n",
       "      <td>0.012490</td>\n",
       "      <td>0.220860</td>\n",
       "      <td>1.869860</td>\n",
       "      <td>1.452525</td>\n",
       "      <td>False</td>\n",
       "      <td>False</td>\n",
       "      <td>SRCAP</td>\n",
       "    </tr>\n",
       "    <tr>\n",
       "      <th>10</th>\n",
       "      <td>H4K20me2</td>\n",
       "      <td>ACTL6A</td>\n",
       "      <td>0.296015</td>\n",
       "      <td>0.109506</td>\n",
       "      <td>0.482523</td>\n",
       "      <td>1.395914</td>\n",
       "      <td>3.277666</td>\n",
       "      <td>0.003212</td>\n",
       "      <td>0.011694</td>\n",
       "      <td>-3.454347</td>\n",
       "      <td>23.729670</td>\n",
       "      <td>0.090313</td>\n",
       "      <td>0.008907</td>\n",
       "      <td>0.186508</td>\n",
       "      <td>2.493180</td>\n",
       "      <td>1.932037</td>\n",
       "      <td>False</td>\n",
       "      <td>False</td>\n",
       "      <td>SRCAP</td>\n",
       "    </tr>\n",
       "    <tr>\n",
       "      <th>11</th>\n",
       "      <td>H4K20me2</td>\n",
       "      <td>RUVBL1</td>\n",
       "      <td>0.225443</td>\n",
       "      <td>0.086109</td>\n",
       "      <td>0.364777</td>\n",
       "      <td>1.040862</td>\n",
       "      <td>3.341405</td>\n",
       "      <td>0.002751</td>\n",
       "      <td>0.010378</td>\n",
       "      <td>-3.458155</td>\n",
       "      <td>23.729670</td>\n",
       "      <td>0.067469</td>\n",
       "      <td>0.004971</td>\n",
       "      <td>0.139334</td>\n",
       "      <td>2.560538</td>\n",
       "      <td>1.983882</td>\n",
       "      <td>False</td>\n",
       "      <td>False</td>\n",
       "      <td>SRCAP</td>\n",
       "    </tr>\n",
       "    <tr>\n",
       "      <th>12</th>\n",
       "      <td>H4K20me2</td>\n",
       "      <td>RUVBL2</td>\n",
       "      <td>0.258900</td>\n",
       "      <td>0.099796</td>\n",
       "      <td>0.418004</td>\n",
       "      <td>1.043332</td>\n",
       "      <td>3.360482</td>\n",
       "      <td>0.002626</td>\n",
       "      <td>0.010160</td>\n",
       "      <td>-3.490300</td>\n",
       "      <td>23.729670</td>\n",
       "      <td>0.077043</td>\n",
       "      <td>0.006482</td>\n",
       "      <td>0.159104</td>\n",
       "      <td>2.580757</td>\n",
       "      <td>1.993106</td>\n",
       "      <td>False</td>\n",
       "      <td>False</td>\n",
       "      <td>SRCAP</td>\n",
       "    </tr>\n",
       "    <tr>\n",
       "      <th>13</th>\n",
       "      <td>H4K20me2</td>\n",
       "      <td>VPS72</td>\n",
       "      <td>0.256489</td>\n",
       "      <td>0.074228</td>\n",
       "      <td>0.438751</td>\n",
       "      <td>0.872227</td>\n",
       "      <td>2.906189</td>\n",
       "      <td>0.007801</td>\n",
       "      <td>0.023186</td>\n",
       "      <td>-3.880702</td>\n",
       "      <td>23.729670</td>\n",
       "      <td>0.088256</td>\n",
       "      <td>0.008506</td>\n",
       "      <td>0.182262</td>\n",
       "      <td>2.107830</td>\n",
       "      <td>1.634776</td>\n",
       "      <td>False</td>\n",
       "      <td>False</td>\n",
       "      <td>SRCAP</td>\n",
       "    </tr>\n",
       "    <tr>\n",
       "      <th>14</th>\n",
       "      <td>H4K20me2</td>\n",
       "      <td>YEATS4</td>\n",
       "      <td>0.175977</td>\n",
       "      <td>0.042908</td>\n",
       "      <td>0.309046</td>\n",
       "      <td>1.181534</td>\n",
       "      <td>2.731052</td>\n",
       "      <td>0.011714</td>\n",
       "      <td>0.031817</td>\n",
       "      <td>-4.187503</td>\n",
       "      <td>23.729670</td>\n",
       "      <td>0.064436</td>\n",
       "      <td>0.004534</td>\n",
       "      <td>0.133069</td>\n",
       "      <td>1.931293</td>\n",
       "      <td>1.497343</td>\n",
       "      <td>False</td>\n",
       "      <td>False</td>\n",
       "      <td>SRCAP</td>\n",
       "    </tr>\n",
       "    <tr>\n",
       "      <th>15</th>\n",
       "      <td>H4K20me2</td>\n",
       "      <td>ZNHIT1</td>\n",
       "      <td>0.272236</td>\n",
       "      <td>0.045251</td>\n",
       "      <td>0.499221</td>\n",
       "      <td>0.534434</td>\n",
       "      <td>2.476841</td>\n",
       "      <td>0.020783</td>\n",
       "      <td>0.049356</td>\n",
       "      <td>-4.460197</td>\n",
       "      <td>23.729670</td>\n",
       "      <td>0.109913</td>\n",
       "      <td>0.013193</td>\n",
       "      <td>0.226985</td>\n",
       "      <td>1.682291</td>\n",
       "      <td>1.306660</td>\n",
       "      <td>False</td>\n",
       "      <td>False</td>\n",
       "      <td>SRCAP</td>\n",
       "    </tr>\n",
       "    <tr>\n",
       "      <th>16</th>\n",
       "      <td>H4K20me2</td>\n",
       "      <td>ACTR6</td>\n",
       "      <td>0.268859</td>\n",
       "      <td>0.051265</td>\n",
       "      <td>0.486452</td>\n",
       "      <td>0.527323</td>\n",
       "      <td>2.551695</td>\n",
       "      <td>0.017594</td>\n",
       "      <td>0.043140</td>\n",
       "      <td>-4.578995</td>\n",
       "      <td>23.729670</td>\n",
       "      <td>0.105365</td>\n",
       "      <td>0.012124</td>\n",
       "      <td>0.217593</td>\n",
       "      <td>1.754644</td>\n",
       "      <td>1.365124</td>\n",
       "      <td>False</td>\n",
       "      <td>False</td>\n",
       "      <td>SRCAP</td>\n",
       "    </tr>\n",
       "    <tr>\n",
       "      <th>17</th>\n",
       "      <td>H4K20me2</td>\n",
       "      <td>DMAP1</td>\n",
       "      <td>0.185077</td>\n",
       "      <td>0.037005</td>\n",
       "      <td>0.333148</td>\n",
       "      <td>1.201227</td>\n",
       "      <td>2.581256</td>\n",
       "      <td>0.016465</td>\n",
       "      <td>0.041100</td>\n",
       "      <td>-4.626994</td>\n",
       "      <td>23.729670</td>\n",
       "      <td>0.071700</td>\n",
       "      <td>0.005614</td>\n",
       "      <td>0.148071</td>\n",
       "      <td>1.783447</td>\n",
       "      <td>1.386161</td>\n",
       "      <td>False</td>\n",
       "      <td>False</td>\n",
       "      <td>SRCAP</td>\n",
       "    </tr>\n",
       "  </tbody>\n",
       "</table>\n",
       "</div>"
      ],
      "text/plain": [
       "   predictor Gene label     logFC      CI.L      CI.R   AveExpr         t  \\\n",
       "0   H4K20me3      ACTR8 -0.381052 -0.855013  0.092910 -0.248728 -1.754591   \n",
       "1   H4K20me3     INO80B -0.426247 -1.035068  0.182575  0.079809 -1.527939   \n",
       "2   H4K20me3      ACTR5 -0.385842 -0.993680  0.221997  0.072495 -1.385338   \n",
       "3   H4K20me3       TFPT -0.158337 -0.747202  0.430528  0.099785 -0.586815   \n",
       "4   H4K20me3     INO80D -0.258312 -0.857101  0.340477  0.098878 -0.941469   \n",
       "5   H4K20me3      UCHL5 -0.191518 -0.737648  0.354611  0.031103 -0.765331   \n",
       "6   H4K20me3     INO80E -0.190981 -0.862252  0.480290  0.143307 -0.620909   \n",
       "7   H4K20me3      NFRKB -0.413382 -1.089447  0.262682 -0.150890 -1.334438   \n",
       "8   H4K20me3     INO80C -0.267252 -0.911032  0.376529  0.101501 -0.905978   \n",
       "9   H4K20me3      INO80 -0.313751 -0.928376  0.300874  0.089740 -1.114062   \n",
       "10  H4K20me3        YY1 -0.054882 -0.433695  0.323931  0.169793 -0.316185   \n",
       "11  H4K20me2        YY1  1.280490  0.774751  1.786230  2.393853  5.228774   \n",
       "12  H4K20me2      ACTR5  0.455288  0.133005  0.777572  2.646128  2.917421   \n",
       "13  H4K20me2     INO80D  0.757556  0.171931  1.343182  1.975695  2.671438   \n",
       "14  H4K20me2     INO80B  0.352281  0.070216  0.634345  2.454584  2.579235   \n",
       "15  H4K20me2      NFRKB  0.351299  0.046372  0.656226  2.483767  2.379203   \n",
       "16  H4K20me2     INO80E  0.300555 -0.181967  0.783077  2.628445  1.286342   \n",
       "17  H4K20me2       TFPT -0.098476 -0.659327  0.462376  2.223504 -0.362603   \n",
       "18  H4K20me2      UCHL5 -0.158818 -0.806407  0.488771  1.850082 -0.506467   \n",
       "19  H4K20me2     INO80C  0.129541 -0.284502  0.543585  2.452634  0.646118   \n",
       "20  H4K20me2      ACTR8 -0.360150 -1.259898  0.539598  1.197256 -0.826634   \n",
       "21  H4K20me2      INO80 -0.456642 -1.368456  0.455172  2.132856 -1.034237   \n",
       "0   H4K20me3      SRCAP  0.013903 -0.152888  0.180694 -0.432670  0.181854   \n",
       "1   H4K20me3      ACTR6  0.068712 -0.065816  0.203240 -0.424529  1.114695   \n",
       "2   H4K20me3     ZNHIT1  0.055184 -0.115489  0.225857 -0.487317  0.705642   \n",
       "3   H4K20me3     YEATS4  0.014216 -0.063494  0.091926 -0.395558  0.399233   \n",
       "4   H4K20me3      VPS72 -0.002173 -0.098391  0.094046 -0.359976 -0.049284   \n",
       "5   H4K20me3      DMAP1  0.001858 -0.103808  0.107524 -0.416861  0.038374   \n",
       "6   H4K20me3     RUVBL1 -0.027938 -0.108042  0.052165 -0.375862 -0.761171   \n",
       "7   H4K20me3     ACTL6A -0.003559 -0.102896  0.095778 -0.349797 -0.078187   \n",
       "8   H4K20me3     RUVBL2 -0.020242 -0.119045  0.078561 -0.363781 -0.447120   \n",
       "9   H4K20me2      SRCAP  0.285460  0.064600  0.506320  0.520482  2.669185   \n",
       "10  H4K20me2     ACTL6A  0.296015  0.109506  0.482523  1.395914  3.277666   \n",
       "11  H4K20me2     RUVBL1  0.225443  0.086109  0.364777  1.040862  3.341405   \n",
       "12  H4K20me2     RUVBL2  0.258900  0.099796  0.418004  1.043332  3.360482   \n",
       "13  H4K20me2      VPS72  0.256489  0.074228  0.438751  0.872227  2.906189   \n",
       "14  H4K20me2     YEATS4  0.175977  0.042908  0.309046  1.181534  2.731052   \n",
       "15  H4K20me2     ZNHIT1  0.272236  0.045251  0.499221  0.534434  2.476841   \n",
       "16  H4K20me2      ACTR6  0.268859  0.051265  0.486452  0.527323  2.551695   \n",
       "17  H4K20me2      DMAP1  0.185077  0.037005  0.333148  1.201227  2.581256   \n",
       "\n",
       "     P.Value  adj.P.Val         B   df_total  moderated_t_stdev  \\\n",
       "0   0.105179   0.416856 -5.234689  11.824618           0.217174   \n",
       "1   0.152825   0.494878 -5.264421  11.824618           0.278968   \n",
       "2   0.191526   0.540702 -5.796292  11.824618           0.278518   \n",
       "3   0.568363   0.834038 -5.913013  11.824618           0.269824   \n",
       "4   0.365302   0.700374 -5.928753  11.824618           0.274371   \n",
       "5   0.459078   0.765718 -5.994632  11.824618           0.250242   \n",
       "6   0.546442   0.825434 -6.030738  11.824618           0.307584   \n",
       "7   0.207188   0.555090 -6.069448  11.824618           0.309780   \n",
       "8   0.383037   0.720934 -6.129865  11.824618           0.294987   \n",
       "9   0.287385   0.643602 -6.284974  11.824618           0.281628   \n",
       "10  0.757374   0.912111 -6.641600  11.824618           0.173576   \n",
       "11  0.000024   0.000456  2.194061  23.729670           0.244893   \n",
       "12  0.007598   0.022809 -3.586895  23.729670           0.156059   \n",
       "13  0.013425   0.035213 -3.899962  23.729670           0.283576   \n",
       "14  0.016540   0.041225 -4.189088  23.729670           0.136583   \n",
       "15  0.025750   0.059285 -5.059640  23.729670           0.147654   \n",
       "16  0.210733   0.312058 -6.152401  23.729670           0.233651   \n",
       "17  0.720111   0.796923 -6.641500  23.729670           0.271580   \n",
       "18  0.617202   0.708749 -6.826642  23.729670           0.313581   \n",
       "19  0.524403   0.629435 -6.966289  23.729670           0.200491   \n",
       "20  0.416680   0.526800 -6.993438  23.729670           0.435683   \n",
       "21  0.311451   0.421017 -7.109805  23.729670           0.441526   \n",
       "0   0.858768   0.950942 -5.836933  11.862378           0.076453   \n",
       "1   0.287125   0.643602 -6.378581  11.824618           0.061642   \n",
       "2   0.494078   0.795277 -6.447754  11.824618           0.078204   \n",
       "3   0.696838   0.888603 -6.836157  11.824618           0.035608   \n",
       "4   0.961516   0.983998 -7.014751  11.824618           0.044088   \n",
       "5   0.970030   0.985608 -7.055116  11.824618           0.048417   \n",
       "6   0.461465   0.767311 -7.315400  11.824618           0.036704   \n",
       "7   0.938987   0.979008 -7.436874  11.824618           0.045517   \n",
       "8   0.662868   0.872744 -7.602404  11.824618           0.045273   \n",
       "9   0.013494   0.035276 -3.321237  23.729670           0.106946   \n",
       "10  0.003212   0.011694 -3.454347  23.729670           0.090313   \n",
       "11  0.002751   0.010378 -3.458155  23.729670           0.067469   \n",
       "12  0.002626   0.010160 -3.490300  23.729670           0.077043   \n",
       "13  0.007801   0.023186 -3.880702  23.729670           0.088256   \n",
       "14  0.011714   0.031817 -4.187503  23.729670           0.064436   \n",
       "15  0.020783   0.049356 -4.460197  23.729670           0.109913   \n",
       "16  0.017594   0.043140 -4.578995  23.729670           0.105365   \n",
       "17  0.016465   0.041100 -4.626994  23.729670           0.071700   \n",
       "\n",
       "    logFC_variance  confint_half_width  neg_log10_p  neg_log10_p_adjust  \\\n",
       "0         0.056766            0.473961     0.978069            0.380014   \n",
       "1         0.093666            0.608821     0.815804            0.305502   \n",
       "2         0.093364            0.607839     0.717773            0.267042   \n",
       "3         0.087626            0.588865     0.245374            0.078814   \n",
       "4         0.090604            0.598789     0.437348            0.154670   \n",
       "5         0.075369            0.546130     0.338113            0.115931   \n",
       "6         0.113867            0.671271     0.262456            0.083318   \n",
       "7         0.115499            0.676064     0.683634            0.255637   \n",
       "8         0.104732            0.643780     0.416759            0.142104   \n",
       "9         0.095460            0.614625     0.541535            0.191383   \n",
       "10        0.036262            0.378813     0.120690            0.039952   \n",
       "11        0.065492            0.505739     4.617726            3.341099   \n",
       "12        0.026596            0.322283     2.119276            1.641893   \n",
       "13        0.087817            0.585626     1.872088            1.453300   \n",
       "14        0.020372            0.282064     1.781473            1.384839   \n",
       "15        0.023808            0.304927     1.589230            1.227057   \n",
       "16        0.059617            0.482522     0.676267            0.505765   \n",
       "17        0.080544            0.560851     0.142601            0.098584   \n",
       "18        0.107383            0.647589     0.209573            0.149507   \n",
       "19        0.043897            0.414044     0.280335            0.201049   \n",
       "20        0.207291            0.899748     0.380198            0.278354   \n",
       "21        0.212888            0.911814     0.506610            0.375700   \n",
       "0         0.007030            0.166791     0.066124            0.021846   \n",
       "1         0.004573            0.134528     0.541930            0.191383   \n",
       "2         0.007361            0.170673     0.306204            0.099481   \n",
       "3         0.001526            0.077710     0.156868            0.051292   \n",
       "4         0.002339            0.096219     0.017044            0.007006   \n",
       "5         0.002821            0.105666     0.013215            0.006296   \n",
       "6         0.001621            0.080103     0.335861            0.115028   \n",
       "7         0.002494            0.099337     0.027341            0.009214   \n",
       "8         0.002467            0.098803     0.178573            0.059113   \n",
       "9         0.012490            0.220860     1.869860            1.452525   \n",
       "10        0.008907            0.186508     2.493180            1.932037   \n",
       "11        0.004971            0.139334     2.560538            1.983882   \n",
       "12        0.006482            0.159104     2.580757            1.993106   \n",
       "13        0.008506            0.182262     2.107830            1.634776   \n",
       "14        0.004534            0.133069     1.931293            1.497343   \n",
       "15        0.013193            0.226985     1.682291            1.306660   \n",
       "16        0.012124            0.217593     1.754644            1.365124   \n",
       "17        0.005614            0.148071     1.783447            1.386161   \n",
       "\n",
       "    significant  significant_and_large_fc                     complex  \n",
       "0         False                     False  INO80 (exclusive subunits)  \n",
       "1         False                     False  INO80 (exclusive subunits)  \n",
       "2         False                     False  INO80 (exclusive subunits)  \n",
       "3         False                     False  INO80 (exclusive subunits)  \n",
       "4         False                     False  INO80 (exclusive subunits)  \n",
       "5         False                     False  INO80 (exclusive subunits)  \n",
       "6         False                     False  INO80 (exclusive subunits)  \n",
       "7         False                     False  INO80 (exclusive subunits)  \n",
       "8         False                     False  INO80 (exclusive subunits)  \n",
       "9         False                     False  INO80 (exclusive subunits)  \n",
       "10        False                     False  INO80 (exclusive subunits)  \n",
       "11         True                      True  INO80 (exclusive subunits)  \n",
       "12        False                     False  INO80 (exclusive subunits)  \n",
       "13        False                     False  INO80 (exclusive subunits)  \n",
       "14        False                     False  INO80 (exclusive subunits)  \n",
       "15        False                     False  INO80 (exclusive subunits)  \n",
       "16        False                     False  INO80 (exclusive subunits)  \n",
       "17        False                     False  INO80 (exclusive subunits)  \n",
       "18        False                     False  INO80 (exclusive subunits)  \n",
       "19        False                     False  INO80 (exclusive subunits)  \n",
       "20        False                     False  INO80 (exclusive subunits)  \n",
       "21        False                     False  INO80 (exclusive subunits)  \n",
       "0         False                     False                       SRCAP  \n",
       "1         False                     False                       SRCAP  \n",
       "2         False                     False                       SRCAP  \n",
       "3         False                     False                       SRCAP  \n",
       "4         False                     False                       SRCAP  \n",
       "5         False                     False                       SRCAP  \n",
       "6         False                     False                       SRCAP  \n",
       "7         False                     False                       SRCAP  \n",
       "8         False                     False                       SRCAP  \n",
       "9         False                     False                       SRCAP  \n",
       "10        False                     False                       SRCAP  \n",
       "11        False                     False                       SRCAP  \n",
       "12        False                     False                       SRCAP  \n",
       "13        False                     False                       SRCAP  \n",
       "14        False                     False                       SRCAP  \n",
       "15        False                     False                       SRCAP  \n",
       "16        False                     False                       SRCAP  \n",
       "17        False                     False                       SRCAP  "
      ]
     },
     "execution_count": 30,
     "metadata": {},
     "output_type": "execute_result"
    }
   ],
   "source": [
    "subgroup_ab"
   ]
  },
  {
   "cell_type": "code",
   "execution_count": null,
   "metadata": {},
   "outputs": [],
   "source": []
  }
 ],
 "metadata": {
  "kernelspec": {
   "display_name": "Python 3",
   "language": "python",
   "name": "python3"
  },
  "language_info": {
   "codemirror_mode": {
    "name": "ipython",
    "version": 3
   },
   "file_extension": ".py",
   "mimetype": "text/x-python",
   "name": "python",
   "nbconvert_exporter": "python",
   "pygments_lexer": "ipython3",
   "version": "3.6.10"
  }
 },
 "nbformat": 4,
 "nbformat_minor": 2
}
