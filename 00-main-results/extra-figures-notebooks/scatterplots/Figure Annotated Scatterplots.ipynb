{
 "cells": [
  {
   "cell_type": "markdown",
   "metadata": {},
   "source": [
    "This notebook generates annotated scatterplots.\n",
    "\n",
    "These plots are not used anywhere as they have been superseded by the web interface.\n",
    "They might be helpful nevertheless."
   ]
  },
  {
   "cell_type": "code",
   "execution_count": 1,
   "metadata": {},
   "outputs": [],
   "source": [
    "%config InlineBackend.figure_format = 'retina'\n",
    "%matplotlib inline\n",
    "import os\n",
    "import pandas as pd\n",
    "import numpy as np\n",
    "import seaborn as sns\n",
    "from matplotlib import pyplot as plt\n",
    "from tqdm import tqdm\n",
    "sns.set_palette('Dark2')\n"
   ]
  },
  {
   "cell_type": "code",
   "execution_count": 2,
   "metadata": {},
   "outputs": [],
   "source": [
    "sns.set_style({'axes.axisbelow': True, 'axes.edgecolor': '.15', 'axes.facecolor': 'white',\n",
    "               'axes.grid': True, 'axes.labelcolor': '.15', 'axes.linewidth': 0.5, \n",
    "               'figure.facecolor': 'white',  'grid.color': '.15',\n",
    "               'grid.linestyle': '-', 'grid.alpha': .1, 'image.cmap': 'Greys', \n",
    "               'legend.frameon': False, 'legend.numpoints': 1, 'legend.scatterpoints': 1,\n",
    "               'lines.solid_capstyle': 'round', 'axes.spines.right': False, 'axes.spines.top': False,  \n",
    "               'text.color': '.15',  'xtick.top': False, 'ytick.right': False, 'xtick.color': '.15',\n",
    "               'xtick.direction': 'out', 'xtick.major.size': 3, 'xtick.minor.size': 1.5,\n",
    "               'ytick.color': '.15', 'ytick.direction': 'out', 'ytick.major.size': 3,'ytick.minor.size': 1.5})\n",
    "sns.set_context('paper')\n",
    "\n",
    "#http://phyletica.org/matplotlib-fonts/\n",
    "import matplotlib\n",
    "matplotlib.rcParams['pdf.fonttype'] = 42\n",
    "matplotlib.rcParams['ps.fonttype'] = 42"
   ]
  },
  {
   "cell_type": "code",
   "execution_count": 3,
   "metadata": {},
   "outputs": [],
   "source": [
    "from snapanalysis.config import OUTPUT_DIRECTORY as OUTPUT_DIRECTORY_MAIN\n",
    "OUTPUT_DIRECTORY = os.path.join(OUTPUT_DIRECTORY_MAIN, 'scatterplots', 'annotated')\n",
    "if not os.path.isdir(OUTPUT_DIRECTORY):\n",
    "    os.makedirs(OUTPUT_DIRECTORY)"
   ]
  },
  {
   "cell_type": "code",
   "execution_count": 4,
   "metadata": {},
   "outputs": [
    {
     "name": "stderr",
     "output_type": "stream",
     "text": [
      "/usr/local/lib/python3.6/site-packages/rpy2/robjects/lib/ggplot2.py:69: UserWarning: This was designed againt ggplot2 version 3.1.0 but you have 3.1.1\n",
      "  'have %s' % (TARGET_VERSION, ggplot2.__version__))\n"
     ]
    }
   ],
   "source": [
    "from contextlib import contextmanager\n",
    "from rpy2.robjects.lib import grdevices\n",
    "from IPython.display import Image, display\n",
    "\n",
    "from rpy2.robjects import pandas2ri, numpy2ri\n",
    "from rpy2 import robjects\n",
    "from rpy2.robjects.packages import importr\n",
    "import rpy2.robjects.lib.ggplot2 as r_ggplot2\n",
    "from rpy2.robjects.packages import SignatureTranslatedAnonymousPackage\n",
    "\n",
    "r_ggrepel = importr('ggrepel')\n",
    "r_print = robjects.r['print']\n",
    "r_grid = importr('grid')\n",
    "r_base = importr('base')"
   ]
  },
  {
   "cell_type": "code",
   "execution_count": 5,
   "metadata": {},
   "outputs": [],
   "source": [
    "r_tick_formatter_code = \"\"\"\n",
    "formatterFunOneDigit <- function(x) sprintf(\"%.1f\", x)\n",
    "formatterFunTwoDigits <- function(x) sprintf(\"%.2f\", x)\n",
    "\"\"\"\n",
    "\n",
    "r_custom = SignatureTranslatedAnonymousPackage(r_tick_formatter_code, \"custom\")\n",
    "\n",
    "@contextmanager\n",
    "def r_inline_plot(width=4, height=4, dpi=100):\n",
    "\n",
    "    with grdevices.render_to_bytesio(grdevices.png, \n",
    "                                     width=width,\n",
    "                                     height=height, \n",
    "                                     units='in',\n",
    "                                     res=dpi) as b:\n",
    "\n",
    "        yield\n",
    "\n",
    "    data = b.getvalue()\n",
    "    display(Image(data=data, format='png', embed=True))\n",
    "    \n",
    "\n",
    "@contextmanager\n",
    "def r_plot_to_pdf(filename, width=4, height=4):\n",
    "    grdevices.pdf(filename, width=width, height=height)\n",
    "    yield\n",
    "    grdevices.dev_off()\n"
   ]
  },
  {
   "cell_type": "code",
   "execution_count": 6,
   "metadata": {},
   "outputs": [
    {
     "data": {
      "text/plain": [
       "'Ratio H/L normalized (log2) (adjusted, imputed, forward)'"
      ]
     },
     "execution_count": 6,
     "metadata": {},
     "output_type": "execute_result"
    }
   ],
   "source": [
    "from snapanalysis.models.enrichment.generate import OUTPUT_FILE as ENRICHMENT_FILE\n",
    "from snapanalysis.models.enrichment.generate import MATRIX_COLUMN_FORWARD, MATRIX_COLUMN_REVERSE\n",
    "MATRIX_COLUMN_FORWARD"
   ]
  },
  {
   "cell_type": "code",
   "execution_count": 7,
   "metadata": {},
   "outputs": [],
   "source": [
    "with pd.HDFStore(ENRICHMENT_FILE, 'r') as store:\n",
    "    enrichment_data = store['enrichment_data']"
   ]
  },
  {
   "cell_type": "code",
   "execution_count": 8,
   "metadata": {},
   "outputs": [],
   "source": [
    "from snapanalysis.preprocessing.pulldown_metadata import OUTPUT_FILE as META_FILE\n",
    "with pd.HDFStore(META_FILE, 'r') as store:\n",
    "    PULL_DOWN_NAMES = store['/meta/names_and_types']['Pull-Down name']"
   ]
  },
  {
   "cell_type": "code",
   "execution_count": 9,
   "metadata": {},
   "outputs": [],
   "source": [
    "WIDTH = HEIGHT =  2.6 # in"
   ]
  },
  {
   "cell_type": "code",
   "execution_count": 10,
   "metadata": {},
   "outputs": [
    {
     "data": {
      "text/plain": [
       "<module 'parameters' from '/notebooks/scatterplots/parameters.py'>"
      ]
     },
     "execution_count": 10,
     "metadata": {},
     "output_type": "execute_result"
    }
   ],
   "source": [
    "import parameters\n",
    "\n",
    "import importlib\n",
    "importlib.reload(parameters)"
   ]
  },
  {
   "cell_type": "code",
   "execution_count": 11,
   "metadata": {},
   "outputs": [],
   "source": [
    "COLOUR_BACKGROUND = parameters.COLOUR_BACKGROUND"
   ]
  },
  {
   "cell_type": "code",
   "execution_count": 12,
   "metadata": {},
   "outputs": [],
   "source": [
    "import matplotlib.ticker as ticker"
   ]
  },
  {
   "cell_type": "code",
   "execution_count": 13,
   "metadata": {},
   "outputs": [],
   "source": [
    "def plottable_data_for_pulldown(pulldown, \n",
    "                                ratio_mode='processed',\n",
    "                                hide_imputed=False,\n",
    "                                fdr_threshold_for_label=1.0, \n",
    "                                std_threshold_for_label=1.0,\n",
    "                                max_labels=10):\n",
    "    data = enrichment_data.swaplevel()\n",
    "    \n",
    "    if ratio_mode == 'processed':\n",
    "        col_x, col_y = MATRIX_COLUMN_FORWARD, MATRIX_COLUMN_REVERSE\n",
    "    elif ratio_mode == 'raw':\n",
    "        col_x, col_y = 'Ratio H/L (log2) (forward)', 'Ratio H/L (log2) (reverse)'\n",
    "    else:\n",
    "        raise ValueError(f'Unknown ratio mode {ratio_mode!r}')\n",
    "        \n",
    "    \n",
    "    data = data.loc[pulldown].dropna(subset=[col_x, col_y]).copy()\n",
    "    data['imputed'] = ~data['Imputation type'].isnull()\n",
    "    \n",
    "    if hide_imputed:\n",
    "        data = data[~data['imputed']]\n",
    "        \n",
    "    \n",
    "    data = data[[col_x, col_y, 'imputed']]\n",
    "    data = data.rename(columns={col_x: 'x', col_y: 'y', 'is_imputed': 'imputed'})\n",
    "    \n",
    "    data['neg_y'] = data['y'] * -1\n",
    "    \n",
    "    data['mean_xy'] = data[['x', 'neg_y']].mean(axis=1)\n",
    "    data['mean_xy_std'] = data[['x', 'neg_y']].std(axis=1)\n",
    "    \n",
    "    data['abs_mean_xy'] = data['mean_xy'].abs()\n",
    "    \n",
    "    labellable_data = data[(data['mean_xy'].abs() >= fdr_threshold_for_label) & (data['mean_xy_std'] <= std_threshold_for_label)]\n",
    "    \n",
    "    order_asc = labellable_data[labellable_data['mean_xy'] < 0].sort_values(by='mean_xy', ascending=True).index\n",
    "    order_desc = labellable_data[labellable_data['mean_xy'] > 0].sort_values(by='mean_xy', ascending=False).index\n",
    "    \n",
    "    n_labelled = 0\n",
    "    index_asc = 0\n",
    "    index_desc = 0\n",
    "    \n",
    "    data['label'] = ''\n",
    "\n",
    "    turn = 'asc'\n",
    "    \n",
    "    while (n_labelled < max_labels) & ((index_asc < len(order_asc)) | (index_desc < len(order_desc))):\n",
    "        \n",
    "        if turn == 'asc':\n",
    "            if index_asc >= len(order_asc):\n",
    "                ix = None\n",
    "            else:\n",
    "                ix = order_asc[index_asc]\n",
    "            index_asc += 1\n",
    "            turn = 'desc'\n",
    "            \n",
    "        elif turn == 'desc':\n",
    "            if index_desc >= len(order_desc):\n",
    "                ix = None\n",
    "            else:\n",
    "                ix = order_desc[index_desc]\n",
    "            \n",
    "            index_desc += 1\n",
    "            turn = 'asc'\n",
    "            \n",
    "        if ix is None:\n",
    "            continue\n",
    "        \n",
    "        data.loc[ix, 'label'] = ix\n",
    "        n_labelled += 1\n",
    "    \n",
    "    data = data.sort_values(by='abs_mean_xy')\n",
    "    data = data.reset_index()\n",
    "    \n",
    "    with robjects.conversion.localconverter(robjects.default_converter + pandas2ri.converter):\n",
    "        r_data = pandas2ri.py2rpy(data)\n",
    "    return data, r_data"
   ]
  },
  {
   "cell_type": "code",
   "execution_count": 14,
   "metadata": {},
   "outputs": [],
   "source": [
    "def plot_scatter(pull_down,\n",
    "                 xlim=None,\n",
    "                 ylim=None,\n",
    "                 ratio_mode='processed',\n",
    "                 **kwargs):\n",
    "        \n",
    "    base_size = 10\n",
    "    label_size = 3\n",
    "    \n",
    "    data, r_data = plottable_data_for_pulldown(pull_down, ratio_mode=ratio_mode, **kwargs)\n",
    "    \n",
    "    plot = r_ggplot2.ggplot(r_data)\n",
    "    plot += r_ggplot2.theme_minimal(base_size = base_size)\n",
    "    \n",
    "    plot += r_ggplot2.theme(**{'panel.grid.major': r_ggplot2.element_blank(), \n",
    "                               'panel.grid.minor': r_ggplot2.element_blank(),\n",
    "                               'panel.border':  r_ggplot2.element_rect(fill=robjects.rinterface.NA,\n",
    "                                                                       color = \"black\")})\n",
    "    plot += r_ggplot2.theme(text=r_ggplot2.element_text(family='Helvetica', face='plain'))\n",
    "    plot += r_ggplot2.theme(**{'plot.title': r_ggplot2.element_text(hjust=0.5),\n",
    "#                               'axis.title.y': r_ggplot2.element_text((t = 0, r = 20, b = 0, l = 0)),\n",
    "                              })\n",
    "\n",
    "    aes_points = r_ggplot2.aes_string(x='x', y='y', shape='imputed')\n",
    "    plot += aes_points\n",
    "    \n",
    "    if xlim is not None:\n",
    "        plot += r_ggplot2.scale_x_continuous(labels=r_custom.formatterFunTwoDigits, limits=robjects.r.c(*xlim))\n",
    "    else:\n",
    "        plot += r_ggplot2.scale_x_continuous(labels=r_custom.formatterFunTwoDigits)\n",
    "        \n",
    "    if ylim is not None:\n",
    "        plot += r_ggplot2.scale_y_continuous(labels=r_custom.formatterFunTwoDigits, limits=robjects.r.c(*ylim))\n",
    "    else:\n",
    "        plot += r_ggplot2.scale_y_continuous(labels=r_custom.formatterFunTwoDigits)\n",
    "         \n",
    "    plot += r_ggplot2.geom_point(alpha=0.5)\n",
    "\n",
    "    aes_text = r_ggplot2.aes_string(label='label')\n",
    "    plot += aes_text\n",
    "    plot += r_ggrepel.geom_text_repel(aes_text, \n",
    "                                       size=label_size,\n",
    "                                       family='Helvetica',\n",
    "                                       **{'show.legend': False, \n",
    "                                          'point.padding': 0.25, \n",
    "                                          'min.segment.length': 0,\n",
    "                                          'segment.color': '#BDBDBD'},\n",
    "                                     )\n",
    "    \n",
    "    \n",
    "    plot += r_ggplot2.geom_hline(yintercept=0, \n",
    "                                 color='black', alpha=1)\n",
    "    \n",
    "    plot += r_ggplot2.geom_vline(xintercept=0, \n",
    "                                 color='black', alpha=1)\n",
    "   \n",
    "    other_text = '' if ratio_mode == 'processed' else ' (raw data)'\n",
    "    plot += r_ggplot2.labs(x='Ratio H/L (log2, forward)', \n",
    "                           y='Ratio H/L (log2, reverse)', \n",
    "                           title='{}: {}{}'.format(pull_down, PULL_DOWN_NAMES.loc[pull_down], other_text)\n",
    "                          )\n",
    "    \n",
    "        \n",
    "    plot.plot()\n",
    "    "
   ]
  },
  {
   "cell_type": "code",
   "execution_count": 15,
   "metadata": {},
   "outputs": [],
   "source": [
    "pulldowns = enrichment_data.reset_index()['Pull-Down ID'].unique()"
   ]
  },
  {
   "cell_type": "code",
   "execution_count": 16,
   "metadata": {},
   "outputs": [
    {
     "data": {
      "text/plain": [
       "array(['H01', 'H01M', 'H02', 'H03', 'H03M', 'H04', 'H04M', 'H05', 'H06',\n",
       "       'H07', 'H07M', 'H08', 'H08M', 'H09', 'H10', 'H11', 'H12', 'H13',\n",
       "       'H14', 'H15', 'H16', 'H17', 'H18', 'H19', 'H20', 'H21', 'H22',\n",
       "       'H23', 'H24', 'H25', 'H26', 'H27M', 'H28', 'H29', 'H30', 'H31',\n",
       "       'H32', 'H33', 'H34', 'H35', 'H36', 'H37', 'H38', 'H39', 'H39M',\n",
       "       'H40', 'H41', 'H42', 'H43', 'H44', 'H45', 'H46', 'H46M', 'H47',\n",
       "       'H47M'], dtype=object)"
      ]
     },
     "execution_count": 16,
     "metadata": {},
     "output_type": "execute_result"
    }
   ],
   "source": [
    "pulldowns"
   ]
  },
  {
   "cell_type": "code",
   "execution_count": 26,
   "metadata": {},
   "outputs": [
    {
     "name": "stderr",
     "output_type": "stream",
     "text": [
      "100%|██████████| 55/55 [01:36<00:00,  1.77s/it]\n"
     ]
    }
   ],
   "source": [
    "width = 5\n",
    "height = 4\n",
    "\n",
    "for pulldown in tqdm(pulldowns):\n",
    "    with r_plot_to_pdf(os.path.join(OUTPUT_DIRECTORY, f'{pulldown}-processed.pdf'),\n",
    "                       width=width, height=height):\n",
    "            plot_scatter(pulldown)\n",
    "            \n",
    "    with r_plot_to_pdf(os.path.join(OUTPUT_DIRECTORY, f'{pulldown}-processed-not-imputed.pdf'),\n",
    "                       width=width, height=height):\n",
    "            plot_scatter(pulldown, hide_imputed=True)\n",
    "            \n",
    "    \n",
    "    with r_plot_to_pdf(os.path.join(OUTPUT_DIRECTORY, f'{pulldown}-raw.pdf'),\n",
    "                       width=width, height=height):\n",
    "            plot_scatter(pulldown, ratio_mode='raw')\n",
    "            \n",
    "#     break"
   ]
  },
  {
   "cell_type": "code",
   "execution_count": 27,
   "metadata": {},
   "outputs": [],
   "source": [
    "pulldown = 'H02'\n",
    "\n",
    "with r_plot_to_pdf(os.path.join(OUTPUT_DIRECTORY, f'{pulldown}-processed-not-imputed-fixed-xlim.pdf'), \n",
    "                   width=width, height=height):\n",
    "    plot_scatter(pulldown, hide_imputed=True, xlim=(-2, 4), ylim=(-4, 2))\n",
    "\n"
   ]
  },
  {
   "cell_type": "code",
   "execution_count": 28,
   "metadata": {},
   "outputs": [],
   "source": [
    "pulldown = 'H05'\n",
    "\n",
    "with r_plot_to_pdf(os.path.join(OUTPUT_DIRECTORY, f'{pulldown}-processed-not-imputed-fixed-xlim.pdf'), \n",
    "                   width=width, height=height):\n",
    "    plot_scatter(pulldown, hide_imputed=True, xlim=(-2, 4), ylim=(-4, 2))"
   ]
  },
  {
   "cell_type": "code",
   "execution_count": null,
   "metadata": {},
   "outputs": [],
   "source": []
  }
 ],
 "metadata": {
  "kernelspec": {
   "display_name": "Python 3",
   "language": "python",
   "name": "python3"
  },
  "language_info": {
   "codemirror_mode": {
    "name": "ipython",
    "version": 3
   },
   "file_extension": ".py",
   "mimetype": "text/x-python",
   "name": "python",
   "nbconvert_exporter": "python",
   "pygments_lexer": "ipython3",
   "version": "3.6.10"
  }
 },
 "nbformat": 4,
 "nbformat_minor": 2
}
